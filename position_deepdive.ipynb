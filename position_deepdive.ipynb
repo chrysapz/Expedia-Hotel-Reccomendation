{
 "cells": [
  {
   "cell_type": "code",
   "execution_count": 1,
   "metadata": {
    "collapsed": true,
    "ExecuteTime": {
     "end_time": "2023-05-23T22:04:46.710415714Z",
     "start_time": "2023-05-23T22:04:46.710085856Z"
    }
   },
   "outputs": [],
   "source": [
    "import pandas as pd\n",
    "import numpy as np"
   ]
  },
  {
   "cell_type": "code",
   "execution_count": 2,
   "outputs": [],
   "source": [
    "df = pd.read_csv('data/training_set_VU_DM.csv')"
   ],
   "metadata": {
    "collapsed": false,
    "ExecuteTime": {
     "end_time": "2023-05-23T22:04:55.602510418Z",
     "start_time": "2023-05-23T22:04:46.710262500Z"
    }
   }
  },
  {
   "cell_type": "code",
   "execution_count": 3,
   "outputs": [
    {
     "data": {
      "text/plain": "         srch_id            date_time  site_id  visitor_location_country_id   \n0              1  2013-04-04 08:32:15       12                          187  \\\n1              1  2013-04-04 08:32:15       12                          187   \n2              1  2013-04-04 08:32:15       12                          187   \n3              1  2013-04-04 08:32:15       12                          187   \n4              1  2013-04-04 08:32:15       12                          187   \n...          ...                  ...      ...                          ...   \n4958342   332785  2013-06-30 19:55:18        5                          219   \n4958343   332785  2013-06-30 19:55:18        5                          219   \n4958344   332785  2013-06-30 19:55:18        5                          219   \n4958345   332785  2013-06-30 19:55:18        5                          219   \n4958346   332785  2013-06-30 19:55:18        5                          219   \n\n         visitor_hist_starrating  visitor_hist_adr_usd  prop_country_id   \n0                            NaN                   NaN              219  \\\n1                            NaN                   NaN              219   \n2                            NaN                   NaN              219   \n3                            NaN                   NaN              219   \n4                            NaN                   NaN              219   \n...                          ...                   ...              ...   \n4958342                      NaN                   NaN              219   \n4958343                      NaN                   NaN              219   \n4958344                      NaN                   NaN              219   \n4958345                      NaN                   NaN              219   \n4958346                      NaN                   NaN              219   \n\n         prop_id  prop_starrating  prop_review_score  ...   \n0            893                3                3.5  ...  \\\n1          10404                4                4.0  ...   \n2          21315                3                4.5  ...   \n3          27348                2                4.0  ...   \n4          29604                4                3.5  ...   \n...          ...              ...                ...  ...   \n4958342    77700                3                4.0  ...   \n4958343    88083                3                4.0  ...   \n4958344    94508                3                3.5  ...   \n4958345   128360                3                5.0  ...   \n4958346   134949                3                2.5  ...   \n\n         comp6_rate_percent_diff  comp7_rate  comp7_inv   \n0                            NaN         NaN        NaN  \\\n1                            NaN         NaN        NaN   \n2                            NaN         NaN        NaN   \n3                            NaN         NaN        NaN   \n4                            NaN         NaN        NaN   \n...                          ...         ...        ...   \n4958342                      NaN         NaN        NaN   \n4958343                      NaN         NaN        NaN   \n4958344                      NaN         NaN        NaN   \n4958345                      NaN         NaN        NaN   \n4958346                      NaN         NaN        NaN   \n\n         comp7_rate_percent_diff  comp8_rate  comp8_inv   \n0                            NaN         0.0        0.0  \\\n1                            NaN         0.0        0.0   \n2                            NaN         0.0        0.0   \n3                            NaN        -1.0        0.0   \n4                            NaN         0.0        0.0   \n...                          ...         ...        ...   \n4958342                      NaN         NaN        NaN   \n4958343                      NaN         NaN        NaN   \n4958344                      NaN         NaN        NaN   \n4958345                      NaN         NaN        NaN   \n4958346                      NaN         NaN        NaN   \n\n         comp8_rate_percent_diff  click_bool  gross_bookings_usd  booking_bool  \n0                            NaN           0                 NaN             0  \n1                            NaN           0                 NaN             0  \n2                            NaN           0                 NaN             0  \n3                            5.0           0                 NaN             0  \n4                            NaN           0                 NaN             0  \n...                          ...         ...                 ...           ...  \n4958342                      NaN           0                 NaN             0  \n4958343                      NaN           0                 NaN             0  \n4958344                      NaN           0                 NaN             0  \n4958345                      NaN           1              157.84             1  \n4958346                      NaN           0                 NaN             0  \n\n[4958347 rows x 54 columns]",
      "text/html": "<div>\n<style scoped>\n    .dataframe tbody tr th:only-of-type {\n        vertical-align: middle;\n    }\n\n    .dataframe tbody tr th {\n        vertical-align: top;\n    }\n\n    .dataframe thead th {\n        text-align: right;\n    }\n</style>\n<table border=\"1\" class=\"dataframe\">\n  <thead>\n    <tr style=\"text-align: right;\">\n      <th></th>\n      <th>srch_id</th>\n      <th>date_time</th>\n      <th>site_id</th>\n      <th>visitor_location_country_id</th>\n      <th>visitor_hist_starrating</th>\n      <th>visitor_hist_adr_usd</th>\n      <th>prop_country_id</th>\n      <th>prop_id</th>\n      <th>prop_starrating</th>\n      <th>prop_review_score</th>\n      <th>...</th>\n      <th>comp6_rate_percent_diff</th>\n      <th>comp7_rate</th>\n      <th>comp7_inv</th>\n      <th>comp7_rate_percent_diff</th>\n      <th>comp8_rate</th>\n      <th>comp8_inv</th>\n      <th>comp8_rate_percent_diff</th>\n      <th>click_bool</th>\n      <th>gross_bookings_usd</th>\n      <th>booking_bool</th>\n    </tr>\n  </thead>\n  <tbody>\n    <tr>\n      <th>0</th>\n      <td>1</td>\n      <td>2013-04-04 08:32:15</td>\n      <td>12</td>\n      <td>187</td>\n      <td>NaN</td>\n      <td>NaN</td>\n      <td>219</td>\n      <td>893</td>\n      <td>3</td>\n      <td>3.5</td>\n      <td>...</td>\n      <td>NaN</td>\n      <td>NaN</td>\n      <td>NaN</td>\n      <td>NaN</td>\n      <td>0.0</td>\n      <td>0.0</td>\n      <td>NaN</td>\n      <td>0</td>\n      <td>NaN</td>\n      <td>0</td>\n    </tr>\n    <tr>\n      <th>1</th>\n      <td>1</td>\n      <td>2013-04-04 08:32:15</td>\n      <td>12</td>\n      <td>187</td>\n      <td>NaN</td>\n      <td>NaN</td>\n      <td>219</td>\n      <td>10404</td>\n      <td>4</td>\n      <td>4.0</td>\n      <td>...</td>\n      <td>NaN</td>\n      <td>NaN</td>\n      <td>NaN</td>\n      <td>NaN</td>\n      <td>0.0</td>\n      <td>0.0</td>\n      <td>NaN</td>\n      <td>0</td>\n      <td>NaN</td>\n      <td>0</td>\n    </tr>\n    <tr>\n      <th>2</th>\n      <td>1</td>\n      <td>2013-04-04 08:32:15</td>\n      <td>12</td>\n      <td>187</td>\n      <td>NaN</td>\n      <td>NaN</td>\n      <td>219</td>\n      <td>21315</td>\n      <td>3</td>\n      <td>4.5</td>\n      <td>...</td>\n      <td>NaN</td>\n      <td>NaN</td>\n      <td>NaN</td>\n      <td>NaN</td>\n      <td>0.0</td>\n      <td>0.0</td>\n      <td>NaN</td>\n      <td>0</td>\n      <td>NaN</td>\n      <td>0</td>\n    </tr>\n    <tr>\n      <th>3</th>\n      <td>1</td>\n      <td>2013-04-04 08:32:15</td>\n      <td>12</td>\n      <td>187</td>\n      <td>NaN</td>\n      <td>NaN</td>\n      <td>219</td>\n      <td>27348</td>\n      <td>2</td>\n      <td>4.0</td>\n      <td>...</td>\n      <td>NaN</td>\n      <td>NaN</td>\n      <td>NaN</td>\n      <td>NaN</td>\n      <td>-1.0</td>\n      <td>0.0</td>\n      <td>5.0</td>\n      <td>0</td>\n      <td>NaN</td>\n      <td>0</td>\n    </tr>\n    <tr>\n      <th>4</th>\n      <td>1</td>\n      <td>2013-04-04 08:32:15</td>\n      <td>12</td>\n      <td>187</td>\n      <td>NaN</td>\n      <td>NaN</td>\n      <td>219</td>\n      <td>29604</td>\n      <td>4</td>\n      <td>3.5</td>\n      <td>...</td>\n      <td>NaN</td>\n      <td>NaN</td>\n      <td>NaN</td>\n      <td>NaN</td>\n      <td>0.0</td>\n      <td>0.0</td>\n      <td>NaN</td>\n      <td>0</td>\n      <td>NaN</td>\n      <td>0</td>\n    </tr>\n    <tr>\n      <th>...</th>\n      <td>...</td>\n      <td>...</td>\n      <td>...</td>\n      <td>...</td>\n      <td>...</td>\n      <td>...</td>\n      <td>...</td>\n      <td>...</td>\n      <td>...</td>\n      <td>...</td>\n      <td>...</td>\n      <td>...</td>\n      <td>...</td>\n      <td>...</td>\n      <td>...</td>\n      <td>...</td>\n      <td>...</td>\n      <td>...</td>\n      <td>...</td>\n      <td>...</td>\n      <td>...</td>\n    </tr>\n    <tr>\n      <th>4958342</th>\n      <td>332785</td>\n      <td>2013-06-30 19:55:18</td>\n      <td>5</td>\n      <td>219</td>\n      <td>NaN</td>\n      <td>NaN</td>\n      <td>219</td>\n      <td>77700</td>\n      <td>3</td>\n      <td>4.0</td>\n      <td>...</td>\n      <td>NaN</td>\n      <td>NaN</td>\n      <td>NaN</td>\n      <td>NaN</td>\n      <td>NaN</td>\n      <td>NaN</td>\n      <td>NaN</td>\n      <td>0</td>\n      <td>NaN</td>\n      <td>0</td>\n    </tr>\n    <tr>\n      <th>4958343</th>\n      <td>332785</td>\n      <td>2013-06-30 19:55:18</td>\n      <td>5</td>\n      <td>219</td>\n      <td>NaN</td>\n      <td>NaN</td>\n      <td>219</td>\n      <td>88083</td>\n      <td>3</td>\n      <td>4.0</td>\n      <td>...</td>\n      <td>NaN</td>\n      <td>NaN</td>\n      <td>NaN</td>\n      <td>NaN</td>\n      <td>NaN</td>\n      <td>NaN</td>\n      <td>NaN</td>\n      <td>0</td>\n      <td>NaN</td>\n      <td>0</td>\n    </tr>\n    <tr>\n      <th>4958344</th>\n      <td>332785</td>\n      <td>2013-06-30 19:55:18</td>\n      <td>5</td>\n      <td>219</td>\n      <td>NaN</td>\n      <td>NaN</td>\n      <td>219</td>\n      <td>94508</td>\n      <td>3</td>\n      <td>3.5</td>\n      <td>...</td>\n      <td>NaN</td>\n      <td>NaN</td>\n      <td>NaN</td>\n      <td>NaN</td>\n      <td>NaN</td>\n      <td>NaN</td>\n      <td>NaN</td>\n      <td>0</td>\n      <td>NaN</td>\n      <td>0</td>\n    </tr>\n    <tr>\n      <th>4958345</th>\n      <td>332785</td>\n      <td>2013-06-30 19:55:18</td>\n      <td>5</td>\n      <td>219</td>\n      <td>NaN</td>\n      <td>NaN</td>\n      <td>219</td>\n      <td>128360</td>\n      <td>3</td>\n      <td>5.0</td>\n      <td>...</td>\n      <td>NaN</td>\n      <td>NaN</td>\n      <td>NaN</td>\n      <td>NaN</td>\n      <td>NaN</td>\n      <td>NaN</td>\n      <td>NaN</td>\n      <td>1</td>\n      <td>157.84</td>\n      <td>1</td>\n    </tr>\n    <tr>\n      <th>4958346</th>\n      <td>332785</td>\n      <td>2013-06-30 19:55:18</td>\n      <td>5</td>\n      <td>219</td>\n      <td>NaN</td>\n      <td>NaN</td>\n      <td>219</td>\n      <td>134949</td>\n      <td>3</td>\n      <td>2.5</td>\n      <td>...</td>\n      <td>NaN</td>\n      <td>NaN</td>\n      <td>NaN</td>\n      <td>NaN</td>\n      <td>NaN</td>\n      <td>NaN</td>\n      <td>NaN</td>\n      <td>0</td>\n      <td>NaN</td>\n      <td>0</td>\n    </tr>\n  </tbody>\n</table>\n<p>4958347 rows × 54 columns</p>\n</div>"
     },
     "execution_count": 3,
     "metadata": {},
     "output_type": "execute_result"
    }
   ],
   "source": [
    "df"
   ],
   "metadata": {
    "collapsed": false,
    "ExecuteTime": {
     "end_time": "2023-05-23T22:04:55.895727673Z",
     "start_time": "2023-05-23T22:04:55.633472907Z"
    }
   }
  },
  {
   "cell_type": "code",
   "execution_count": 4,
   "outputs": [
    {
     "data": {
      "text/plain": "                        position  booking_prob  click_prob\nsrch_id_count position                                    \n5             1             2899      0.367023    0.397723\n              2             2895      0.229706    0.257686\n              3             2892      0.156639    0.175657\n              4             2713      0.117213    0.136380\n              5              239      0.008368    0.008368\n...                          ...           ...         ...\n38            34               3      0.000000    0.000000\n              35               3      0.000000    0.000000\n              36               3      0.000000    0.000000\n              37               3      0.000000    0.000000\n              38               3      0.000000    0.000000\n\n[1161 rows x 3 columns]",
      "text/html": "<div>\n<style scoped>\n    .dataframe tbody tr th:only-of-type {\n        vertical-align: middle;\n    }\n\n    .dataframe tbody tr th {\n        vertical-align: top;\n    }\n\n    .dataframe thead th {\n        text-align: right;\n    }\n</style>\n<table border=\"1\" class=\"dataframe\">\n  <thead>\n    <tr style=\"text-align: right;\">\n      <th></th>\n      <th></th>\n      <th>position</th>\n      <th>booking_prob</th>\n      <th>click_prob</th>\n    </tr>\n    <tr>\n      <th>srch_id_count</th>\n      <th>position</th>\n      <th></th>\n      <th></th>\n      <th></th>\n    </tr>\n  </thead>\n  <tbody>\n    <tr>\n      <th rowspan=\"5\" valign=\"top\">5</th>\n      <th>1</th>\n      <td>2899</td>\n      <td>0.367023</td>\n      <td>0.397723</td>\n    </tr>\n    <tr>\n      <th>2</th>\n      <td>2895</td>\n      <td>0.229706</td>\n      <td>0.257686</td>\n    </tr>\n    <tr>\n      <th>3</th>\n      <td>2892</td>\n      <td>0.156639</td>\n      <td>0.175657</td>\n    </tr>\n    <tr>\n      <th>4</th>\n      <td>2713</td>\n      <td>0.117213</td>\n      <td>0.136380</td>\n    </tr>\n    <tr>\n      <th>5</th>\n      <td>239</td>\n      <td>0.008368</td>\n      <td>0.008368</td>\n    </tr>\n    <tr>\n      <th>...</th>\n      <th>...</th>\n      <td>...</td>\n      <td>...</td>\n      <td>...</td>\n    </tr>\n    <tr>\n      <th rowspan=\"5\" valign=\"top\">38</th>\n      <th>34</th>\n      <td>3</td>\n      <td>0.000000</td>\n      <td>0.000000</td>\n    </tr>\n    <tr>\n      <th>35</th>\n      <td>3</td>\n      <td>0.000000</td>\n      <td>0.000000</td>\n    </tr>\n    <tr>\n      <th>36</th>\n      <td>3</td>\n      <td>0.000000</td>\n      <td>0.000000</td>\n    </tr>\n    <tr>\n      <th>37</th>\n      <td>3</td>\n      <td>0.000000</td>\n      <td>0.000000</td>\n    </tr>\n    <tr>\n      <th>38</th>\n      <td>3</td>\n      <td>0.000000</td>\n      <td>0.000000</td>\n    </tr>\n  </tbody>\n</table>\n<p>1161 rows × 3 columns</p>\n</div>"
     },
     "execution_count": 4,
     "metadata": {},
     "output_type": "execute_result"
    }
   ],
   "source": [
    "df_no_random = df.query('random_bool==0')\n",
    "df_no_random.merge(df_no_random.groupby('srch_id').agg(srch_id_count=('srch_id', 'count')), on='srch_id')[['srch_id', 'srch_id_count', 'prop_id', 'position', 'booking_bool', 'click_bool']].groupby(['srch_id_count', 'position']).agg(position=('position', 'count'), booking_prob=('booking_bool', 'mean'), click_prob=('click_bool', 'mean'))"
   ],
   "metadata": {
    "collapsed": false,
    "ExecuteTime": {
     "end_time": "2023-05-23T22:04:56.488862979Z",
     "start_time": "2023-05-23T22:04:55.890786622Z"
    }
   }
  },
  {
   "cell_type": "code",
   "execution_count": 5,
   "outputs": [],
   "source": [
    "# number of search results - per search id\n",
    "df = df.merge(df.groupby('srch_id').agg(prop_count = ('srch_id', 'count')), on='srch_id')"
   ],
   "metadata": {
    "collapsed": false,
    "ExecuteTime": {
     "end_time": "2023-05-23T22:04:56.831601899Z",
     "start_time": "2023-05-23T22:04:56.486563723Z"
    }
   }
  },
  {
   "cell_type": "code",
   "execution_count": 6,
   "outputs": [
    {
     "data": {
      "text/plain": "         top_5_prob_prop_id  log_appearance_count_prop_id  avg_res_len_prop_id\nprop_id                                                                       \n1                  0.000000                      4.110874            31.393443\n2                  0.000000                      2.397895            14.818182\n3                  0.048780                      4.406719            32.451220\n4                  0.181818                      3.091042            25.590909\n5                  0.133333                      3.401197            26.933333\n...                     ...                           ...                  ...\n140817             0.333333                      1.098612            17.666667\n140818             0.000000                      1.098612            30.666667\n140819             0.000000                      0.693147            29.000000\n140820             0.000000                      2.890372            28.444444\n140821             0.142857                      1.945910            25.857143\n\n[129113 rows x 3 columns]",
      "text/html": "<div>\n<style scoped>\n    .dataframe tbody tr th:only-of-type {\n        vertical-align: middle;\n    }\n\n    .dataframe tbody tr th {\n        vertical-align: top;\n    }\n\n    .dataframe thead th {\n        text-align: right;\n    }\n</style>\n<table border=\"1\" class=\"dataframe\">\n  <thead>\n    <tr style=\"text-align: right;\">\n      <th></th>\n      <th>top_5_prob_prop_id</th>\n      <th>log_appearance_count_prop_id</th>\n      <th>avg_res_len_prop_id</th>\n    </tr>\n    <tr>\n      <th>prop_id</th>\n      <th></th>\n      <th></th>\n      <th></th>\n    </tr>\n  </thead>\n  <tbody>\n    <tr>\n      <th>1</th>\n      <td>0.000000</td>\n      <td>4.110874</td>\n      <td>31.393443</td>\n    </tr>\n    <tr>\n      <th>2</th>\n      <td>0.000000</td>\n      <td>2.397895</td>\n      <td>14.818182</td>\n    </tr>\n    <tr>\n      <th>3</th>\n      <td>0.048780</td>\n      <td>4.406719</td>\n      <td>32.451220</td>\n    </tr>\n    <tr>\n      <th>4</th>\n      <td>0.181818</td>\n      <td>3.091042</td>\n      <td>25.590909</td>\n    </tr>\n    <tr>\n      <th>5</th>\n      <td>0.133333</td>\n      <td>3.401197</td>\n      <td>26.933333</td>\n    </tr>\n    <tr>\n      <th>...</th>\n      <td>...</td>\n      <td>...</td>\n      <td>...</td>\n    </tr>\n    <tr>\n      <th>140817</th>\n      <td>0.333333</td>\n      <td>1.098612</td>\n      <td>17.666667</td>\n    </tr>\n    <tr>\n      <th>140818</th>\n      <td>0.000000</td>\n      <td>1.098612</td>\n      <td>30.666667</td>\n    </tr>\n    <tr>\n      <th>140819</th>\n      <td>0.000000</td>\n      <td>0.693147</td>\n      <td>29.000000</td>\n    </tr>\n    <tr>\n      <th>140820</th>\n      <td>0.000000</td>\n      <td>2.890372</td>\n      <td>28.444444</td>\n    </tr>\n    <tr>\n      <th>140821</th>\n      <td>0.142857</td>\n      <td>1.945910</td>\n      <td>25.857143</td>\n    </tr>\n  </tbody>\n</table>\n<p>129113 rows × 3 columns</p>\n</div>"
     },
     "execution_count": 6,
     "metadata": {},
     "output_type": "execute_result"
    }
   ],
   "source": [
    "# top-5 percentage: out of all the times the property appeared, how many times was it in top-5\n",
    "tmp = df.groupby('prop_id').agg(top_5_prob_prop_id = ('position', lambda x: (x <= 5).mean()), log_appearance_count_prop_id=('position', lambda x: np.log(len(x))), avg_res_len_prop_id=('prop_count', 'mean'))\n",
    "tmp\n",
    "# top-5 p-val"
   ],
   "metadata": {
    "collapsed": false,
    "ExecuteTime": {
     "end_time": "2023-05-23T22:05:07.745180461Z",
     "start_time": "2023-05-23T22:04:56.834070390Z"
    }
   }
  },
  {
   "cell_type": "code",
   "execution_count": null,
   "outputs": [],
   "source": [
    "len(df), len(df_no_random)"
   ],
   "metadata": {
    "collapsed": false,
    "ExecuteTime": {
     "start_time": "2023-05-23T22:05:07.824393450Z"
    }
   }
  },
  {
   "cell_type": "code",
   "execution_count": null,
   "outputs": [],
   "source": [
    "df_random = df.query('random_bool==1')\n",
    "df_random.merge(df_random.groupby('srch_id').agg(srch_id_count=('srch_id', 'count')), on='srch_id')[['srch_id', 'srch_id_count', 'prop_id', 'position', 'booking_bool', 'click_bool']].groupby(['srch_id_count', 'position']).agg(position=('position', 'count'), booking_prob=('booking_bool', 'mean'), click_prob=('click_bool', 'mean'))"
   ],
   "metadata": {
    "collapsed": false,
    "ExecuteTime": {
     "start_time": "2023-05-23T22:05:07.824449988Z"
    }
   }
  },
  {
   "cell_type": "code",
   "execution_count": null,
   "outputs": [],
   "source": [
    "# rebase the positions\n",
    "#\n",
    "# Why do positions greater than X appear in in searches with only X results? How can this be? If a search ID only has 5 properties, howcome position 7 appears 23 times?\n",
    "#\n",
    "weird_search_ids = df.merge(df.groupby('srch_id').agg(srch_id_count=('srch_id', 'count')), on='srch_id')[['srch_id', 'srch_id_count', 'prop_id', 'position', 'booking_bool', 'click_bool']].query('position==5 and srch_id_count==5').srch_id.unique()"
   ],
   "metadata": {
    "collapsed": false,
    "ExecuteTime": {
     "start_time": "2023-05-23T22:05:07.824498977Z"
    }
   }
  },
  {
   "cell_type": "code",
   "execution_count": null,
   "outputs": [],
   "source": [
    "df[df.srch_id.isin(weird_search_ids)][['srch_id', 'prop_id', 'position', 'booking_bool', 'click_bool']]"
   ],
   "metadata": {
    "collapsed": false,
    "ExecuteTime": {
     "start_time": "2023-05-23T22:05:07.824545705Z"
    }
   }
  },
  {
   "cell_type": "code",
   "execution_count": 22,
   "outputs": [],
   "source": [
    "# let's check the the booking day histogram\n",
    "\n",
    "def convert_date(df):\n",
    "    df['date_time'] = pd.to_datetime(df['date_time'])\n",
    "    df['booking_week'] = df['date_time'].dt.isocalendar().week\n",
    "    df['booking_month'] = df['date_time'].dt.month\n",
    "    df['booking_dayofyear'] = df['date_time'].dt.dayofyear\n",
    "    df['booking_dayofweek'] = df['date_time'].dt.dayofweek\n",
    "    midstay = df['date_time'] + pd.to_timedelta(df.srch_booking_window, unit='days') + pd.to_timedelta(df.srch_length_of_stay//2, unit='days')\n",
    "    df['midstay_week'] = midstay.dt.isocalendar().week\n",
    "    df['midstay_month'] = midstay.dt.month\n",
    "    df['midstay_dayofyear'] = midstay.dt.dayofyear\n",
    "    df['midstay_dayofweek'] = midstay.dt.dayofweek\n",
    "\n",
    "\n",
    "convert_date(df)"
   ],
   "metadata": {
    "collapsed": false,
    "ExecuteTime": {
     "end_time": "2023-05-23T22:18:35.252259764Z",
     "start_time": "2023-05-23T22:18:33.953473246Z"
    }
   }
  },
  {
   "cell_type": "code",
   "execution_count": 31,
   "outputs": [
    {
     "data": {
      "text/plain": "<Axes: >"
     },
     "execution_count": 31,
     "metadata": {},
     "output_type": "execute_result"
    },
    {
     "data": {
      "text/plain": "<Figure size 640x480 with 1 Axes>",
      "image/png": "[encoded data removed]"
     },
     "metadata": {},
     "output_type": "display_data"
    }
   ],
   "source": [
    "df.srch_length_of_stay.hist()"
   ],
   "metadata": {
    "collapsed": false,
    "ExecuteTime": {
     "end_time": "2023-05-23T22:21:43.436039749Z",
     "start_time": "2023-05-23T22:21:43.261032169Z"
    }
   }
  },
  {
   "cell_type": "code",
   "execution_count": 23,
   "outputs": [
    {
     "data": {
      "text/plain": "<Axes: xlabel='booking_dayofyear', ylabel='Count'>"
     },
     "execution_count": 23,
     "metadata": {},
     "output_type": "execute_result"
    },
    {
     "data": {
      "text/plain": "<Figure size 640x480 with 1 Axes>",
      "image/png": "[encoded data removed]"
     },
     "metadata": {},
     "output_type": "display_data"
    }
   ],
   "source": [
    "import seaborn as sns\n",
    "sns.histplot(df, x='booking_dayofyear', discrete=True)"
   ],
   "metadata": {
    "collapsed": false,
    "ExecuteTime": {
     "end_time": "2023-05-23T22:18:37.105865126Z",
     "start_time": "2023-05-23T22:18:36.223238803Z"
    }
   }
  },
  {
   "cell_type": "code",
   "execution_count": 29,
   "outputs": [
    {
     "data": {
      "text/plain": "<Axes: xlabel='midstay_dayofyear', ylabel='Count'>"
     },
     "execution_count": 29,
     "metadata": {},
     "output_type": "execute_result"
    },
    {
     "data": {
      "text/plain": "<Figure size 640x480 with 1 Axes>",
      "image/png": "[encoded data removed]"
     },
     "metadata": {},
     "output_type": "display_data"
    }
   ],
   "source": [
    "sns.histplot(df, x='midstay_dayofyear', discrete=True)"
   ],
   "metadata": {
    "collapsed": false,
    "ExecuteTime": {
     "end_time": "2023-05-23T22:20:15.912768678Z",
     "start_time": "2023-05-23T22:20:15.070612508Z"
    }
   }
  },
  {
   "cell_type": "code",
   "execution_count": null,
   "outputs": [],
   "source": [
    "sns.histplot(df, x='srch_booking_window', hue='click_bool', discrete=True, log_scale=(False, True))"
   ],
   "metadata": {
    "collapsed": false,
    "ExecuteTime": {
     "start_time": "2023-05-23T22:06:15.878692945Z"
    }
   }
  },
  {
   "cell_type": "code",
   "execution_count": null,
   "outputs": [],
   "source": [
    "df_test = pd.read_csv('data/test_set_VU_DM.csv')\n",
    "\n",
    "convert_date(df_test)"
   ],
   "metadata": {
    "collapsed": false,
    "ExecuteTime": {
     "start_time": "2023-05-23T22:05:07.824894092Z"
    }
   }
  },
  {
   "cell_type": "code",
   "execution_count": null,
   "outputs": [],
   "source": [
    "sns.histplot(df_test, x='booking_dayofyear', discrete=True)"
   ],
   "metadata": {
    "collapsed": false,
    "ExecuteTime": {
     "start_time": "2023-05-23T22:05:07.824945390Z"
    }
   }
  },
  {
   "cell_type": "code",
   "execution_count": null,
   "outputs": [],
   "source": [
    "sns.histplot(df_test, x='booking_start_dayofyear', discrete=True)"
   ],
   "metadata": {
    "collapsed": false,
    "ExecuteTime": {
     "start_time": "2023-05-23T22:05:07.824995959Z"
    }
   }
  },
  {
   "cell_type": "code",
   "execution_count": null,
   "outputs": [],
   "source": [
    "tmp = df[df.prop_log_historical_price > 0][['prop_log_historical_price', 'price_usd']]\n",
    "tmp['price_usd_log_exp'] = np.exp(tmp.prop_log_historical_price)\n",
    "tmp['price_usd_log_2pow'] = 2**tmp.prop_log_historical_price\n",
    "tmp['price_usd_log_10pow'] = 10**tmp.prop_log_historical_price\n",
    "tmp"
   ],
   "metadata": {
    "collapsed": false,
    "ExecuteTime": {
     "start_time": "2023-05-23T22:05:07.825080645Z"
    }
   }
  },
  {
   "cell_type": "code",
   "execution_count": null,
   "outputs": [],
   "source": [
    "df_exp = pd.read_csv('data/expedia-personalized-sort/train.csv')"
   ],
   "metadata": {
    "collapsed": false,
    "ExecuteTime": {
     "start_time": "2023-05-23T22:05:07.825633585Z"
    }
   }
  },
  {
   "cell_type": "code",
   "execution_count": null,
   "outputs": [],
   "source": [
    "df_exp_test = pd.read_csv('data/expedia-personalized-sort/test.csv')"
   ],
   "metadata": {
    "collapsed": false
   }
  },
  {
   "cell_type": "code",
   "execution_count": null,
   "outputs": [],
   "source": [
    "df_exp.query('srch_id==1')"
   ],
   "metadata": {
    "collapsed": false
   }
  },
  {
   "cell_type": "code",
   "execution_count": null,
   "outputs": [],
   "source": [
    "df.query('srch_id==1')"
   ],
   "metadata": {
    "collapsed": false
   }
  },
  {
   "cell_type": "code",
   "execution_count": null,
   "outputs": [],
   "source": [
    "df_test.query('site_id==24 and prop_id==3180 and srch_destination_id==19222')"
   ],
   "metadata": {
    "collapsed": false
   }
  },
  {
   "cell_type": "code",
   "execution_count": null,
   "outputs": [],
   "source": [
    "df_exp.query('site_id==24 and prop_id==3180 and srch_destination_id==19222')"
   ],
   "metadata": {
    "collapsed": false
   }
  },
  {
   "cell_type": "code",
   "execution_count": null,
   "outputs": [],
   "source": [
    "srch_id_offset = 332788-1\n",
    "df_exp['srch_id'] = df_exp['srch_id'] - srch_id_offset\n",
    "df_exp"
   ],
   "metadata": {
    "collapsed": false
   }
  },
  {
   "cell_type": "code",
   "execution_count": null,
   "outputs": [],
   "source": [
    "tmp1 = df_test.set_index(['srch_id', 'prop_id'])\n",
    "tmp2 = df_exp.set_index(['srch_id', 'prop_id'])"
   ],
   "metadata": {
    "collapsed": false
   }
  },
  {
   "cell_type": "code",
   "execution_count": null,
   "outputs": [],
   "source": [
    "isect_index = tmp1.index.intersection(tmp2.index)\n",
    "tmp2 = tmp2.reindex(isect_index)\n",
    "tmp2"
   ],
   "metadata": {
    "collapsed": false
   }
  },
  {
   "cell_type": "code",
   "execution_count": null,
   "outputs": [],
   "source": [
    "tmp2.to_csv('data/test_revealed.csv')"
   ],
   "metadata": {
    "collapsed": false
   }
  },
  {
   "cell_type": "code",
   "execution_count": null,
   "outputs": [],
   "source": [
    "# new feature idea: booked_or_clicked_or_top5pos\n",
    "# try adding features to the model -> scores for optimizing different ndgc\n",
    "# perhaps using ndgc@4 works better? because of the weird position bias for position 5?"
   ],
   "metadata": {
    "collapsed": false
   }
  }
 ],
 "metadata": {
  "kernelspec": {
   "display_name": "Python 3",
   "language": "python",
   "name": "python3"
  },
  "language_info": {
   "codemirror_mode": {
    "name": "ipython",
    "version": 2
   },
   "file_extension": ".py",
   "mimetype": "text/x-python",
   "name": "python",
   "nbconvert_exporter": "python",
   "pygments_lexer": "ipython2",
   "version": "2.7.6"
  }
 },
 "nbformat": 4,
 "nbformat_minor": 0
}
