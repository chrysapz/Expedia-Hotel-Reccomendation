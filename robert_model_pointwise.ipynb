{
 "cells": [
  {
   "cell_type": "code",
   "execution_count": 1,
   "metadata": {
    "ExecuteTime": {
     "end_time": "2023-05-08T18:00:12.666108126Z",
     "start_time": "2023-05-08T18:00:12.597607107Z"
    },
    "collapsed": true,
    "jupyter": {
     "outputs_hidden": true
    }
   },
   "outputs": [],
   "source": [
    "import pandas as pd\n",
    "import numpy as np\n",
    "import seaborn as sns"
   ]
  },
  {
   "cell_type": "code",
   "execution_count": 51,
   "metadata": {
    "collapsed": false,
    "jupyter": {
     "outputs_hidden": false
    }
   },
   "outputs": [],
   "source": [
    "def _dsg_numerator(rel, use_2pow):\n",
    "    if use_2pow:\n",
    "        return 2**rel-1\n",
    "    else:\n",
    "        return rel\n",
    "\n",
    "\n",
    "def calc_ndcg(rel_true, rel_est, n=5, use_2pow=True):\n",
    "    assert len(rel_est) == len(rel_true)\n",
    "    rel_true = np.asarray(rel_true)\n",
    "    rel_est = np.asarray(rel_est)\n",
    "\n",
    "    discount = 1 / np.log(np.arange(2, len(rel_true) + 2))\n",
    "    discount[n:] = 0\n",
    "\n",
    "    dsg_N = discount.dot(_dsg_numerator(rel_est, use_2pow))\n",
    "    idsg_N = discount.dot(_dsg_numerator(rel_true, use_2pow))\n",
    "\n",
    "    return dsg_N/idsg_N\n",
    "\n",
    "\n",
    "def ndcg_dmt(predicted_scores, n=5):\n",
    "    ranked_scores = np.sort(predicted_scores)[::-1] # sorted descending, highest score first\n",
    "    return calc_ndcg(ranked_scores, predicted_scores, n=n)\n",
    "\n",
    "from sklearn.metrics import ndcg_score\n",
    "\n",
    "def ndcg_sklearn(predicted_scores, n=5):\n",
    "    ranked_scores = np.sort(predicted_scores)[::-1] # sorted descending, highest score first\n",
    "    return ndcg_score(np.asarray([ranked_scores]), np.asarray([predicted_scores]), k=n)"
   ]
  },
  {
   "cell_type": "code",
   "execution_count": null,
   "metadata": {
    "collapsed": false,
    "jupyter": {
     "outputs_hidden": false
    }
   },
   "outputs": [],
   "source": [
    "def print_missing(df, col):\n",
    "    miss_cnt = df[col].isna().sum()\n",
    "    if miss_cnt == 0:\n",
    "        return\n",
    "    total_cnt = len(df[col])\n",
    "    perc_miss = 100 * miss_cnt / total_cnt\n",
    "    print(f'{col} missing count {miss_cnt} out of {total_cnt} => {round(perc_miss)}% missing')"
   ]
  },
  {
   "cell_type": "code",
   "execution_count": 136,
   "metadata": {
    "ExecuteTime": {
     "end_time": "2023-05-08T20:40:32.946409986Z",
     "start_time": "2023-05-08T20:40:02.056355338Z"
    },
    "collapsed": false,
    "jupyter": {
     "outputs_hidden": false
    }
   },
   "outputs": [
    {
     "data": {
      "text/html": [
       "<div>\n",
       "<style scoped>\n",
       "    .dataframe tbody tr th:only-of-type {\n",
       "        vertical-align: middle;\n",
       "    }\n",
       "\n",
       "    .dataframe tbody tr th {\n",
       "        vertical-align: top;\n",
       "    }\n",
       "\n",
       "    .dataframe thead th {\n",
       "        text-align: right;\n",
       "    }\n",
       "</style>\n",
       "<table border=\"1\" class=\"dataframe\">\n",
       "  <thead>\n",
       "    <tr style=\"text-align: right;\">\n",
       "      <th></th>\n",
       "      <th>srch_id</th>\n",
       "      <th>prop_id</th>\n",
       "      <th>site_id</th>\n",
       "      <th>visitor_location_country_id</th>\n",
       "      <th>visitor_hist_starrating</th>\n",
       "      <th>visitor_hist_adr_usd</th>\n",
       "      <th>prop_country_id</th>\n",
       "      <th>prop_starrating</th>\n",
       "      <th>prop_review_score</th>\n",
       "      <th>prop_brand_bool</th>\n",
       "      <th>...</th>\n",
       "      <th>prop_location_score1_d_srch_destination_id</th>\n",
       "      <th>prop_location_score1_d_srch_destination_id__prop_starrating</th>\n",
       "      <th>prop_location_score1_d_srch_id</th>\n",
       "      <th>prop_location_score2_d_srch_destination_id</th>\n",
       "      <th>prop_location_score2_d_srch_destination_id__prop_starrating</th>\n",
       "      <th>prop_location_score2_d_srch_id</th>\n",
       "      <th>price_hist_logdiff_d_srch_id</th>\n",
       "      <th>price_usd_ld_srch_id__prop_starrating</th>\n",
       "      <th>booking_prob_per_prop_id_d_srch_id</th>\n",
       "      <th>click_prob_per_prop_id_d_srch_id</th>\n",
       "    </tr>\n",
       "  </thead>\n",
       "  <tbody>\n",
       "    <tr>\n",
       "      <th>0</th>\n",
       "      <td>427</td>\n",
       "      <td>1</td>\n",
       "      <td>5</td>\n",
       "      <td>219</td>\n",
       "      <td>NaN</td>\n",
       "      <td>NaN</td>\n",
       "      <td>219</td>\n",
       "      <td>2</td>\n",
       "      <td>NaN</td>\n",
       "      <td>1</td>\n",
       "      <td>...</td>\n",
       "      <td>1.20</td>\n",
       "      <td>1.04</td>\n",
       "      <td>0.56</td>\n",
       "      <td>NaN</td>\n",
       "      <td>NaN</td>\n",
       "      <td>NaN</td>\n",
       "      <td>0.218860</td>\n",
       "      <td>0.125626</td>\n",
       "      <td>-0.015505</td>\n",
       "      <td>-0.011613</td>\n",
       "    </tr>\n",
       "    <tr>\n",
       "      <th>1</th>\n",
       "      <td>5762</td>\n",
       "      <td>1</td>\n",
       "      <td>5</td>\n",
       "      <td>219</td>\n",
       "      <td>3.5</td>\n",
       "      <td>147.02</td>\n",
       "      <td>219</td>\n",
       "      <td>2</td>\n",
       "      <td>NaN</td>\n",
       "      <td>1</td>\n",
       "      <td>...</td>\n",
       "      <td>1.12</td>\n",
       "      <td>0.96</td>\n",
       "      <td>0.48</td>\n",
       "      <td>NaN</td>\n",
       "      <td>NaN</td>\n",
       "      <td>NaN</td>\n",
       "      <td>NaN</td>\n",
       "      <td>0.129212</td>\n",
       "      <td>-0.017857</td>\n",
       "      <td>-0.014857</td>\n",
       "    </tr>\n",
       "    <tr>\n",
       "      <th>2</th>\n",
       "      <td>8178</td>\n",
       "      <td>1</td>\n",
       "      <td>5</td>\n",
       "      <td>219</td>\n",
       "      <td>NaN</td>\n",
       "      <td>NaN</td>\n",
       "      <td>219</td>\n",
       "      <td>2</td>\n",
       "      <td>NaN</td>\n",
       "      <td>1</td>\n",
       "      <td>...</td>\n",
       "      <td>0.85</td>\n",
       "      <td>0.69</td>\n",
       "      <td>0.21</td>\n",
       "      <td>NaN</td>\n",
       "      <td>NaN</td>\n",
       "      <td>NaN</td>\n",
       "      <td>0.283944</td>\n",
       "      <td>0.198177</td>\n",
       "      <td>-0.015625</td>\n",
       "      <td>-0.010634</td>\n",
       "    </tr>\n",
       "    <tr>\n",
       "      <th>3</th>\n",
       "      <td>8465</td>\n",
       "      <td>1</td>\n",
       "      <td>5</td>\n",
       "      <td>219</td>\n",
       "      <td>NaN</td>\n",
       "      <td>NaN</td>\n",
       "      <td>219</td>\n",
       "      <td>2</td>\n",
       "      <td>NaN</td>\n",
       "      <td>1</td>\n",
       "      <td>...</td>\n",
       "      <td>1.28</td>\n",
       "      <td>1.12</td>\n",
       "      <td>0.64</td>\n",
       "      <td>NaN</td>\n",
       "      <td>NaN</td>\n",
       "      <td>NaN</td>\n",
       "      <td>0.269329</td>\n",
       "      <td>0.044171</td>\n",
       "      <td>-0.015625</td>\n",
       "      <td>-0.010634</td>\n",
       "    </tr>\n",
       "    <tr>\n",
       "      <th>4</th>\n",
       "      <td>10771</td>\n",
       "      <td>1</td>\n",
       "      <td>5</td>\n",
       "      <td>219</td>\n",
       "      <td>NaN</td>\n",
       "      <td>NaN</td>\n",
       "      <td>219</td>\n",
       "      <td>2</td>\n",
       "      <td>NaN</td>\n",
       "      <td>1</td>\n",
       "      <td>...</td>\n",
       "      <td>1.28</td>\n",
       "      <td>1.12</td>\n",
       "      <td>0.64</td>\n",
       "      <td>NaN</td>\n",
       "      <td>NaN</td>\n",
       "      <td>NaN</td>\n",
       "      <td>0.247003</td>\n",
       "      <td>0.450021</td>\n",
       "      <td>-0.016393</td>\n",
       "      <td>-0.014857</td>\n",
       "    </tr>\n",
       "  </tbody>\n",
       "</table>\n",
       "<p>5 rows × 52 columns</p>\n",
       "</div>"
      ],
      "text/plain": [
       "   srch_id  prop_id  site_id  visitor_location_country_id   \n",
       "0      427        1        5                          219  \\\n",
       "1     5762        1        5                          219   \n",
       "2     8178        1        5                          219   \n",
       "3     8465        1        5                          219   \n",
       "4    10771        1        5                          219   \n",
       "\n",
       "   visitor_hist_starrating  visitor_hist_adr_usd  prop_country_id   \n",
       "0                      NaN                   NaN              219  \\\n",
       "1                      3.5                147.02              219   \n",
       "2                      NaN                   NaN              219   \n",
       "3                      NaN                   NaN              219   \n",
       "4                      NaN                   NaN              219   \n",
       "\n",
       "   prop_starrating  prop_review_score  prop_brand_bool  ...   \n",
       "0                2                NaN                1  ...  \\\n",
       "1                2                NaN                1  ...   \n",
       "2                2                NaN                1  ...   \n",
       "3                2                NaN                1  ...   \n",
       "4                2                NaN                1  ...   \n",
       "\n",
       "   prop_location_score1_d_srch_destination_id   \n",
       "0                                        1.20  \\\n",
       "1                                        1.12   \n",
       "2                                        0.85   \n",
       "3                                        1.28   \n",
       "4                                        1.28   \n",
       "\n",
       "   prop_location_score1_d_srch_destination_id__prop_starrating   \n",
       "0                                               1.04            \\\n",
       "1                                               0.96             \n",
       "2                                               0.69             \n",
       "3                                               1.12             \n",
       "4                                               1.12             \n",
       "\n",
       "   prop_location_score1_d_srch_id  prop_location_score2_d_srch_destination_id   \n",
       "0                            0.56                                         NaN  \\\n",
       "1                            0.48                                         NaN   \n",
       "2                            0.21                                         NaN   \n",
       "3                            0.64                                         NaN   \n",
       "4                            0.64                                         NaN   \n",
       "\n",
       "   prop_location_score2_d_srch_destination_id__prop_starrating   \n",
       "0                                                NaN            \\\n",
       "1                                                NaN             \n",
       "2                                                NaN             \n",
       "3                                                NaN             \n",
       "4                                                NaN             \n",
       "\n",
       "   prop_location_score2_d_srch_id  price_hist_logdiff_d_srch_id   \n",
       "0                             NaN                      0.218860  \\\n",
       "1                             NaN                           NaN   \n",
       "2                             NaN                      0.283944   \n",
       "3                             NaN                      0.269329   \n",
       "4                             NaN                      0.247003   \n",
       "\n",
       "   price_usd_ld_srch_id__prop_starrating  booking_prob_per_prop_id_d_srch_id   \n",
       "0                               0.125626                           -0.015505  \\\n",
       "1                               0.129212                           -0.017857   \n",
       "2                               0.198177                           -0.015625   \n",
       "3                               0.044171                           -0.015625   \n",
       "4                               0.450021                           -0.016393   \n",
       "\n",
       "   click_prob_per_prop_id_d_srch_id  \n",
       "0                         -0.011613  \n",
       "1                         -0.014857  \n",
       "2                         -0.010634  \n",
       "3                         -0.010634  \n",
       "4                         -0.014857  \n",
       "\n",
       "[5 rows x 52 columns]"
      ]
     },
     "execution_count": 136,
     "metadata": {},
     "output_type": "execute_result"
    }
   ],
   "source": [
    "df = pd.read_csv(\"data/joined_all_features.csv.zip\", index_col=0)\n",
    "df.head()"
   ]
  },
  {
   "cell_type": "code",
   "execution_count": 138,
   "metadata": {
    "ExecuteTime": {
     "end_time": "2023-05-08T20:41:17.352420847Z",
     "start_time": "2023-05-08T20:41:16.111153923Z"
    },
    "collapsed": false,
    "jupyter": {
     "outputs_hidden": false
    }
   },
   "outputs": [
    {
     "data": {
      "text/plain": [
       "511"
      ]
     },
     "execution_count": 138,
     "metadata": {},
     "output_type": "execute_result"
    }
   ],
   "source": [
    "df_devel = df.loc[df.is_test==False, [c for c in df.columns if c != 'is_test']]\n",
    "df_test = df.loc[df.is_test==True, [c for c in df.columns if c != 'is_test']]\n",
    "df_test.srch_id -= df_devel.srch_id.max()\n",
    "del df\n",
    "import gc\n",
    "gc.collect()"
   ]
  },
  {
   "cell_type": "code",
   "execution_count": 139,
   "metadata": {
    "ExecuteTime": {
     "end_time": "2023-05-08T20:41:18.745111281Z",
     "start_time": "2023-05-08T20:41:18.633149998Z"
    },
    "collapsed": false,
    "jupyter": {
     "outputs_hidden": false
    }
   },
   "outputs": [
    {
     "name": "stdout",
     "output_type": "stream",
     "text": [
      "visitor_hist_starrating missing count 4706481 out of 4958347 => 95% missing\n",
      "visitor_hist_adr_usd missing count 4705359 out of 4958347 => 95% missing\n",
      "prop_review_score missing count 240658 out of 4958347 => 5% missing\n",
      "prop_location_score2 missing count 1090348 out of 4958347 => 22% missing\n",
      "prop_log_historical_price missing count 713899 out of 4958347 => 14% missing\n",
      "price_usd missing count 31 out of 4958347 => 0% missing\n",
      "srch_query_affinity_score missing count 4640941 out of 4958347 => 94% missing\n",
      "prop_starrating_w0 missing count 169572 out of 4958347 => 3% missing\n",
      "price_hist_logdiff missing count 713927 out of 4958347 => 14% missing\n",
      "price_usd_ld_srch_id missing count 31 out of 4958347 => 0% missing\n",
      "prop_starrating_w0_d_srch_destination_id missing count 169572 out of 4958347 => 3% missing\n",
      "prop_starrating_w0_d_srch_id missing count 169572 out of 4958347 => 3% missing\n",
      "prop_review_score_d_srch_destination_id missing count 240658 out of 4958347 => 5% missing\n",
      "prop_review_score_d_srch_destination_id__prop_starrating missing count 240658 out of 4958347 => 5% missing\n",
      "prop_review_score_d_srch_id missing count 240658 out of 4958347 => 5% missing\n",
      "prop_location_score2_d_srch_destination_id missing count 1090348 out of 4958347 => 22% missing\n",
      "prop_location_score2_d_srch_destination_id__prop_starrating missing count 1090348 out of 4958347 => 22% missing\n",
      "prop_location_score2_d_srch_id missing count 1090348 out of 4958347 => 22% missing\n",
      "price_hist_logdiff_d_srch_id missing count 713927 out of 4958347 => 14% missing\n",
      "price_usd_ld_srch_id__prop_starrating missing count 31 out of 4958347 => 0% missing\n"
     ]
    }
   ],
   "source": [
    "for col in df_devel.columns:\n",
    "    print_missing(df_devel, col)"
   ]
  },
  {
   "cell_type": "code",
   "execution_count": 140,
   "metadata": {
    "ExecuteTime": {
     "end_time": "2023-05-08T20:41:19.861922236Z",
     "start_time": "2023-05-08T20:41:19.812090966Z"
    },
    "collapsed": false,
    "jupyter": {
     "outputs_hidden": false
    }
   },
   "outputs": [],
   "source": [
    "# split srch_id into train and val\n",
    "all_srch_ids = df_devel.srch_id.unique()\n",
    "\n",
    "# randomly shuffle all_srch_ids using random seed 42\n",
    "RANDOM_SEED = 123\n",
    "rng = np.random.default_rng(RANDOM_SEED)\n",
    "all_srch_ids.sort()\n",
    "rng.shuffle(all_srch_ids)\n",
    "\n",
    "VALIDATION_PROP = 0.1\n",
    "val_start_idx = int(len(all_srch_ids)*(1-VALIDATION_PROP))\n",
    "train_ids = all_srch_ids[:val_start_idx]\n",
    "val_ids = all_srch_ids[val_start_idx:]"
   ]
  },
  {
   "cell_type": "code",
   "execution_count": 154,
   "metadata": {
    "ExecuteTime": {
     "end_time": "2023-05-08T20:48:11.454999624Z",
     "start_time": "2023-05-08T20:48:09.650662166Z"
    },
    "collapsed": false,
    "jupyter": {
     "outputs_hidden": false
    }
   },
   "outputs": [],
   "source": [
    "df_devel['target_cls'] = df_devel.booking_bool + df_devel.click_bool\n",
    "df_devel['relevance_score'] = df_devel.booking_bool * 4 + df_devel.click_bool\n",
    "\n",
    "columns_to_remove = [\n",
    "    'visitor_location_country_id', # todo: visitor_location_country_id: combine with prop_country_id and keep the N most clicked/booked combinations,\n",
    "    'visitor_hist_starrating', # todo: too few values, visitor_hist_starrating and visitor_hist_adr_usd standardize\n",
    "    'visitor_hist_adr_usd', # todo:\n",
    "    'prop_country_id', # todo:\n",
    "    'prop_starrating', # normalized\n",
    "    'prop_review_score', # normalized\n",
    "    'prop_location_score1', # normalized\n",
    "    'prop_location_score2', # normalized\n",
    "    'prop_log_historical_price', # normalized\n",
    "    'position', # todo: maybe mean/stdev_position_per_prop\n",
    "    'price_usd', # normalized\n",
    "    'srch_destination_id',\n",
    "    'srch_query_affinity_score', # todo: normalize\n",
    "    'prop_starrating_w0', # normalized\n",
    "]\n",
    "predictor_cols = [c for c in df_devel.columns if c not in ('srch_id', 'position', 'booking_bool', 'click_bool', 'target_cls', 'relevance_score', 'prop_id', 'is_test') and c not in columns_to_remove]\n",
    "\n",
    "df_data_train = df_devel.loc[df_devel.srch_id.isin(train_ids), predictor_cols]\n",
    "#df_data_train = df_data_train.dropna() # let's see what happens if we drop all NAs\n",
    "df_train = df_devel.loc[df_data_train.index]\n",
    "df_tg_train = df_devel['target_cls'][df_data_train.index]\n",
    "df_tg_train = df_tg_train.astype(int)\n",
    "\n",
    "df_data_val = df_devel.loc[df_devel.srch_id.isin(val_ids), predictor_cols]\n",
    "#df_data_val = df_data_val.dropna() # let's see what happens if we drop all NAs\n",
    "df_val = df_devel.loc[df_data_val.index]\n",
    "df_tg_val = df_devel['target_cls'][df_data_train.index]\n",
    "df_tg_val = df_tg_val.astype(int)\n",
    "\n",
    "df_data_test = df_test[predictor_cols]\n",
    "#df_data_test = df_data_test.dropna()\n",
    "df_test_filt = df_test.loc[df_data_test.index]"
   ]
  },
  {
   "cell_type": "code",
   "execution_count": 155,
   "metadata": {
    "ExecuteTime": {
     "end_time": "2023-05-08T20:48:11.510690469Z",
     "start_time": "2023-05-08T20:48:11.456039061Z"
    },
    "collapsed": false,
    "jupyter": {
     "outputs_hidden": false
    }
   },
   "outputs": [
    {
     "name": "stdout",
     "output_type": "stream",
     "text": [
      "price_hist_logdiff missing count 641509 out of 4461904 => 14% missing\n",
      "price_usd_ld_srch_id missing count 30 out of 4461904 => 0% missing\n",
      "prop_starrating_w0_d_srch_destination_id missing count 152763 out of 4461904 => 3% missing\n",
      "prop_starrating_w0_d_srch_id missing count 152763 out of 4461904 => 3% missing\n",
      "prop_review_score_d_srch_destination_id missing count 216622 out of 4461904 => 5% missing\n",
      "prop_review_score_d_srch_destination_id__prop_starrating missing count 216622 out of 4461904 => 5% missing\n",
      "prop_review_score_d_srch_id missing count 216622 out of 4461904 => 5% missing\n",
      "prop_location_score2_d_srch_destination_id missing count 981192 out of 4461904 => 22% missing\n",
      "prop_location_score2_d_srch_destination_id__prop_starrating missing count 981192 out of 4461904 => 22% missing\n",
      "prop_location_score2_d_srch_id missing count 981192 out of 4461904 => 22% missing\n",
      "price_hist_logdiff_d_srch_id missing count 641509 out of 4461904 => 14% missing\n",
      "price_usd_ld_srch_id__prop_starrating missing count 30 out of 4461904 => 0% missing\n"
     ]
    }
   ],
   "source": [
    "for col in df_data_train.columns:\n",
    "    print_missing(df_data_train, col)"
   ]
  },
  {
   "cell_type": "code",
   "execution_count": 156,
   "metadata": {
    "ExecuteTime": {
     "end_time": "2023-05-08T20:48:11.800953993Z",
     "start_time": "2023-05-08T20:48:11.584312427Z"
    },
    "collapsed": false,
    "jupyter": {
     "outputs_hidden": false
    }
   },
   "outputs": [
    {
     "data": {
      "text/html": [
       "<div>\n",
       "<style scoped>\n",
       "    .dataframe tbody tr th:only-of-type {\n",
       "        vertical-align: middle;\n",
       "    }\n",
       "\n",
       "    .dataframe tbody tr th {\n",
       "        vertical-align: top;\n",
       "    }\n",
       "\n",
       "    .dataframe thead th {\n",
       "        text-align: right;\n",
       "    }\n",
       "</style>\n",
       "<table border=\"1\" class=\"dataframe\">\n",
       "  <thead>\n",
       "    <tr style=\"text-align: right;\">\n",
       "      <th></th>\n",
       "      <th>site_id</th>\n",
       "      <th>prop_brand_bool</th>\n",
       "      <th>promotion_flag</th>\n",
       "      <th>srch_length_of_stay</th>\n",
       "      <th>srch_booking_window</th>\n",
       "      <th>srch_adults_count</th>\n",
       "      <th>srch_children_count</th>\n",
       "      <th>srch_room_count</th>\n",
       "      <th>srch_saturday_night_bool</th>\n",
       "      <th>random_bool</th>\n",
       "      <th>...</th>\n",
       "      <th>prop_location_score1_d_srch_destination_id</th>\n",
       "      <th>prop_location_score1_d_srch_destination_id__prop_starrating</th>\n",
       "      <th>prop_location_score1_d_srch_id</th>\n",
       "      <th>prop_location_score2_d_srch_destination_id</th>\n",
       "      <th>prop_location_score2_d_srch_destination_id__prop_starrating</th>\n",
       "      <th>prop_location_score2_d_srch_id</th>\n",
       "      <th>price_hist_logdiff_d_srch_id</th>\n",
       "      <th>price_usd_ld_srch_id__prop_starrating</th>\n",
       "      <th>booking_prob_per_prop_id_d_srch_id</th>\n",
       "      <th>click_prob_per_prop_id_d_srch_id</th>\n",
       "    </tr>\n",
       "  </thead>\n",
       "  <tbody>\n",
       "    <tr>\n",
       "      <th>0</th>\n",
       "      <td>5</td>\n",
       "      <td>1</td>\n",
       "      <td>0</td>\n",
       "      <td>1</td>\n",
       "      <td>10</td>\n",
       "      <td>2</td>\n",
       "      <td>0</td>\n",
       "      <td>1</td>\n",
       "      <td>1</td>\n",
       "      <td>1</td>\n",
       "      <td>...</td>\n",
       "      <td>1.20</td>\n",
       "      <td>1.040</td>\n",
       "      <td>0.56</td>\n",
       "      <td>NaN</td>\n",
       "      <td>NaN</td>\n",
       "      <td>NaN</td>\n",
       "      <td>0.218860</td>\n",
       "      <td>0.125626</td>\n",
       "      <td>-0.015505</td>\n",
       "      <td>-0.011613</td>\n",
       "    </tr>\n",
       "    <tr>\n",
       "      <th>1</th>\n",
       "      <td>5</td>\n",
       "      <td>1</td>\n",
       "      <td>0</td>\n",
       "      <td>1</td>\n",
       "      <td>72</td>\n",
       "      <td>2</td>\n",
       "      <td>0</td>\n",
       "      <td>1</td>\n",
       "      <td>1</td>\n",
       "      <td>0</td>\n",
       "      <td>...</td>\n",
       "      <td>1.12</td>\n",
       "      <td>0.960</td>\n",
       "      <td>0.48</td>\n",
       "      <td>NaN</td>\n",
       "      <td>NaN</td>\n",
       "      <td>NaN</td>\n",
       "      <td>NaN</td>\n",
       "      <td>0.129212</td>\n",
       "      <td>-0.017857</td>\n",
       "      <td>-0.014857</td>\n",
       "    </tr>\n",
       "    <tr>\n",
       "      <th>2</th>\n",
       "      <td>5</td>\n",
       "      <td>1</td>\n",
       "      <td>0</td>\n",
       "      <td>1</td>\n",
       "      <td>0</td>\n",
       "      <td>2</td>\n",
       "      <td>0</td>\n",
       "      <td>1</td>\n",
       "      <td>1</td>\n",
       "      <td>0</td>\n",
       "      <td>...</td>\n",
       "      <td>0.85</td>\n",
       "      <td>0.690</td>\n",
       "      <td>0.21</td>\n",
       "      <td>NaN</td>\n",
       "      <td>NaN</td>\n",
       "      <td>NaN</td>\n",
       "      <td>0.283944</td>\n",
       "      <td>0.198177</td>\n",
       "      <td>-0.015625</td>\n",
       "      <td>-0.010634</td>\n",
       "    </tr>\n",
       "    <tr>\n",
       "      <th>3</th>\n",
       "      <td>5</td>\n",
       "      <td>1</td>\n",
       "      <td>0</td>\n",
       "      <td>2</td>\n",
       "      <td>4</td>\n",
       "      <td>2</td>\n",
       "      <td>1</td>\n",
       "      <td>1</td>\n",
       "      <td>1</td>\n",
       "      <td>0</td>\n",
       "      <td>...</td>\n",
       "      <td>1.28</td>\n",
       "      <td>1.120</td>\n",
       "      <td>0.64</td>\n",
       "      <td>NaN</td>\n",
       "      <td>NaN</td>\n",
       "      <td>NaN</td>\n",
       "      <td>0.269329</td>\n",
       "      <td>0.044171</td>\n",
       "      <td>-0.015625</td>\n",
       "      <td>-0.010634</td>\n",
       "    </tr>\n",
       "    <tr>\n",
       "      <th>4</th>\n",
       "      <td>5</td>\n",
       "      <td>1</td>\n",
       "      <td>0</td>\n",
       "      <td>1</td>\n",
       "      <td>4</td>\n",
       "      <td>1</td>\n",
       "      <td>0</td>\n",
       "      <td>1</td>\n",
       "      <td>0</td>\n",
       "      <td>0</td>\n",
       "      <td>...</td>\n",
       "      <td>1.28</td>\n",
       "      <td>1.120</td>\n",
       "      <td>0.64</td>\n",
       "      <td>NaN</td>\n",
       "      <td>NaN</td>\n",
       "      <td>NaN</td>\n",
       "      <td>0.247003</td>\n",
       "      <td>0.450021</td>\n",
       "      <td>-0.016393</td>\n",
       "      <td>-0.014857</td>\n",
       "    </tr>\n",
       "    <tr>\n",
       "      <th>...</th>\n",
       "      <td>...</td>\n",
       "      <td>...</td>\n",
       "      <td>...</td>\n",
       "      <td>...</td>\n",
       "      <td>...</td>\n",
       "      <td>...</td>\n",
       "      <td>...</td>\n",
       "      <td>...</td>\n",
       "      <td>...</td>\n",
       "      <td>...</td>\n",
       "      <td>...</td>\n",
       "      <td>...</td>\n",
       "      <td>...</td>\n",
       "      <td>...</td>\n",
       "      <td>...</td>\n",
       "      <td>...</td>\n",
       "      <td>...</td>\n",
       "      <td>...</td>\n",
       "      <td>...</td>\n",
       "      <td>...</td>\n",
       "      <td>...</td>\n",
       "    </tr>\n",
       "    <tr>\n",
       "      <th>9917522</th>\n",
       "      <td>16</td>\n",
       "      <td>0</td>\n",
       "      <td>0</td>\n",
       "      <td>1</td>\n",
       "      <td>1</td>\n",
       "      <td>1</td>\n",
       "      <td>2</td>\n",
       "      <td>1</td>\n",
       "      <td>1</td>\n",
       "      <td>0</td>\n",
       "      <td>...</td>\n",
       "      <td>-2.20</td>\n",
       "      <td>-2.200</td>\n",
       "      <td>-1.10</td>\n",
       "      <td>-0.0315</td>\n",
       "      <td>-0.04955</td>\n",
       "      <td>-0.0192</td>\n",
       "      <td>-0.031993</td>\n",
       "      <td>-0.054630</td>\n",
       "      <td>0.142857</td>\n",
       "      <td>0.142857</td>\n",
       "    </tr>\n",
       "    <tr>\n",
       "      <th>9917523</th>\n",
       "      <td>16</td>\n",
       "      <td>0</td>\n",
       "      <td>0</td>\n",
       "      <td>1</td>\n",
       "      <td>0</td>\n",
       "      <td>1</td>\n",
       "      <td>0</td>\n",
       "      <td>1</td>\n",
       "      <td>1</td>\n",
       "      <td>0</td>\n",
       "      <td>...</td>\n",
       "      <td>-2.20</td>\n",
       "      <td>-2.200</td>\n",
       "      <td>-1.10</td>\n",
       "      <td>-0.0246</td>\n",
       "      <td>-0.04265</td>\n",
       "      <td>-0.0123</td>\n",
       "      <td>0.228085</td>\n",
       "      <td>-0.279281</td>\n",
       "      <td>0.142857</td>\n",
       "      <td>0.142857</td>\n",
       "    </tr>\n",
       "    <tr>\n",
       "      <th>9917524</th>\n",
       "      <td>16</td>\n",
       "      <td>0</td>\n",
       "      <td>0</td>\n",
       "      <td>1</td>\n",
       "      <td>17</td>\n",
       "      <td>2</td>\n",
       "      <td>0</td>\n",
       "      <td>1</td>\n",
       "      <td>1</td>\n",
       "      <td>1</td>\n",
       "      <td>...</td>\n",
       "      <td>-0.82</td>\n",
       "      <td>-0.820</td>\n",
       "      <td>-0.41</td>\n",
       "      <td>NaN</td>\n",
       "      <td>NaN</td>\n",
       "      <td>NaN</td>\n",
       "      <td>-0.048378</td>\n",
       "      <td>-0.315089</td>\n",
       "      <td>0.142857</td>\n",
       "      <td>0.142857</td>\n",
       "    </tr>\n",
       "    <tr>\n",
       "      <th>9917525</th>\n",
       "      <td>16</td>\n",
       "      <td>0</td>\n",
       "      <td>0</td>\n",
       "      <td>7</td>\n",
       "      <td>2</td>\n",
       "      <td>1</td>\n",
       "      <td>0</td>\n",
       "      <td>1</td>\n",
       "      <td>0</td>\n",
       "      <td>1</td>\n",
       "      <td>...</td>\n",
       "      <td>-0.82</td>\n",
       "      <td>-1.075</td>\n",
       "      <td>-0.41</td>\n",
       "      <td>NaN</td>\n",
       "      <td>NaN</td>\n",
       "      <td>NaN</td>\n",
       "      <td>-0.247723</td>\n",
       "      <td>-0.312395</td>\n",
       "      <td>0.142857</td>\n",
       "      <td>0.142857</td>\n",
       "    </tr>\n",
       "    <tr>\n",
       "      <th>9917526</th>\n",
       "      <td>15</td>\n",
       "      <td>0</td>\n",
       "      <td>0</td>\n",
       "      <td>1</td>\n",
       "      <td>64</td>\n",
       "      <td>1</td>\n",
       "      <td>0</td>\n",
       "      <td>1</td>\n",
       "      <td>1</td>\n",
       "      <td>0</td>\n",
       "      <td>...</td>\n",
       "      <td>-2.02</td>\n",
       "      <td>-2.020</td>\n",
       "      <td>-0.92</td>\n",
       "      <td>-0.0246</td>\n",
       "      <td>-0.04265</td>\n",
       "      <td>-0.0123</td>\n",
       "      <td>0.213410</td>\n",
       "      <td>0.000000</td>\n",
       "      <td>0.142857</td>\n",
       "      <td>0.142857</td>\n",
       "    </tr>\n",
       "  </tbody>\n",
       "</table>\n",
       "<p>4461904 rows × 33 columns</p>\n",
       "</div>"
      ],
      "text/plain": [
       "         site_id  prop_brand_bool  promotion_flag  srch_length_of_stay   \n",
       "0              5                1               0                    1  \\\n",
       "1              5                1               0                    1   \n",
       "2              5                1               0                    1   \n",
       "3              5                1               0                    2   \n",
       "4              5                1               0                    1   \n",
       "...          ...              ...             ...                  ...   \n",
       "9917522       16                0               0                    1   \n",
       "9917523       16                0               0                    1   \n",
       "9917524       16                0               0                    1   \n",
       "9917525       16                0               0                    7   \n",
       "9917526       15                0               0                    1   \n",
       "\n",
       "         srch_booking_window  srch_adults_count  srch_children_count   \n",
       "0                         10                  2                    0  \\\n",
       "1                         72                  2                    0   \n",
       "2                          0                  2                    0   \n",
       "3                          4                  2                    1   \n",
       "4                          4                  1                    0   \n",
       "...                      ...                ...                  ...   \n",
       "9917522                    1                  1                    2   \n",
       "9917523                    0                  1                    0   \n",
       "9917524                   17                  2                    0   \n",
       "9917525                    2                  1                    0   \n",
       "9917526                   64                  1                    0   \n",
       "\n",
       "         srch_room_count  srch_saturday_night_bool  random_bool  ...   \n",
       "0                      1                         1            1  ...  \\\n",
       "1                      1                         1            0  ...   \n",
       "2                      1                         1            0  ...   \n",
       "3                      1                         1            0  ...   \n",
       "4                      1                         0            0  ...   \n",
       "...                  ...                       ...          ...  ...   \n",
       "9917522                1                         1            0  ...   \n",
       "9917523                1                         1            0  ...   \n",
       "9917524                1                         1            1  ...   \n",
       "9917525                1                         0            1  ...   \n",
       "9917526                1                         1            0  ...   \n",
       "\n",
       "         prop_location_score1_d_srch_destination_id   \n",
       "0                                              1.20  \\\n",
       "1                                              1.12   \n",
       "2                                              0.85   \n",
       "3                                              1.28   \n",
       "4                                              1.28   \n",
       "...                                             ...   \n",
       "9917522                                       -2.20   \n",
       "9917523                                       -2.20   \n",
       "9917524                                       -0.82   \n",
       "9917525                                       -0.82   \n",
       "9917526                                       -2.02   \n",
       "\n",
       "         prop_location_score1_d_srch_destination_id__prop_starrating   \n",
       "0                                                    1.040            \\\n",
       "1                                                    0.960             \n",
       "2                                                    0.690             \n",
       "3                                                    1.120             \n",
       "4                                                    1.120             \n",
       "...                                                    ...             \n",
       "9917522                                             -2.200             \n",
       "9917523                                             -2.200             \n",
       "9917524                                             -0.820             \n",
       "9917525                                             -1.075             \n",
       "9917526                                             -2.020             \n",
       "\n",
       "         prop_location_score1_d_srch_id   \n",
       "0                                  0.56  \\\n",
       "1                                  0.48   \n",
       "2                                  0.21   \n",
       "3                                  0.64   \n",
       "4                                  0.64   \n",
       "...                                 ...   \n",
       "9917522                           -1.10   \n",
       "9917523                           -1.10   \n",
       "9917524                           -0.41   \n",
       "9917525                           -0.41   \n",
       "9917526                           -0.92   \n",
       "\n",
       "         prop_location_score2_d_srch_destination_id   \n",
       "0                                               NaN  \\\n",
       "1                                               NaN   \n",
       "2                                               NaN   \n",
       "3                                               NaN   \n",
       "4                                               NaN   \n",
       "...                                             ...   \n",
       "9917522                                     -0.0315   \n",
       "9917523                                     -0.0246   \n",
       "9917524                                         NaN   \n",
       "9917525                                         NaN   \n",
       "9917526                                     -0.0246   \n",
       "\n",
       "         prop_location_score2_d_srch_destination_id__prop_starrating   \n",
       "0                                                      NaN            \\\n",
       "1                                                      NaN             \n",
       "2                                                      NaN             \n",
       "3                                                      NaN             \n",
       "4                                                      NaN             \n",
       "...                                                    ...             \n",
       "9917522                                           -0.04955             \n",
       "9917523                                           -0.04265             \n",
       "9917524                                                NaN             \n",
       "9917525                                                NaN             \n",
       "9917526                                           -0.04265             \n",
       "\n",
       "         prop_location_score2_d_srch_id  price_hist_logdiff_d_srch_id   \n",
       "0                                   NaN                      0.218860  \\\n",
       "1                                   NaN                           NaN   \n",
       "2                                   NaN                      0.283944   \n",
       "3                                   NaN                      0.269329   \n",
       "4                                   NaN                      0.247003   \n",
       "...                                 ...                           ...   \n",
       "9917522                         -0.0192                     -0.031993   \n",
       "9917523                         -0.0123                      0.228085   \n",
       "9917524                             NaN                     -0.048378   \n",
       "9917525                             NaN                     -0.247723   \n",
       "9917526                         -0.0123                      0.213410   \n",
       "\n",
       "         price_usd_ld_srch_id__prop_starrating   \n",
       "0                                     0.125626  \\\n",
       "1                                     0.129212   \n",
       "2                                     0.198177   \n",
       "3                                     0.044171   \n",
       "4                                     0.450021   \n",
       "...                                        ...   \n",
       "9917522                              -0.054630   \n",
       "9917523                              -0.279281   \n",
       "9917524                              -0.315089   \n",
       "9917525                              -0.312395   \n",
       "9917526                               0.000000   \n",
       "\n",
       "         booking_prob_per_prop_id_d_srch_id  click_prob_per_prop_id_d_srch_id  \n",
       "0                                 -0.015505                         -0.011613  \n",
       "1                                 -0.017857                         -0.014857  \n",
       "2                                 -0.015625                         -0.010634  \n",
       "3                                 -0.015625                         -0.010634  \n",
       "4                                 -0.016393                         -0.014857  \n",
       "...                                     ...                               ...  \n",
       "9917522                            0.142857                          0.142857  \n",
       "9917523                            0.142857                          0.142857  \n",
       "9917524                            0.142857                          0.142857  \n",
       "9917525                            0.142857                          0.142857  \n",
       "9917526                            0.142857                          0.142857  \n",
       "\n",
       "[4461904 rows x 33 columns]"
      ]
     },
     "execution_count": 156,
     "metadata": {},
     "output_type": "execute_result"
    }
   ],
   "source": [
    "df_data_train"
   ]
  },
  {
   "cell_type": "code",
   "execution_count": 178,
   "metadata": {
    "ExecuteTime": {
     "end_time": "2023-05-08T21:28:17.988919754Z",
     "start_time": "2023-05-08T21:27:27.381637138Z"
    },
    "collapsed": false,
    "jupyter": {
     "outputs_hidden": false
    }
   },
   "outputs": [
    {
     "data": {
      "text/html": [
       "<style>#sk-container-id-12 {color: black;background-color: white;}#sk-container-id-12 pre{padding: 0;}#sk-container-id-12 div.sk-toggleable {background-color: white;}#sk-container-id-12 label.sk-toggleable__label {cursor: pointer;display: block;width: 100%;margin-bottom: 0;padding: 0.3em;box-sizing: border-box;text-align: center;}#sk-container-id-12 label.sk-toggleable__label-arrow:before {content: \"▸\";float: left;margin-right: 0.25em;color: #696969;}#sk-container-id-12 label.sk-toggleable__label-arrow:hover:before {color: black;}#sk-container-id-12 div.sk-estimator:hover label.sk-toggleable__label-arrow:before {color: black;}#sk-container-id-12 div.sk-toggleable__content {max-height: 0;max-width: 0;overflow: hidden;text-align: left;background-color: #f0f8ff;}#sk-container-id-12 div.sk-toggleable__content pre {margin: 0.2em;color: black;border-radius: 0.25em;background-color: #f0f8ff;}#sk-container-id-12 input.sk-toggleable__control:checked~div.sk-toggleable__content {max-height: 200px;max-width: 100%;overflow: auto;}#sk-container-id-12 input.sk-toggleable__control:checked~label.sk-toggleable__label-arrow:before {content: \"▾\";}#sk-container-id-12 div.sk-estimator input.sk-toggleable__control:checked~label.sk-toggleable__label {background-color: #d4ebff;}#sk-container-id-12 div.sk-label input.sk-toggleable__control:checked~label.sk-toggleable__label {background-color: #d4ebff;}#sk-container-id-12 input.sk-hidden--visually {border: 0;clip: rect(1px 1px 1px 1px);clip: rect(1px, 1px, 1px, 1px);height: 1px;margin: -1px;overflow: hidden;padding: 0;position: absolute;width: 1px;}#sk-container-id-12 div.sk-estimator {font-family: monospace;background-color: #f0f8ff;border: 1px dotted black;border-radius: 0.25em;box-sizing: border-box;margin-bottom: 0.5em;}#sk-container-id-12 div.sk-estimator:hover {background-color: #d4ebff;}#sk-container-id-12 div.sk-parallel-item::after {content: \"\";width: 100%;border-bottom: 1px solid gray;flex-grow: 1;}#sk-container-id-12 div.sk-label:hover label.sk-toggleable__label {background-color: #d4ebff;}#sk-container-id-12 div.sk-serial::before {content: \"\";position: absolute;border-left: 1px solid gray;box-sizing: border-box;top: 0;bottom: 0;left: 50%;z-index: 0;}#sk-container-id-12 div.sk-serial {display: flex;flex-direction: column;align-items: center;background-color: white;padding-right: 0.2em;padding-left: 0.2em;position: relative;}#sk-container-id-12 div.sk-item {position: relative;z-index: 1;}#sk-container-id-12 div.sk-parallel {display: flex;align-items: stretch;justify-content: center;background-color: white;position: relative;}#sk-container-id-12 div.sk-item::before, #sk-container-id-12 div.sk-parallel-item::before {content: \"\";position: absolute;border-left: 1px solid gray;box-sizing: border-box;top: 0;bottom: 0;left: 50%;z-index: -1;}#sk-container-id-12 div.sk-parallel-item {display: flex;flex-direction: column;z-index: 1;position: relative;background-color: white;}#sk-container-id-12 div.sk-parallel-item:first-child::after {align-self: flex-end;width: 50%;}#sk-container-id-12 div.sk-parallel-item:last-child::after {align-self: flex-start;width: 50%;}#sk-container-id-12 div.sk-parallel-item:only-child::after {width: 0;}#sk-container-id-12 div.sk-dashed-wrapped {border: 1px dashed gray;margin: 0 0.4em 0.5em 0.4em;box-sizing: border-box;padding-bottom: 0.4em;background-color: white;}#sk-container-id-12 div.sk-label label {font-family: monospace;font-weight: bold;display: inline-block;line-height: 1.2em;}#sk-container-id-12 div.sk-label-container {text-align: center;}#sk-container-id-12 div.sk-container {/* jupyter's `normalize.less` sets `[hidden] { display: none; }` but bootstrap.min.css set `[hidden] { display: none !important; }` so we also need the `!important` here to be able to override the default hidden behavior on the sphinx rendered scikit-learn.org. See: https://github.com/scikit-learn/scikit-learn/issues/21755 */display: inline-block !important;position: relative;}#sk-container-id-12 div.sk-text-repr-fallback {display: none;}</style><div id=\"sk-container-id-12\" class=\"sk-top-container\"><div class=\"sk-text-repr-fallback\"><pre>HistGradientBoostingClassifier(categorical_features=(&#x27;site_id&#x27;,\n",
       "                                                     &#x27;promotion_flag&#x27;,\n",
       "                                                     &#x27;prop_brand_bool&#x27;,\n",
       "                                                     &#x27;srch_saturday_night_bool&#x27;,\n",
       "                                                     &#x27;random_bool&#x27;),\n",
       "                               max_bins=63, max_depth=40, max_iter=100000,\n",
       "                               n_iter_no_change=100, random_state=123)</pre><b>In a Jupyter environment, please rerun this cell to show the HTML representation or trust the notebook. <br />On GitHub, the HTML representation is unable to render, please try loading this page with nbviewer.org.</b></div><div class=\"sk-container\" hidden><div class=\"sk-item\"><div class=\"sk-estimator sk-toggleable\"><input class=\"sk-toggleable__control sk-hidden--visually\" id=\"sk-estimator-id-12\" type=\"checkbox\" checked><label for=\"sk-estimator-id-12\" class=\"sk-toggleable__label sk-toggleable__label-arrow\">HistGradientBoostingClassifier</label><div class=\"sk-toggleable__content\"><pre>HistGradientBoostingClassifier(categorical_features=(&#x27;site_id&#x27;,\n",
       "                                                     &#x27;promotion_flag&#x27;,\n",
       "                                                     &#x27;prop_brand_bool&#x27;,\n",
       "                                                     &#x27;srch_saturday_night_bool&#x27;,\n",
       "                                                     &#x27;random_bool&#x27;),\n",
       "                               max_bins=63, max_depth=40, max_iter=100000,\n",
       "                               n_iter_no_change=100, random_state=123)</pre></div></div></div></div></div>"
      ],
      "text/plain": [
       "HistGradientBoostingClassifier(categorical_features=('site_id',\n",
       "                                                     'promotion_flag',\n",
       "                                                     'prop_brand_bool',\n",
       "                                                     'srch_saturday_night_bool',\n",
       "                                                     'random_bool'),\n",
       "                               max_bins=63, max_depth=40, max_iter=100000,\n",
       "                               n_iter_no_change=100, random_state=123)"
      ]
     },
     "execution_count": 178,
     "metadata": {},
     "output_type": "execute_result"
    }
   ],
   "source": [
    "from sklearn.ensemble import HistGradientBoostingClassifier\n",
    "\n",
    "# Train the classifier with the best hyperparameters\n",
    "clf = HistGradientBoostingClassifier(random_state=123,\n",
    "                                     min_samples_leaf=20,\n",
    "                                     max_iter=100 * 1000,\n",
    "                                     max_leaf_nodes = 31,\n",
    "                                     max_bins=63,\n",
    "                                     n_iter_no_change=100,\n",
    "                                     max_depth=40,\n",
    "                                     categorical_features=('site_id', 'promotion_flag', 'prop_brand_bool', 'srch_saturday_night_bool', 'random_bool'))\n",
    "\n",
    "# # downsample the training data for experimentation\n",
    "# rng = np.random.default_rng(RANDOM_SEED)\n",
    "# downsample_idx = np.arange(len(df))\n",
    "# rng.shuffle(downsample_idx)\n",
    "# downsample_idx = downsample_idx[:len(df)//10]\n",
    "# len(downsample_idx), len(df)\n",
    "#x = df_data.iloc[downsample_idx]\n",
    "#Y = df_tg.iloc[downsample_idx]\n",
    "x = df_data_train\n",
    "Y = df_tg_train\n",
    "\n",
    "clf.fit(x, Y)"
   ]
  },
  {
   "cell_type": "code",
   "execution_count": 179,
   "metadata": {
    "ExecuteTime": {
     "end_time": "2023-05-08T21:28:17.989047619Z",
     "start_time": "2023-05-08T21:28:17.942622212Z"
    },
    "collapsed": false,
    "jupyter": {
     "outputs_hidden": false
    }
   },
   "outputs": [],
   "source": [
    "def get_avg_ndgc(df, df_data):\n",
    "    pred = df[['srch_id', 'prop_id', 'relevance_score', 'target_cls']]\n",
    "    pred = pred.assign(score = clf.predict_proba(df_data)[:, 1:2].sum(axis=1))\n",
    "    tmp = pred.sort_values(by='score', ascending=False).sort_values(by='srch_id', kind='stable')[['srch_id','target_cls','score', 'relevance_score']]\n",
    "    ndcg = tmp.groupby('srch_id')['relevance_score'].apply(ndcg_dmt)\n",
    "    #ndcg = tmp.groupby('srch_id')['relevance_score'].apply(ndcg_sklearn)\n",
    "    return ndcg.mean()"
   ]
  },
  {
   "cell_type": "code",
   "execution_count": 180,
   "metadata": {
    "ExecuteTime": {
     "end_time": "2023-05-08T21:28:19.442996172Z",
     "start_time": "2023-05-08T21:28:17.942738397Z"
    },
    "collapsed": false,
    "jupyter": {
     "outputs_hidden": false
    }
   },
   "outputs": [
    {
     "data": {
      "text/plain": [
       "0.35782641980240215"
      ]
     },
     "execution_count": 180,
     "metadata": {},
     "output_type": "execute_result"
    }
   ],
   "source": [
    "get_avg_ndgc(df_val, df_data_val)"
   ]
  },
  {
   "cell_type": "code",
   "execution_count": null,
   "metadata": {
    "collapsed": false,
    "jupyter": {
     "outputs_hidden": false
    }
   },
   "outputs": [],
   "source": [
    "get_avg_ndgc(df_train, df_data_train)"
   ]
  },
  {
   "cell_type": "code",
   "execution_count": 160,
   "metadata": {
    "ExecuteTime": {
     "end_time": "2023-05-08T20:50:03.750742103Z",
     "start_time": "2023-05-08T20:50:03.708921544Z"
    },
    "collapsed": false,
    "jupyter": {
     "outputs_hidden": false
    }
   },
   "outputs": [],
   "source": [
    "def get_prediction(df, df_data):\n",
    "    pred = df[['srch_id', 'prop_id']]\n",
    "    pred = pred.assign(score = clf.predict_proba(df_data)[:, 1:2].sum(axis=1))\n",
    "    pred = pred.sort_values(by='score', ascending=False).sort_values(by='srch_id', kind='stable')[['srch_id','prop_id','score']]\n",
    "    return pred"
   ]
  },
  {
   "cell_type": "code",
   "execution_count": 161,
   "metadata": {
    "ExecuteTime": {
     "end_time": "2023-05-08T20:50:16.158817831Z",
     "start_time": "2023-05-08T20:50:05.059002943Z"
    },
    "collapsed": false,
    "jupyter": {
     "outputs_hidden": false
    }
   },
   "outputs": [
    {
     "name": "stderr",
     "output_type": "stream",
     "text": [
      "/tmp/ipykernel_876851/2049298311.py:3: SettingWithCopyWarning: \n",
      "A value is trying to be set on a copy of a slice from a DataFrame.\n",
      "Try using .loc[row_indexer,col_indexer] = value instead\n",
      "\n",
      "See the caveats in the documentation: https://pandas.pydata.org/pandas-docs/stable/user_guide/indexing.html#returning-a-view-versus-a-copy\n",
      "  pred['score'] = clf.predict_proba(df_data)[:, 1:2].sum(axis=1)\n"
     ]
    }
   ],
   "source": [
    "pred_test = get_prediction(df_test_filt, df_data_test)"
   ]
  },
  {
   "cell_type": "code",
   "execution_count": 162,
   "metadata": {
    "ExecuteTime": {
     "end_time": "2023-05-08T20:50:20.896211901Z",
     "start_time": "2023-05-08T20:50:18.139101768Z"
    },
    "collapsed": false,
    "jupyter": {
     "outputs_hidden": false
    }
   },
   "outputs": [],
   "source": [
    "pred_test[['srch_id', 'prop_id']].reset_index().drop(columns='index').to_csv('data/submission_3.csv', index=None)"
   ]
  },
  {
   "cell_type": "code",
   "execution_count": 68,
   "metadata": {
    "collapsed": false,
    "jupyter": {
     "outputs_hidden": false
    }
   },
   "outputs": [
    {
     "data": {
      "text/plain": [
       "0.737826424707602"
      ]
     },
     "execution_count": 68,
     "metadata": {},
     "output_type": "execute_result"
    }
   ],
   "source": [
    "calc_ndcg([5, 1, 0, 0, 0], [1, 5, 0, 0, 0], n=5, use_2pow=False)"
   ]
  },
  {
   "cell_type": "code",
   "execution_count": 164,
   "metadata": {
    "ExecuteTime": {
     "end_time": "2023-05-08T20:55:32.947911326Z",
     "start_time": "2023-05-08T20:55:32.942201371Z"
    },
    "collapsed": false,
    "jupyter": {
     "outputs_hidden": false
    }
   },
   "outputs": [
    {
     "data": {
      "text/plain": [
       "(0.6499594707105907, 0.737826424707602)"
      ]
     },
     "execution_count": 164,
     "metadata": {},
     "output_type": "execute_result"
    }
   ],
   "source": [
    "ndcg_dmt([1, 5, 0, 0, 0], n=5), ndcg_sklearn([1, 5, 0, 0, 0], n=5)\n",
    "\n"
   ]
  },
  {
   "cell_type": "code",
   "execution_count": null,
   "metadata": {
    "collapsed": false,
    "jupyter": {
     "outputs_hidden": false
    }
   },
   "outputs": [],
   "source": []
  }
 ],
 "metadata": {
  "kernelspec": {
   "display_name": "Python 3 (ipykernel)",
   "language": "python",
   "name": "python3"
  },
  "language_info": {
   "codemirror_mode": {
    "name": "ipython",
    "version": 3
   },
   "file_extension": ".py",
   "mimetype": "text/x-python",
   "name": "python",
   "nbconvert_exporter": "python",
   "pygments_lexer": "ipython3",
   "version": "3.11.3"
  }
 },
 "nbformat": 4,
 "nbformat_minor": 4
}
