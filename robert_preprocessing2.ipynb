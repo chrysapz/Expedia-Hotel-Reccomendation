{
 "cells": [
  {
   "cell_type": "code",
   "execution_count": 1,
   "metadata": {
    "is_executing": true
   },
   "outputs": [],
   "source": [
    "import pandas as pd\n",
    "import numpy as np\n",
    "import seaborn as sns"
   ]
  },
  {
   "cell_type": "code",
   "execution_count": 3,
   "metadata": {
    "ExecuteTime": {
     "end_time": "2023-05-26T21:28:48.076598923Z",
     "start_time": "2023-05-26T21:28:47.875264515Z"
    }
   },
   "outputs": [],
   "source": [
    "def print_missing(df, col):\n",
    "    miss_cnt = df[col].isna().sum()\n",
    "    if miss_cnt == 0:\n",
    "        return\n",
    "    total_cnt = len(df[col])\n",
    "    perc_miss = 100 * miss_cnt / total_cnt\n",
    "    print(f'{col} missing count {miss_cnt} out of {total_cnt} => {round(perc_miss)}% missing')"
   ]
  },
  {
   "cell_type": "code",
   "execution_count": 4,
   "metadata": {
    "ExecuteTime": {
     "end_time": "2023-05-26T21:29:48.678316569Z",
     "start_time": "2023-05-26T21:28:47.917972714Z"
    },
    "scrolled": true
   },
   "outputs": [],
   "source": [
    "df_raw = pd.read_csv(\"data/joined_all_features.csv.zip\", index_col=0)"
   ]
  },
  {
   "cell_type": "code",
   "execution_count": 21,
   "metadata": {
    "ExecuteTime": {
     "end_time": "2023-05-26T22:12:34.505098865Z",
     "start_time": "2023-05-26T22:12:33.618282730Z"
    }
   },
   "outputs": [],
   "source": [
    "df_raw['target_cls'] = df_raw.booking_bool + df_raw.click_bool\n",
    "df_raw['relevance_score'] = df_raw.booking_bool * 4 + df_raw.click_bool\n",
    "# a property id can appear in multiple srch_destination_id, to make the combination unique we need a new combined id\n",
    "df_raw['prop_srch_dest_id']  = df_raw.prop_id * 100000 + df_raw.srch_destination_id\n",
    "df_raw.head()\n",
    "df = df_raw"
   ]
  },
  {
   "cell_type": "code",
   "execution_count": 22,
   "metadata": {},
   "outputs": [],
   "source": [
    "def add_rank(df, groupby, cols):\n",
    "    return df.groupby(groupby)[cols].apply(lambda x: x.rank(method='min', na_option='keep', axis=0)).reset_index(groupby, drop=True).rename(columns=lambda x: f'{x}_rank')\n",
    "\n",
    "df = df.join(add_rank(df, 'srch_id', ['price_usd']), how='left')"
   ]
  },
  {
   "cell_type": "code",
   "execution_count": 23,
   "metadata": {
    "ExecuteTime": {
     "end_time": "2023-05-26T22:12:34.803442243Z",
     "start_time": "2023-05-26T22:12:34.508914725Z"
    },
    "collapsed": false,
    "jupyter": {
     "outputs_hidden": false
    },
    "scrolled": true
   },
   "outputs": [
    {
     "ename": "KeyError",
     "evalue": "'comp1_rate'",
     "output_type": "error",
     "traceback": [
      "\u001b[0;31m---------------------------------------------------------------------------\u001b[0m",
      "\u001b[0;31mKeyError\u001b[0m                                  Traceback (most recent call last)",
      "File \u001b[0;32m~/miniconda3/envs/dmt_expedia/lib/python3.11/site-packages/pandas/core/indexes/base.py:3652\u001b[0m, in \u001b[0;36mIndex.get_loc\u001b[0;34m(self, key)\u001b[0m\n\u001b[1;32m   3651\u001b[0m \u001b[38;5;28;01mtry\u001b[39;00m:\n\u001b[0;32m-> 3652\u001b[0m     \u001b[38;5;28;01mreturn\u001b[39;00m \u001b[38;5;28;43mself\u001b[39;49m\u001b[38;5;241;43m.\u001b[39;49m\u001b[43m_engine\u001b[49m\u001b[38;5;241;43m.\u001b[39;49m\u001b[43mget_loc\u001b[49m\u001b[43m(\u001b[49m\u001b[43mcasted_key\u001b[49m\u001b[43m)\u001b[49m\n\u001b[1;32m   3653\u001b[0m \u001b[38;5;28;01mexcept\u001b[39;00m \u001b[38;5;167;01mKeyError\u001b[39;00m \u001b[38;5;28;01mas\u001b[39;00m err:\n",
      "File \u001b[0;32m~/miniconda3/envs/dmt_expedia/lib/python3.11/site-packages/pandas/_libs/index.pyx:147\u001b[0m, in \u001b[0;36mpandas._libs.index.IndexEngine.get_loc\u001b[0;34m()\u001b[0m\n",
      "File \u001b[0;32m~/miniconda3/envs/dmt_expedia/lib/python3.11/site-packages/pandas/_libs/index.pyx:176\u001b[0m, in \u001b[0;36mpandas._libs.index.IndexEngine.get_loc\u001b[0;34m()\u001b[0m\n",
      "File \u001b[0;32mpandas/_libs/hashtable_class_helper.pxi:7080\u001b[0m, in \u001b[0;36mpandas._libs.hashtable.PyObjectHashTable.get_item\u001b[0;34m()\u001b[0m\n",
      "File \u001b[0;32mpandas/_libs/hashtable_class_helper.pxi:7088\u001b[0m, in \u001b[0;36mpandas._libs.hashtable.PyObjectHashTable.get_item\u001b[0;34m()\u001b[0m\n",
      "\u001b[0;31mKeyError\u001b[0m: 'comp1_rate'",
      "\nThe above exception was the direct cause of the following exception:\n",
      "\u001b[0;31mKeyError\u001b[0m                                  Traceback (most recent call last)",
      "Cell \u001b[0;32mIn[23], line 3\u001b[0m\n\u001b[1;32m      1\u001b[0m \u001b[38;5;66;03m# add flag to indicate if any competitor has availability at a better rate\u001b[39;00m\n\u001b[1;32m      2\u001b[0m \u001b[38;5;28;01mfor\u001b[39;00m i \u001b[38;5;129;01min\u001b[39;00m \u001b[38;5;28mrange\u001b[39m(\u001b[38;5;241m1\u001b[39m, \u001b[38;5;241m9\u001b[39m):\n\u001b[0;32m----> 3\u001b[0m     df[\u001b[38;5;124mf\u001b[39m\u001b[38;5;124m'\u001b[39m\u001b[38;5;124mcomp\u001b[39m\u001b[38;5;132;01m{\u001b[39;00mi\u001b[38;5;132;01m}\u001b[39;00m\u001b[38;5;124m_known\u001b[39m\u001b[38;5;124m'\u001b[39m] \u001b[38;5;241m=\u001b[39m \u001b[38;5;241m~\u001b[39m(\u001b[43mdf\u001b[49m\u001b[43m[\u001b[49m\u001b[38;5;124;43mf\u001b[39;49m\u001b[38;5;124;43m'\u001b[39;49m\u001b[38;5;124;43mcomp\u001b[39;49m\u001b[38;5;132;43;01m{\u001b[39;49;00m\u001b[43mi\u001b[49m\u001b[38;5;132;43;01m}\u001b[39;49;00m\u001b[38;5;124;43m_rate\u001b[39;49m\u001b[38;5;124;43m'\u001b[39;49m\u001b[43m]\u001b[49m\u001b[38;5;241m.\u001b[39misna() \u001b[38;5;241m|\u001b[39m df[\u001b[38;5;124mf\u001b[39m\u001b[38;5;124m'\u001b[39m\u001b[38;5;124mcomp\u001b[39m\u001b[38;5;132;01m{\u001b[39;00mi\u001b[38;5;132;01m}\u001b[39;00m\u001b[38;5;124m_inv\u001b[39m\u001b[38;5;124m'\u001b[39m]\u001b[38;5;241m.\u001b[39misna())\n\u001b[1;32m      4\u001b[0m     df[\u001b[38;5;124mf\u001b[39m\u001b[38;5;124m'\u001b[39m\u001b[38;5;124mcomp\u001b[39m\u001b[38;5;132;01m{\u001b[39;00mi\u001b[38;5;132;01m}\u001b[39;00m\u001b[38;5;124m_better\u001b[39m\u001b[38;5;124m'\u001b[39m] \u001b[38;5;241m=\u001b[39m df[\u001b[38;5;124mf\u001b[39m\u001b[38;5;124m'\u001b[39m\u001b[38;5;124mcomp\u001b[39m\u001b[38;5;132;01m{\u001b[39;00mi\u001b[38;5;132;01m}\u001b[39;00m\u001b[38;5;124m_known\u001b[39m\u001b[38;5;124m'\u001b[39m] \u001b[38;5;241m&\u001b[39m (df[\u001b[38;5;124mf\u001b[39m\u001b[38;5;124m'\u001b[39m\u001b[38;5;124mcomp\u001b[39m\u001b[38;5;132;01m{\u001b[39;00mi\u001b[38;5;132;01m}\u001b[39;00m\u001b[38;5;124m_rate\u001b[39m\u001b[38;5;124m'\u001b[39m] \u001b[38;5;241m==\u001b[39m \u001b[38;5;241m-\u001b[39m\u001b[38;5;241m1\u001b[39m) \u001b[38;5;241m&\u001b[39m (df[\u001b[38;5;124mf\u001b[39m\u001b[38;5;124m'\u001b[39m\u001b[38;5;124mcomp\u001b[39m\u001b[38;5;132;01m{\u001b[39;00mi\u001b[38;5;132;01m}\u001b[39;00m\u001b[38;5;124m_inv\u001b[39m\u001b[38;5;124m'\u001b[39m] \u001b[38;5;241m<\u001b[39m\u001b[38;5;241m=\u001b[39m \u001b[38;5;241m0\u001b[39m)\n\u001b[1;32m      5\u001b[0m     df[\u001b[38;5;124mf\u001b[39m\u001b[38;5;124m'\u001b[39m\u001b[38;5;124mcomp\u001b[39m\u001b[38;5;132;01m{\u001b[39;00mi\u001b[38;5;132;01m}\u001b[39;00m\u001b[38;5;124m_worse\u001b[39m\u001b[38;5;124m'\u001b[39m] \u001b[38;5;241m=\u001b[39m df[\u001b[38;5;124mf\u001b[39m\u001b[38;5;124m'\u001b[39m\u001b[38;5;124mcomp\u001b[39m\u001b[38;5;132;01m{\u001b[39;00mi\u001b[38;5;132;01m}\u001b[39;00m\u001b[38;5;124m_known\u001b[39m\u001b[38;5;124m'\u001b[39m] \u001b[38;5;241m&\u001b[39m (df[\u001b[38;5;124mf\u001b[39m\u001b[38;5;124m'\u001b[39m\u001b[38;5;124mcomp\u001b[39m\u001b[38;5;132;01m{\u001b[39;00mi\u001b[38;5;132;01m}\u001b[39;00m\u001b[38;5;124m_rate\u001b[39m\u001b[38;5;124m'\u001b[39m] \u001b[38;5;241m==\u001b[39m \u001b[38;5;241m1\u001b[39m) \u001b[38;5;241m&\u001b[39m (df[\u001b[38;5;124mf\u001b[39m\u001b[38;5;124m'\u001b[39m\u001b[38;5;124mcomp\u001b[39m\u001b[38;5;132;01m{\u001b[39;00mi\u001b[38;5;132;01m}\u001b[39;00m\u001b[38;5;124m_inv\u001b[39m\u001b[38;5;124m'\u001b[39m] \u001b[38;5;241m>\u001b[39m\u001b[38;5;241m=\u001b[39m \u001b[38;5;241m0\u001b[39m)\n",
      "File \u001b[0;32m~/miniconda3/envs/dmt_expedia/lib/python3.11/site-packages/pandas/core/frame.py:3761\u001b[0m, in \u001b[0;36mDataFrame.__getitem__\u001b[0;34m(self, key)\u001b[0m\n\u001b[1;32m   3759\u001b[0m \u001b[38;5;28;01mif\u001b[39;00m \u001b[38;5;28mself\u001b[39m\u001b[38;5;241m.\u001b[39mcolumns\u001b[38;5;241m.\u001b[39mnlevels \u001b[38;5;241m>\u001b[39m \u001b[38;5;241m1\u001b[39m:\n\u001b[1;32m   3760\u001b[0m     \u001b[38;5;28;01mreturn\u001b[39;00m \u001b[38;5;28mself\u001b[39m\u001b[38;5;241m.\u001b[39m_getitem_multilevel(key)\n\u001b[0;32m-> 3761\u001b[0m indexer \u001b[38;5;241m=\u001b[39m \u001b[38;5;28;43mself\u001b[39;49m\u001b[38;5;241;43m.\u001b[39;49m\u001b[43mcolumns\u001b[49m\u001b[38;5;241;43m.\u001b[39;49m\u001b[43mget_loc\u001b[49m\u001b[43m(\u001b[49m\u001b[43mkey\u001b[49m\u001b[43m)\u001b[49m\n\u001b[1;32m   3762\u001b[0m \u001b[38;5;28;01mif\u001b[39;00m is_integer(indexer):\n\u001b[1;32m   3763\u001b[0m     indexer \u001b[38;5;241m=\u001b[39m [indexer]\n",
      "File \u001b[0;32m~/miniconda3/envs/dmt_expedia/lib/python3.11/site-packages/pandas/core/indexes/base.py:3654\u001b[0m, in \u001b[0;36mIndex.get_loc\u001b[0;34m(self, key)\u001b[0m\n\u001b[1;32m   3652\u001b[0m     \u001b[38;5;28;01mreturn\u001b[39;00m \u001b[38;5;28mself\u001b[39m\u001b[38;5;241m.\u001b[39m_engine\u001b[38;5;241m.\u001b[39mget_loc(casted_key)\n\u001b[1;32m   3653\u001b[0m \u001b[38;5;28;01mexcept\u001b[39;00m \u001b[38;5;167;01mKeyError\u001b[39;00m \u001b[38;5;28;01mas\u001b[39;00m err:\n\u001b[0;32m-> 3654\u001b[0m     \u001b[38;5;28;01mraise\u001b[39;00m \u001b[38;5;167;01mKeyError\u001b[39;00m(key) \u001b[38;5;28;01mfrom\u001b[39;00m \u001b[38;5;21;01merr\u001b[39;00m\n\u001b[1;32m   3655\u001b[0m \u001b[38;5;28;01mexcept\u001b[39;00m \u001b[38;5;167;01mTypeError\u001b[39;00m:\n\u001b[1;32m   3656\u001b[0m     \u001b[38;5;66;03m# If we have a listlike key, _check_indexing_error will raise\u001b[39;00m\n\u001b[1;32m   3657\u001b[0m     \u001b[38;5;66;03m#  InvalidIndexError. Otherwise we fall through and re-raise\u001b[39;00m\n\u001b[1;32m   3658\u001b[0m     \u001b[38;5;66;03m#  the TypeError.\u001b[39;00m\n\u001b[1;32m   3659\u001b[0m     \u001b[38;5;28mself\u001b[39m\u001b[38;5;241m.\u001b[39m_check_indexing_error(key)\n",
      "\u001b[0;31mKeyError\u001b[0m: 'comp1_rate'"
     ]
    }
   ],
   "source": [
    "# add flag to indicate if any competitor has availability at a better rate\n",
    "for i in range(1, 9):\n",
    "    df[f'comp{i}_known'] = ~(df[f'comp{i}_rate'].isna() | df[f'comp{i}_inv'].isna())\n",
    "    df[f'comp{i}_better'] = df[f'comp{i}_known'] & (df[f'comp{i}_rate'] == -1) & (df[f'comp{i}_inv'] <= 0)\n",
    "    df[f'comp{i}_worse'] = df[f'comp{i}_known'] & (df[f'comp{i}_rate'] == 1) & (df[f'comp{i}_inv'] >= 0)\n",
    "\n",
    "df['comp_known_cnt'] = sum([df[f'comp{i}_known'].astype(int) for i in range(1, 9)])\n",
    "df['comp_better_worse'] = \\\n",
    "    (sum([df[f'comp{i}_better'].astype(int) for i in range(1, 9)])\n",
    "     - sum([df[f'comp{i}_worse'].astype(int) for i in range(1, 9)]))\n",
    "\n",
    "comp_rate_cols = [f'comp{i}_rate' for i in range(1, 9)]\n",
    "df['comp_rate_sum'] = df[comp_rate_cols].fillna(0).sum(axis=1)\n",
    "\n",
    "comps = [f'comp{i}_' for i in range(1, 9)]\n",
    "#df.drop(columns=[c for c in df.columns if c[:6] in comps and c not in ('comp2_rate_percent_diff', 'comp5_rate_percent_diff', 'comp8_rate_percent_diff')], inplace=True)\n",
    "df.drop(columns=[c for c in df.columns if c[:6] in comps], inplace=True)"
   ]
  },
  {
   "cell_type": "code",
   "execution_count": 24,
   "metadata": {
    "ExecuteTime": {
     "end_time": "2023-05-26T22:12:54.404264258Z",
     "start_time": "2023-05-26T22:12:34.898997148Z"
    }
   },
   "outputs": [],
   "source": [
    "df_devel = df.loc[df.is_test==False, [c for c in df.columns if c != 'is_test']]\n",
    "df_test = df.loc[df.is_test==True, [c for c in df.columns if c != 'is_test']]\n",
    "df_test.srch_id -= df_devel.srch_id.max()\n",
    "# del df\n",
    "# import gc\n",
    "# gc.collect()"
   ]
  },
  {
   "cell_type": "code",
   "execution_count": 26,
   "metadata": {
    "ExecuteTime": {
     "end_time": "2023-05-26T22:12:54.596685951Z",
     "start_time": "2023-05-26T22:12:54.445984264Z"
    },
    "scrolled": true
   },
   "outputs": [
    {
     "name": "stdout",
     "output_type": "stream",
     "text": [
      "visitor_hist_starrating missing count 4706481 out of 4958347 => 95% missing\n",
      "visitor_hist_adr_usd missing count 4705398 out of 4958347 => 95% missing\n",
      "prop_review_score missing count 240658 out of 4958347 => 5% missing\n",
      "prop_location_score2 missing count 1090348 out of 4958347 => 22% missing\n",
      "prop_log_historical_price missing count 713899 out of 4958347 => 14% missing\n",
      "price_usd missing count 31 out of 4958347 => 0% missing\n",
      "srch_query_affinity_score missing count 4640941 out of 4958347 => 94% missing\n",
      "prop_starrating_w0 missing count 169572 out of 4958347 => 3% missing\n",
      "hist_starrating_diff missing count 4706481 out of 4958347 => 95% missing\n",
      "price_hist_logdiff missing count 713927 out of 4958347 => 14% missing\n",
      "visitor_hist_adr_usd_logdiff missing count 4705398 out of 4958347 => 95% missing\n",
      "price_usd_d_srch_id missing count 31 out of 4958347 => 0% missing\n",
      "prop_starrating_w0_std_srch_destination_id missing count 230 out of 4958347 => 0% missing\n",
      "prop_starrating_w0_med_srch_destination_id missing count 98 out of 4958347 => 0% missing\n",
      "prop_starrating_w0_d_srch_destination_id missing count 169572 out of 4958347 => 3% missing\n",
      "prop_starrating_w0_std_srch_id missing count 1528 out of 4958347 => 0% missing\n",
      "prop_starrating_w0_med_srch_id missing count 527 out of 4958347 => 0% missing\n",
      "prop_starrating_w0_d_srch_id missing count 169572 out of 4958347 => 3% missing\n",
      "prop_review_score_std_srch_destination_id missing count 440 out of 4958347 => 0% missing\n",
      "prop_review_score_med_srch_destination_id missing count 164 out of 4958347 => 0% missing\n",
      "prop_review_score_d_srch_destination_id missing count 240658 out of 4958347 => 5% missing\n",
      "prop_review_score_std_srch_destination_id__prop_starrating missing count 16893 out of 4958347 => 0% missing\n",
      "prop_review_score_med_srch_destination_id__prop_starrating missing count 9091 out of 4958347 => 0% missing\n",
      "prop_review_score_d_srch_destination_id__prop_starrating missing count 240658 out of 4958347 => 5% missing\n",
      "prop_review_score_std_srch_id missing count 1156 out of 4958347 => 0% missing\n",
      "prop_review_score_med_srch_id missing count 270 out of 4958347 => 0% missing\n",
      "prop_review_score_d_srch_id missing count 240658 out of 4958347 => 5% missing\n",
      "prop_location_score1_std_srch_destination_id__prop_starrating missing count 4594 out of 4958347 => 0% missing\n",
      "prop_location_score2_std_srch_destination_id missing count 86447 out of 4958347 => 2% missing\n",
      "prop_location_score2_med_srch_destination_id missing count 62112 out of 4958347 => 1% missing\n",
      "prop_location_score2_d_srch_destination_id missing count 1090348 out of 4958347 => 22% missing\n",
      "prop_location_score2_std_srch_destination_id__prop_starrating missing count 256380 out of 4958347 => 5% missing\n",
      "prop_location_score2_med_srch_destination_id__prop_starrating missing count 229179 out of 4958347 => 5% missing\n",
      "prop_location_score2_d_srch_destination_id__prop_starrating missing count 1090348 out of 4958347 => 22% missing\n",
      "prop_location_score2_std_srch_id missing count 187573 out of 4958347 => 4% missing\n",
      "prop_location_score2_med_srch_id missing count 92272 out of 4958347 => 2% missing\n",
      "prop_location_score2_d_srch_id missing count 1090348 out of 4958347 => 22% missing\n",
      "price_usd_std_srch_id__prop_starrating missing count 102347 out of 4958347 => 2% missing\n",
      "price_usd_med_srch_id__prop_starrating missing count 12 out of 4958347 => 0% missing\n",
      "price_usd_d_srch_id__prop_starrating missing count 31 out of 4958347 => 0% missing\n",
      "price_hist_logdiff_std_srch_id missing count 697781 out of 4958347 => 14% missing\n",
      "price_hist_logdiff_med_srch_id missing count 697745 out of 4958347 => 14% missing\n",
      "price_hist_logdiff_d_srch_id missing count 713927 out of 4958347 => 14% missing\n",
      "visitor_hist_adr_usd_logdiff_d_srch_id missing count 4705398 out of 4958347 => 95% missing\n",
      "srch_query_affinity_score_std_srch_id missing count 4614842 out of 4958347 => 93% missing\n",
      "srch_query_affinity_score_d_srch_id missing count 4640941 out of 4958347 => 94% missing\n",
      "srch_res_count_std_prop_id missing count 4376 out of 4958347 => 0% missing\n",
      "srch_res_count_z_prop_id missing count 6836 out of 4958347 => 0% missing\n",
      "price_usd_rank missing count 31 out of 4958347 => 0% missing\n"
     ]
    }
   ],
   "source": [
    "for col in df_devel.columns:\n",
    "    print_missing(df_devel, col)"
   ]
  },
  {
   "cell_type": "code",
   "execution_count": 29,
   "metadata": {
    "ExecuteTime": {
     "end_time": "2023-05-26T22:12:55.476431135Z",
     "start_time": "2023-05-26T22:12:55.470642898Z"
    },
    "collapsed": false,
    "jupyter": {
     "outputs_hidden": false
    }
   },
   "outputs": [],
   "source": [
    "def add_position_related_features(df):\n",
    "    ret = {}\n",
    "    tmp = df.query('random_bool==0')\n",
    "    ret['prop_srch_dest_id'] = [\n",
    "        tmp.groupby('prop_srch_dest_id').agg(\n",
    "            #top_prob_srch_prop_id=('position', lambda x: (x <= TOP_NUM).mean()),\n",
    "            tg_avg_position_srch_prop_id=('position', 'mean'),\n",
    "            tg_std_position_srch_prop_id=('position', 'std'),\n",
    "            #tg_click_prob_srch_prop_id=('click_bool', 'mean'),\n",
    "            log_appearance_count_srch_prop_id=('position', lambda x: np.log(len(x))),\n",
    "        ),\n",
    "        df.groupby('prop_srch_dest_id').agg(\n",
    "            avg_res_len_srch_prop_id=('srch_res_count', 'mean'),\n",
    "        ),        \n",
    "    ]\n",
    "    # also add average position per property id\n",
    "    ret['prop_id'] = [\n",
    "        tmp.groupby('prop_id').agg(\n",
    "            #top_prob_prop_id=('position', lambda x: (x <= TOP_NUM).mean()),\n",
    "            tg_avg_position_prop_id=('position', 'mean'),\n",
    "            tg_std_position_prop_id=('position', 'std'),\n",
    "            #tg_click_prob_prop_id=('click_bool', 'mean'),\n",
    "            log_appearance_count_prop_id=('position', lambda x: np.log(len(x))),\n",
    "        ),\n",
    "        df.groupby('prop_id').agg(\n",
    "            avg_res_len_prop_id=('srch_res_count', 'mean'),\n",
    "        )\n",
    "    ]\n",
    "    return ret"
   ]
  },
  {
   "cell_type": "code",
   "execution_count": 30,
   "metadata": {
    "ExecuteTime": {
     "end_time": "2023-05-26T22:14:15.077507277Z",
     "start_time": "2023-05-26T22:12:55.477940430Z"
    },
    "collapsed": false,
    "jupyter": {
     "outputs_hidden": false
    }
   },
   "outputs": [],
   "source": [
    "df_train = df_devel\n",
    "\n",
    "for key, tbls in add_position_related_features(df_train).items():\n",
    "    if type(key)==tuple:\n",
    "        key = list(key)\n",
    "    for tbl in tbls:\n",
    "        df_train = df_train.set_index(key).join(tbl, how='left').reset_index()\n",
    "        df_val = df_val.set_index(key).join(tbl, how='left').reset_index()\n",
    "        df_test = df_test.set_index(key).join(tbl, how='left').reset_index()"
   ]
  },
  {
   "cell_type": "code",
   "execution_count": 34,
   "metadata": {
    "ExecuteTime": {
     "end_time": "2023-05-26T22:22:46.255636391Z",
     "start_time": "2023-05-26T22:22:45.430610257Z"
    }
   },
   "outputs": [
    {
     "name": "stdout",
     "output_type": "stream",
     "text": [
      "610375 612744 200861\n",
      "['tg_avg_position_srch_prop_id', 'tg_std_position_srch_prop_id', 'log_appearance_count_srch_prop_id']\n",
      "129113 129438 7448\n",
      "['tg_avg_position_prop_id', 'tg_std_position_prop_id', 'log_appearance_count_prop_id']\n"
     ]
    }
   ],
   "source": [
    "def set_avg_position_srch_prop_id_to_NA(df, ids):\n",
    "    #cols = [c for c in df.columns if (c.startswith('tg_') and c.endswith('_srch_prop_id'))]\n",
    "    cols = [c for c in df.columns if c in ['tg_avg_position_srch_prop_id', 'tg_std_position_srch_prop_id', 'tg_click_prob_srch_prop_id', 'log_appearance_count_srch_prop_id',]]#'avg_res_len_srch_prop_id']]\n",
    "    print(cols)\n",
    "    df.loc[df.prop_srch_dest_id.isin(ids), cols] = pd.NA\n",
    "\n",
    "def set_avg_position_prop_id_to_NA(df, ids):\n",
    "    #cols = [c for c in df.columns if c.startswith('tg_') and c.endswith('_prop_id') and not c.endswith('_srch_prop_id') or (c.startswith('exp_') and c.endswith('__prop_id'))]\n",
    "    cols = [c for c in df.columns if c in ['tg_avg_position_prop_id', 'tg_std_position_prop_id', 'tg_click_prob_prop_id', 'log_appearance_count_prop_id',]]#'avg_res_len_prop_id']]\n",
    "    print(cols)\n",
    "    df.loc[df.prop_id.isin(ids), cols] = pd.NA\n",
    "\n",
    "# So first we need to remove the click/book probs for all ids in val only\n",
    "def get_ids_in_one_but_not_the_other(df_in_this, df_not_in_this, col):\n",
    "    in_this = set(df_in_this.set_index(col).index.unique())\n",
    "    not_in_this = set(df_not_in_this.set_index(col).index.unique())\n",
    "    missing = in_this - not_in_this\n",
    "    print(len(in_this), len(not_in_this), len(missing))\n",
    "    return missing\n",
    "\n",
    "\n",
    "# set_avg_position_srch_prop_id_to_NA(df_val, get_ids_in_one_but_not_the_other(df_test, df_train, 'prop_srch_dest_id'))\n",
    "# #set_avg_position_srch_prop_id_to_NA(df_val, get_ids_in_one_but_not_the_other(df_val, df_train, 'prop_srch_dest_id'))\n",
    "# set_avg_position_prop_id_to_NA(df_val, get_ids_in_one_but_not_the_other(df_test, df_train, 'prop_id'))\n",
    "# #set_avg_position_prop_id_to_NA(df_val, get_ids_in_one_but_not_the_other(df_val, df_train, 'prop_id'))\n",
    "    \n",
    "# #set_avg_position_srch_prop_id_to_NA(df_train, get_ids_in_one_but_not_the_other(df_train, df_val, 'prop_srch_dest_id'))\n",
    "# #set_avg_position_prop_id_to_NA(df_train, get_ids_in_one_but_not_the_other(df_train, df_val, 'prop_id'))\n",
    "set_avg_position_srch_prop_id_to_NA(df_train, get_ids_in_one_but_not_the_other(df_train, df_test, 'prop_srch_dest_id'))\n",
    "set_avg_position_prop_id_to_NA(df_train, get_ids_in_one_but_not_the_other(df_train, df_test, 'prop_id'))"
   ]
  },
  {
   "cell_type": "code",
   "execution_count": 37,
   "metadata": {
    "ExecuteTime": {
     "end_time": "2023-05-26T22:22:48.233753663Z",
     "start_time": "2023-05-26T22:22:46.256701139Z"
    }
   },
   "outputs": [
    {
     "name": "stdout",
     "output_type": "stream",
     "text": [
      "visitor_hist_starrating missing count 4706481 out of 4958347 => 95% missing\n",
      "visitor_hist_adr_usd missing count 4705398 out of 4958347 => 95% missing\n",
      "prop_review_score missing count 240658 out of 4958347 => 5% missing\n",
      "prop_location_score2 missing count 1090348 out of 4958347 => 22% missing\n",
      "prop_log_historical_price missing count 713899 out of 4958347 => 14% missing\n",
      "price_usd missing count 31 out of 4958347 => 0% missing\n",
      "srch_query_affinity_score missing count 4640941 out of 4958347 => 94% missing\n",
      "prop_starrating_w0 missing count 169572 out of 4958347 => 3% missing\n",
      "hist_starrating_diff missing count 4706481 out of 4958347 => 95% missing\n",
      "price_hist_logdiff missing count 713927 out of 4958347 => 14% missing\n",
      "visitor_hist_adr_usd_logdiff missing count 4705398 out of 4958347 => 95% missing\n",
      "price_usd_d_srch_id missing count 31 out of 4958347 => 0% missing\n",
      "prop_starrating_w0_std_srch_destination_id missing count 230 out of 4958347 => 0% missing\n",
      "prop_starrating_w0_med_srch_destination_id missing count 98 out of 4958347 => 0% missing\n",
      "prop_starrating_w0_d_srch_destination_id missing count 169572 out of 4958347 => 3% missing\n",
      "prop_starrating_w0_std_srch_id missing count 1528 out of 4958347 => 0% missing\n",
      "prop_starrating_w0_med_srch_id missing count 527 out of 4958347 => 0% missing\n",
      "prop_starrating_w0_d_srch_id missing count 169572 out of 4958347 => 3% missing\n",
      "prop_review_score_std_srch_destination_id missing count 440 out of 4958347 => 0% missing\n",
      "prop_review_score_med_srch_destination_id missing count 164 out of 4958347 => 0% missing\n",
      "prop_review_score_d_srch_destination_id missing count 240658 out of 4958347 => 5% missing\n",
      "prop_review_score_std_srch_destination_id__prop_starrating missing count 16893 out of 4958347 => 0% missing\n",
      "prop_review_score_med_srch_destination_id__prop_starrating missing count 9091 out of 4958347 => 0% missing\n",
      "prop_review_score_d_srch_destination_id__prop_starrating missing count 240658 out of 4958347 => 5% missing\n",
      "prop_review_score_std_srch_id missing count 1156 out of 4958347 => 0% missing\n",
      "prop_review_score_med_srch_id missing count 270 out of 4958347 => 0% missing\n",
      "prop_review_score_d_srch_id missing count 240658 out of 4958347 => 5% missing\n",
      "prop_location_score1_std_srch_destination_id__prop_starrating missing count 4594 out of 4958347 => 0% missing\n",
      "prop_location_score2_std_srch_destination_id missing count 86447 out of 4958347 => 2% missing\n",
      "prop_location_score2_med_srch_destination_id missing count 62112 out of 4958347 => 1% missing\n",
      "prop_location_score2_d_srch_destination_id missing count 1090348 out of 4958347 => 22% missing\n",
      "prop_location_score2_std_srch_destination_id__prop_starrating missing count 256380 out of 4958347 => 5% missing\n",
      "prop_location_score2_med_srch_destination_id__prop_starrating missing count 229179 out of 4958347 => 5% missing\n",
      "prop_location_score2_d_srch_destination_id__prop_starrating missing count 1090348 out of 4958347 => 22% missing\n",
      "prop_location_score2_std_srch_id missing count 187573 out of 4958347 => 4% missing\n",
      "prop_location_score2_med_srch_id missing count 92272 out of 4958347 => 2% missing\n",
      "prop_location_score2_d_srch_id missing count 1090348 out of 4958347 => 22% missing\n",
      "price_usd_std_srch_id__prop_starrating missing count 102347 out of 4958347 => 2% missing\n",
      "price_usd_med_srch_id__prop_starrating missing count 12 out of 4958347 => 0% missing\n",
      "price_usd_d_srch_id__prop_starrating missing count 31 out of 4958347 => 0% missing\n",
      "price_hist_logdiff_std_srch_id missing count 697781 out of 4958347 => 14% missing\n",
      "price_hist_logdiff_med_srch_id missing count 697745 out of 4958347 => 14% missing\n",
      "price_hist_logdiff_d_srch_id missing count 713927 out of 4958347 => 14% missing\n",
      "visitor_hist_adr_usd_logdiff_d_srch_id missing count 4705398 out of 4958347 => 95% missing\n",
      "srch_query_affinity_score_std_srch_id missing count 4614842 out of 4958347 => 93% missing\n",
      "srch_query_affinity_score_d_srch_id missing count 4640941 out of 4958347 => 94% missing\n",
      "srch_res_count_std_prop_id missing count 4376 out of 4958347 => 0% missing\n",
      "srch_res_count_z_prop_id missing count 6836 out of 4958347 => 0% missing\n",
      "price_usd_rank missing count 31 out of 4958347 => 0% missing\n",
      "tg_avg_position_srch_prop_id missing count 331108 out of 4958347 => 7% missing\n",
      "tg_std_position_srch_prop_id missing count 503287 out of 4958347 => 10% missing\n",
      "log_appearance_count_srch_prop_id missing count 331108 out of 4958347 => 7% missing\n",
      "tg_avg_position_prop_id missing count 26954 out of 4958347 => 1% missing\n",
      "tg_std_position_prop_id missing count 57616 out of 4958347 => 1% missing\n",
      "log_appearance_count_prop_id missing count 26954 out of 4958347 => 1% missing\n"
     ]
    }
   ],
   "source": [
    "df_train.fillna(np.NaN, inplace=True)\n",
    "\n",
    "for col in df_train.columns:\n",
    "    print_missing(df_train, col)"
   ]
  },
  {
   "cell_type": "code",
   "execution_count": 39,
   "metadata": {
    "is_executing": true
   },
   "outputs": [
    {
     "name": "stderr",
     "output_type": "stream",
     "text": [
      "/home/robert/miniconda3/envs/dmt_expedia/lib/python3.11/site-packages/lightgbm/basic.py:2065: UserWarning: Using categorical_feature in Dataset.\n",
      "  _log_warning('Using categorical_feature in Dataset.')\n",
      "/home/robert/miniconda3/envs/dmt_expedia/lib/python3.11/site-packages/lightgbm/basic.py:2068: UserWarning: categorical_feature in Dataset is overridden.\n",
      "New categorical_feature is [0, 5, 9, 15]\n",
      "  _log_warning('categorical_feature in Dataset is overridden.\\n'\n"
     ]
    },
    {
     "name": "stdout",
     "output_type": "stream",
     "text": [
      "[LightGBM] [Warning] Unknown parameter: max_position\n",
      "[LightGBM] [Warning] lambda_l2 is set=0.001, reg_lambda=0.0 will be ignored. Current value: lambda_l2=0.001\n",
      "[LightGBM] [Warning] boosting is set=goss, boosting_type=gbdt will be ignored. Current value: boosting=goss\n",
      "[LightGBM] [Warning] min_data_in_leaf is set=60, min_child_samples=20 will be ignored. Current value: min_data_in_leaf=60\n",
      "[LightGBM] [Warning] num_threads is set=24, n_jobs=-1 will be ignored. Current value: num_threads=24\n"
     ]
    },
    {
     "name": "stderr",
     "output_type": "stream",
     "text": [
      "/home/robert/miniconda3/envs/dmt_expedia/lib/python3.11/site-packages/lightgbm/basic.py:1780: UserWarning: Overriding the parameters from Reference Dataset.\n",
      "  _log_warning('Overriding the parameters from Reference Dataset.')\n",
      "/home/robert/miniconda3/envs/dmt_expedia/lib/python3.11/site-packages/lightgbm/basic.py:1513: UserWarning: categorical_column in param dict is overridden.\n",
      "  _log_warning(f'{cat_alias} in param dict is overridden.')\n"
     ]
    },
    {
     "name": "stdout",
     "output_type": "stream",
     "text": [
      "Training until validation scores don't improve for 350 rounds\n",
      "[20]\ttraining's ndcg@5: 0.390848\tvalid_1's ndcg@5: 0.384895\n",
      "[40]\ttraining's ndcg@5: 0.400279\tvalid_1's ndcg@5: 0.392683\n",
      "[60]\ttraining's ndcg@5: 0.406248\tvalid_1's ndcg@5: 0.397981\n",
      "[80]\ttraining's ndcg@5: 0.410201\tvalid_1's ndcg@5: 0.400702\n",
      "[100]\ttraining's ndcg@5: 0.413651\tvalid_1's ndcg@5: 0.402651\n",
      "[120]\ttraining's ndcg@5: 0.416785\tvalid_1's ndcg@5: 0.404082\n",
      "[140]\ttraining's ndcg@5: 0.419265\tvalid_1's ndcg@5: 0.405395\n",
      "[160]\ttraining's ndcg@5: 0.421852\tvalid_1's ndcg@5: 0.406868\n",
      "[180]\ttraining's ndcg@5: 0.424103\tvalid_1's ndcg@5: 0.407369\n",
      "[200]\ttraining's ndcg@5: 0.42608\tvalid_1's ndcg@5: 0.408289\n",
      "[220]\ttraining's ndcg@5: 0.428128\tvalid_1's ndcg@5: 0.408684\n",
      "[240]\ttraining's ndcg@5: 0.430133\tvalid_1's ndcg@5: 0.409093\n",
      "[260]\ttraining's ndcg@5: 0.432157\tvalid_1's ndcg@5: 0.409684\n",
      "[280]\ttraining's ndcg@5: 0.433626\tvalid_1's ndcg@5: 0.409977\n",
      "[300]\ttraining's ndcg@5: 0.435655\tvalid_1's ndcg@5: 0.410386\n",
      "[320]\ttraining's ndcg@5: 0.437467\tvalid_1's ndcg@5: 0.410955\n",
      "[340]\ttraining's ndcg@5: 0.439317\tvalid_1's ndcg@5: 0.411149\n",
      "[360]\ttraining's ndcg@5: 0.440901\tvalid_1's ndcg@5: 0.411206\n",
      "[380]\ttraining's ndcg@5: 0.442602\tvalid_1's ndcg@5: 0.411579\n",
      "[400]\ttraining's ndcg@5: 0.444207\tvalid_1's ndcg@5: 0.411807\n",
      "[420]\ttraining's ndcg@5: 0.44572\tvalid_1's ndcg@5: 0.411899\n",
      "[440]\ttraining's ndcg@5: 0.447227\tvalid_1's ndcg@5: 0.412189\n",
      "[460]\ttraining's ndcg@5: 0.448518\tvalid_1's ndcg@5: 0.41245\n",
      "[480]\ttraining's ndcg@5: 0.450325\tvalid_1's ndcg@5: 0.412437\n",
      "[500]\ttraining's ndcg@5: 0.451704\tvalid_1's ndcg@5: 0.412653\n",
      "[520]\ttraining's ndcg@5: 0.453139\tvalid_1's ndcg@5: 0.41291\n",
      "[540]\ttraining's ndcg@5: 0.454616\tvalid_1's ndcg@5: 0.413085\n",
      "[560]\ttraining's ndcg@5: 0.456159\tvalid_1's ndcg@5: 0.413084\n",
      "[580]\ttraining's ndcg@5: 0.457497\tvalid_1's ndcg@5: 0.413314\n",
      "[600]\ttraining's ndcg@5: 0.458955\tvalid_1's ndcg@5: 0.413282\n",
      "[620]\ttraining's ndcg@5: 0.460361\tvalid_1's ndcg@5: 0.413405\n",
      "[640]\ttraining's ndcg@5: 0.461682\tvalid_1's ndcg@5: 0.413443\n",
      "[660]\ttraining's ndcg@5: 0.46304\tvalid_1's ndcg@5: 0.413437\n",
      "[680]\ttraining's ndcg@5: 0.464316\tvalid_1's ndcg@5: 0.413646\n",
      "[700]\ttraining's ndcg@5: 0.465545\tvalid_1's ndcg@5: 0.413685\n",
      "[720]\ttraining's ndcg@5: 0.466936\tvalid_1's ndcg@5: 0.413976\n",
      "[740]\ttraining's ndcg@5: 0.468218\tvalid_1's ndcg@5: 0.413808\n",
      "[760]\ttraining's ndcg@5: 0.469633\tvalid_1's ndcg@5: 0.41375\n",
      "[780]\ttraining's ndcg@5: 0.470776\tvalid_1's ndcg@5: 0.413783\n",
      "[800]\ttraining's ndcg@5: 0.472306\tvalid_1's ndcg@5: 0.414103\n",
      "[820]\ttraining's ndcg@5: 0.473353\tvalid_1's ndcg@5: 0.414119\n",
      "[840]\ttraining's ndcg@5: 0.474598\tvalid_1's ndcg@5: 0.414061\n",
      "[860]\ttraining's ndcg@5: 0.475947\tvalid_1's ndcg@5: 0.414212\n",
      "[880]\ttraining's ndcg@5: 0.476998\tvalid_1's ndcg@5: 0.414364\n",
      "[900]\ttraining's ndcg@5: 0.478233\tvalid_1's ndcg@5: 0.414218\n",
      "[920]\ttraining's ndcg@5: 0.479402\tvalid_1's ndcg@5: 0.414227\n",
      "[940]\ttraining's ndcg@5: 0.480577\tvalid_1's ndcg@5: 0.414296\n",
      "[960]\ttraining's ndcg@5: 0.481758\tvalid_1's ndcg@5: 0.414336\n",
      "[980]\ttraining's ndcg@5: 0.482996\tvalid_1's ndcg@5: 0.414307\n",
      "[1000]\ttraining's ndcg@5: 0.484081\tvalid_1's ndcg@5: 0.414424\n",
      "[1020]\ttraining's ndcg@5: 0.485247\tvalid_1's ndcg@5: 0.414531\n",
      "[1040]\ttraining's ndcg@5: 0.486471\tvalid_1's ndcg@5: 0.414566\n",
      "[1060]\ttraining's ndcg@5: 0.487576\tvalid_1's ndcg@5: 0.414526\n",
      "[1080]\ttraining's ndcg@5: 0.488574\tvalid_1's ndcg@5: 0.41456\n",
      "[1100]\ttraining's ndcg@5: 0.489797\tvalid_1's ndcg@5: 0.414452\n",
      "[1120]\ttraining's ndcg@5: 0.49095\tvalid_1's ndcg@5: 0.414532\n",
      "[1140]\ttraining's ndcg@5: 0.492114\tvalid_1's ndcg@5: 0.414532\n",
      "[1160]\ttraining's ndcg@5: 0.493352\tvalid_1's ndcg@5: 0.414441\n",
      "[1180]\ttraining's ndcg@5: 0.494519\tvalid_1's ndcg@5: 0.414633\n",
      "[1200]\ttraining's ndcg@5: 0.495739\tvalid_1's ndcg@5: 0.41462\n",
      "[1220]\ttraining's ndcg@5: 0.496748\tvalid_1's ndcg@5: 0.414897\n",
      "[1240]\ttraining's ndcg@5: 0.497748\tvalid_1's ndcg@5: 0.414921\n",
      "[1260]\ttraining's ndcg@5: 0.498721\tvalid_1's ndcg@5: 0.414858\n",
      "[1280]\ttraining's ndcg@5: 0.499892\tvalid_1's ndcg@5: 0.414743\n",
      "[1300]\ttraining's ndcg@5: 0.500969\tvalid_1's ndcg@5: 0.414788\n",
      "[1320]\ttraining's ndcg@5: 0.502057\tvalid_1's ndcg@5: 0.414664\n",
      "[1340]\ttraining's ndcg@5: 0.503179\tvalid_1's ndcg@5: 0.414609\n",
      "[1360]\ttraining's ndcg@5: 0.504223\tvalid_1's ndcg@5: 0.414653\n",
      "[1380]\ttraining's ndcg@5: 0.505338\tvalid_1's ndcg@5: 0.41466\n",
      "[1400]\ttraining's ndcg@5: 0.506505\tvalid_1's ndcg@5: 0.41458\n",
      "[1420]\ttraining's ndcg@5: 0.507525\tvalid_1's ndcg@5: 0.414517\n",
      "[1440]\ttraining's ndcg@5: 0.508616\tvalid_1's ndcg@5: 0.414672\n",
      "[1460]\ttraining's ndcg@5: 0.509651\tvalid_1's ndcg@5: 0.414594\n",
      "[1480]\ttraining's ndcg@5: 0.510804\tvalid_1's ndcg@5: 0.414564\n",
      "[1500]\ttraining's ndcg@5: 0.511829\tvalid_1's ndcg@5: 0.41458\n",
      "[1520]\ttraining's ndcg@5: 0.51286\tvalid_1's ndcg@5: 0.414514\n",
      "[1540]\ttraining's ndcg@5: 0.513987\tvalid_1's ndcg@5: 0.414482\n",
      "[1560]\ttraining's ndcg@5: 0.515076\tvalid_1's ndcg@5: 0.414397\n",
      "[1580]\ttraining's ndcg@5: 0.51624\tvalid_1's ndcg@5: 0.414544\n",
      "Early stopping, best iteration is:\n",
      "[1232]\ttraining's ndcg@5: 0.497285\tvalid_1's ndcg@5: 0.414972\n",
      "Evaluated only: ndcg@5\n"
     ]
    },
    {
     "data": {
      "text/html": [
       "<style>#sk-container-id-1 {color: black;background-color: white;}#sk-container-id-1 pre{padding: 0;}#sk-container-id-1 div.sk-toggleable {background-color: white;}#sk-container-id-1 label.sk-toggleable__label {cursor: pointer;display: block;width: 100%;margin-bottom: 0;padding: 0.3em;box-sizing: border-box;text-align: center;}#sk-container-id-1 label.sk-toggleable__label-arrow:before {content: \"▸\";float: left;margin-right: 0.25em;color: #696969;}#sk-container-id-1 label.sk-toggleable__label-arrow:hover:before {color: black;}#sk-container-id-1 div.sk-estimator:hover label.sk-toggleable__label-arrow:before {color: black;}#sk-container-id-1 div.sk-toggleable__content {max-height: 0;max-width: 0;overflow: hidden;text-align: left;background-color: #f0f8ff;}#sk-container-id-1 div.sk-toggleable__content pre {margin: 0.2em;color: black;border-radius: 0.25em;background-color: #f0f8ff;}#sk-container-id-1 input.sk-toggleable__control:checked~div.sk-toggleable__content {max-height: 200px;max-width: 100%;overflow: auto;}#sk-container-id-1 input.sk-toggleable__control:checked~label.sk-toggleable__label-arrow:before {content: \"▾\";}#sk-container-id-1 div.sk-estimator input.sk-toggleable__control:checked~label.sk-toggleable__label {background-color: #d4ebff;}#sk-container-id-1 div.sk-label input.sk-toggleable__control:checked~label.sk-toggleable__label {background-color: #d4ebff;}#sk-container-id-1 input.sk-hidden--visually {border: 0;clip: rect(1px 1px 1px 1px);clip: rect(1px, 1px, 1px, 1px);height: 1px;margin: -1px;overflow: hidden;padding: 0;position: absolute;width: 1px;}#sk-container-id-1 div.sk-estimator {font-family: monospace;background-color: #f0f8ff;border: 1px dotted black;border-radius: 0.25em;box-sizing: border-box;margin-bottom: 0.5em;}#sk-container-id-1 div.sk-estimator:hover {background-color: #d4ebff;}#sk-container-id-1 div.sk-parallel-item::after {content: \"\";width: 100%;border-bottom: 1px solid gray;flex-grow: 1;}#sk-container-id-1 div.sk-label:hover label.sk-toggleable__label {background-color: #d4ebff;}#sk-container-id-1 div.sk-serial::before {content: \"\";position: absolute;border-left: 1px solid gray;box-sizing: border-box;top: 0;bottom: 0;left: 50%;z-index: 0;}#sk-container-id-1 div.sk-serial {display: flex;flex-direction: column;align-items: center;background-color: white;padding-right: 0.2em;padding-left: 0.2em;position: relative;}#sk-container-id-1 div.sk-item {position: relative;z-index: 1;}#sk-container-id-1 div.sk-parallel {display: flex;align-items: stretch;justify-content: center;background-color: white;position: relative;}#sk-container-id-1 div.sk-item::before, #sk-container-id-1 div.sk-parallel-item::before {content: \"\";position: absolute;border-left: 1px solid gray;box-sizing: border-box;top: 0;bottom: 0;left: 50%;z-index: -1;}#sk-container-id-1 div.sk-parallel-item {display: flex;flex-direction: column;z-index: 1;position: relative;background-color: white;}#sk-container-id-1 div.sk-parallel-item:first-child::after {align-self: flex-end;width: 50%;}#sk-container-id-1 div.sk-parallel-item:last-child::after {align-self: flex-start;width: 50%;}#sk-container-id-1 div.sk-parallel-item:only-child::after {width: 0;}#sk-container-id-1 div.sk-dashed-wrapped {border: 1px dashed gray;margin: 0 0.4em 0.5em 0.4em;box-sizing: border-box;padding-bottom: 0.4em;background-color: white;}#sk-container-id-1 div.sk-label label {font-family: monospace;font-weight: bold;display: inline-block;line-height: 1.2em;}#sk-container-id-1 div.sk-label-container {text-align: center;}#sk-container-id-1 div.sk-container {/* jupyter's `normalize.less` sets `[hidden] { display: none; }` but bootstrap.min.css set `[hidden] { display: none !important; }` so we also need the `!important` here to be able to override the default hidden behavior on the sphinx rendered scikit-learn.org. See: https://github.com/scikit-learn/scikit-learn/issues/21755 */display: inline-block !important;position: relative;}#sk-container-id-1 div.sk-text-repr-fallback {display: none;}</style><div id=\"sk-container-id-1\" class=\"sk-top-container\"><div class=\"sk-text-repr-fallback\"><pre>LGBMRanker(boosting=&#x27;goss&#x27;, deterministic=True, label_gain=[0, 1, 5],\n",
       "           lambda_l2=0.001, lambdarank_truncation_level=11, max_depth=6,\n",
       "           max_position=5, metric=&#x27;ndcg&#x27;, min_data_in_leaf=60,\n",
       "           n_estimators=16000, num_threads=24, objective=&#x27;lambdarank&#x27;,\n",
       "           random_state=42, subsample_for_bin=400000)</pre><b>In a Jupyter environment, please rerun this cell to show the HTML representation or trust the notebook. <br />On GitHub, the HTML representation is unable to render, please try loading this page with nbviewer.org.</b></div><div class=\"sk-container\" hidden><div class=\"sk-item\"><div class=\"sk-estimator sk-toggleable\"><input class=\"sk-toggleable__control sk-hidden--visually\" id=\"sk-estimator-id-1\" type=\"checkbox\" checked><label for=\"sk-estimator-id-1\" class=\"sk-toggleable__label sk-toggleable__label-arrow\">LGBMRanker</label><div class=\"sk-toggleable__content\"><pre>LGBMRanker(boosting=&#x27;goss&#x27;, deterministic=True, label_gain=[0, 1, 5],\n",
       "           lambda_l2=0.001, lambdarank_truncation_level=11, max_depth=6,\n",
       "           max_position=5, metric=&#x27;ndcg&#x27;, min_data_in_leaf=60,\n",
       "           n_estimators=16000, num_threads=24, objective=&#x27;lambdarank&#x27;,\n",
       "           random_state=42, subsample_for_bin=400000)</pre></div></div></div></div></div>"
      ],
      "text/plain": [
       "LGBMRanker(boosting='goss', deterministic=True, label_gain=[0, 1, 5],\n",
       "           lambda_l2=0.001, lambdarank_truncation_level=11, max_depth=6,\n",
       "           max_position=5, metric='ndcg', min_data_in_leaf=60,\n",
       "           n_estimators=16000, num_threads=24, objective='lambdarank',\n",
       "           random_state=42, subsample_for_bin=400000)"
      ]
     },
     "execution_count": 39,
     "metadata": {},
     "output_type": "execute_result"
    }
   ],
   "source": [
    "gc.collect()\n",
    "\n",
    "columns_to_keep = [\n",
    "    # 'prop_id',\n",
    "    # 'srch_destination_id',\n",
    "    # 'prop_srch_dest_id',\n",
    "    # 'srch_id',\n",
    "\n",
    "    'site_id',\n",
    "    #'visitor_location_country_id',\n",
    "    'visitor_hist_starrating',\n",
    "    #'visitor_hist_adr_usd',\n",
    "    'prop_country_id',\n",
    "    'prop_starrating',\n",
    "    'prop_review_score',\n",
    "    'prop_brand_bool',\n",
    "    'prop_location_score1',\n",
    "    'prop_location_score2',\n",
    "    'prop_log_historical_price',\n",
    "    # 'position',\n",
    "    #'price_usd',\n",
    "    'price_usd_rank',\n",
    "    'promotion_flag',\n",
    "    'srch_length_of_stay',\n",
    "    'srch_booking_window',\n",
    "    'srch_adults_count',\n",
    "    'srch_children_count',\n",
    "    #'srch_room_count',\n",
    "    #'srch_saturday_night_bool',\n",
    "    'srch_query_affinity_score',\n",
    "    'random_bool',\n",
    "    \n",
    "    #'couple_bool',\n",
    "    \n",
    "    # 'click_bool',\n",
    "    # 'booking_bool',\n",
    "    # 'prop_starrating_w0',\n",
    "    # 'booking_week',\n",
    "    # 'booking_month',\n",
    "    # 'booking_dayofyear',\n",
    "    # 'booking_dayofweek',\n",
    "    'midstay_week',\n",
    "    #'midstay_month',\n",
    "    # 'midstay_dayofyear',\n",
    "    'midstay_dayofweek',\n",
    "    'hist_starrating_diff',\n",
    "    'price_hist_logdiff',\n",
    "    'visitor_hist_adr_usd_logdiff',\n",
    "    # 'same_country',\n",
    "\n",
    "    #'srch_res_count',\n",
    "    'prop_count_per_srch_dest',\n",
    "    'srch_dest_count_per_prop',\n",
    "\n",
    "    'price_usd_std_srch_id',\n",
    "    'price_usd_med_srch_id',\n",
    "    'price_usd_d_srch_id',\n",
    "    # 'price_usd_std_srch_id__prop_starrating',\n",
    "    # 'price_usd_med_srch_id__prop_starrating',\n",
    "    'price_usd_d_srch_id__prop_starrating',\n",
    "    # 'price_hist_logdiff_std_srch_id',\n",
    "    # 'price_hist_logdiff_med_srch_id',\n",
    "    'price_hist_logdiff_d_srch_id',\n",
    "    'visitor_hist_adr_usd_logdiff_d_srch_id',\n",
    "\n",
    "    'comp_known_cnt',\n",
    "    'comp_better_worse',\n",
    "    # 'comp_rate_sum',\n",
    "\n",
    "    'prop_starrating_w0_std_srch_destination_id',\n",
    "    #'prop_starrating_w0_med_srch_destination_id',\n",
    "    'prop_starrating_w0_d_srch_destination_id',\n",
    "    'prop_starrating_w0_std_srch_id',\n",
    "    #'prop_starrating_w0_med_srch_id',\n",
    "    'prop_starrating_w0_d_srch_id',\n",
    "    #\n",
    "    'prop_review_score_std_srch_destination_id',\n",
    "    #'prop_review_score_med_srch_destination_id',\n",
    "    'prop_review_score_d_srch_destination_id',\n",
    "    # 'prop_review_score_std_srch_destination_id__prop_starrating',\n",
    "    # 'prop_review_score_med_srch_destination_id__prop_starrating',\n",
    "    # 'prop_review_score_d_srch_destination_id__prop_starrating',\n",
    "    'prop_review_score_std_srch_id',\n",
    "    #'prop_review_score_med_srch_id',\n",
    "    'prop_review_score_d_srch_id',\n",
    "    #\n",
    "    'prop_location_score1_std_srch_destination_id',\n",
    "    #'prop_location_score1_med_srch_destination_id',\n",
    "    'prop_location_score1_d_srch_destination_id',\n",
    "    'prop_location_score1_std_srch_destination_id__prop_starrating',\n",
    "    'prop_location_score1_med_srch_destination_id__prop_starrating',\n",
    "    'prop_location_score1_d_srch_destination_id__prop_starrating',\n",
    "    'prop_location_score1_std_srch_id',\n",
    "    #'prop_location_score1_med_srch_id',\n",
    "    'prop_location_score1_d_srch_id',\n",
    "    #\n",
    "    #'prop_location_score2_std_srch_destination_id',\n",
    "    #'prop_location_score2_med_srch_destination_id',\n",
    "    'prop_location_score2_d_srch_destination_id',\n",
    "    # 'prop_location_score2_std_srch_destination_id__prop_starrating',\n",
    "    #'prop_location_score2_med_srch_destination_id__prop_starrating',\n",
    "    'prop_location_score2_d_srch_destination_id__prop_starrating',\n",
    "    'prop_location_score2_std_srch_id',\n",
    "    #'prop_location_score2_med_srch_id',\n",
    "    'prop_location_score2_d_srch_id',\n",
    "    #\n",
    "    # 'srch_query_affinity_score_std_srch_id',\n",
    "    'srch_query_affinity_score_d_srch_id',\n",
    "    # 'srch_res_count_med_prop_id',\n",
    "    # 'srch_res_count_std_prop_id',\n",
    "    # 'srch_res_count_z_prop_id',\n",
    "    #\n",
    "    # 'target_cls',\n",
    "    # 'relevance_score',\n",
    "    #\n",
    "    #'tg_click_prob_srch_prop_id',\n",
    "    #'tg_avg_position_srch_prop_id_rank',\n",
    "    'tg_std_position_srch_prop_id',\n",
    "    'tg_avg_position_srch_prop_id',\n",
    "    'log_appearance_count_srch_prop_id',\n",
    "    'avg_res_len_srch_prop_id',\n",
    "    #'tg_click_prob_prop_id',\n",
    "    #'tg_avg_position_prop_id_rank',\n",
    "    #'tg_std_position_prop_id',\n",
    "    'tg_avg_position_prop_id',\n",
    "    'log_appearance_count_prop_id',\n",
    "    'avg_res_len_prop_id',\n",
    "    ]\n",
    "predictor_cols = [c for c in df_train.columns if ((c not in ('position', 'booking_bool', 'click_bool', 'target_cls', 'relevance_score', 'is_test')) and (c in columns_to_keep))]"
   ]
  },
  {
   "cell_type": "code",
   "execution_count": 53,
   "metadata": {},
   "outputs": [],
   "source": [
    "df_train[predictor_cols + ['srch_id', 'prop_id', 'prop_srch_dest_id', 'click_bool', 'booking_bool']].to_csv('data/final_features_train.csv.zip')"
   ]
  },
  {
   "cell_type": "code",
   "execution_count": 52,
   "metadata": {},
   "outputs": [],
   "source": [
    "df_test[predictor_cols + ['srch_id', 'prop_id', 'prop_srch_dest_id']].to_csv('data/final_features_test.csv.zip')"
   ]
  }
 ],
 "metadata": {
  "kernelspec": {
   "display_name": "Python 3 (ipykernel)",
   "language": "python",
   "name": "python3"
  },
  "language_info": {
   "codemirror_mode": {
    "name": "ipython",
    "version": 3
   },
   "file_extension": ".py",
   "mimetype": "text/x-python",
   "name": "python",
   "nbconvert_exporter": "python",
   "pygments_lexer": "ipython3",
   "version": "3.11.3"
  }
 },
 "nbformat": 4,
 "nbformat_minor": 4
}
