{
 "cells": [
  {
   "cell_type": "code",
   "execution_count": 1,
   "metadata": {
    "ExecuteTime": {
     "end_time": "2023-05-24T15:12:05.340436937Z",
     "start_time": "2023-05-24T15:12:04.356178113Z"
    }
   },
   "outputs": [],
   "source": [
    "import pandas as pd\n",
    "import numpy as np\n",
    "import seaborn as sns\n",
    "from matplotlib import pyplot as plt"
   ]
  },
  {
   "cell_type": "code",
   "execution_count": 2,
   "metadata": {
    "ExecuteTime": {
     "end_time": "2023-05-24T15:12:05.344877717Z",
     "start_time": "2023-05-24T15:12:04.398284701Z"
    }
   },
   "outputs": [],
   "source": [
    "# set the number of diplayed columns in jupyter notebook to 100\n",
    "pd.set_option('display.max_columns', 100)"
   ]
  },
  {
   "cell_type": "code",
   "execution_count": 3,
   "metadata": {
    "ExecuteTime": {
     "end_time": "2023-05-24T15:12:21.519153404Z",
     "start_time": "2023-05-24T15:12:04.398361038Z"
    }
   },
   "outputs": [],
   "source": [
    "df_train = pd.read_csv('data/training_set_VU_DM.csv')\n",
    "df_train['is_test'] = False\n",
    "df_test = pd.read_csv('data/test_set_VU_DM.csv')\n",
    "#df_test = pd.read_csv('data/test_revealed.csv')\n",
    "df_test['is_test'] = True"
   ]
  },
  {
   "cell_type": "code",
   "execution_count": 4,
   "metadata": {
    "ExecuteTime": {
     "end_time": "2023-05-24T15:12:21.594754272Z",
     "start_time": "2023-05-24T15:12:21.520324439Z"
    }
   },
   "outputs": [],
   "source": [
    "# There is no correspondence between the srch_id's of the train and test sets, so we need to make them unique for further aggregation purposes\n",
    "TEST_SRCH_ID_OFFSET = df_train.srch_id.max()\n",
    "df_test['srch_id'] += TEST_SRCH_ID_OFFSET\n",
    "assert len(set(df_test.srch_id.unique()).intersection(set(df_train.srch_id.unique()))) == 0"
   ]
  },
  {
   "cell_type": "code",
   "execution_count": 5,
   "metadata": {
    "ExecuteTime": {
     "end_time": "2023-05-24T15:12:22.235848629Z",
     "start_time": "2023-05-24T15:12:21.599850767Z"
    }
   },
   "outputs": [
    {
     "data": {
      "text/plain": "(9917530, 55)"
     },
     "execution_count": 5,
     "metadata": {},
     "output_type": "execute_result"
    }
   ],
   "source": [
    "df_joined = pd.concat([df_train, df_test], axis=0, ignore_index=True)\n",
    "df_joined.shape"
   ]
  },
  {
   "cell_type": "code",
   "execution_count": 6,
   "metadata": {
    "ExecuteTime": {
     "end_time": "2023-05-24T15:12:22.294594822Z",
     "start_time": "2023-05-24T15:12:22.275041030Z"
    }
   },
   "outputs": [
    {
     "data": {
      "text/plain": "0"
     },
     "execution_count": 6,
     "metadata": {},
     "output_type": "execute_result"
    }
   ],
   "source": [
    "\n",
    "#del df_train, df_test\n",
    "# call the garbage collector to free up memory\n",
    "import gc\n",
    "gc.collect()"
   ]
  },
  {
   "cell_type": "code",
   "execution_count": 7,
   "metadata": {
    "ExecuteTime": {
     "end_time": "2023-05-24T15:12:23.628306487Z",
     "start_time": "2023-05-24T15:12:22.278777786Z"
    }
   },
   "outputs": [
    {
     "data": {
      "text/plain": "0"
     },
     "execution_count": 7,
     "metadata": {},
     "output_type": "execute_result"
    }
   ],
   "source": [
    "df = df_joined.copy()\n",
    "gc.collect()"
   ]
  },
  {
   "cell_type": "markdown",
   "metadata": {},
   "source": [
    "# NAs"
   ]
  },
  {
   "cell_type": "code",
   "execution_count": 8,
   "metadata": {
    "ExecuteTime": {
     "end_time": "2023-05-24T15:12:23.971735772Z",
     "start_time": "2023-05-24T15:12:23.622586066Z"
    }
   },
   "outputs": [
    {
     "name": "stdout",
     "output_type": "stream",
     "text": [
      "visitor_hist_starrating missing count 9412233 out of 9917530 => 95% missing\n",
      "visitor_hist_adr_usd missing count 9409918 out of 9917530 => 95% missing\n",
      "prop_review_score missing count 14630 out of 9917530 => 0% missing\n",
      "prop_location_score2 missing count 2178380 out of 9917530 => 22% missing\n",
      "position missing count 4959183 out of 9917530 => 50% missing\n",
      "srch_query_affinity_score missing count 9281966 out of 9917530 => 94% missing\n",
      "orig_destination_distance missing count 3216461 out of 9917530 => 32% missing\n",
      "click_bool missing count 4959183 out of 9917530 => 50% missing\n",
      "gross_bookings_usd missing count 9779140 out of 9917530 => 99% missing\n",
      "booking_bool missing count 4959183 out of 9917530 => 50% missing\n"
     ]
    }
   ],
   "source": [
    "def print_missing(df, col):\n",
    "    miss_cnt = df[col].isna().sum()\n",
    "    total_cnt = len(df[col])\n",
    "    perc_miss = 100 * miss_cnt / total_cnt\n",
    "    print(f'{col} missing count {miss_cnt} out of {total_cnt} => {round(perc_miss)}% missing')\n",
    "\n",
    "for col in [c for c in df.columns if df[c].isna().any() and not c.startswith('comp')]:\n",
    "    print_missing(df, col)"
   ]
  },
  {
   "cell_type": "code",
   "execution_count": 9,
   "metadata": {
    "ExecuteTime": {
     "end_time": "2023-05-24T15:12:24.027949892Z",
     "start_time": "2023-05-24T15:12:23.966381247Z"
    }
   },
   "outputs": [],
   "source": [
    "# zero have special meaning, we don't want this value to interfere with various calculations, we will deal with NAs in derived values later\n",
    "df['prop_starrating_w0'] = df['prop_starrating'].copy()\n",
    "df.loc[df.prop_starrating_w0==0, 'prop_starrating_w0'] = pd.NA\n",
    "df.loc[df.prop_review_score==0, 'prop_review_score'] = pd.NA"
   ]
  },
  {
   "cell_type": "code",
   "execution_count": 10,
   "metadata": {
    "ExecuteTime": {
     "end_time": "2023-05-24T15:12:24.399009050Z",
     "start_time": "2023-05-24T15:12:24.024529693Z"
    }
   },
   "outputs": [
    {
     "name": "stdout",
     "output_type": "stream",
     "text": [
      "visitor_hist_starrating missing count 9412233 out of 9917530 => 95% missing\n",
      "visitor_hist_adr_usd missing count 9409918 out of 9917530 => 95% missing\n",
      "prop_review_score missing count 482116 out of 9917530 => 5% missing\n",
      "prop_location_score2 missing count 2178380 out of 9917530 => 22% missing\n",
      "position missing count 4959183 out of 9917530 => 50% missing\n",
      "srch_query_affinity_score missing count 9281966 out of 9917530 => 94% missing\n",
      "orig_destination_distance missing count 3216461 out of 9917530 => 32% missing\n",
      "click_bool missing count 4959183 out of 9917530 => 50% missing\n",
      "gross_bookings_usd missing count 9779140 out of 9917530 => 99% missing\n",
      "booking_bool missing count 4959183 out of 9917530 => 50% missing\n",
      "prop_starrating_w0 missing count 337794 out of 9917530 => 3% missing\n"
     ]
    }
   ],
   "source": [
    "for col in [c for c in df.columns if df[c].isna().any() and not c.startswith('comp')]:\n",
    "    print_missing(df, col)\n",
    "\n",
    "# prop_starrating missing count 337794 out of 9917530 => 3% missing\n",
    "# prop_review_score missing count 482116 out of 9917530 => 5% missing"
   ]
  },
  {
   "cell_type": "markdown",
   "metadata": {},
   "source": [
    "# Reducing number of columns"
   ]
  },
  {
   "cell_type": "code",
   "execution_count": 11,
   "metadata": {
    "ExecuteTime": {
     "end_time": "2023-05-24T15:12:24.399137625Z",
     "start_time": "2023-05-24T15:12:24.391882773Z"
    }
   },
   "outputs": [],
   "source": [
    "# Aggregate competitor information - perhaps not\n",
    "\n",
    "# # add flag to indicate if any competitor has availability at a better rate\n",
    "# for i in range(1, 9):\n",
    "#     df[f'comp{i}_known'] = ~(df[f'comp{i}_rate'].isna() | df[f'comp{i}_inv'].isna())\n",
    "#     df[f'comp{i}_better'] = df[f'comp{i}_known'] & (df[f'comp{i}_rate']==-1) & (df[f'comp{i}_inv']<=0)\n",
    "#     df[f'comp{i}_worse'] = df[f'comp{i}_known'] & (df[f'comp{i}_rate']==1) & (df[f'comp{i}_inv']>=0)\n",
    "#\n",
    "# df['comp_known_cnt'] = sum([df[f'comp{i}_known'].astype(int) for i in range(1, 9)])\n",
    "# df['comp_better_worse'] = \\\n",
    "#     (sum([df[f'comp{i}_better'].astype(int) for i in range(1, 9)])\n",
    "#      -sum([df[f'comp{i}_worse'].astype(int) for i in range(1, 9)]))"
   ]
  },
  {
   "cell_type": "code",
   "execution_count": 12,
   "outputs": [],
   "source": [
    "#comp_rate_cols = [f'comp{i}_rate' for i in range(1, 9)]\n",
    "#df['comp_rate_sum'] = df[comp_rate_cols].fillna(0).sum(axis=1)"
   ],
   "metadata": {
    "collapsed": false,
    "ExecuteTime": {
     "end_time": "2023-05-24T15:12:24.407857671Z",
     "start_time": "2023-05-24T15:12:24.394979074Z"
    }
   }
  },
  {
   "cell_type": "code",
   "execution_count": 13,
   "metadata": {
    "ExecuteTime": {
     "end_time": "2023-05-24T15:12:24.408031335Z",
     "start_time": "2023-05-24T15:12:24.401712126Z"
    }
   },
   "outputs": [],
   "source": [
    "# TODO: we could get rid of 'comp_better_cnt' > X since their effect on booking and click probability seems similar\n",
    "# df['comp_better_cnt'] = np.miminum(df['comp_better_cnt'], 4)\n",
    "\n",
    "# TODO: we could get rid of 'comp_known_cnt' > X\n",
    "# df['comp_known_cnt'] = np.miminum(df['comp_known_cnt'], 4)"
   ]
  },
  {
   "cell_type": "code",
   "execution_count": 14,
   "metadata": {
    "ExecuteTime": {
     "end_time": "2023-05-24T15:12:24.463431126Z",
     "start_time": "2023-05-24T15:12:24.407292203Z"
    }
   },
   "outputs": [],
   "source": [
    "# TODO: add best discount\n",
    "# for i in range(1, 9):\n",
    "#     df[f'comp{i}_discount'] = \\\n",
    "#         (df[f'comp{i}_known']).astype(int) \\\n",
    "#         * (df[f'comp{i}_inv']<=0).astype(int) \\\n",
    "#         * (df[f'comp{i}_rate']!=0).astype(int) \\\n",
    "#         * (df[f'comp{i}_rate_percent_diff']<55).astype(int) \\\n",
    "#         * -1 * df[f'comp{i}_rate'] \\\n",
    "#         * df[f'comp{i}_rate_percent_diff']\n",
    "#\n",
    "# df['comp_best_discount'] = df[[f'comp{i}_discount' for i in range(1, 9)]].max(axis=1)\n",
    "# df['comp_best_discount'].fillna(0, inplace=True)"
   ]
  },
  {
   "cell_type": "code",
   "execution_count": 15,
   "metadata": {
    "ExecuteTime": {
     "end_time": "2023-05-24T15:12:24.479375906Z",
     "start_time": "2023-05-24T15:12:24.449997270Z"
    }
   },
   "outputs": [],
   "source": [
    "#comps = [f'comp{i}_' for i in range(1, 9)]\n",
    "#df.drop(columns=[c for c in df.columns if c[:6] in comps], inplace=True)"
   ]
  },
  {
   "cell_type": "code",
   "execution_count": 16,
   "metadata": {
    "ExecuteTime": {
     "end_time": "2023-05-24T15:12:24.893907892Z",
     "start_time": "2023-05-24T15:12:24.450076077Z"
    }
   },
   "outputs": [],
   "source": [
    "df.drop(columns=['gross_bookings_usd'], inplace=True)"
   ]
  },
  {
   "cell_type": "code",
   "execution_count": 17,
   "metadata": {
    "ExecuteTime": {
     "end_time": "2023-05-24T15:12:25.359290184Z",
     "start_time": "2023-05-24T15:12:25.327648024Z"
    }
   },
   "outputs": [],
   "source": [
    "# TODO: some aggregation might work?\n",
    "df.drop(columns=['orig_destination_distance'], inplace=True)"
   ]
  },
  {
   "cell_type": "code",
   "execution_count": 18,
   "metadata": {
    "ExecuteTime": {
     "end_time": "2023-05-24T15:12:25.644139490Z",
     "start_time": "2023-05-24T15:12:25.360489847Z"
    }
   },
   "outputs": [
    {
     "name": "stderr",
     "output_type": "stream",
     "text": [
      "/tmp/ipykernel_763551/456885427.py:1: SettingWithCopyWarning: \n",
      "A value is trying to be set on a copy of a slice from a DataFrame.\n",
      "Try using .loc[row_indexer,col_indexer] = value instead\n",
      "\n",
      "See the caveats in the documentation: https://pandas.pydata.org/pandas-docs/stable/user_guide/indexing.html#returning-a-view-versus-a-copy\n",
      "  df[df.prop_log_historical_price == 0]['prop_log_historical_price'] = pd.NA\n"
     ]
    }
   ],
   "source": [
    "df[df.prop_log_historical_price == 0]['prop_log_historical_price'] = pd.NA"
   ]
  },
  {
   "cell_type": "code",
   "execution_count": 19,
   "metadata": {
    "ExecuteTime": {
     "end_time": "2023-05-24T15:12:25.659825700Z",
     "start_time": "2023-05-24T15:12:25.634551156Z"
    }
   },
   "outputs": [
    {
     "data": {
      "text/plain": "         srch_id            date_time  site_id  visitor_location_country_id   \n0              1  2013-04-04 08:32:15       12                          187  \\\n1              1  2013-04-04 08:32:15       12                          187   \n2              1  2013-04-04 08:32:15       12                          187   \n3              1  2013-04-04 08:32:15       12                          187   \n4              1  2013-04-04 08:32:15       12                          187   \n...          ...                  ...      ...                          ...   \n9917525   665572  2013-05-21 11:06:37       24                          216   \n9917526   665572  2013-05-21 11:06:37       24                          216   \n9917527   665572  2013-05-21 11:06:37       24                          216   \n9917528   665572  2013-05-21 11:06:37       24                          216   \n9917529   665572  2013-05-21 11:06:37       24                          216   \n\n         visitor_hist_starrating  visitor_hist_adr_usd  prop_country_id   \n0                            NaN                   NaN              219  \\\n1                            NaN                   NaN              219   \n2                            NaN                   NaN              219   \n3                            NaN                   NaN              219   \n4                            NaN                   NaN              219   \n...                          ...                   ...              ...   \n9917525                      NaN                   NaN              117   \n9917526                      NaN                   NaN              117   \n9917527                      NaN                   NaN              117   \n9917528                      NaN                   NaN              117   \n9917529                      NaN                   NaN              117   \n\n         prop_id  prop_starrating  prop_review_score  prop_brand_bool   \n0            893                3                3.5                1  \\\n1          10404                4                4.0                1   \n2          21315                3                4.5                1   \n3          27348                2                4.0                1   \n4          29604                4                3.5                1   \n...          ...              ...                ...              ...   \n9917525    32019                4                3.5                0   \n9917526    33959                4                3.0                1   \n9917527    35240                4                NaN                0   \n9917528    94437                4                NaN                0   \n9917529    99509                4                4.5                1   \n\n         prop_location_score1  prop_location_score2   \n0                        2.83                0.0438  \\\n1                        2.20                0.0149   \n2                        2.20                0.0245   \n3                        2.83                0.0125   \n4                        2.64                0.1241   \n...                       ...                   ...   \n9917525                  2.48                0.0551   \n9917526                  2.20                0.3344   \n9917527                  1.79                   NaN   \n9917528                  2.94                0.0928   \n9917529                  2.08                0.0344   \n\n         prop_log_historical_price  position  price_usd  promotion_flag   \n0                             4.95      27.0     104.77               0  \\\n1                             5.03      26.0     170.74               0   \n2                             4.92      21.0     179.80               0   \n3                             4.39      34.0     602.77               0   \n4                             4.93       4.0     143.58               0   \n...                            ...       ...        ...             ...   \n9917525                       4.53       NaN      66.07               0   \n9917526                       4.39       NaN      67.10               0   \n9917527                       4.64       NaN      73.91               0   \n9917528                       4.64       NaN      66.07               0   \n9917529                       4.64       NaN      82.06               0   \n\n         srch_destination_id  srch_length_of_stay  srch_booking_window   \n0                      23246                    1                    0  \\\n1                      23246                    1                    0   \n2                      23246                    1                    0   \n3                      23246                    1                    0   \n4                      23246                    1                    0   \n...                      ...                  ...                  ...   \n9917525                19246                    2                    7   \n9917526                19246                    2                    7   \n9917527                19246                    2                    7   \n9917528                19246                    2                    7   \n9917529                19246                    2                    7   \n\n         srch_adults_count  srch_children_count  srch_room_count   \n0                        4                    0                1  \\\n1                        4                    0                1   \n2                        4                    0                1   \n3                        4                    0                1   \n4                        4                    0                1   \n...                    ...                  ...              ...   \n9917525                  1                    0                1   \n9917526                  1                    0                1   \n9917527                  1                    0                1   \n9917528                  1                    0                1   \n9917529                  1                    0                1   \n\n         srch_saturday_night_bool  srch_query_affinity_score  random_bool   \n0                               1                        NaN            1  \\\n1                               1                        NaN            1   \n2                               1                        NaN            1   \n3                               1                        NaN            1   \n4                               1                        NaN            1   \n...                           ...                        ...          ...   \n9917525                         0                        NaN            0   \n9917526                         0                        NaN            0   \n9917527                         0                        NaN            0   \n9917528                         0                        NaN            0   \n9917529                         0                        NaN            0   \n\n         comp1_rate  comp1_inv  comp1_rate_percent_diff  comp2_rate   \n0               NaN        NaN                      NaN         0.0  \\\n1               NaN        NaN                      NaN         NaN   \n2               NaN        NaN                      NaN         0.0   \n3               NaN        NaN                      NaN        -1.0   \n4               NaN        NaN                      NaN         0.0   \n...             ...        ...                      ...         ...   \n9917525         NaN        NaN                      NaN         1.0   \n9917526         NaN        NaN                      NaN         0.0   \n9917527         NaN        NaN                      NaN         1.0   \n9917528         NaN        NaN                      NaN         1.0   \n9917529         NaN        NaN                      NaN         0.0   \n\n         comp2_inv  comp2_rate_percent_diff  comp3_rate  comp3_inv   \n0              0.0                      NaN         0.0        0.0  \\\n1              NaN                      NaN         0.0        0.0   \n2              0.0                      NaN         0.0        0.0   \n3              0.0                      5.0        -1.0        0.0   \n4              0.0                      NaN         0.0        0.0   \n...            ...                      ...         ...        ...   \n9917525        0.0                     22.0         1.0        0.0   \n9917526        0.0                      NaN         0.0        0.0   \n9917527        0.0                     55.0         0.0        0.0   \n9917528        0.0                     43.0         1.0        0.0   \n9917529        0.0                      NaN         0.0        0.0   \n\n         comp3_rate_percent_diff  comp4_rate  comp4_inv   \n0                            NaN         NaN        NaN  \\\n1                            NaN         NaN        NaN   \n2                            NaN         NaN        NaN   \n3                            5.0         NaN        NaN   \n4                            NaN         NaN        NaN   \n...                          ...         ...        ...   \n9917525                    127.0        -1.0        0.0   \n9917526                      NaN         0.0        0.0   \n9917527                      NaN         0.0        0.0   \n9917528                     43.0        -1.0        0.0   \n9917529                      NaN         0.0        0.0   \n\n         comp4_rate_percent_diff  comp5_rate  comp5_inv   \n0                            NaN         0.0        0.0  \\\n1                            NaN         0.0        1.0   \n2                            NaN         0.0        0.0   \n3                            NaN         0.0        1.0   \n4                            NaN         0.0        0.0   \n...                          ...         ...        ...   \n9917525                     27.0         1.0        0.0   \n9917526                     16.0         1.0        0.0   \n9917527                     16.0         0.0        0.0   \n9917528                     12.0        -1.0        0.0   \n9917529                     16.0         0.0        0.0   \n\n         comp5_rate_percent_diff  comp6_rate  comp6_inv   \n0                            NaN         NaN        NaN  \\\n1                            NaN         NaN        NaN   \n2                            NaN         NaN        NaN   \n3                            NaN         NaN        NaN   \n4                            NaN         NaN        NaN   \n...                          ...         ...        ...   \n9917525                     22.0         NaN        NaN   \n9917526                     22.0         NaN        NaN   \n9917527                      3.0         NaN        NaN   \n9917528                     12.0         NaN        NaN   \n9917529                      NaN         NaN        NaN   \n\n         comp6_rate_percent_diff  comp7_rate  comp7_inv   \n0                            NaN         NaN        NaN  \\\n1                            NaN         NaN        NaN   \n2                            NaN         NaN        NaN   \n3                            NaN         NaN        NaN   \n4                            NaN         NaN        NaN   \n...                          ...         ...        ...   \n9917525                      NaN         NaN        NaN   \n9917526                      NaN         NaN        NaN   \n9917527                      NaN         NaN        NaN   \n9917528                      NaN         NaN        NaN   \n9917529                      NaN         NaN        NaN   \n\n         comp7_rate_percent_diff  comp8_rate  comp8_inv   \n0                            NaN         0.0        0.0  \\\n1                            NaN         0.0        0.0   \n2                            NaN         0.0        0.0   \n3                            NaN        -1.0        0.0   \n4                            NaN         0.0        0.0   \n...                          ...         ...        ...   \n9917525                      NaN         NaN        NaN   \n9917526                      NaN         NaN        NaN   \n9917527                      NaN         NaN        NaN   \n9917528                      NaN         NaN        NaN   \n9917529                      NaN         NaN        NaN   \n\n         comp8_rate_percent_diff  click_bool  booking_bool  is_test   \n0                            NaN         0.0           0.0    False  \\\n1                            NaN         0.0           0.0    False   \n2                            NaN         0.0           0.0    False   \n3                            5.0         0.0           0.0    False   \n4                            NaN         0.0           0.0    False   \n...                          ...         ...           ...      ...   \n9917525                      NaN         NaN           NaN     True   \n9917526                      NaN         NaN           NaN     True   \n9917527                      NaN         NaN           NaN     True   \n9917528                      NaN         NaN           NaN     True   \n9917529                      NaN         NaN           NaN     True   \n\n         prop_starrating_w0  \n0                       3.0  \n1                       4.0  \n2                       3.0  \n3                       2.0  \n4                       4.0  \n...                     ...  \n9917525                 4.0  \n9917526                 4.0  \n9917527                 4.0  \n9917528                 4.0  \n9917529                 4.0  \n\n[9917530 rows x 54 columns]",
      "text/html": "<div>\n<style scoped>\n    .dataframe tbody tr th:only-of-type {\n        vertical-align: middle;\n    }\n\n    .dataframe tbody tr th {\n        vertical-align: top;\n    }\n\n    .dataframe thead th {\n        text-align: right;\n    }\n</style>\n<table border=\"1\" class=\"dataframe\">\n  <thead>\n    <tr style=\"text-align: right;\">\n      <th></th>\n      <th>srch_id</th>\n      <th>date_time</th>\n      <th>site_id</th>\n      <th>visitor_location_country_id</th>\n      <th>visitor_hist_starrating</th>\n      <th>visitor_hist_adr_usd</th>\n      <th>prop_country_id</th>\n      <th>prop_id</th>\n      <th>prop_starrating</th>\n      <th>prop_review_score</th>\n      <th>prop_brand_bool</th>\n      <th>prop_location_score1</th>\n      <th>prop_location_score2</th>\n      <th>prop_log_historical_price</th>\n      <th>position</th>\n      <th>price_usd</th>\n      <th>promotion_flag</th>\n      <th>srch_destination_id</th>\n      <th>srch_length_of_stay</th>\n      <th>srch_booking_window</th>\n      <th>srch_adults_count</th>\n      <th>srch_children_count</th>\n      <th>srch_room_count</th>\n      <th>srch_saturday_night_bool</th>\n      <th>srch_query_affinity_score</th>\n      <th>random_bool</th>\n      <th>comp1_rate</th>\n      <th>comp1_inv</th>\n      <th>comp1_rate_percent_diff</th>\n      <th>comp2_rate</th>\n      <th>comp2_inv</th>\n      <th>comp2_rate_percent_diff</th>\n      <th>comp3_rate</th>\n      <th>comp3_inv</th>\n      <th>comp3_rate_percent_diff</th>\n      <th>comp4_rate</th>\n      <th>comp4_inv</th>\n      <th>comp4_rate_percent_diff</th>\n      <th>comp5_rate</th>\n      <th>comp5_inv</th>\n      <th>comp5_rate_percent_diff</th>\n      <th>comp6_rate</th>\n      <th>comp6_inv</th>\n      <th>comp6_rate_percent_diff</th>\n      <th>comp7_rate</th>\n      <th>comp7_inv</th>\n      <th>comp7_rate_percent_diff</th>\n      <th>comp8_rate</th>\n      <th>comp8_inv</th>\n      <th>comp8_rate_percent_diff</th>\n      <th>click_bool</th>\n      <th>booking_bool</th>\n      <th>is_test</th>\n      <th>prop_starrating_w0</th>\n    </tr>\n  </thead>\n  <tbody>\n    <tr>\n      <th>0</th>\n      <td>1</td>\n      <td>2013-04-04 08:32:15</td>\n      <td>12</td>\n      <td>187</td>\n      <td>NaN</td>\n      <td>NaN</td>\n      <td>219</td>\n      <td>893</td>\n      <td>3</td>\n      <td>3.5</td>\n      <td>1</td>\n      <td>2.83</td>\n      <td>0.0438</td>\n      <td>4.95</td>\n      <td>27.0</td>\n      <td>104.77</td>\n      <td>0</td>\n      <td>23246</td>\n      <td>1</td>\n      <td>0</td>\n      <td>4</td>\n      <td>0</td>\n      <td>1</td>\n      <td>1</td>\n      <td>NaN</td>\n      <td>1</td>\n      <td>NaN</td>\n      <td>NaN</td>\n      <td>NaN</td>\n      <td>0.0</td>\n      <td>0.0</td>\n      <td>NaN</td>\n      <td>0.0</td>\n      <td>0.0</td>\n      <td>NaN</td>\n      <td>NaN</td>\n      <td>NaN</td>\n      <td>NaN</td>\n      <td>0.0</td>\n      <td>0.0</td>\n      <td>NaN</td>\n      <td>NaN</td>\n      <td>NaN</td>\n      <td>NaN</td>\n      <td>NaN</td>\n      <td>NaN</td>\n      <td>NaN</td>\n      <td>0.0</td>\n      <td>0.0</td>\n      <td>NaN</td>\n      <td>0.0</td>\n      <td>0.0</td>\n      <td>False</td>\n      <td>3.0</td>\n    </tr>\n    <tr>\n      <th>1</th>\n      <td>1</td>\n      <td>2013-04-04 08:32:15</td>\n      <td>12</td>\n      <td>187</td>\n      <td>NaN</td>\n      <td>NaN</td>\n      <td>219</td>\n      <td>10404</td>\n      <td>4</td>\n      <td>4.0</td>\n      <td>1</td>\n      <td>2.20</td>\n      <td>0.0149</td>\n      <td>5.03</td>\n      <td>26.0</td>\n      <td>170.74</td>\n      <td>0</td>\n      <td>23246</td>\n      <td>1</td>\n      <td>0</td>\n      <td>4</td>\n      <td>0</td>\n      <td>1</td>\n      <td>1</td>\n      <td>NaN</td>\n      <td>1</td>\n      <td>NaN</td>\n      <td>NaN</td>\n      <td>NaN</td>\n      <td>NaN</td>\n      <td>NaN</td>\n      <td>NaN</td>\n      <td>0.0</td>\n      <td>0.0</td>\n      <td>NaN</td>\n      <td>NaN</td>\n      <td>NaN</td>\n      <td>NaN</td>\n      <td>0.0</td>\n      <td>1.0</td>\n      <td>NaN</td>\n      <td>NaN</td>\n      <td>NaN</td>\n      <td>NaN</td>\n      <td>NaN</td>\n      <td>NaN</td>\n      <td>NaN</td>\n      <td>0.0</td>\n      <td>0.0</td>\n      <td>NaN</td>\n      <td>0.0</td>\n      <td>0.0</td>\n      <td>False</td>\n      <td>4.0</td>\n    </tr>\n    <tr>\n      <th>2</th>\n      <td>1</td>\n      <td>2013-04-04 08:32:15</td>\n      <td>12</td>\n      <td>187</td>\n      <td>NaN</td>\n      <td>NaN</td>\n      <td>219</td>\n      <td>21315</td>\n      <td>3</td>\n      <td>4.5</td>\n      <td>1</td>\n      <td>2.20</td>\n      <td>0.0245</td>\n      <td>4.92</td>\n      <td>21.0</td>\n      <td>179.80</td>\n      <td>0</td>\n      <td>23246</td>\n      <td>1</td>\n      <td>0</td>\n      <td>4</td>\n      <td>0</td>\n      <td>1</td>\n      <td>1</td>\n      <td>NaN</td>\n      <td>1</td>\n      <td>NaN</td>\n      <td>NaN</td>\n      <td>NaN</td>\n      <td>0.0</td>\n      <td>0.0</td>\n      <td>NaN</td>\n      <td>0.0</td>\n      <td>0.0</td>\n      <td>NaN</td>\n      <td>NaN</td>\n      <td>NaN</td>\n      <td>NaN</td>\n      <td>0.0</td>\n      <td>0.0</td>\n      <td>NaN</td>\n      <td>NaN</td>\n      <td>NaN</td>\n      <td>NaN</td>\n      <td>NaN</td>\n      <td>NaN</td>\n      <td>NaN</td>\n      <td>0.0</td>\n      <td>0.0</td>\n      <td>NaN</td>\n      <td>0.0</td>\n      <td>0.0</td>\n      <td>False</td>\n      <td>3.0</td>\n    </tr>\n    <tr>\n      <th>3</th>\n      <td>1</td>\n      <td>2013-04-04 08:32:15</td>\n      <td>12</td>\n      <td>187</td>\n      <td>NaN</td>\n      <td>NaN</td>\n      <td>219</td>\n      <td>27348</td>\n      <td>2</td>\n      <td>4.0</td>\n      <td>1</td>\n      <td>2.83</td>\n      <td>0.0125</td>\n      <td>4.39</td>\n      <td>34.0</td>\n      <td>602.77</td>\n      <td>0</td>\n      <td>23246</td>\n      <td>1</td>\n      <td>0</td>\n      <td>4</td>\n      <td>0</td>\n      <td>1</td>\n      <td>1</td>\n      <td>NaN</td>\n      <td>1</td>\n      <td>NaN</td>\n      <td>NaN</td>\n      <td>NaN</td>\n      <td>-1.0</td>\n      <td>0.0</td>\n      <td>5.0</td>\n      <td>-1.0</td>\n      <td>0.0</td>\n      <td>5.0</td>\n      <td>NaN</td>\n      <td>NaN</td>\n      <td>NaN</td>\n      <td>0.0</td>\n      <td>1.0</td>\n      <td>NaN</td>\n      <td>NaN</td>\n      <td>NaN</td>\n      <td>NaN</td>\n      <td>NaN</td>\n      <td>NaN</td>\n      <td>NaN</td>\n      <td>-1.0</td>\n      <td>0.0</td>\n      <td>5.0</td>\n      <td>0.0</td>\n      <td>0.0</td>\n      <td>False</td>\n      <td>2.0</td>\n    </tr>\n    <tr>\n      <th>4</th>\n      <td>1</td>\n      <td>2013-04-04 08:32:15</td>\n      <td>12</td>\n      <td>187</td>\n      <td>NaN</td>\n      <td>NaN</td>\n      <td>219</td>\n      <td>29604</td>\n      <td>4</td>\n      <td>3.5</td>\n      <td>1</td>\n      <td>2.64</td>\n      <td>0.1241</td>\n      <td>4.93</td>\n      <td>4.0</td>\n      <td>143.58</td>\n      <td>0</td>\n      <td>23246</td>\n      <td>1</td>\n      <td>0</td>\n      <td>4</td>\n      <td>0</td>\n      <td>1</td>\n      <td>1</td>\n      <td>NaN</td>\n      <td>1</td>\n      <td>NaN</td>\n      <td>NaN</td>\n      <td>NaN</td>\n      <td>0.0</td>\n      <td>0.0</td>\n      <td>NaN</td>\n      <td>0.0</td>\n      <td>0.0</td>\n      <td>NaN</td>\n      <td>NaN</td>\n      <td>NaN</td>\n      <td>NaN</td>\n      <td>0.0</td>\n      <td>0.0</td>\n      <td>NaN</td>\n      <td>NaN</td>\n      <td>NaN</td>\n      <td>NaN</td>\n      <td>NaN</td>\n      <td>NaN</td>\n      <td>NaN</td>\n      <td>0.0</td>\n      <td>0.0</td>\n      <td>NaN</td>\n      <td>0.0</td>\n      <td>0.0</td>\n      <td>False</td>\n      <td>4.0</td>\n    </tr>\n    <tr>\n      <th>...</th>\n      <td>...</td>\n      <td>...</td>\n      <td>...</td>\n      <td>...</td>\n      <td>...</td>\n      <td>...</td>\n      <td>...</td>\n      <td>...</td>\n      <td>...</td>\n      <td>...</td>\n      <td>...</td>\n      <td>...</td>\n      <td>...</td>\n      <td>...</td>\n      <td>...</td>\n      <td>...</td>\n      <td>...</td>\n      <td>...</td>\n      <td>...</td>\n      <td>...</td>\n      <td>...</td>\n      <td>...</td>\n      <td>...</td>\n      <td>...</td>\n      <td>...</td>\n      <td>...</td>\n      <td>...</td>\n      <td>...</td>\n      <td>...</td>\n      <td>...</td>\n      <td>...</td>\n      <td>...</td>\n      <td>...</td>\n      <td>...</td>\n      <td>...</td>\n      <td>...</td>\n      <td>...</td>\n      <td>...</td>\n      <td>...</td>\n      <td>...</td>\n      <td>...</td>\n      <td>...</td>\n      <td>...</td>\n      <td>...</td>\n      <td>...</td>\n      <td>...</td>\n      <td>...</td>\n      <td>...</td>\n      <td>...</td>\n      <td>...</td>\n      <td>...</td>\n      <td>...</td>\n      <td>...</td>\n      <td>...</td>\n    </tr>\n    <tr>\n      <th>9917525</th>\n      <td>665572</td>\n      <td>2013-05-21 11:06:37</td>\n      <td>24</td>\n      <td>216</td>\n      <td>NaN</td>\n      <td>NaN</td>\n      <td>117</td>\n      <td>32019</td>\n      <td>4</td>\n      <td>3.5</td>\n      <td>0</td>\n      <td>2.48</td>\n      <td>0.0551</td>\n      <td>4.53</td>\n      <td>NaN</td>\n      <td>66.07</td>\n      <td>0</td>\n      <td>19246</td>\n      <td>2</td>\n      <td>7</td>\n      <td>1</td>\n      <td>0</td>\n      <td>1</td>\n      <td>0</td>\n      <td>NaN</td>\n      <td>0</td>\n      <td>NaN</td>\n      <td>NaN</td>\n      <td>NaN</td>\n      <td>1.0</td>\n      <td>0.0</td>\n      <td>22.0</td>\n      <td>1.0</td>\n      <td>0.0</td>\n      <td>127.0</td>\n      <td>-1.0</td>\n      <td>0.0</td>\n      <td>27.0</td>\n      <td>1.0</td>\n      <td>0.0</td>\n      <td>22.0</td>\n      <td>NaN</td>\n      <td>NaN</td>\n      <td>NaN</td>\n      <td>NaN</td>\n      <td>NaN</td>\n      <td>NaN</td>\n      <td>NaN</td>\n      <td>NaN</td>\n      <td>NaN</td>\n      <td>NaN</td>\n      <td>NaN</td>\n      <td>True</td>\n      <td>4.0</td>\n    </tr>\n    <tr>\n      <th>9917526</th>\n      <td>665572</td>\n      <td>2013-05-21 11:06:37</td>\n      <td>24</td>\n      <td>216</td>\n      <td>NaN</td>\n      <td>NaN</td>\n      <td>117</td>\n      <td>33959</td>\n      <td>4</td>\n      <td>3.0</td>\n      <td>1</td>\n      <td>2.20</td>\n      <td>0.3344</td>\n      <td>4.39</td>\n      <td>NaN</td>\n      <td>67.10</td>\n      <td>0</td>\n      <td>19246</td>\n      <td>2</td>\n      <td>7</td>\n      <td>1</td>\n      <td>0</td>\n      <td>1</td>\n      <td>0</td>\n      <td>NaN</td>\n      <td>0</td>\n      <td>NaN</td>\n      <td>NaN</td>\n      <td>NaN</td>\n      <td>0.0</td>\n      <td>0.0</td>\n      <td>NaN</td>\n      <td>0.0</td>\n      <td>0.0</td>\n      <td>NaN</td>\n      <td>0.0</td>\n      <td>0.0</td>\n      <td>16.0</td>\n      <td>1.0</td>\n      <td>0.0</td>\n      <td>22.0</td>\n      <td>NaN</td>\n      <td>NaN</td>\n      <td>NaN</td>\n      <td>NaN</td>\n      <td>NaN</td>\n      <td>NaN</td>\n      <td>NaN</td>\n      <td>NaN</td>\n      <td>NaN</td>\n      <td>NaN</td>\n      <td>NaN</td>\n      <td>True</td>\n      <td>4.0</td>\n    </tr>\n    <tr>\n      <th>9917527</th>\n      <td>665572</td>\n      <td>2013-05-21 11:06:37</td>\n      <td>24</td>\n      <td>216</td>\n      <td>NaN</td>\n      <td>NaN</td>\n      <td>117</td>\n      <td>35240</td>\n      <td>4</td>\n      <td>NaN</td>\n      <td>0</td>\n      <td>1.79</td>\n      <td>NaN</td>\n      <td>4.64</td>\n      <td>NaN</td>\n      <td>73.91</td>\n      <td>0</td>\n      <td>19246</td>\n      <td>2</td>\n      <td>7</td>\n      <td>1</td>\n      <td>0</td>\n      <td>1</td>\n      <td>0</td>\n      <td>NaN</td>\n      <td>0</td>\n      <td>NaN</td>\n      <td>NaN</td>\n      <td>NaN</td>\n      <td>1.0</td>\n      <td>0.0</td>\n      <td>55.0</td>\n      <td>0.0</td>\n      <td>0.0</td>\n      <td>NaN</td>\n      <td>0.0</td>\n      <td>0.0</td>\n      <td>16.0</td>\n      <td>0.0</td>\n      <td>0.0</td>\n      <td>3.0</td>\n      <td>NaN</td>\n      <td>NaN</td>\n      <td>NaN</td>\n      <td>NaN</td>\n      <td>NaN</td>\n      <td>NaN</td>\n      <td>NaN</td>\n      <td>NaN</td>\n      <td>NaN</td>\n      <td>NaN</td>\n      <td>NaN</td>\n      <td>True</td>\n      <td>4.0</td>\n    </tr>\n    <tr>\n      <th>9917528</th>\n      <td>665572</td>\n      <td>2013-05-21 11:06:37</td>\n      <td>24</td>\n      <td>216</td>\n      <td>NaN</td>\n      <td>NaN</td>\n      <td>117</td>\n      <td>94437</td>\n      <td>4</td>\n      <td>NaN</td>\n      <td>0</td>\n      <td>2.94</td>\n      <td>0.0928</td>\n      <td>4.64</td>\n      <td>NaN</td>\n      <td>66.07</td>\n      <td>0</td>\n      <td>19246</td>\n      <td>2</td>\n      <td>7</td>\n      <td>1</td>\n      <td>0</td>\n      <td>1</td>\n      <td>0</td>\n      <td>NaN</td>\n      <td>0</td>\n      <td>NaN</td>\n      <td>NaN</td>\n      <td>NaN</td>\n      <td>1.0</td>\n      <td>0.0</td>\n      <td>43.0</td>\n      <td>1.0</td>\n      <td>0.0</td>\n      <td>43.0</td>\n      <td>-1.0</td>\n      <td>0.0</td>\n      <td>12.0</td>\n      <td>-1.0</td>\n      <td>0.0</td>\n      <td>12.0</td>\n      <td>NaN</td>\n      <td>NaN</td>\n      <td>NaN</td>\n      <td>NaN</td>\n      <td>NaN</td>\n      <td>NaN</td>\n      <td>NaN</td>\n      <td>NaN</td>\n      <td>NaN</td>\n      <td>NaN</td>\n      <td>NaN</td>\n      <td>True</td>\n      <td>4.0</td>\n    </tr>\n    <tr>\n      <th>9917529</th>\n      <td>665572</td>\n      <td>2013-05-21 11:06:37</td>\n      <td>24</td>\n      <td>216</td>\n      <td>NaN</td>\n      <td>NaN</td>\n      <td>117</td>\n      <td>99509</td>\n      <td>4</td>\n      <td>4.5</td>\n      <td>1</td>\n      <td>2.08</td>\n      <td>0.0344</td>\n      <td>4.64</td>\n      <td>NaN</td>\n      <td>82.06</td>\n      <td>0</td>\n      <td>19246</td>\n      <td>2</td>\n      <td>7</td>\n      <td>1</td>\n      <td>0</td>\n      <td>1</td>\n      <td>0</td>\n      <td>NaN</td>\n      <td>0</td>\n      <td>NaN</td>\n      <td>NaN</td>\n      <td>NaN</td>\n      <td>0.0</td>\n      <td>0.0</td>\n      <td>NaN</td>\n      <td>0.0</td>\n      <td>0.0</td>\n      <td>NaN</td>\n      <td>0.0</td>\n      <td>0.0</td>\n      <td>16.0</td>\n      <td>0.0</td>\n      <td>0.0</td>\n      <td>NaN</td>\n      <td>NaN</td>\n      <td>NaN</td>\n      <td>NaN</td>\n      <td>NaN</td>\n      <td>NaN</td>\n      <td>NaN</td>\n      <td>NaN</td>\n      <td>NaN</td>\n      <td>NaN</td>\n      <td>NaN</td>\n      <td>NaN</td>\n      <td>True</td>\n      <td>4.0</td>\n    </tr>\n  </tbody>\n</table>\n<p>9917530 rows × 54 columns</p>\n</div>"
     },
     "execution_count": 19,
     "metadata": {},
     "output_type": "execute_result"
    }
   ],
   "source": [
    "df"
   ]
  },
  {
   "cell_type": "markdown",
   "metadata": {},
   "source": [
    "# date_time"
   ]
  },
  {
   "cell_type": "code",
   "execution_count": 20,
   "metadata": {
    "ExecuteTime": {
     "end_time": "2023-05-24T15:12:29.344667731Z",
     "start_time": "2023-05-24T15:12:25.697960221Z"
    }
   },
   "outputs": [],
   "source": [
    "def convert_date(df):\n",
    "    df['date_time'] = pd.to_datetime(df['date_time'])\n",
    "    df['booking_week'] = df['date_time'].dt.isocalendar().week\n",
    "    df['booking_month'] = df['date_time'].dt.month\n",
    "    df['booking_dayofyear'] = df['date_time'].dt.dayofyear\n",
    "    df['booking_dayofweek'] = df['date_time'].dt.dayofweek\n",
    "    midstay = df['date_time'] + pd.to_timedelta(df.srch_booking_window, unit='days') + pd.to_timedelta(df.srch_length_of_stay//2, unit='days')\n",
    "    df['midstay_week'] = midstay.dt.isocalendar().week\n",
    "    df['midstay_month'] = midstay.dt.month\n",
    "    df['midstay_dayofyear'] = midstay.dt.dayofyear\n",
    "    df['midstay_dayofweek'] = midstay.dt.dayofweek\n",
    "    df.drop(columns='date_time', inplace=True)\n",
    "\n",
    "convert_date(df)"
   ]
  },
  {
   "cell_type": "code",
   "execution_count": 21,
   "outputs": [
    {
     "data": {
      "text/plain": "         srch_id  site_id  visitor_location_country_id   \n0              1       12                          187  \\\n1              1       12                          187   \n2              1       12                          187   \n3              1       12                          187   \n4              1       12                          187   \n...          ...      ...                          ...   \n9917525   665572       24                          216   \n9917526   665572       24                          216   \n9917527   665572       24                          216   \n9917528   665572       24                          216   \n9917529   665572       24                          216   \n\n         visitor_hist_starrating  visitor_hist_adr_usd  prop_country_id   \n0                            NaN                   NaN              219  \\\n1                            NaN                   NaN              219   \n2                            NaN                   NaN              219   \n3                            NaN                   NaN              219   \n4                            NaN                   NaN              219   \n...                          ...                   ...              ...   \n9917525                      NaN                   NaN              117   \n9917526                      NaN                   NaN              117   \n9917527                      NaN                   NaN              117   \n9917528                      NaN                   NaN              117   \n9917529                      NaN                   NaN              117   \n\n         prop_id  prop_starrating  prop_review_score  prop_brand_bool   \n0            893                3                3.5                1  \\\n1          10404                4                4.0                1   \n2          21315                3                4.5                1   \n3          27348                2                4.0                1   \n4          29604                4                3.5                1   \n...          ...              ...                ...              ...   \n9917525    32019                4                3.5                0   \n9917526    33959                4                3.0                1   \n9917527    35240                4                NaN                0   \n9917528    94437                4                NaN                0   \n9917529    99509                4                4.5                1   \n\n         prop_location_score1  prop_location_score2   \n0                        2.83                0.0438  \\\n1                        2.20                0.0149   \n2                        2.20                0.0245   \n3                        2.83                0.0125   \n4                        2.64                0.1241   \n...                       ...                   ...   \n9917525                  2.48                0.0551   \n9917526                  2.20                0.3344   \n9917527                  1.79                   NaN   \n9917528                  2.94                0.0928   \n9917529                  2.08                0.0344   \n\n         prop_log_historical_price  position  price_usd  promotion_flag   \n0                             4.95      27.0     104.77               0  \\\n1                             5.03      26.0     170.74               0   \n2                             4.92      21.0     179.80               0   \n3                             4.39      34.0     602.77               0   \n4                             4.93       4.0     143.58               0   \n...                            ...       ...        ...             ...   \n9917525                       4.53       NaN      66.07               0   \n9917526                       4.39       NaN      67.10               0   \n9917527                       4.64       NaN      73.91               0   \n9917528                       4.64       NaN      66.07               0   \n9917529                       4.64       NaN      82.06               0   \n\n         srch_destination_id  srch_length_of_stay  srch_booking_window   \n0                      23246                    1                    0  \\\n1                      23246                    1                    0   \n2                      23246                    1                    0   \n3                      23246                    1                    0   \n4                      23246                    1                    0   \n...                      ...                  ...                  ...   \n9917525                19246                    2                    7   \n9917526                19246                    2                    7   \n9917527                19246                    2                    7   \n9917528                19246                    2                    7   \n9917529                19246                    2                    7   \n\n         srch_adults_count  srch_children_count  srch_room_count   \n0                        4                    0                1  \\\n1                        4                    0                1   \n2                        4                    0                1   \n3                        4                    0                1   \n4                        4                    0                1   \n...                    ...                  ...              ...   \n9917525                  1                    0                1   \n9917526                  1                    0                1   \n9917527                  1                    0                1   \n9917528                  1                    0                1   \n9917529                  1                    0                1   \n\n         srch_saturday_night_bool  srch_query_affinity_score  random_bool   \n0                               1                        NaN            1  \\\n1                               1                        NaN            1   \n2                               1                        NaN            1   \n3                               1                        NaN            1   \n4                               1                        NaN            1   \n...                           ...                        ...          ...   \n9917525                         0                        NaN            0   \n9917526                         0                        NaN            0   \n9917527                         0                        NaN            0   \n9917528                         0                        NaN            0   \n9917529                         0                        NaN            0   \n\n         comp1_rate  comp1_inv  comp1_rate_percent_diff  comp2_rate   \n0               NaN        NaN                      NaN         0.0  \\\n1               NaN        NaN                      NaN         NaN   \n2               NaN        NaN                      NaN         0.0   \n3               NaN        NaN                      NaN        -1.0   \n4               NaN        NaN                      NaN         0.0   \n...             ...        ...                      ...         ...   \n9917525         NaN        NaN                      NaN         1.0   \n9917526         NaN        NaN                      NaN         0.0   \n9917527         NaN        NaN                      NaN         1.0   \n9917528         NaN        NaN                      NaN         1.0   \n9917529         NaN        NaN                      NaN         0.0   \n\n         comp2_inv  comp2_rate_percent_diff  comp3_rate  comp3_inv   \n0              0.0                      NaN         0.0        0.0  \\\n1              NaN                      NaN         0.0        0.0   \n2              0.0                      NaN         0.0        0.0   \n3              0.0                      5.0        -1.0        0.0   \n4              0.0                      NaN         0.0        0.0   \n...            ...                      ...         ...        ...   \n9917525        0.0                     22.0         1.0        0.0   \n9917526        0.0                      NaN         0.0        0.0   \n9917527        0.0                     55.0         0.0        0.0   \n9917528        0.0                     43.0         1.0        0.0   \n9917529        0.0                      NaN         0.0        0.0   \n\n         comp3_rate_percent_diff  comp4_rate  comp4_inv   \n0                            NaN         NaN        NaN  \\\n1                            NaN         NaN        NaN   \n2                            NaN         NaN        NaN   \n3                            5.0         NaN        NaN   \n4                            NaN         NaN        NaN   \n...                          ...         ...        ...   \n9917525                    127.0        -1.0        0.0   \n9917526                      NaN         0.0        0.0   \n9917527                      NaN         0.0        0.0   \n9917528                     43.0        -1.0        0.0   \n9917529                      NaN         0.0        0.0   \n\n         comp4_rate_percent_diff  comp5_rate  comp5_inv   \n0                            NaN         0.0        0.0  \\\n1                            NaN         0.0        1.0   \n2                            NaN         0.0        0.0   \n3                            NaN         0.0        1.0   \n4                            NaN         0.0        0.0   \n...                          ...         ...        ...   \n9917525                     27.0         1.0        0.0   \n9917526                     16.0         1.0        0.0   \n9917527                     16.0         0.0        0.0   \n9917528                     12.0        -1.0        0.0   \n9917529                     16.0         0.0        0.0   \n\n         comp5_rate_percent_diff  comp6_rate  comp6_inv   \n0                            NaN         NaN        NaN  \\\n1                            NaN         NaN        NaN   \n2                            NaN         NaN        NaN   \n3                            NaN         NaN        NaN   \n4                            NaN         NaN        NaN   \n...                          ...         ...        ...   \n9917525                     22.0         NaN        NaN   \n9917526                     22.0         NaN        NaN   \n9917527                      3.0         NaN        NaN   \n9917528                     12.0         NaN        NaN   \n9917529                      NaN         NaN        NaN   \n\n         comp6_rate_percent_diff  comp7_rate  comp7_inv   \n0                            NaN         NaN        NaN  \\\n1                            NaN         NaN        NaN   \n2                            NaN         NaN        NaN   \n3                            NaN         NaN        NaN   \n4                            NaN         NaN        NaN   \n...                          ...         ...        ...   \n9917525                      NaN         NaN        NaN   \n9917526                      NaN         NaN        NaN   \n9917527                      NaN         NaN        NaN   \n9917528                      NaN         NaN        NaN   \n9917529                      NaN         NaN        NaN   \n\n         comp7_rate_percent_diff  comp8_rate  comp8_inv   \n0                            NaN         0.0        0.0  \\\n1                            NaN         0.0        0.0   \n2                            NaN         0.0        0.0   \n3                            NaN        -1.0        0.0   \n4                            NaN         0.0        0.0   \n...                          ...         ...        ...   \n9917525                      NaN         NaN        NaN   \n9917526                      NaN         NaN        NaN   \n9917527                      NaN         NaN        NaN   \n9917528                      NaN         NaN        NaN   \n9917529                      NaN         NaN        NaN   \n\n         comp8_rate_percent_diff  click_bool  booking_bool  is_test   \n0                            NaN         0.0           0.0    False  \\\n1                            NaN         0.0           0.0    False   \n2                            NaN         0.0           0.0    False   \n3                            5.0         0.0           0.0    False   \n4                            NaN         0.0           0.0    False   \n...                          ...         ...           ...      ...   \n9917525                      NaN         NaN           NaN     True   \n9917526                      NaN         NaN           NaN     True   \n9917527                      NaN         NaN           NaN     True   \n9917528                      NaN         NaN           NaN     True   \n9917529                      NaN         NaN           NaN     True   \n\n         prop_starrating_w0  booking_week  booking_month  booking_dayofyear   \n0                       3.0            14              4                 94  \\\n1                       4.0            14              4                 94   \n2                       3.0            14              4                 94   \n3                       2.0            14              4                 94   \n4                       4.0            14              4                 94   \n...                     ...           ...            ...                ...   \n9917525                 4.0            21              5                141   \n9917526                 4.0            21              5                141   \n9917527                 4.0            21              5                141   \n9917528                 4.0            21              5                141   \n9917529                 4.0            21              5                141   \n\n         booking_dayofweek  midstay_week  midstay_month  midstay_dayofyear   \n0                        3            14              4                 94  \\\n1                        3            14              4                 94   \n2                        3            14              4                 94   \n3                        3            14              4                 94   \n4                        3            14              4                 94   \n...                    ...           ...            ...                ...   \n9917525                  1            22              5                149   \n9917526                  1            22              5                149   \n9917527                  1            22              5                149   \n9917528                  1            22              5                149   \n9917529                  1            22              5                149   \n\n         midstay_dayofweek  \n0                        3  \n1                        3  \n2                        3  \n3                        3  \n4                        3  \n...                    ...  \n9917525                  2  \n9917526                  2  \n9917527                  2  \n9917528                  2  \n9917529                  2  \n\n[9917530 rows x 61 columns]",
      "text/html": "<div>\n<style scoped>\n    .dataframe tbody tr th:only-of-type {\n        vertical-align: middle;\n    }\n\n    .dataframe tbody tr th {\n        vertical-align: top;\n    }\n\n    .dataframe thead th {\n        text-align: right;\n    }\n</style>\n<table border=\"1\" class=\"dataframe\">\n  <thead>\n    <tr style=\"text-align: right;\">\n      <th></th>\n      <th>srch_id</th>\n      <th>site_id</th>\n      <th>visitor_location_country_id</th>\n      <th>visitor_hist_starrating</th>\n      <th>visitor_hist_adr_usd</th>\n      <th>prop_country_id</th>\n      <th>prop_id</th>\n      <th>prop_starrating</th>\n      <th>prop_review_score</th>\n      <th>prop_brand_bool</th>\n      <th>prop_location_score1</th>\n      <th>prop_location_score2</th>\n      <th>prop_log_historical_price</th>\n      <th>position</th>\n      <th>price_usd</th>\n      <th>promotion_flag</th>\n      <th>srch_destination_id</th>\n      <th>srch_length_of_stay</th>\n      <th>srch_booking_window</th>\n      <th>srch_adults_count</th>\n      <th>srch_children_count</th>\n      <th>srch_room_count</th>\n      <th>srch_saturday_night_bool</th>\n      <th>srch_query_affinity_score</th>\n      <th>random_bool</th>\n      <th>comp1_rate</th>\n      <th>comp1_inv</th>\n      <th>comp1_rate_percent_diff</th>\n      <th>comp2_rate</th>\n      <th>comp2_inv</th>\n      <th>comp2_rate_percent_diff</th>\n      <th>comp3_rate</th>\n      <th>comp3_inv</th>\n      <th>comp3_rate_percent_diff</th>\n      <th>comp4_rate</th>\n      <th>comp4_inv</th>\n      <th>comp4_rate_percent_diff</th>\n      <th>comp5_rate</th>\n      <th>comp5_inv</th>\n      <th>comp5_rate_percent_diff</th>\n      <th>comp6_rate</th>\n      <th>comp6_inv</th>\n      <th>comp6_rate_percent_diff</th>\n      <th>comp7_rate</th>\n      <th>comp7_inv</th>\n      <th>comp7_rate_percent_diff</th>\n      <th>comp8_rate</th>\n      <th>comp8_inv</th>\n      <th>comp8_rate_percent_diff</th>\n      <th>click_bool</th>\n      <th>booking_bool</th>\n      <th>is_test</th>\n      <th>prop_starrating_w0</th>\n      <th>booking_week</th>\n      <th>booking_month</th>\n      <th>booking_dayofyear</th>\n      <th>booking_dayofweek</th>\n      <th>midstay_week</th>\n      <th>midstay_month</th>\n      <th>midstay_dayofyear</th>\n      <th>midstay_dayofweek</th>\n    </tr>\n  </thead>\n  <tbody>\n    <tr>\n      <th>0</th>\n      <td>1</td>\n      <td>12</td>\n      <td>187</td>\n      <td>NaN</td>\n      <td>NaN</td>\n      <td>219</td>\n      <td>893</td>\n      <td>3</td>\n      <td>3.5</td>\n      <td>1</td>\n      <td>2.83</td>\n      <td>0.0438</td>\n      <td>4.95</td>\n      <td>27.0</td>\n      <td>104.77</td>\n      <td>0</td>\n      <td>23246</td>\n      <td>1</td>\n      <td>0</td>\n      <td>4</td>\n      <td>0</td>\n      <td>1</td>\n      <td>1</td>\n      <td>NaN</td>\n      <td>1</td>\n      <td>NaN</td>\n      <td>NaN</td>\n      <td>NaN</td>\n      <td>0.0</td>\n      <td>0.0</td>\n      <td>NaN</td>\n      <td>0.0</td>\n      <td>0.0</td>\n      <td>NaN</td>\n      <td>NaN</td>\n      <td>NaN</td>\n      <td>NaN</td>\n      <td>0.0</td>\n      <td>0.0</td>\n      <td>NaN</td>\n      <td>NaN</td>\n      <td>NaN</td>\n      <td>NaN</td>\n      <td>NaN</td>\n      <td>NaN</td>\n      <td>NaN</td>\n      <td>0.0</td>\n      <td>0.0</td>\n      <td>NaN</td>\n      <td>0.0</td>\n      <td>0.0</td>\n      <td>False</td>\n      <td>3.0</td>\n      <td>14</td>\n      <td>4</td>\n      <td>94</td>\n      <td>3</td>\n      <td>14</td>\n      <td>4</td>\n      <td>94</td>\n      <td>3</td>\n    </tr>\n    <tr>\n      <th>1</th>\n      <td>1</td>\n      <td>12</td>\n      <td>187</td>\n      <td>NaN</td>\n      <td>NaN</td>\n      <td>219</td>\n      <td>10404</td>\n      <td>4</td>\n      <td>4.0</td>\n      <td>1</td>\n      <td>2.20</td>\n      <td>0.0149</td>\n      <td>5.03</td>\n      <td>26.0</td>\n      <td>170.74</td>\n      <td>0</td>\n      <td>23246</td>\n      <td>1</td>\n      <td>0</td>\n      <td>4</td>\n      <td>0</td>\n      <td>1</td>\n      <td>1</td>\n      <td>NaN</td>\n      <td>1</td>\n      <td>NaN</td>\n      <td>NaN</td>\n      <td>NaN</td>\n      <td>NaN</td>\n      <td>NaN</td>\n      <td>NaN</td>\n      <td>0.0</td>\n      <td>0.0</td>\n      <td>NaN</td>\n      <td>NaN</td>\n      <td>NaN</td>\n      <td>NaN</td>\n      <td>0.0</td>\n      <td>1.0</td>\n      <td>NaN</td>\n      <td>NaN</td>\n      <td>NaN</td>\n      <td>NaN</td>\n      <td>NaN</td>\n      <td>NaN</td>\n      <td>NaN</td>\n      <td>0.0</td>\n      <td>0.0</td>\n      <td>NaN</td>\n      <td>0.0</td>\n      <td>0.0</td>\n      <td>False</td>\n      <td>4.0</td>\n      <td>14</td>\n      <td>4</td>\n      <td>94</td>\n      <td>3</td>\n      <td>14</td>\n      <td>4</td>\n      <td>94</td>\n      <td>3</td>\n    </tr>\n    <tr>\n      <th>2</th>\n      <td>1</td>\n      <td>12</td>\n      <td>187</td>\n      <td>NaN</td>\n      <td>NaN</td>\n      <td>219</td>\n      <td>21315</td>\n      <td>3</td>\n      <td>4.5</td>\n      <td>1</td>\n      <td>2.20</td>\n      <td>0.0245</td>\n      <td>4.92</td>\n      <td>21.0</td>\n      <td>179.80</td>\n      <td>0</td>\n      <td>23246</td>\n      <td>1</td>\n      <td>0</td>\n      <td>4</td>\n      <td>0</td>\n      <td>1</td>\n      <td>1</td>\n      <td>NaN</td>\n      <td>1</td>\n      <td>NaN</td>\n      <td>NaN</td>\n      <td>NaN</td>\n      <td>0.0</td>\n      <td>0.0</td>\n      <td>NaN</td>\n      <td>0.0</td>\n      <td>0.0</td>\n      <td>NaN</td>\n      <td>NaN</td>\n      <td>NaN</td>\n      <td>NaN</td>\n      <td>0.0</td>\n      <td>0.0</td>\n      <td>NaN</td>\n      <td>NaN</td>\n      <td>NaN</td>\n      <td>NaN</td>\n      <td>NaN</td>\n      <td>NaN</td>\n      <td>NaN</td>\n      <td>0.0</td>\n      <td>0.0</td>\n      <td>NaN</td>\n      <td>0.0</td>\n      <td>0.0</td>\n      <td>False</td>\n      <td>3.0</td>\n      <td>14</td>\n      <td>4</td>\n      <td>94</td>\n      <td>3</td>\n      <td>14</td>\n      <td>4</td>\n      <td>94</td>\n      <td>3</td>\n    </tr>\n    <tr>\n      <th>3</th>\n      <td>1</td>\n      <td>12</td>\n      <td>187</td>\n      <td>NaN</td>\n      <td>NaN</td>\n      <td>219</td>\n      <td>27348</td>\n      <td>2</td>\n      <td>4.0</td>\n      <td>1</td>\n      <td>2.83</td>\n      <td>0.0125</td>\n      <td>4.39</td>\n      <td>34.0</td>\n      <td>602.77</td>\n      <td>0</td>\n      <td>23246</td>\n      <td>1</td>\n      <td>0</td>\n      <td>4</td>\n      <td>0</td>\n      <td>1</td>\n      <td>1</td>\n      <td>NaN</td>\n      <td>1</td>\n      <td>NaN</td>\n      <td>NaN</td>\n      <td>NaN</td>\n      <td>-1.0</td>\n      <td>0.0</td>\n      <td>5.0</td>\n      <td>-1.0</td>\n      <td>0.0</td>\n      <td>5.0</td>\n      <td>NaN</td>\n      <td>NaN</td>\n      <td>NaN</td>\n      <td>0.0</td>\n      <td>1.0</td>\n      <td>NaN</td>\n      <td>NaN</td>\n      <td>NaN</td>\n      <td>NaN</td>\n      <td>NaN</td>\n      <td>NaN</td>\n      <td>NaN</td>\n      <td>-1.0</td>\n      <td>0.0</td>\n      <td>5.0</td>\n      <td>0.0</td>\n      <td>0.0</td>\n      <td>False</td>\n      <td>2.0</td>\n      <td>14</td>\n      <td>4</td>\n      <td>94</td>\n      <td>3</td>\n      <td>14</td>\n      <td>4</td>\n      <td>94</td>\n      <td>3</td>\n    </tr>\n    <tr>\n      <th>4</th>\n      <td>1</td>\n      <td>12</td>\n      <td>187</td>\n      <td>NaN</td>\n      <td>NaN</td>\n      <td>219</td>\n      <td>29604</td>\n      <td>4</td>\n      <td>3.5</td>\n      <td>1</td>\n      <td>2.64</td>\n      <td>0.1241</td>\n      <td>4.93</td>\n      <td>4.0</td>\n      <td>143.58</td>\n      <td>0</td>\n      <td>23246</td>\n      <td>1</td>\n      <td>0</td>\n      <td>4</td>\n      <td>0</td>\n      <td>1</td>\n      <td>1</td>\n      <td>NaN</td>\n      <td>1</td>\n      <td>NaN</td>\n      <td>NaN</td>\n      <td>NaN</td>\n      <td>0.0</td>\n      <td>0.0</td>\n      <td>NaN</td>\n      <td>0.0</td>\n      <td>0.0</td>\n      <td>NaN</td>\n      <td>NaN</td>\n      <td>NaN</td>\n      <td>NaN</td>\n      <td>0.0</td>\n      <td>0.0</td>\n      <td>NaN</td>\n      <td>NaN</td>\n      <td>NaN</td>\n      <td>NaN</td>\n      <td>NaN</td>\n      <td>NaN</td>\n      <td>NaN</td>\n      <td>0.0</td>\n      <td>0.0</td>\n      <td>NaN</td>\n      <td>0.0</td>\n      <td>0.0</td>\n      <td>False</td>\n      <td>4.0</td>\n      <td>14</td>\n      <td>4</td>\n      <td>94</td>\n      <td>3</td>\n      <td>14</td>\n      <td>4</td>\n      <td>94</td>\n      <td>3</td>\n    </tr>\n    <tr>\n      <th>...</th>\n      <td>...</td>\n      <td>...</td>\n      <td>...</td>\n      <td>...</td>\n      <td>...</td>\n      <td>...</td>\n      <td>...</td>\n      <td>...</td>\n      <td>...</td>\n      <td>...</td>\n      <td>...</td>\n      <td>...</td>\n      <td>...</td>\n      <td>...</td>\n      <td>...</td>\n      <td>...</td>\n      <td>...</td>\n      <td>...</td>\n      <td>...</td>\n      <td>...</td>\n      <td>...</td>\n      <td>...</td>\n      <td>...</td>\n      <td>...</td>\n      <td>...</td>\n      <td>...</td>\n      <td>...</td>\n      <td>...</td>\n      <td>...</td>\n      <td>...</td>\n      <td>...</td>\n      <td>...</td>\n      <td>...</td>\n      <td>...</td>\n      <td>...</td>\n      <td>...</td>\n      <td>...</td>\n      <td>...</td>\n      <td>...</td>\n      <td>...</td>\n      <td>...</td>\n      <td>...</td>\n      <td>...</td>\n      <td>...</td>\n      <td>...</td>\n      <td>...</td>\n      <td>...</td>\n      <td>...</td>\n      <td>...</td>\n      <td>...</td>\n      <td>...</td>\n      <td>...</td>\n      <td>...</td>\n      <td>...</td>\n      <td>...</td>\n      <td>...</td>\n      <td>...</td>\n      <td>...</td>\n      <td>...</td>\n      <td>...</td>\n      <td>...</td>\n    </tr>\n    <tr>\n      <th>9917525</th>\n      <td>665572</td>\n      <td>24</td>\n      <td>216</td>\n      <td>NaN</td>\n      <td>NaN</td>\n      <td>117</td>\n      <td>32019</td>\n      <td>4</td>\n      <td>3.5</td>\n      <td>0</td>\n      <td>2.48</td>\n      <td>0.0551</td>\n      <td>4.53</td>\n      <td>NaN</td>\n      <td>66.07</td>\n      <td>0</td>\n      <td>19246</td>\n      <td>2</td>\n      <td>7</td>\n      <td>1</td>\n      <td>0</td>\n      <td>1</td>\n      <td>0</td>\n      <td>NaN</td>\n      <td>0</td>\n      <td>NaN</td>\n      <td>NaN</td>\n      <td>NaN</td>\n      <td>1.0</td>\n      <td>0.0</td>\n      <td>22.0</td>\n      <td>1.0</td>\n      <td>0.0</td>\n      <td>127.0</td>\n      <td>-1.0</td>\n      <td>0.0</td>\n      <td>27.0</td>\n      <td>1.0</td>\n      <td>0.0</td>\n      <td>22.0</td>\n      <td>NaN</td>\n      <td>NaN</td>\n      <td>NaN</td>\n      <td>NaN</td>\n      <td>NaN</td>\n      <td>NaN</td>\n      <td>NaN</td>\n      <td>NaN</td>\n      <td>NaN</td>\n      <td>NaN</td>\n      <td>NaN</td>\n      <td>True</td>\n      <td>4.0</td>\n      <td>21</td>\n      <td>5</td>\n      <td>141</td>\n      <td>1</td>\n      <td>22</td>\n      <td>5</td>\n      <td>149</td>\n      <td>2</td>\n    </tr>\n    <tr>\n      <th>9917526</th>\n      <td>665572</td>\n      <td>24</td>\n      <td>216</td>\n      <td>NaN</td>\n      <td>NaN</td>\n      <td>117</td>\n      <td>33959</td>\n      <td>4</td>\n      <td>3.0</td>\n      <td>1</td>\n      <td>2.20</td>\n      <td>0.3344</td>\n      <td>4.39</td>\n      <td>NaN</td>\n      <td>67.10</td>\n      <td>0</td>\n      <td>19246</td>\n      <td>2</td>\n      <td>7</td>\n      <td>1</td>\n      <td>0</td>\n      <td>1</td>\n      <td>0</td>\n      <td>NaN</td>\n      <td>0</td>\n      <td>NaN</td>\n      <td>NaN</td>\n      <td>NaN</td>\n      <td>0.0</td>\n      <td>0.0</td>\n      <td>NaN</td>\n      <td>0.0</td>\n      <td>0.0</td>\n      <td>NaN</td>\n      <td>0.0</td>\n      <td>0.0</td>\n      <td>16.0</td>\n      <td>1.0</td>\n      <td>0.0</td>\n      <td>22.0</td>\n      <td>NaN</td>\n      <td>NaN</td>\n      <td>NaN</td>\n      <td>NaN</td>\n      <td>NaN</td>\n      <td>NaN</td>\n      <td>NaN</td>\n      <td>NaN</td>\n      <td>NaN</td>\n      <td>NaN</td>\n      <td>NaN</td>\n      <td>True</td>\n      <td>4.0</td>\n      <td>21</td>\n      <td>5</td>\n      <td>141</td>\n      <td>1</td>\n      <td>22</td>\n      <td>5</td>\n      <td>149</td>\n      <td>2</td>\n    </tr>\n    <tr>\n      <th>9917527</th>\n      <td>665572</td>\n      <td>24</td>\n      <td>216</td>\n      <td>NaN</td>\n      <td>NaN</td>\n      <td>117</td>\n      <td>35240</td>\n      <td>4</td>\n      <td>NaN</td>\n      <td>0</td>\n      <td>1.79</td>\n      <td>NaN</td>\n      <td>4.64</td>\n      <td>NaN</td>\n      <td>73.91</td>\n      <td>0</td>\n      <td>19246</td>\n      <td>2</td>\n      <td>7</td>\n      <td>1</td>\n      <td>0</td>\n      <td>1</td>\n      <td>0</td>\n      <td>NaN</td>\n      <td>0</td>\n      <td>NaN</td>\n      <td>NaN</td>\n      <td>NaN</td>\n      <td>1.0</td>\n      <td>0.0</td>\n      <td>55.0</td>\n      <td>0.0</td>\n      <td>0.0</td>\n      <td>NaN</td>\n      <td>0.0</td>\n      <td>0.0</td>\n      <td>16.0</td>\n      <td>0.0</td>\n      <td>0.0</td>\n      <td>3.0</td>\n      <td>NaN</td>\n      <td>NaN</td>\n      <td>NaN</td>\n      <td>NaN</td>\n      <td>NaN</td>\n      <td>NaN</td>\n      <td>NaN</td>\n      <td>NaN</td>\n      <td>NaN</td>\n      <td>NaN</td>\n      <td>NaN</td>\n      <td>True</td>\n      <td>4.0</td>\n      <td>21</td>\n      <td>5</td>\n      <td>141</td>\n      <td>1</td>\n      <td>22</td>\n      <td>5</td>\n      <td>149</td>\n      <td>2</td>\n    </tr>\n    <tr>\n      <th>9917528</th>\n      <td>665572</td>\n      <td>24</td>\n      <td>216</td>\n      <td>NaN</td>\n      <td>NaN</td>\n      <td>117</td>\n      <td>94437</td>\n      <td>4</td>\n      <td>NaN</td>\n      <td>0</td>\n      <td>2.94</td>\n      <td>0.0928</td>\n      <td>4.64</td>\n      <td>NaN</td>\n      <td>66.07</td>\n      <td>0</td>\n      <td>19246</td>\n      <td>2</td>\n      <td>7</td>\n      <td>1</td>\n      <td>0</td>\n      <td>1</td>\n      <td>0</td>\n      <td>NaN</td>\n      <td>0</td>\n      <td>NaN</td>\n      <td>NaN</td>\n      <td>NaN</td>\n      <td>1.0</td>\n      <td>0.0</td>\n      <td>43.0</td>\n      <td>1.0</td>\n      <td>0.0</td>\n      <td>43.0</td>\n      <td>-1.0</td>\n      <td>0.0</td>\n      <td>12.0</td>\n      <td>-1.0</td>\n      <td>0.0</td>\n      <td>12.0</td>\n      <td>NaN</td>\n      <td>NaN</td>\n      <td>NaN</td>\n      <td>NaN</td>\n      <td>NaN</td>\n      <td>NaN</td>\n      <td>NaN</td>\n      <td>NaN</td>\n      <td>NaN</td>\n      <td>NaN</td>\n      <td>NaN</td>\n      <td>True</td>\n      <td>4.0</td>\n      <td>21</td>\n      <td>5</td>\n      <td>141</td>\n      <td>1</td>\n      <td>22</td>\n      <td>5</td>\n      <td>149</td>\n      <td>2</td>\n    </tr>\n    <tr>\n      <th>9917529</th>\n      <td>665572</td>\n      <td>24</td>\n      <td>216</td>\n      <td>NaN</td>\n      <td>NaN</td>\n      <td>117</td>\n      <td>99509</td>\n      <td>4</td>\n      <td>4.5</td>\n      <td>1</td>\n      <td>2.08</td>\n      <td>0.0344</td>\n      <td>4.64</td>\n      <td>NaN</td>\n      <td>82.06</td>\n      <td>0</td>\n      <td>19246</td>\n      <td>2</td>\n      <td>7</td>\n      <td>1</td>\n      <td>0</td>\n      <td>1</td>\n      <td>0</td>\n      <td>NaN</td>\n      <td>0</td>\n      <td>NaN</td>\n      <td>NaN</td>\n      <td>NaN</td>\n      <td>0.0</td>\n      <td>0.0</td>\n      <td>NaN</td>\n      <td>0.0</td>\n      <td>0.0</td>\n      <td>NaN</td>\n      <td>0.0</td>\n      <td>0.0</td>\n      <td>16.0</td>\n      <td>0.0</td>\n      <td>0.0</td>\n      <td>NaN</td>\n      <td>NaN</td>\n      <td>NaN</td>\n      <td>NaN</td>\n      <td>NaN</td>\n      <td>NaN</td>\n      <td>NaN</td>\n      <td>NaN</td>\n      <td>NaN</td>\n      <td>NaN</td>\n      <td>NaN</td>\n      <td>NaN</td>\n      <td>True</td>\n      <td>4.0</td>\n      <td>21</td>\n      <td>5</td>\n      <td>141</td>\n      <td>1</td>\n      <td>22</td>\n      <td>5</td>\n      <td>149</td>\n      <td>2</td>\n    </tr>\n  </tbody>\n</table>\n<p>9917530 rows × 61 columns</p>\n</div>"
     },
     "execution_count": 21,
     "metadata": {},
     "output_type": "execute_result"
    }
   ],
   "source": [
    "df"
   ],
   "metadata": {
    "collapsed": false,
    "ExecuteTime": {
     "end_time": "2023-05-24T15:12:29.381359888Z",
     "start_time": "2023-05-24T15:12:29.366541285Z"
    }
   }
  },
  {
   "cell_type": "code",
   "execution_count": 22,
   "metadata": {
    "ExecuteTime": {
     "end_time": "2023-05-24T15:12:29.396895024Z",
     "start_time": "2023-05-24T15:12:29.369624186Z"
    }
   },
   "outputs": [],
   "source": [
    "# TODO:\n",
    "# get a smart booking_period_congestion (per prop, dest)\n",
    "# for each property and destination get a day-of-year load schedule\n",
    "# for each search period do a sum over the booked days, this is the congestion of the booking"
   ]
  },
  {
   "cell_type": "markdown",
   "metadata": {},
   "source": [
    "# Numerical column normalization"
   ]
  },
  {
   "cell_type": "code",
   "execution_count": 23,
   "metadata": {
    "ExecuteTime": {
     "end_time": "2023-05-24T15:12:29.446447559Z",
     "start_time": "2023-05-24T15:12:29.387947876Z"
    }
   },
   "outputs": [],
   "source": [
    "# get average price per property - not a good idea, price can be total or per-room, with or without taxes\n",
    "# get average price per destination, prop_starrating - not a good idea, price can be total or per-room, with or without taxes\n",
    "# get average price per destination, prop_starrating, prop_review_score - same\n",
    "# get average price per destination - same"
   ]
  },
  {
   "cell_type": "markdown",
   "metadata": {},
   "source": [
    "## prop_starrating"
   ]
  },
  {
   "cell_type": "code",
   "execution_count": 24,
   "metadata": {
    "ExecuteTime": {
     "end_time": "2023-05-24T15:12:29.446546095Z",
     "start_time": "2023-05-24T15:12:29.430049576Z"
    }
   },
   "outputs": [],
   "source": [
    "def to_list(v):\n",
    "    if hasattr(v, '__iter__') and type(v) != str:\n",
    "        return v\n",
    "    else:\n",
    "        return [v]"
   ]
  },
  {
   "cell_type": "code",
   "execution_count": 25,
   "metadata": {
    "ExecuteTime": {
     "end_time": "2023-05-24T15:12:29.446594013Z",
     "start_time": "2023-05-24T15:12:29.430170162Z"
    }
   },
   "outputs": [],
   "source": [
    "def make_aggregate_feature(groupby, col, transform='z', use_median=False, filter_query=None):\n",
    "    gl = to_list(groupby)\n",
    "    l = list(set(gl + ['srch_id', 'prop_id', col]))\n",
    "    tmp = df.query(filter_query) if filter_query else df\n",
    "    tmp = tmp[l].groupby(groupby).agg(\n",
    "        col_avg = (col, 'mean'),\n",
    "        col_med = (col, 'median'),\n",
    "        col_std = (col, 'std'),\n",
    "    )\n",
    "    print(f'{tmp.col_std.isna().sum() / len(tmp):.2} NAs')\n",
    "\n",
    "    tmp1 = df[l].set_index(gl)\n",
    "    tmp1 = tmp1.join(tmp, how='left')\n",
    "    if transform == 'z':\n",
    "        res_col = f'{col}_z_{\"__\".join(gl)}'\n",
    "        tmp1[res_col] = (tmp1[col] - (tmp1.col_med if use_median else tmp1.col_avg)) / tmp1.col_std\n",
    "    elif transform == 'log_diff':\n",
    "        res_col = f'{col}_ld_{\"__\".join(gl)}'\n",
    "        tmp1[res_col] = np.log(tmp1[col]) - np.log(tmp1.col_med if use_median else tmp1.col_avg)\n",
    "    elif transform == 'diff':\n",
    "        res_col = f'{col}_d_{\"__\".join(gl)}'\n",
    "        tmp1[res_col] = tmp1[col] - (tmp1.col_med if use_median else tmp1.col_avg)\n",
    "    else:\n",
    "        assert False, f'unsupported transform \"{transform}\"'\n",
    "    tmp1 = tmp1.reset_index().set_index(['srch_id', 'prop_id']).sort_index()\n",
    "    return tmp1.drop(columns=[c for c in tmp1.columns if c != res_col])"
   ]
  },
  {
   "cell_type": "code",
   "execution_count": 26,
   "metadata": {
    "ExecuteTime": {
     "end_time": "2023-05-24T15:12:32.771762574Z",
     "start_time": "2023-05-24T15:12:29.430265608Z"
    }
   },
   "outputs": [
    {
     "name": "stdout",
     "output_type": "stream",
     "text": [
      "0.0023 NAs\n"
     ]
    },
    {
     "data": {
      "text/plain": "                 prop_starrating_w0_d_srch_destination_id\nsrch_id prop_id                                          \n1       893                                           0.0\n        10404                                         1.0\n        21315                                         0.0\n        27348                                        -1.0\n        29604                                         1.0\n...                                                   ...\n665572  32019                                         0.0\n        33959                                         0.0\n        35240                                         0.0\n        94437                                         0.0\n        99509                                         0.0\n\n[9917530 rows x 1 columns]",
      "text/html": "<div>\n<style scoped>\n    .dataframe tbody tr th:only-of-type {\n        vertical-align: middle;\n    }\n\n    .dataframe tbody tr th {\n        vertical-align: top;\n    }\n\n    .dataframe thead th {\n        text-align: right;\n    }\n</style>\n<table border=\"1\" class=\"dataframe\">\n  <thead>\n    <tr style=\"text-align: right;\">\n      <th></th>\n      <th></th>\n      <th>prop_starrating_w0_d_srch_destination_id</th>\n    </tr>\n    <tr>\n      <th>srch_id</th>\n      <th>prop_id</th>\n      <th></th>\n    </tr>\n  </thead>\n  <tbody>\n    <tr>\n      <th rowspan=\"5\" valign=\"top\">1</th>\n      <th>893</th>\n      <td>0.0</td>\n    </tr>\n    <tr>\n      <th>10404</th>\n      <td>1.0</td>\n    </tr>\n    <tr>\n      <th>21315</th>\n      <td>0.0</td>\n    </tr>\n    <tr>\n      <th>27348</th>\n      <td>-1.0</td>\n    </tr>\n    <tr>\n      <th>29604</th>\n      <td>1.0</td>\n    </tr>\n    <tr>\n      <th>...</th>\n      <th>...</th>\n      <td>...</td>\n    </tr>\n    <tr>\n      <th rowspan=\"5\" valign=\"top\">665572</th>\n      <th>32019</th>\n      <td>0.0</td>\n    </tr>\n    <tr>\n      <th>33959</th>\n      <td>0.0</td>\n    </tr>\n    <tr>\n      <th>35240</th>\n      <td>0.0</td>\n    </tr>\n    <tr>\n      <th>94437</th>\n      <td>0.0</td>\n    </tr>\n    <tr>\n      <th>99509</th>\n      <td>0.0</td>\n    </tr>\n  </tbody>\n</table>\n<p>9917530 rows × 1 columns</p>\n</div>"
     },
     "execution_count": 26,
     "metadata": {},
     "output_type": "execute_result"
    }
   ],
   "source": [
    "# the average property star rating per destination\n",
    "tosub_prop_starrating_per_dest = make_aggregate_feature(groupby ='srch_destination_id', col ='prop_starrating_w0', transform='diff', use_median=True)\n",
    "tosub_prop_starrating_per_dest"
   ]
  },
  {
   "cell_type": "code",
   "execution_count": 27,
   "metadata": {
    "ExecuteTime": {
     "end_time": "2023-05-24T15:12:35.440440440Z",
     "start_time": "2023-05-24T15:12:32.795038874Z"
    }
   },
   "outputs": [
    {
     "name": "stdout",
     "output_type": "stream",
     "text": [
      "0.00096 NAs\n"
     ]
    },
    {
     "data": {
      "text/plain": "                 prop_starrating_w0_d_srch_id\nsrch_id prop_id                              \n1       893                               0.0\n        10404                             1.0\n        21315                             0.0\n        27348                            -1.0\n        29604                             1.0\n...                                       ...\n665572  32019                             0.0\n        33959                             0.0\n        35240                             0.0\n        94437                             0.0\n        99509                             0.0\n\n[9917530 rows x 1 columns]",
      "text/html": "<div>\n<style scoped>\n    .dataframe tbody tr th:only-of-type {\n        vertical-align: middle;\n    }\n\n    .dataframe tbody tr th {\n        vertical-align: top;\n    }\n\n    .dataframe thead th {\n        text-align: right;\n    }\n</style>\n<table border=\"1\" class=\"dataframe\">\n  <thead>\n    <tr style=\"text-align: right;\">\n      <th></th>\n      <th></th>\n      <th>prop_starrating_w0_d_srch_id</th>\n    </tr>\n    <tr>\n      <th>srch_id</th>\n      <th>prop_id</th>\n      <th></th>\n    </tr>\n  </thead>\n  <tbody>\n    <tr>\n      <th rowspan=\"5\" valign=\"top\">1</th>\n      <th>893</th>\n      <td>0.0</td>\n    </tr>\n    <tr>\n      <th>10404</th>\n      <td>1.0</td>\n    </tr>\n    <tr>\n      <th>21315</th>\n      <td>0.0</td>\n    </tr>\n    <tr>\n      <th>27348</th>\n      <td>-1.0</td>\n    </tr>\n    <tr>\n      <th>29604</th>\n      <td>1.0</td>\n    </tr>\n    <tr>\n      <th>...</th>\n      <th>...</th>\n      <td>...</td>\n    </tr>\n    <tr>\n      <th rowspan=\"5\" valign=\"top\">665572</th>\n      <th>32019</th>\n      <td>0.0</td>\n    </tr>\n    <tr>\n      <th>33959</th>\n      <td>0.0</td>\n    </tr>\n    <tr>\n      <th>35240</th>\n      <td>0.0</td>\n    </tr>\n    <tr>\n      <th>94437</th>\n      <td>0.0</td>\n    </tr>\n    <tr>\n      <th>99509</th>\n      <td>0.0</td>\n    </tr>\n  </tbody>\n</table>\n<p>9917530 rows × 1 columns</p>\n</div>"
     },
     "execution_count": 27,
     "metadata": {},
     "output_type": "execute_result"
    }
   ],
   "source": [
    "norm_prop_starrating_per_srch = make_aggregate_feature(groupby ='srch_id', col ='prop_starrating_w0', transform='diff', use_median=True)\n",
    "norm_prop_starrating_per_srch"
   ]
  },
  {
   "cell_type": "code",
   "execution_count": 28,
   "outputs": [],
   "source": [
    "df['hist_starrating_diff'] = df['visitor_hist_starrating'] - df['prop_starrating']"
   ],
   "metadata": {
    "collapsed": false,
    "ExecuteTime": {
     "end_time": "2023-05-24T15:12:35.470834178Z",
     "start_time": "2023-05-24T15:12:35.436519570Z"
    }
   }
  },
  {
   "cell_type": "markdown",
   "metadata": {},
   "source": [
    "## prop_review_score"
   ]
  },
  {
   "cell_type": "code",
   "execution_count": 29,
   "outputs": [
    {
     "name": "stdout",
     "output_type": "stream",
     "text": [
      "0.0051 NAs\n"
     ]
    },
    {
     "data": {
      "text/plain": "                 prop_review_score_d_srch_destination_id\nsrch_id prop_id                                         \n1       893                                         -0.5\n        10404                                        0.0\n        21315                                        0.5\n        27348                                        0.0\n        29604                                       -0.5\n...                                                  ...\n665572  32019                                       -0.5\n        33959                                       -1.0\n        35240                                        NaN\n        94437                                        NaN\n        99509                                        0.5\n\n[9917530 rows x 1 columns]",
      "text/html": "<div>\n<style scoped>\n    .dataframe tbody tr th:only-of-type {\n        vertical-align: middle;\n    }\n\n    .dataframe tbody tr th {\n        vertical-align: top;\n    }\n\n    .dataframe thead th {\n        text-align: right;\n    }\n</style>\n<table border=\"1\" class=\"dataframe\">\n  <thead>\n    <tr style=\"text-align: right;\">\n      <th></th>\n      <th></th>\n      <th>prop_review_score_d_srch_destination_id</th>\n    </tr>\n    <tr>\n      <th>srch_id</th>\n      <th>prop_id</th>\n      <th></th>\n    </tr>\n  </thead>\n  <tbody>\n    <tr>\n      <th rowspan=\"5\" valign=\"top\">1</th>\n      <th>893</th>\n      <td>-0.5</td>\n    </tr>\n    <tr>\n      <th>10404</th>\n      <td>0.0</td>\n    </tr>\n    <tr>\n      <th>21315</th>\n      <td>0.5</td>\n    </tr>\n    <tr>\n      <th>27348</th>\n      <td>0.0</td>\n    </tr>\n    <tr>\n      <th>29604</th>\n      <td>-0.5</td>\n    </tr>\n    <tr>\n      <th>...</th>\n      <th>...</th>\n      <td>...</td>\n    </tr>\n    <tr>\n      <th rowspan=\"5\" valign=\"top\">665572</th>\n      <th>32019</th>\n      <td>-0.5</td>\n    </tr>\n    <tr>\n      <th>33959</th>\n      <td>-1.0</td>\n    </tr>\n    <tr>\n      <th>35240</th>\n      <td>NaN</td>\n    </tr>\n    <tr>\n      <th>94437</th>\n      <td>NaN</td>\n    </tr>\n    <tr>\n      <th>99509</th>\n      <td>0.5</td>\n    </tr>\n  </tbody>\n</table>\n<p>9917530 rows × 1 columns</p>\n</div>"
     },
     "execution_count": 29,
     "metadata": {},
     "output_type": "execute_result"
    }
   ],
   "source": [
    "tosub_prop_review_score_per_dest = make_aggregate_feature(groupby = ['srch_destination_id'], col ='prop_review_score', transform='diff', use_median=True)\n",
    "tosub_prop_review_score_per_dest"
   ],
   "metadata": {
    "collapsed": false,
    "ExecuteTime": {
     "end_time": "2023-05-24T15:12:38.760849603Z",
     "start_time": "2023-05-24T15:12:35.497291597Z"
    }
   }
  },
  {
   "cell_type": "code",
   "execution_count": 30,
   "metadata": {
    "ExecuteTime": {
     "end_time": "2023-05-24T15:12:45.363754636Z",
     "start_time": "2023-05-24T15:12:38.798821502Z"
    }
   },
   "outputs": [
    {
     "name": "stdout",
     "output_type": "stream",
     "text": [
      "0.16 NAs\n"
     ]
    },
    {
     "data": {
      "text/plain": "                 prop_review_score_d_srch_destination_id__prop_starrating\nsrch_id prop_id                                                          \n1       893                                                   -0.5       \n        10404                                                  0.0       \n        21315                                                  0.5       \n        27348                                                  0.5       \n        29604                                                 -0.5       \n...                                                            ...       \n665572  32019                                                 -0.5       \n        33959                                                 -1.0       \n        35240                                                  NaN       \n        94437                                                  NaN       \n        99509                                                  0.5       \n\n[9917530 rows x 1 columns]",
      "text/html": "<div>\n<style scoped>\n    .dataframe tbody tr th:only-of-type {\n        vertical-align: middle;\n    }\n\n    .dataframe tbody tr th {\n        vertical-align: top;\n    }\n\n    .dataframe thead th {\n        text-align: right;\n    }\n</style>\n<table border=\"1\" class=\"dataframe\">\n  <thead>\n    <tr style=\"text-align: right;\">\n      <th></th>\n      <th></th>\n      <th>prop_review_score_d_srch_destination_id__prop_starrating</th>\n    </tr>\n    <tr>\n      <th>srch_id</th>\n      <th>prop_id</th>\n      <th></th>\n    </tr>\n  </thead>\n  <tbody>\n    <tr>\n      <th rowspan=\"5\" valign=\"top\">1</th>\n      <th>893</th>\n      <td>-0.5</td>\n    </tr>\n    <tr>\n      <th>10404</th>\n      <td>0.0</td>\n    </tr>\n    <tr>\n      <th>21315</th>\n      <td>0.5</td>\n    </tr>\n    <tr>\n      <th>27348</th>\n      <td>0.5</td>\n    </tr>\n    <tr>\n      <th>29604</th>\n      <td>-0.5</td>\n    </tr>\n    <tr>\n      <th>...</th>\n      <th>...</th>\n      <td>...</td>\n    </tr>\n    <tr>\n      <th rowspan=\"5\" valign=\"top\">665572</th>\n      <th>32019</th>\n      <td>-0.5</td>\n    </tr>\n    <tr>\n      <th>33959</th>\n      <td>-1.0</td>\n    </tr>\n    <tr>\n      <th>35240</th>\n      <td>NaN</td>\n    </tr>\n    <tr>\n      <th>94437</th>\n      <td>NaN</td>\n    </tr>\n    <tr>\n      <th>99509</th>\n      <td>0.5</td>\n    </tr>\n  </tbody>\n</table>\n<p>9917530 rows × 1 columns</p>\n</div>"
     },
     "execution_count": 30,
     "metadata": {},
     "output_type": "execute_result"
    }
   ],
   "source": [
    "tosub_prop_review_score_per_dest_prop_starrating = make_aggregate_feature(groupby = ['srch_destination_id', 'prop_starrating'], col ='prop_review_score', transform='diff', use_median=True)\n",
    "tosub_prop_review_score_per_dest_prop_starrating"
   ]
  },
  {
   "cell_type": "code",
   "execution_count": 31,
   "metadata": {
    "ExecuteTime": {
     "end_time": "2023-05-24T15:12:47.994030288Z",
     "start_time": "2023-05-24T15:12:45.388195432Z"
    }
   },
   "outputs": [
    {
     "name": "stdout",
     "output_type": "stream",
     "text": [
      "0.00086 NAs\n"
     ]
    },
    {
     "data": {
      "text/plain": "                 prop_review_score_d_srch_id\nsrch_id prop_id                             \n1       893                            -0.25\n        10404                           0.25\n        21315                           0.75\n        27348                           0.25\n        29604                          -0.25\n...                                      ...\n665572  32019                          -1.00\n        33959                          -1.50\n        35240                            NaN\n        94437                            NaN\n        99509                           0.00\n\n[9917530 rows x 1 columns]",
      "text/html": "<div>\n<style scoped>\n    .dataframe tbody tr th:only-of-type {\n        vertical-align: middle;\n    }\n\n    .dataframe tbody tr th {\n        vertical-align: top;\n    }\n\n    .dataframe thead th {\n        text-align: right;\n    }\n</style>\n<table border=\"1\" class=\"dataframe\">\n  <thead>\n    <tr style=\"text-align: right;\">\n      <th></th>\n      <th></th>\n      <th>prop_review_score_d_srch_id</th>\n    </tr>\n    <tr>\n      <th>srch_id</th>\n      <th>prop_id</th>\n      <th></th>\n    </tr>\n  </thead>\n  <tbody>\n    <tr>\n      <th rowspan=\"5\" valign=\"top\">1</th>\n      <th>893</th>\n      <td>-0.25</td>\n    </tr>\n    <tr>\n      <th>10404</th>\n      <td>0.25</td>\n    </tr>\n    <tr>\n      <th>21315</th>\n      <td>0.75</td>\n    </tr>\n    <tr>\n      <th>27348</th>\n      <td>0.25</td>\n    </tr>\n    <tr>\n      <th>29604</th>\n      <td>-0.25</td>\n    </tr>\n    <tr>\n      <th>...</th>\n      <th>...</th>\n      <td>...</td>\n    </tr>\n    <tr>\n      <th rowspan=\"5\" valign=\"top\">665572</th>\n      <th>32019</th>\n      <td>-1.00</td>\n    </tr>\n    <tr>\n      <th>33959</th>\n      <td>-1.50</td>\n    </tr>\n    <tr>\n      <th>35240</th>\n      <td>NaN</td>\n    </tr>\n    <tr>\n      <th>94437</th>\n      <td>NaN</td>\n    </tr>\n    <tr>\n      <th>99509</th>\n      <td>0.00</td>\n    </tr>\n  </tbody>\n</table>\n<p>9917530 rows × 1 columns</p>\n</div>"
     },
     "execution_count": 31,
     "metadata": {},
     "output_type": "execute_result"
    }
   ],
   "source": [
    "norm_prop_review_score_per_srch = make_aggregate_feature(groupby ='srch_id', col ='prop_review_score', transform='diff', use_median=True)\n",
    "norm_prop_review_score_per_srch"
   ]
  },
  {
   "cell_type": "markdown",
   "metadata": {},
   "source": [
    "## prop_location_score1"
   ]
  },
  {
   "cell_type": "code",
   "execution_count": 32,
   "outputs": [
    {
     "name": "stdout",
     "output_type": "stream",
     "text": [
      "0.0 NAs\n"
     ]
    },
    {
     "data": {
      "text/plain": "                 prop_location_score1_d_srch_destination_id\nsrch_id prop_id                                            \n1       893                                            0.53\n        10404                                         -0.10\n        21315                                         -0.10\n        27348                                          0.53\n        29604                                          0.34\n...                                                     ...\n665572  32019                                          0.18\n        33959                                         -0.10\n        35240                                         -0.51\n        94437                                          0.64\n        99509                                         -0.22\n\n[9917530 rows x 1 columns]",
      "text/html": "<div>\n<style scoped>\n    .dataframe tbody tr th:only-of-type {\n        vertical-align: middle;\n    }\n\n    .dataframe tbody tr th {\n        vertical-align: top;\n    }\n\n    .dataframe thead th {\n        text-align: right;\n    }\n</style>\n<table border=\"1\" class=\"dataframe\">\n  <thead>\n    <tr style=\"text-align: right;\">\n      <th></th>\n      <th></th>\n      <th>prop_location_score1_d_srch_destination_id</th>\n    </tr>\n    <tr>\n      <th>srch_id</th>\n      <th>prop_id</th>\n      <th></th>\n    </tr>\n  </thead>\n  <tbody>\n    <tr>\n      <th rowspan=\"5\" valign=\"top\">1</th>\n      <th>893</th>\n      <td>0.53</td>\n    </tr>\n    <tr>\n      <th>10404</th>\n      <td>-0.10</td>\n    </tr>\n    <tr>\n      <th>21315</th>\n      <td>-0.10</td>\n    </tr>\n    <tr>\n      <th>27348</th>\n      <td>0.53</td>\n    </tr>\n    <tr>\n      <th>29604</th>\n      <td>0.34</td>\n    </tr>\n    <tr>\n      <th>...</th>\n      <th>...</th>\n      <td>...</td>\n    </tr>\n    <tr>\n      <th rowspan=\"5\" valign=\"top\">665572</th>\n      <th>32019</th>\n      <td>0.18</td>\n    </tr>\n    <tr>\n      <th>33959</th>\n      <td>-0.10</td>\n    </tr>\n    <tr>\n      <th>35240</th>\n      <td>-0.51</td>\n    </tr>\n    <tr>\n      <th>94437</th>\n      <td>0.64</td>\n    </tr>\n    <tr>\n      <th>99509</th>\n      <td>-0.22</td>\n    </tr>\n  </tbody>\n</table>\n<p>9917530 rows × 1 columns</p>\n</div>"
     },
     "execution_count": 32,
     "metadata": {},
     "output_type": "execute_result"
    }
   ],
   "source": [
    "tosub_prop_location_score1_per_dest = make_aggregate_feature(groupby = ['srch_destination_id'], col ='prop_location_score1', transform='diff', use_median=True)\n",
    "tosub_prop_location_score1_per_dest"
   ],
   "metadata": {
    "collapsed": false,
    "ExecuteTime": {
     "end_time": "2023-05-24T15:12:51.380725116Z",
     "start_time": "2023-05-24T15:12:48.024014873Z"
    }
   }
  },
  {
   "cell_type": "code",
   "execution_count": 33,
   "metadata": {
    "ExecuteTime": {
     "end_time": "2023-05-24T15:12:57.750044335Z",
     "start_time": "2023-05-24T15:12:51.346018091Z"
    }
   },
   "outputs": [
    {
     "name": "stdout",
     "output_type": "stream",
     "text": [
      "0.1 NAs\n"
     ]
    },
    {
     "data": {
      "text/plain": "                 prop_location_score1_d_srch_destination_id__prop_starrating\nsrch_id prop_id                                                             \n1       893                                                   0.63          \n        10404                                                -0.44          \n        21315                                                 0.00          \n        27348                                                 0.63          \n        29604                                                 0.00          \n...                                                            ...          \n665572  32019                                                 0.00          \n        33959                                                -0.28          \n        35240                                                -0.69          \n        94437                                                 0.46          \n        99509                                                -0.40          \n\n[9917530 rows x 1 columns]",
      "text/html": "<div>\n<style scoped>\n    .dataframe tbody tr th:only-of-type {\n        vertical-align: middle;\n    }\n\n    .dataframe tbody tr th {\n        vertical-align: top;\n    }\n\n    .dataframe thead th {\n        text-align: right;\n    }\n</style>\n<table border=\"1\" class=\"dataframe\">\n  <thead>\n    <tr style=\"text-align: right;\">\n      <th></th>\n      <th></th>\n      <th>prop_location_score1_d_srch_destination_id__prop_starrating</th>\n    </tr>\n    <tr>\n      <th>srch_id</th>\n      <th>prop_id</th>\n      <th></th>\n    </tr>\n  </thead>\n  <tbody>\n    <tr>\n      <th rowspan=\"5\" valign=\"top\">1</th>\n      <th>893</th>\n      <td>0.63</td>\n    </tr>\n    <tr>\n      <th>10404</th>\n      <td>-0.44</td>\n    </tr>\n    <tr>\n      <th>21315</th>\n      <td>0.00</td>\n    </tr>\n    <tr>\n      <th>27348</th>\n      <td>0.63</td>\n    </tr>\n    <tr>\n      <th>29604</th>\n      <td>0.00</td>\n    </tr>\n    <tr>\n      <th>...</th>\n      <th>...</th>\n      <td>...</td>\n    </tr>\n    <tr>\n      <th rowspan=\"5\" valign=\"top\">665572</th>\n      <th>32019</th>\n      <td>0.00</td>\n    </tr>\n    <tr>\n      <th>33959</th>\n      <td>-0.28</td>\n    </tr>\n    <tr>\n      <th>35240</th>\n      <td>-0.69</td>\n    </tr>\n    <tr>\n      <th>94437</th>\n      <td>0.46</td>\n    </tr>\n    <tr>\n      <th>99509</th>\n      <td>-0.40</td>\n    </tr>\n  </tbody>\n</table>\n<p>9917530 rows × 1 columns</p>\n</div>"
     },
     "execution_count": 33,
     "metadata": {},
     "output_type": "execute_result"
    }
   ],
   "source": [
    "tosub_prop_location_score1_per_dest_prop_starrating = make_aggregate_feature(groupby = ['srch_destination_id', 'prop_starrating'], col ='prop_location_score1', transform='diff', use_median=True)\n",
    "tosub_prop_location_score1_per_dest_prop_starrating"
   ]
  },
  {
   "cell_type": "code",
   "execution_count": 34,
   "outputs": [
    {
     "data": {
      "text/plain": "srch_destination_id\n2        3\n3        1\n5        2\n6        2\n7        1\n        ..\n28412    1\n28413    1\n28414    1\n28415    1\n28416    5\nName: srch_id, Length: 23715, dtype: int64"
     },
     "execution_count": 34,
     "metadata": {},
     "output_type": "execute_result"
    }
   ],
   "source": [
    "# do multiple srch_ids correspond to one srch_destination_id?\n",
    "df.groupby('srch_destination_id').srch_id.nunique() # => yes"
   ],
   "metadata": {
    "collapsed": false,
    "ExecuteTime": {
     "end_time": "2023-05-24T15:12:58.200102062Z",
     "start_time": "2023-05-24T15:12:57.747708964Z"
    }
   }
  },
  {
   "cell_type": "code",
   "execution_count": 35,
   "metadata": {
    "ExecuteTime": {
     "end_time": "2023-05-24T15:13:00.782172722Z",
     "start_time": "2023-05-24T15:12:58.189093923Z"
    }
   },
   "outputs": [
    {
     "name": "stdout",
     "output_type": "stream",
     "text": [
      "0.0 NAs\n"
     ]
    },
    {
     "data": {
      "text/plain": "                 prop_location_score1_d_srch_id\nsrch_id prop_id                                \n1       893                                0.53\n        10404                             -0.10\n        21315                             -0.10\n        27348                              0.53\n        29604                              0.34\n...                                         ...\n665572  32019                              0.18\n        33959                             -0.10\n        35240                             -0.51\n        94437                              0.64\n        99509                             -0.22\n\n[9917530 rows x 1 columns]",
      "text/html": "<div>\n<style scoped>\n    .dataframe tbody tr th:only-of-type {\n        vertical-align: middle;\n    }\n\n    .dataframe tbody tr th {\n        vertical-align: top;\n    }\n\n    .dataframe thead th {\n        text-align: right;\n    }\n</style>\n<table border=\"1\" class=\"dataframe\">\n  <thead>\n    <tr style=\"text-align: right;\">\n      <th></th>\n      <th></th>\n      <th>prop_location_score1_d_srch_id</th>\n    </tr>\n    <tr>\n      <th>srch_id</th>\n      <th>prop_id</th>\n      <th></th>\n    </tr>\n  </thead>\n  <tbody>\n    <tr>\n      <th rowspan=\"5\" valign=\"top\">1</th>\n      <th>893</th>\n      <td>0.53</td>\n    </tr>\n    <tr>\n      <th>10404</th>\n      <td>-0.10</td>\n    </tr>\n    <tr>\n      <th>21315</th>\n      <td>-0.10</td>\n    </tr>\n    <tr>\n      <th>27348</th>\n      <td>0.53</td>\n    </tr>\n    <tr>\n      <th>29604</th>\n      <td>0.34</td>\n    </tr>\n    <tr>\n      <th>...</th>\n      <th>...</th>\n      <td>...</td>\n    </tr>\n    <tr>\n      <th rowspan=\"5\" valign=\"top\">665572</th>\n      <th>32019</th>\n      <td>0.18</td>\n    </tr>\n    <tr>\n      <th>33959</th>\n      <td>-0.10</td>\n    </tr>\n    <tr>\n      <th>35240</th>\n      <td>-0.51</td>\n    </tr>\n    <tr>\n      <th>94437</th>\n      <td>0.64</td>\n    </tr>\n    <tr>\n      <th>99509</th>\n      <td>-0.22</td>\n    </tr>\n  </tbody>\n</table>\n<p>9917530 rows × 1 columns</p>\n</div>"
     },
     "execution_count": 35,
     "metadata": {},
     "output_type": "execute_result"
    }
   ],
   "source": [
    "norm_prop_location_score1_per_srch = make_aggregate_feature(groupby=['srch_id'], col='prop_location_score1', transform='diff', use_median=True)\n",
    "norm_prop_location_score1_per_srch"
   ]
  },
  {
   "cell_type": "code",
   "execution_count": 36,
   "metadata": {
    "ExecuteTime": {
     "end_time": "2023-05-24T15:13:00.783908946Z",
     "start_time": "2023-05-24T15:13:00.781635283Z"
    }
   },
   "outputs": [],
   "source": [
    "#make_aggregate_feature(groupby=['srch_id', 'prop_starrating'], col='prop_location_score1')"
   ]
  },
  {
   "cell_type": "markdown",
   "metadata": {},
   "source": [
    "## prop_location_score2"
   ]
  },
  {
   "cell_type": "code",
   "execution_count": 37,
   "metadata": {
    "ExecuteTime": {
     "end_time": "2023-05-24T15:13:04.137208284Z",
     "start_time": "2023-05-24T15:13:00.783836069Z"
    }
   },
   "outputs": [
    {
     "name": "stdout",
     "output_type": "stream",
     "text": [
      "0.26 NAs\n"
     ]
    },
    {
     "data": {
      "text/plain": "                 prop_location_score2_d_srch_destination_id\nsrch_id prop_id                                            \n1       893                                          0.0274\n        10404                                       -0.0015\n        21315                                        0.0081\n        27348                                       -0.0039\n        29604                                        0.1077\n...                                                     ...\n665572  32019                                       -0.0328\n        33959                                        0.2465\n        35240                                           NaN\n        94437                                        0.0049\n        99509                                       -0.0535\n\n[9917530 rows x 1 columns]",
      "text/html": "<div>\n<style scoped>\n    .dataframe tbody tr th:only-of-type {\n        vertical-align: middle;\n    }\n\n    .dataframe tbody tr th {\n        vertical-align: top;\n    }\n\n    .dataframe thead th {\n        text-align: right;\n    }\n</style>\n<table border=\"1\" class=\"dataframe\">\n  <thead>\n    <tr style=\"text-align: right;\">\n      <th></th>\n      <th></th>\n      <th>prop_location_score2_d_srch_destination_id</th>\n    </tr>\n    <tr>\n      <th>srch_id</th>\n      <th>prop_id</th>\n      <th></th>\n    </tr>\n  </thead>\n  <tbody>\n    <tr>\n      <th rowspan=\"5\" valign=\"top\">1</th>\n      <th>893</th>\n      <td>0.0274</td>\n    </tr>\n    <tr>\n      <th>10404</th>\n      <td>-0.0015</td>\n    </tr>\n    <tr>\n      <th>21315</th>\n      <td>0.0081</td>\n    </tr>\n    <tr>\n      <th>27348</th>\n      <td>-0.0039</td>\n    </tr>\n    <tr>\n      <th>29604</th>\n      <td>0.1077</td>\n    </tr>\n    <tr>\n      <th>...</th>\n      <th>...</th>\n      <td>...</td>\n    </tr>\n    <tr>\n      <th rowspan=\"5\" valign=\"top\">665572</th>\n      <th>32019</th>\n      <td>-0.0328</td>\n    </tr>\n    <tr>\n      <th>33959</th>\n      <td>0.2465</td>\n    </tr>\n    <tr>\n      <th>35240</th>\n      <td>NaN</td>\n    </tr>\n    <tr>\n      <th>94437</th>\n      <td>0.0049</td>\n    </tr>\n    <tr>\n      <th>99509</th>\n      <td>-0.0535</td>\n    </tr>\n  </tbody>\n</table>\n<p>9917530 rows × 1 columns</p>\n</div>"
     },
     "execution_count": 37,
     "metadata": {},
     "output_type": "execute_result"
    }
   ],
   "source": [
    "tosub_prop_location_score2_per_dest_id = make_aggregate_feature(groupby = ['srch_destination_id'], col ='prop_location_score2', transform='diff', use_median=True)\n",
    "tosub_prop_location_score2_per_dest_id"
   ]
  },
  {
   "cell_type": "code",
   "execution_count": 38,
   "metadata": {
    "ExecuteTime": {
     "end_time": "2023-05-24T15:13:10.881635272Z",
     "start_time": "2023-05-24T15:13:04.171278614Z"
    }
   },
   "outputs": [
    {
     "name": "stdout",
     "output_type": "stream",
     "text": [
      "0.52 NAs\n"
     ]
    },
    {
     "data": {
      "text/plain": "                 prop_location_score2_d_srch_destination_id__prop_starrating\nsrch_id prop_id                                                             \n1       893                                                 0.0274          \n        10404                                              -0.0511          \n        21315                                               0.0081          \n        27348                                               0.0000          \n        29604                                               0.0581          \n...                                                            ...          \n665572  32019                                               0.0000          \n        33959                                               0.2793          \n        35240                                                  NaN          \n        94437                                               0.0377          \n        99509                                              -0.0207          \n\n[9917530 rows x 1 columns]",
      "text/html": "<div>\n<style scoped>\n    .dataframe tbody tr th:only-of-type {\n        vertical-align: middle;\n    }\n\n    .dataframe tbody tr th {\n        vertical-align: top;\n    }\n\n    .dataframe thead th {\n        text-align: right;\n    }\n</style>\n<table border=\"1\" class=\"dataframe\">\n  <thead>\n    <tr style=\"text-align: right;\">\n      <th></th>\n      <th></th>\n      <th>prop_location_score2_d_srch_destination_id__prop_starrating</th>\n    </tr>\n    <tr>\n      <th>srch_id</th>\n      <th>prop_id</th>\n      <th></th>\n    </tr>\n  </thead>\n  <tbody>\n    <tr>\n      <th rowspan=\"5\" valign=\"top\">1</th>\n      <th>893</th>\n      <td>0.0274</td>\n    </tr>\n    <tr>\n      <th>10404</th>\n      <td>-0.0511</td>\n    </tr>\n    <tr>\n      <th>21315</th>\n      <td>0.0081</td>\n    </tr>\n    <tr>\n      <th>27348</th>\n      <td>0.0000</td>\n    </tr>\n    <tr>\n      <th>29604</th>\n      <td>0.0581</td>\n    </tr>\n    <tr>\n      <th>...</th>\n      <th>...</th>\n      <td>...</td>\n    </tr>\n    <tr>\n      <th rowspan=\"5\" valign=\"top\">665572</th>\n      <th>32019</th>\n      <td>0.0000</td>\n    </tr>\n    <tr>\n      <th>33959</th>\n      <td>0.2793</td>\n    </tr>\n    <tr>\n      <th>35240</th>\n      <td>NaN</td>\n    </tr>\n    <tr>\n      <th>94437</th>\n      <td>0.0377</td>\n    </tr>\n    <tr>\n      <th>99509</th>\n      <td>-0.0207</td>\n    </tr>\n  </tbody>\n</table>\n<p>9917530 rows × 1 columns</p>\n</div>"
     },
     "execution_count": 38,
     "metadata": {},
     "output_type": "execute_result"
    }
   ],
   "source": [
    "tosub_prop_location_score2_per_dest_id_prop_starrating = make_aggregate_feature(groupby=['srch_destination_id', 'prop_starrating'], col='prop_location_score2', transform='diff', use_median=True)\n",
    "tosub_prop_location_score2_per_dest_id_prop_starrating"
   ]
  },
  {
   "cell_type": "code",
   "execution_count": 39,
   "metadata": {
    "ExecuteTime": {
     "end_time": "2023-05-24T15:13:13.547412453Z",
     "start_time": "2023-05-24T15:13:10.901653609Z"
    }
   },
   "outputs": [
    {
     "name": "stdout",
     "output_type": "stream",
     "text": [
      "0.05 NAs\n"
     ]
    },
    {
     "data": {
      "text/plain": "                 prop_location_score2_d_srch_id\nsrch_id prop_id                                \n1       893                             0.01375\n        10404                          -0.01515\n        21315                          -0.00555\n        27348                          -0.01755\n        29604                           0.09405\n...                                         ...\n665572  32019                          -0.01885\n        33959                           0.26045\n        35240                               NaN\n        94437                           0.01885\n        99509                          -0.03955\n\n[9917530 rows x 1 columns]",
      "text/html": "<div>\n<style scoped>\n    .dataframe tbody tr th:only-of-type {\n        vertical-align: middle;\n    }\n\n    .dataframe tbody tr th {\n        vertical-align: top;\n    }\n\n    .dataframe thead th {\n        text-align: right;\n    }\n</style>\n<table border=\"1\" class=\"dataframe\">\n  <thead>\n    <tr style=\"text-align: right;\">\n      <th></th>\n      <th></th>\n      <th>prop_location_score2_d_srch_id</th>\n    </tr>\n    <tr>\n      <th>srch_id</th>\n      <th>prop_id</th>\n      <th></th>\n    </tr>\n  </thead>\n  <tbody>\n    <tr>\n      <th rowspan=\"5\" valign=\"top\">1</th>\n      <th>893</th>\n      <td>0.01375</td>\n    </tr>\n    <tr>\n      <th>10404</th>\n      <td>-0.01515</td>\n    </tr>\n    <tr>\n      <th>21315</th>\n      <td>-0.00555</td>\n    </tr>\n    <tr>\n      <th>27348</th>\n      <td>-0.01755</td>\n    </tr>\n    <tr>\n      <th>29604</th>\n      <td>0.09405</td>\n    </tr>\n    <tr>\n      <th>...</th>\n      <th>...</th>\n      <td>...</td>\n    </tr>\n    <tr>\n      <th rowspan=\"5\" valign=\"top\">665572</th>\n      <th>32019</th>\n      <td>-0.01885</td>\n    </tr>\n    <tr>\n      <th>33959</th>\n      <td>0.26045</td>\n    </tr>\n    <tr>\n      <th>35240</th>\n      <td>NaN</td>\n    </tr>\n    <tr>\n      <th>94437</th>\n      <td>0.01885</td>\n    </tr>\n    <tr>\n      <th>99509</th>\n      <td>-0.03955</td>\n    </tr>\n  </tbody>\n</table>\n<p>9917530 rows × 1 columns</p>\n</div>"
     },
     "execution_count": 39,
     "metadata": {},
     "output_type": "execute_result"
    }
   ],
   "source": [
    "norm_prop_location_score2_per_srch = make_aggregate_feature(groupby=['srch_id'], col='prop_location_score2', transform='diff', use_median=True)\n",
    "norm_prop_location_score2_per_srch"
   ]
  },
  {
   "cell_type": "markdown",
   "metadata": {},
   "source": [
    "## prop_log_historical_price"
   ]
  },
  {
   "cell_type": "code",
   "execution_count": 40,
   "metadata": {
    "ExecuteTime": {
     "end_time": "2023-05-24T15:13:13.555221115Z",
     "start_time": "2023-05-24T15:13:13.541250298Z"
    }
   },
   "outputs": [
    {
     "data": {
      "text/plain": "0.14423218281164765"
     },
     "execution_count": 40,
     "metadata": {},
     "output_type": "execute_result"
    }
   ],
   "source": [
    "(df.prop_log_historical_price==0).sum() / len(df)"
   ]
  },
  {
   "cell_type": "code",
   "execution_count": 41,
   "metadata": {
    "ExecuteTime": {
     "end_time": "2023-05-24T15:13:13.742994432Z",
     "start_time": "2023-05-24T15:13:13.550178067Z"
    }
   },
   "outputs": [
    {
     "data": {
      "text/plain": "0.336356524904541"
     },
     "execution_count": 41,
     "metadata": {},
     "output_type": "execute_result"
    }
   ],
   "source": [
    "# number of booked properties\n",
    "df_train.query('booking_bool==1').prop_id.nunique() / df_train.prop_id.nunique()"
   ]
  },
  {
   "cell_type": "code",
   "execution_count": 42,
   "metadata": {
    "ExecuteTime": {
     "end_time": "2023-05-24T15:13:15.230174032Z",
     "start_time": "2023-05-24T15:13:13.690359889Z"
    }
   },
   "outputs": [
    {
     "data": {
      "text/plain": "prop_id  prop_log_historical_price  price_usd\n1        0.00                       90.00        0\n                                    95.00        0\n                                    99.00        0\n                                    99.24        0\n                                    108.00       0\n                                                ..\n140820   5.29                       108.62       0\n                                    151.89       0\n                                    169.00       0\n         5.35                       206.14       0\n         5.37                       228.88       0\nName: booking_bool, Length: 3459455, dtype: int64"
     },
     "execution_count": 42,
     "metadata": {},
     "output_type": "execute_result"
    }
   ],
   "source": [
    "prop_with_0hist = df_train[df_train.prop_log_historical_price==0].prop_id.unique()\n",
    "df_train[df_train.prop_id.isin(prop_with_0hist)].groupby(['prop_id', 'prop_log_historical_price', 'price_usd']).booking_bool.sum()"
   ]
  },
  {
   "cell_type": "code",
   "execution_count": 43,
   "metadata": {
    "ExecuteTime": {
     "end_time": "2023-05-24T15:13:15.237854999Z",
     "start_time": "2023-05-24T15:13:15.224114353Z"
    }
   },
   "outputs": [],
   "source": [
    "# prop_log_historical_price has multiple value (changing over time). 0 has a special meaning so we set to to NA\n",
    "df.loc[df.prop_log_historical_price==0, 'prop_log_historical_price'] = pd.NA"
   ]
  },
  {
   "cell_type": "markdown",
   "metadata": {},
   "source": [
    "## price_usd"
   ]
  },
  {
   "cell_type": "markdown",
   "metadata": {},
   "source": [
    "The price_usd is the displayed price of the hotel for the given search. Note that different countries have different conventions regarding displaying taxes and fees and the value may be per night or for the whole stay\n",
    "\n",
    "Note: this implies that it's not really correct to normalize price across anything other than search_id without first transforming it to price per night (even so, the taxes are not necessarily accounted for). As such, it's not really comparable with the historical price either."
   ]
  },
  {
   "cell_type": "code",
   "execution_count": 44,
   "metadata": {
    "ExecuteTime": {
     "end_time": "2023-05-24T15:13:15.262382574Z",
     "start_time": "2023-05-24T15:13:15.235723850Z"
    }
   },
   "outputs": [],
   "source": [
    "# A zero price is nonsensical\n",
    "df.loc[df.price_usd==0, 'price_usd'] = pd.NA"
   ]
  },
  {
   "cell_type": "code",
   "execution_count": 45,
   "metadata": {
    "ExecuteTime": {
     "end_time": "2023-05-24T15:13:15.337211839Z",
     "start_time": "2023-05-24T15:13:15.246391523Z"
    }
   },
   "outputs": [],
   "source": [
    "# relative to the historical price (difference of logs is the same price_usd/exp(prop_log_historical_price) - negative bad, positive good\n",
    "price_hist_logdiff = np.log(df['price_usd']) - df['prop_log_historical_price']\n",
    "df['price_hist_logdiff'] = price_hist_logdiff"
   ]
  },
  {
   "cell_type": "code",
   "execution_count": 46,
   "metadata": {
    "ExecuteTime": {
     "end_time": "2023-05-24T15:13:17.919893892Z",
     "start_time": "2023-05-24T15:13:15.344201773Z"
    }
   },
   "outputs": [
    {
     "name": "stdout",
     "output_type": "stream",
     "text": [
      "0.14 NAs\n"
     ]
    },
    {
     "data": {
      "text/plain": "                 price_hist_logdiff_d_srch_id\nsrch_id prop_id                              \n1       893                         -0.386156\n        10404                        0.022218\n        21315                        0.183921\n        27348                        1.923612\n        29604                       -0.051031\n...                                       ...\n665572  32019                       -0.002133\n        33959                        0.153336\n        35240                        0.000000\n        94437                       -0.112133\n        99509                        0.104603\n\n[9917530 rows x 1 columns]",
      "text/html": "<div>\n<style scoped>\n    .dataframe tbody tr th:only-of-type {\n        vertical-align: middle;\n    }\n\n    .dataframe tbody tr th {\n        vertical-align: top;\n    }\n\n    .dataframe thead th {\n        text-align: right;\n    }\n</style>\n<table border=\"1\" class=\"dataframe\">\n  <thead>\n    <tr style=\"text-align: right;\">\n      <th></th>\n      <th></th>\n      <th>price_hist_logdiff_d_srch_id</th>\n    </tr>\n    <tr>\n      <th>srch_id</th>\n      <th>prop_id</th>\n      <th></th>\n    </tr>\n  </thead>\n  <tbody>\n    <tr>\n      <th rowspan=\"5\" valign=\"top\">1</th>\n      <th>893</th>\n      <td>-0.386156</td>\n    </tr>\n    <tr>\n      <th>10404</th>\n      <td>0.022218</td>\n    </tr>\n    <tr>\n      <th>21315</th>\n      <td>0.183921</td>\n    </tr>\n    <tr>\n      <th>27348</th>\n      <td>1.923612</td>\n    </tr>\n    <tr>\n      <th>29604</th>\n      <td>-0.051031</td>\n    </tr>\n    <tr>\n      <th>...</th>\n      <th>...</th>\n      <td>...</td>\n    </tr>\n    <tr>\n      <th rowspan=\"5\" valign=\"top\">665572</th>\n      <th>32019</th>\n      <td>-0.002133</td>\n    </tr>\n    <tr>\n      <th>33959</th>\n      <td>0.153336</td>\n    </tr>\n    <tr>\n      <th>35240</th>\n      <td>0.000000</td>\n    </tr>\n    <tr>\n      <th>94437</th>\n      <td>-0.112133</td>\n    </tr>\n    <tr>\n      <th>99509</th>\n      <td>0.104603</td>\n    </tr>\n  </tbody>\n</table>\n<p>9917530 rows × 1 columns</p>\n</div>"
     },
     "execution_count": 46,
     "metadata": {},
     "output_type": "execute_result"
    }
   ],
   "source": [
    "# how good of a deal this is relative to others in the search query\n",
    "norm_prop_price_hist_advantage_per_srch_id = make_aggregate_feature(['srch_id'], 'price_hist_logdiff', transform='diff', use_median=True)\n",
    "norm_prop_price_hist_advantage_per_srch_id"
   ]
  },
  {
   "cell_type": "code",
   "execution_count": 47,
   "metadata": {
    "ExecuteTime": {
     "end_time": "2023-05-24T15:13:20.621171344Z",
     "start_time": "2023-05-24T15:13:17.940483496Z"
    }
   },
   "outputs": [
    {
     "name": "stdout",
     "output_type": "stream",
     "text": [
      "0.0 NAs\n"
     ]
    },
    {
     "data": {
      "text/plain": "                 price_usd_ld_srch_id\nsrch_id prop_id                      \n1       893                 -0.283066\n        10404                0.205308\n        21315                0.257012\n        27348                1.466702\n        29604                0.032059\n...                               ...\n665572  32019               -0.058494\n        33959               -0.043025\n        35240                0.053639\n        94437               -0.058494\n        99509                0.158241\n\n[9917530 rows x 1 columns]",
      "text/html": "<div>\n<style scoped>\n    .dataframe tbody tr th:only-of-type {\n        vertical-align: middle;\n    }\n\n    .dataframe tbody tr th {\n        vertical-align: top;\n    }\n\n    .dataframe thead th {\n        text-align: right;\n    }\n</style>\n<table border=\"1\" class=\"dataframe\">\n  <thead>\n    <tr style=\"text-align: right;\">\n      <th></th>\n      <th></th>\n      <th>price_usd_ld_srch_id</th>\n    </tr>\n    <tr>\n      <th>srch_id</th>\n      <th>prop_id</th>\n      <th></th>\n    </tr>\n  </thead>\n  <tbody>\n    <tr>\n      <th rowspan=\"5\" valign=\"top\">1</th>\n      <th>893</th>\n      <td>-0.283066</td>\n    </tr>\n    <tr>\n      <th>10404</th>\n      <td>0.205308</td>\n    </tr>\n    <tr>\n      <th>21315</th>\n      <td>0.257012</td>\n    </tr>\n    <tr>\n      <th>27348</th>\n      <td>1.466702</td>\n    </tr>\n    <tr>\n      <th>29604</th>\n      <td>0.032059</td>\n    </tr>\n    <tr>\n      <th>...</th>\n      <th>...</th>\n      <td>...</td>\n    </tr>\n    <tr>\n      <th rowspan=\"5\" valign=\"top\">665572</th>\n      <th>32019</th>\n      <td>-0.058494</td>\n    </tr>\n    <tr>\n      <th>33959</th>\n      <td>-0.043025</td>\n    </tr>\n    <tr>\n      <th>35240</th>\n      <td>0.053639</td>\n    </tr>\n    <tr>\n      <th>94437</th>\n      <td>-0.058494</td>\n    </tr>\n    <tr>\n      <th>99509</th>\n      <td>0.158241</td>\n    </tr>\n  </tbody>\n</table>\n<p>9917530 rows × 1 columns</p>\n</div>"
     },
     "execution_count": 47,
     "metadata": {},
     "output_type": "execute_result"
    }
   ],
   "source": [
    "norm_price_per_srch = make_aggregate_feature(['srch_id'], 'price_usd', transform='log_diff', use_median=True)\n",
    "norm_price_per_srch"
   ]
  },
  {
   "cell_type": "code",
   "execution_count": 48,
   "metadata": {
    "ExecuteTime": {
     "end_time": "2023-05-24T15:13:29.560249957Z",
     "start_time": "2023-05-24T15:13:20.640076254Z"
    }
   },
   "outputs": [
    {
     "name": "stdout",
     "output_type": "stream",
     "text": [
      "0.16 NAs\n"
     ]
    },
    {
     "data": {
      "text/plain": "                 price_usd_ld_srch_id__prop_starrating\nsrch_id prop_id                                       \n1       893                                  -0.278381\n        10404                                 0.112125\n        21315                                 0.261697\n        27348                                 1.749768\n        29604                                -0.061124\n...                                                ...\n665572  32019                                -0.037213\n        33959                                -0.021744\n        35240                                 0.074920\n        94437                                -0.037213\n        99509                                 0.179523\n\n[9917530 rows x 1 columns]",
      "text/html": "<div>\n<style scoped>\n    .dataframe tbody tr th:only-of-type {\n        vertical-align: middle;\n    }\n\n    .dataframe tbody tr th {\n        vertical-align: top;\n    }\n\n    .dataframe thead th {\n        text-align: right;\n    }\n</style>\n<table border=\"1\" class=\"dataframe\">\n  <thead>\n    <tr style=\"text-align: right;\">\n      <th></th>\n      <th></th>\n      <th>price_usd_ld_srch_id__prop_starrating</th>\n    </tr>\n    <tr>\n      <th>srch_id</th>\n      <th>prop_id</th>\n      <th></th>\n    </tr>\n  </thead>\n  <tbody>\n    <tr>\n      <th rowspan=\"5\" valign=\"top\">1</th>\n      <th>893</th>\n      <td>-0.278381</td>\n    </tr>\n    <tr>\n      <th>10404</th>\n      <td>0.112125</td>\n    </tr>\n    <tr>\n      <th>21315</th>\n      <td>0.261697</td>\n    </tr>\n    <tr>\n      <th>27348</th>\n      <td>1.749768</td>\n    </tr>\n    <tr>\n      <th>29604</th>\n      <td>-0.061124</td>\n    </tr>\n    <tr>\n      <th>...</th>\n      <th>...</th>\n      <td>...</td>\n    </tr>\n    <tr>\n      <th rowspan=\"5\" valign=\"top\">665572</th>\n      <th>32019</th>\n      <td>-0.037213</td>\n    </tr>\n    <tr>\n      <th>33959</th>\n      <td>-0.021744</td>\n    </tr>\n    <tr>\n      <th>35240</th>\n      <td>0.074920</td>\n    </tr>\n    <tr>\n      <th>94437</th>\n      <td>-0.037213</td>\n    </tr>\n    <tr>\n      <th>99509</th>\n      <td>0.179523</td>\n    </tr>\n  </tbody>\n</table>\n<p>9917530 rows × 1 columns</p>\n</div>"
     },
     "execution_count": 48,
     "metadata": {},
     "output_type": "execute_result"
    }
   ],
   "source": [
    "norm_price_per_search_prop_starrating = make_aggregate_feature(['srch_id', 'prop_starrating'], 'price_usd', transform='log_diff', use_median=True)\n",
    "norm_price_per_search_prop_starrating"
   ]
  },
  {
   "cell_type": "code",
   "execution_count": 49,
   "outputs": [],
   "source": [
    "df.loc[df.visitor_hist_adr_usd==0, 'visitor_hist_adr_usd'] = pd.NA\n",
    "df['visitor_hist_adr_usd_logdiff'] = np.log(df['price_usd']) - np.log(df['visitor_hist_adr_usd'])"
   ],
   "metadata": {
    "collapsed": false,
    "ExecuteTime": {
     "end_time": "2023-05-24T15:13:29.708549844Z",
     "start_time": "2023-05-24T15:13:29.556720741Z"
    }
   }
  },
  {
   "cell_type": "code",
   "execution_count": 50,
   "outputs": [
    {
     "name": "stdout",
     "output_type": "stream",
     "text": [
      "0.95 NAs\n"
     ]
    },
    {
     "data": {
      "text/plain": "                 visitor_hist_adr_usd_logdiff_d_srch_id\nsrch_id prop_id                                        \n1       893                                         NaN\n        10404                                       NaN\n        21315                                       NaN\n        27348                                       NaN\n        29604                                       NaN\n...                                                 ...\n665572  32019                                       NaN\n        33959                                       NaN\n        35240                                       NaN\n        94437                                       NaN\n        99509                                       NaN\n\n[9917530 rows x 1 columns]",
      "text/html": "<div>\n<style scoped>\n    .dataframe tbody tr th:only-of-type {\n        vertical-align: middle;\n    }\n\n    .dataframe tbody tr th {\n        vertical-align: top;\n    }\n\n    .dataframe thead th {\n        text-align: right;\n    }\n</style>\n<table border=\"1\" class=\"dataframe\">\n  <thead>\n    <tr style=\"text-align: right;\">\n      <th></th>\n      <th></th>\n      <th>visitor_hist_adr_usd_logdiff_d_srch_id</th>\n    </tr>\n    <tr>\n      <th>srch_id</th>\n      <th>prop_id</th>\n      <th></th>\n    </tr>\n  </thead>\n  <tbody>\n    <tr>\n      <th rowspan=\"5\" valign=\"top\">1</th>\n      <th>893</th>\n      <td>NaN</td>\n    </tr>\n    <tr>\n      <th>10404</th>\n      <td>NaN</td>\n    </tr>\n    <tr>\n      <th>21315</th>\n      <td>NaN</td>\n    </tr>\n    <tr>\n      <th>27348</th>\n      <td>NaN</td>\n    </tr>\n    <tr>\n      <th>29604</th>\n      <td>NaN</td>\n    </tr>\n    <tr>\n      <th>...</th>\n      <th>...</th>\n      <td>...</td>\n    </tr>\n    <tr>\n      <th rowspan=\"5\" valign=\"top\">665572</th>\n      <th>32019</th>\n      <td>NaN</td>\n    </tr>\n    <tr>\n      <th>33959</th>\n      <td>NaN</td>\n    </tr>\n    <tr>\n      <th>35240</th>\n      <td>NaN</td>\n    </tr>\n    <tr>\n      <th>94437</th>\n      <td>NaN</td>\n    </tr>\n    <tr>\n      <th>99509</th>\n      <td>NaN</td>\n    </tr>\n  </tbody>\n</table>\n<p>9917530 rows × 1 columns</p>\n</div>"
     },
     "execution_count": 50,
     "metadata": {},
     "output_type": "execute_result"
    }
   ],
   "source": [
    "norm_visitor_price_hist_advantage_per_srch_id = make_aggregate_feature(['srch_id'], 'visitor_hist_adr_usd_logdiff', transform='diff', use_median=True)\n",
    "norm_visitor_price_hist_advantage_per_srch_id"
   ],
   "metadata": {
    "collapsed": false,
    "ExecuteTime": {
     "end_time": "2023-05-24T15:13:32.110402348Z",
     "start_time": "2023-05-24T15:13:29.675643928Z"
    }
   }
  },
  {
   "cell_type": "markdown",
   "source": [
    "# country"
   ],
   "metadata": {
    "collapsed": false
   }
  },
  {
   "cell_type": "code",
   "execution_count": 51,
   "outputs": [],
   "source": [
    "df['same_country'] = (df['prop_country_id'] == df['visitor_location_country_id'])"
   ],
   "metadata": {
    "collapsed": false,
    "ExecuteTime": {
     "end_time": "2023-05-24T15:13:32.114851728Z",
     "start_time": "2023-05-24T15:13:32.107825606Z"
    }
   }
  },
  {
   "cell_type": "markdown",
   "source": [
    "# srch_query_affinity_score"
   ],
   "metadata": {
    "collapsed": false
   }
  },
  {
   "cell_type": "code",
   "execution_count": 52,
   "outputs": [
    {
     "name": "stdout",
     "output_type": "stream",
     "text": [
      "0.93 NAs\n"
     ]
    }
   ],
   "source": [
    "norm_srch_query_affinity_score = make_aggregate_feature(['srch_id'], 'srch_query_affinity_score', transform='diff', use_median=True)"
   ],
   "metadata": {
    "collapsed": false,
    "ExecuteTime": {
     "end_time": "2023-05-24T15:13:34.537243541Z",
     "start_time": "2023-05-24T15:13:32.114971444Z"
    }
   }
  },
  {
   "cell_type": "markdown",
   "metadata": {},
   "source": [
    "# Comments on aggregation over all ids (not just the training set)\n",
    "\n",
    "When calculating averages over srch_destination_id or prop_id for instance, there is a significant number of them only encountered in the test set. Pedantically speaking we shouldn't use data from the test set in our model. However to get the best possible result in the competition we are going to leverage it.\n",
    "\n",
    "If we would calculate means over ids from the training set only, then we would have NAs when predicting on the test set (there would be no NAs on the training set). At the very least, the validation set should have the same NA characteristics as the test set, but we can do better. We can remove aggregated values for part of the ids from the training set, thus the model learns not to rely on them too much (not more than what will be available in the test set) - make sure to discard only from the ids which don't appear in the test set or add the aggregated values back to the test set before prediction. This is expected to perform worse than using the statistics from the test set."
   ]
  },
  {
   "cell_type": "markdown",
   "metadata": {},
   "source": [
    "# using booking and click probabilities per property"
   ]
  },
  {
   "cell_type": "markdown",
   "metadata": {},
   "source": [
    "## booking_prob_per_srch_res_count - not really interesting, more of an exercise"
   ]
  },
  {
   "cell_type": "code",
   "execution_count": 53,
   "metadata": {
    "ExecuteTime": {
     "end_time": "2023-05-24T15:13:34.591624328Z",
     "start_time": "2023-05-24T15:13:34.538905197Z"
    }
   },
   "outputs": [
    {
     "data": {
      "text/plain": "srch_id\n1         28\n4         32\n6          5\n8         21\n11        33\n          ..\n332777    32\n332781    15\n332782    24\n332784    28\n332785     6\nName: impression_count, Length: 199795, dtype: int64"
     },
     "execution_count": 53,
     "metadata": {},
     "output_type": "execute_result"
    }
   ],
   "source": [
    "df_train.groupby('srch_id').agg(impression_count = ('prop_id' , 'count')).impression_count"
   ]
  },
  {
   "cell_type": "code",
   "execution_count": 54,
   "metadata": {
    "ExecuteTime": {
     "end_time": "2023-05-24T15:13:34.661035793Z",
     "start_time": "2023-05-24T15:13:34.582181488Z"
    }
   },
   "outputs": [
    {
     "data": {
      "text/plain": "         impression_count  bookings  clicks  total_impressions\nsrch_id                                                       \n1                      28         1       1                 28\n4                      32         0       1                 32\n6                       5         1       1                  5\n8                      21         1       1                 21\n11                     33         0       1                 33\n...                   ...       ...     ...                ...\n332777                 32         0       1                 32\n332781                 15         1       1                 15\n332782                 24         1       2                 24\n332784                 28         1       1                 28\n332785                  6         1       1                  6\n\n[199795 rows x 4 columns]",
      "text/html": "<div>\n<style scoped>\n    .dataframe tbody tr th:only-of-type {\n        vertical-align: middle;\n    }\n\n    .dataframe tbody tr th {\n        vertical-align: top;\n    }\n\n    .dataframe thead th {\n        text-align: right;\n    }\n</style>\n<table border=\"1\" class=\"dataframe\">\n  <thead>\n    <tr style=\"text-align: right;\">\n      <th></th>\n      <th>impression_count</th>\n      <th>bookings</th>\n      <th>clicks</th>\n      <th>total_impressions</th>\n    </tr>\n    <tr>\n      <th>srch_id</th>\n      <th></th>\n      <th></th>\n      <th></th>\n      <th></th>\n    </tr>\n  </thead>\n  <tbody>\n    <tr>\n      <th>1</th>\n      <td>28</td>\n      <td>1</td>\n      <td>1</td>\n      <td>28</td>\n    </tr>\n    <tr>\n      <th>4</th>\n      <td>32</td>\n      <td>0</td>\n      <td>1</td>\n      <td>32</td>\n    </tr>\n    <tr>\n      <th>6</th>\n      <td>5</td>\n      <td>1</td>\n      <td>1</td>\n      <td>5</td>\n    </tr>\n    <tr>\n      <th>8</th>\n      <td>21</td>\n      <td>1</td>\n      <td>1</td>\n      <td>21</td>\n    </tr>\n    <tr>\n      <th>11</th>\n      <td>33</td>\n      <td>0</td>\n      <td>1</td>\n      <td>33</td>\n    </tr>\n    <tr>\n      <th>...</th>\n      <td>...</td>\n      <td>...</td>\n      <td>...</td>\n      <td>...</td>\n    </tr>\n    <tr>\n      <th>332777</th>\n      <td>32</td>\n      <td>0</td>\n      <td>1</td>\n      <td>32</td>\n    </tr>\n    <tr>\n      <th>332781</th>\n      <td>15</td>\n      <td>1</td>\n      <td>1</td>\n      <td>15</td>\n    </tr>\n    <tr>\n      <th>332782</th>\n      <td>24</td>\n      <td>1</td>\n      <td>2</td>\n      <td>24</td>\n    </tr>\n    <tr>\n      <th>332784</th>\n      <td>28</td>\n      <td>1</td>\n      <td>1</td>\n      <td>28</td>\n    </tr>\n    <tr>\n      <th>332785</th>\n      <td>6</td>\n      <td>1</td>\n      <td>1</td>\n      <td>6</td>\n    </tr>\n  </tbody>\n</table>\n<p>199795 rows × 4 columns</p>\n</div>"
     },
     "execution_count": 54,
     "metadata": {},
     "output_type": "execute_result"
    }
   ],
   "source": [
    "# booking probability per number of impressions\n",
    "# get the number of impressions per search_id\n",
    "imp_cnt_per_srch_id = df_train.groupby('srch_id').agg(impression_count = ('prop_id' , 'count'), bookings = ('booking_bool', 'sum'), clicks=('click_bool', 'sum'))\n",
    "imp_cnt_per_srch_id['total_impressions'] = imp_cnt_per_srch_id.impression_count.copy()\n",
    "imp_cnt_per_srch_id"
   ]
  },
  {
   "cell_type": "code",
   "execution_count": 55,
   "metadata": {
    "ExecuteTime": {
     "end_time": "2023-05-24T15:13:34.819446396Z",
     "start_time": "2023-05-24T15:13:34.661126480Z"
    }
   },
   "outputs": [
    {
     "data": {
      "text/plain": "                  bookings    clicks  total_impressions\nimpression_count                                       \n5                 0.131256  0.210762              22300\n6                 0.112081  0.175663              26454\n7                 0.095847  0.154487              28462\n8                 0.083125  0.134899              32024\n9                 0.074773  0.119891              35307\n10                0.068663  0.107481              37560\n11                0.061995  0.099487              40568\n12                0.057050  0.092278              43488\n13                0.051890  0.083690              47138\n14                0.048917  0.077815              47754\n15                0.045232  0.073759              50760\n16                0.042319  0.069730              53664\n17                0.039742  0.065593              57018\n18                0.037743  0.061846              62316\n19                0.036429  0.058290              66101\n20                0.034086  0.055945              70820\n21                0.032164  0.052933              71694\n22                0.030457  0.050902              73612\n23                0.028887  0.048651              77717\n24                0.027990  0.046910              81816\n25                0.026576  0.044051              99225\n26                0.026644  0.044192             114660\n27                0.024641  0.042292             191997\n28                0.025245  0.040063             167160\n29                0.022581  0.039100             182584\n30                0.021457  0.037563             331740\n31                0.021289  0.036528             620217\n32                0.022384  0.034733             957920\n33                0.022492  0.033444             869253\n34                0.022786  0.032678             325108\n35                0.021471  0.032238              64645\n36                0.019886  0.029987               6336\n37                0.018018  0.032175                777\n38                0.026316  0.026316                152",
      "text/html": "<div>\n<style scoped>\n    .dataframe tbody tr th:only-of-type {\n        vertical-align: middle;\n    }\n\n    .dataframe tbody tr th {\n        vertical-align: top;\n    }\n\n    .dataframe thead th {\n        text-align: right;\n    }\n</style>\n<table border=\"1\" class=\"dataframe\">\n  <thead>\n    <tr style=\"text-align: right;\">\n      <th></th>\n      <th>bookings</th>\n      <th>clicks</th>\n      <th>total_impressions</th>\n    </tr>\n    <tr>\n      <th>impression_count</th>\n      <th></th>\n      <th></th>\n      <th></th>\n    </tr>\n  </thead>\n  <tbody>\n    <tr>\n      <th>5</th>\n      <td>0.131256</td>\n      <td>0.210762</td>\n      <td>22300</td>\n    </tr>\n    <tr>\n      <th>6</th>\n      <td>0.112081</td>\n      <td>0.175663</td>\n      <td>26454</td>\n    </tr>\n    <tr>\n      <th>7</th>\n      <td>0.095847</td>\n      <td>0.154487</td>\n      <td>28462</td>\n    </tr>\n    <tr>\n      <th>8</th>\n      <td>0.083125</td>\n      <td>0.134899</td>\n      <td>32024</td>\n    </tr>\n    <tr>\n      <th>9</th>\n      <td>0.074773</td>\n      <td>0.119891</td>\n      <td>35307</td>\n    </tr>\n    <tr>\n      <th>10</th>\n      <td>0.068663</td>\n      <td>0.107481</td>\n      <td>37560</td>\n    </tr>\n    <tr>\n      <th>11</th>\n      <td>0.061995</td>\n      <td>0.099487</td>\n      <td>40568</td>\n    </tr>\n    <tr>\n      <th>12</th>\n      <td>0.057050</td>\n      <td>0.092278</td>\n      <td>43488</td>\n    </tr>\n    <tr>\n      <th>13</th>\n      <td>0.051890</td>\n      <td>0.083690</td>\n      <td>47138</td>\n    </tr>\n    <tr>\n      <th>14</th>\n      <td>0.048917</td>\n      <td>0.077815</td>\n      <td>47754</td>\n    </tr>\n    <tr>\n      <th>15</th>\n      <td>0.045232</td>\n      <td>0.073759</td>\n      <td>50760</td>\n    </tr>\n    <tr>\n      <th>16</th>\n      <td>0.042319</td>\n      <td>0.069730</td>\n      <td>53664</td>\n    </tr>\n    <tr>\n      <th>17</th>\n      <td>0.039742</td>\n      <td>0.065593</td>\n      <td>57018</td>\n    </tr>\n    <tr>\n      <th>18</th>\n      <td>0.037743</td>\n      <td>0.061846</td>\n      <td>62316</td>\n    </tr>\n    <tr>\n      <th>19</th>\n      <td>0.036429</td>\n      <td>0.058290</td>\n      <td>66101</td>\n    </tr>\n    <tr>\n      <th>20</th>\n      <td>0.034086</td>\n      <td>0.055945</td>\n      <td>70820</td>\n    </tr>\n    <tr>\n      <th>21</th>\n      <td>0.032164</td>\n      <td>0.052933</td>\n      <td>71694</td>\n    </tr>\n    <tr>\n      <th>22</th>\n      <td>0.030457</td>\n      <td>0.050902</td>\n      <td>73612</td>\n    </tr>\n    <tr>\n      <th>23</th>\n      <td>0.028887</td>\n      <td>0.048651</td>\n      <td>77717</td>\n    </tr>\n    <tr>\n      <th>24</th>\n      <td>0.027990</td>\n      <td>0.046910</td>\n      <td>81816</td>\n    </tr>\n    <tr>\n      <th>25</th>\n      <td>0.026576</td>\n      <td>0.044051</td>\n      <td>99225</td>\n    </tr>\n    <tr>\n      <th>26</th>\n      <td>0.026644</td>\n      <td>0.044192</td>\n      <td>114660</td>\n    </tr>\n    <tr>\n      <th>27</th>\n      <td>0.024641</td>\n      <td>0.042292</td>\n      <td>191997</td>\n    </tr>\n    <tr>\n      <th>28</th>\n      <td>0.025245</td>\n      <td>0.040063</td>\n      <td>167160</td>\n    </tr>\n    <tr>\n      <th>29</th>\n      <td>0.022581</td>\n      <td>0.039100</td>\n      <td>182584</td>\n    </tr>\n    <tr>\n      <th>30</th>\n      <td>0.021457</td>\n      <td>0.037563</td>\n      <td>331740</td>\n    </tr>\n    <tr>\n      <th>31</th>\n      <td>0.021289</td>\n      <td>0.036528</td>\n      <td>620217</td>\n    </tr>\n    <tr>\n      <th>32</th>\n      <td>0.022384</td>\n      <td>0.034733</td>\n      <td>957920</td>\n    </tr>\n    <tr>\n      <th>33</th>\n      <td>0.022492</td>\n      <td>0.033444</td>\n      <td>869253</td>\n    </tr>\n    <tr>\n      <th>34</th>\n      <td>0.022786</td>\n      <td>0.032678</td>\n      <td>325108</td>\n    </tr>\n    <tr>\n      <th>35</th>\n      <td>0.021471</td>\n      <td>0.032238</td>\n      <td>64645</td>\n    </tr>\n    <tr>\n      <th>36</th>\n      <td>0.019886</td>\n      <td>0.029987</td>\n      <td>6336</td>\n    </tr>\n    <tr>\n      <th>37</th>\n      <td>0.018018</td>\n      <td>0.032175</td>\n      <td>777</td>\n    </tr>\n    <tr>\n      <th>38</th>\n      <td>0.026316</td>\n      <td>0.026316</td>\n      <td>152</td>\n    </tr>\n  </tbody>\n</table>\n</div>"
     },
     "execution_count": 55,
     "metadata": {},
     "output_type": "execute_result"
    }
   ],
   "source": [
    "stats_per_impression_cnt = imp_cnt_per_srch_id.groupby('impression_count').sum()\n",
    "stats_per_impression_cnt['bookings'] /= stats_per_impression_cnt.total_impressions\n",
    "stats_per_impression_cnt['clicks'] /= stats_per_impression_cnt.total_impressions\n",
    "stats_per_impression_cnt\n",
    "# we can see that the prob of booking and clicks decreases with the number of results per srch_id\n",
    "# the longer the list, the less likely it will lead to a booking (maybe the search was more general)"
   ]
  },
  {
   "cell_type": "code",
   "execution_count": 56,
   "metadata": {
    "ExecuteTime": {
     "end_time": "2023-05-24T15:13:34.996160482Z",
     "start_time": "2023-05-24T15:13:34.715621953Z"
    }
   },
   "outputs": [
    {
     "data": {
      "text/plain": "         impression_count    clicks  bookings\nsrch_id                                      \n6                       5  0.210762  0.131256\n67                      5  0.210762  0.131256\n218                     5  0.210762  0.131256\n221                     5  0.210762  0.131256\n275                     5  0.210762  0.131256\n...                   ...       ...       ...\n394059                 38  0.026316  0.026316\n483779                 38  0.026316  0.026316\n524632                 38  0.026316  0.026316\n561498                 38  0.026316  0.026316\n597373                 38  0.026316  0.026316\n\n[399344 rows x 3 columns]",
      "text/html": "<div>\n<style scoped>\n    .dataframe tbody tr th:only-of-type {\n        vertical-align: middle;\n    }\n\n    .dataframe tbody tr th {\n        vertical-align: top;\n    }\n\n    .dataframe thead th {\n        text-align: right;\n    }\n</style>\n<table border=\"1\" class=\"dataframe\">\n  <thead>\n    <tr style=\"text-align: right;\">\n      <th></th>\n      <th>impression_count</th>\n      <th>clicks</th>\n      <th>bookings</th>\n    </tr>\n    <tr>\n      <th>srch_id</th>\n      <th></th>\n      <th></th>\n      <th></th>\n    </tr>\n  </thead>\n  <tbody>\n    <tr>\n      <th>6</th>\n      <td>5</td>\n      <td>0.210762</td>\n      <td>0.131256</td>\n    </tr>\n    <tr>\n      <th>67</th>\n      <td>5</td>\n      <td>0.210762</td>\n      <td>0.131256</td>\n    </tr>\n    <tr>\n      <th>218</th>\n      <td>5</td>\n      <td>0.210762</td>\n      <td>0.131256</td>\n    </tr>\n    <tr>\n      <th>221</th>\n      <td>5</td>\n      <td>0.210762</td>\n      <td>0.131256</td>\n    </tr>\n    <tr>\n      <th>275</th>\n      <td>5</td>\n      <td>0.210762</td>\n      <td>0.131256</td>\n    </tr>\n    <tr>\n      <th>...</th>\n      <td>...</td>\n      <td>...</td>\n      <td>...</td>\n    </tr>\n    <tr>\n      <th>394059</th>\n      <td>38</td>\n      <td>0.026316</td>\n      <td>0.026316</td>\n    </tr>\n    <tr>\n      <th>483779</th>\n      <td>38</td>\n      <td>0.026316</td>\n      <td>0.026316</td>\n    </tr>\n    <tr>\n      <th>524632</th>\n      <td>38</td>\n      <td>0.026316</td>\n      <td>0.026316</td>\n    </tr>\n    <tr>\n      <th>561498</th>\n      <td>38</td>\n      <td>0.026316</td>\n      <td>0.026316</td>\n    </tr>\n    <tr>\n      <th>597373</th>\n      <td>38</td>\n      <td>0.026316</td>\n      <td>0.026316</td>\n    </tr>\n  </tbody>\n</table>\n<p>399344 rows × 3 columns</p>\n</div>"
     },
     "execution_count": 56,
     "metadata": {},
     "output_type": "execute_result"
    }
   ],
   "source": [
    "# now we calculate the impression count for the entire dataset\n",
    "df_with_impression_count = df[['srch_id', 'prop_id']].groupby('srch_id').agg(impression_count = ('prop_id' , 'count'))\n",
    "df_with_impression_count = df_with_impression_count.reset_index().set_index('impression_count').join(stats_per_impression_cnt[['clicks', 'bookings']]).reset_index().set_index('srch_id')\n",
    "assert set(df_with_impression_count.index.unique()) == set(df.srch_id.unique())\n",
    "df_with_impression_count"
   ]
  },
  {
   "cell_type": "code",
   "execution_count": 57,
   "metadata": {
    "ExecuteTime": {
     "end_time": "2023-05-24T15:13:35.115756935Z",
     "start_time": "2023-05-24T15:13:34.893710086Z"
    }
   },
   "outputs": [
    {
     "data": {
      "text/plain": "         impression_count  bookings  clicks  booking_prob_per_prop_id   \nprop_id                                                                 \n1                      61         0       1                  0.000000  \\\n2                      11         1       1                  0.090909   \n3                      82         2       2                  0.024390   \n4                      22         1       1                  0.045455   \n5                      30         0       2                  0.000000   \n...                   ...       ...     ...                       ...   \n140817                  3         0       0                  0.000000   \n140818                  3         0       0                  0.000000   \n140819                  2         0       0                  0.000000   \n140820                 18         0       0                  0.000000   \n140821                  7         1       1                  0.142857   \n\n         click_prob_per_prop_id  \nprop_id                          \n1                      0.016393  \n2                      0.090909  \n3                      0.024390  \n4                      0.045455  \n5                      0.066667  \n...                         ...  \n140817                 0.000000  \n140818                 0.000000  \n140819                 0.000000  \n140820                 0.000000  \n140821                 0.142857  \n\n[129113 rows x 5 columns]",
      "text/html": "<div>\n<style scoped>\n    .dataframe tbody tr th:only-of-type {\n        vertical-align: middle;\n    }\n\n    .dataframe tbody tr th {\n        vertical-align: top;\n    }\n\n    .dataframe thead th {\n        text-align: right;\n    }\n</style>\n<table border=\"1\" class=\"dataframe\">\n  <thead>\n    <tr style=\"text-align: right;\">\n      <th></th>\n      <th>impression_count</th>\n      <th>bookings</th>\n      <th>clicks</th>\n      <th>booking_prob_per_prop_id</th>\n      <th>click_prob_per_prop_id</th>\n    </tr>\n    <tr>\n      <th>prop_id</th>\n      <th></th>\n      <th></th>\n      <th></th>\n      <th></th>\n      <th></th>\n    </tr>\n  </thead>\n  <tbody>\n    <tr>\n      <th>1</th>\n      <td>61</td>\n      <td>0</td>\n      <td>1</td>\n      <td>0.000000</td>\n      <td>0.016393</td>\n    </tr>\n    <tr>\n      <th>2</th>\n      <td>11</td>\n      <td>1</td>\n      <td>1</td>\n      <td>0.090909</td>\n      <td>0.090909</td>\n    </tr>\n    <tr>\n      <th>3</th>\n      <td>82</td>\n      <td>2</td>\n      <td>2</td>\n      <td>0.024390</td>\n      <td>0.024390</td>\n    </tr>\n    <tr>\n      <th>4</th>\n      <td>22</td>\n      <td>1</td>\n      <td>1</td>\n      <td>0.045455</td>\n      <td>0.045455</td>\n    </tr>\n    <tr>\n      <th>5</th>\n      <td>30</td>\n      <td>0</td>\n      <td>2</td>\n      <td>0.000000</td>\n      <td>0.066667</td>\n    </tr>\n    <tr>\n      <th>...</th>\n      <td>...</td>\n      <td>...</td>\n      <td>...</td>\n      <td>...</td>\n      <td>...</td>\n    </tr>\n    <tr>\n      <th>140817</th>\n      <td>3</td>\n      <td>0</td>\n      <td>0</td>\n      <td>0.000000</td>\n      <td>0.000000</td>\n    </tr>\n    <tr>\n      <th>140818</th>\n      <td>3</td>\n      <td>0</td>\n      <td>0</td>\n      <td>0.000000</td>\n      <td>0.000000</td>\n    </tr>\n    <tr>\n      <th>140819</th>\n      <td>2</td>\n      <td>0</td>\n      <td>0</td>\n      <td>0.000000</td>\n      <td>0.000000</td>\n    </tr>\n    <tr>\n      <th>140820</th>\n      <td>18</td>\n      <td>0</td>\n      <td>0</td>\n      <td>0.000000</td>\n      <td>0.000000</td>\n    </tr>\n    <tr>\n      <th>140821</th>\n      <td>7</td>\n      <td>1</td>\n      <td>1</td>\n      <td>0.142857</td>\n      <td>0.142857</td>\n    </tr>\n  </tbody>\n</table>\n<p>129113 rows × 5 columns</p>\n</div>"
     },
     "execution_count": 57,
     "metadata": {},
     "output_type": "execute_result"
    }
   ],
   "source": [
    "# bc probability per prop_id\n",
    "tmp = df_train.groupby('prop_id').agg(impression_count = ('site_id' , 'count'), bookings = ('booking_bool', 'sum'), clicks=('click_bool', 'sum'))\n",
    "tmp['booking_prob_per_prop_id'] = tmp.bookings / tmp.impression_count\n",
    "tmp['click_prob_per_prop_id'] = tmp.clicks / tmp.impression_count\n",
    "tmp"
   ]
  },
  {
   "cell_type": "code",
   "execution_count": 58,
   "metadata": {
    "ExecuteTime": {
     "end_time": "2023-05-24T15:13:41.815448712Z",
     "start_time": "2023-05-24T15:13:35.062068601Z"
    }
   },
   "outputs": [],
   "source": [
    "# standardize this per search_id\n",
    "#df.drop(columns=['prop_booking_prob', 'prop_click_prob'], inplace=True)\n",
    "df = df.set_index('prop_id').join(tmp[['booking_prob_per_prop_id', 'click_prob_per_prop_id']], how='left').reset_index()"
   ]
  },
  {
   "cell_type": "code",
   "execution_count": 59,
   "metadata": {
    "ExecuteTime": {
     "end_time": "2023-05-24T15:13:44.971657426Z",
     "start_time": "2023-05-24T15:13:41.822107817Z"
    }
   },
   "outputs": [
    {
     "name": "stdout",
     "output_type": "stream",
     "text": [
      "0.00069 NAs\n"
     ]
    },
    {
     "data": {
      "text/plain": "                 booking_prob_per_prop_id_d_srch_id\nsrch_id prop_id                                    \n1       893                               -0.001445\n        10404                             -0.002348\n        21315                             -0.014156\n        27348                             -0.004742\n        29604                              0.018305\n...                                             ...\n665572  32019                              0.000000\n        33959                              0.100000\n        35240                              0.000000\n        94437                              0.000000\n        99509                              0.076923\n\n[9917530 rows x 1 columns]",
      "text/html": "<div>\n<style scoped>\n    .dataframe tbody tr th:only-of-type {\n        vertical-align: middle;\n    }\n\n    .dataframe tbody tr th {\n        vertical-align: top;\n    }\n\n    .dataframe thead th {\n        text-align: right;\n    }\n</style>\n<table border=\"1\" class=\"dataframe\">\n  <thead>\n    <tr style=\"text-align: right;\">\n      <th></th>\n      <th></th>\n      <th>booking_prob_per_prop_id_d_srch_id</th>\n    </tr>\n    <tr>\n      <th>srch_id</th>\n      <th>prop_id</th>\n      <th></th>\n    </tr>\n  </thead>\n  <tbody>\n    <tr>\n      <th rowspan=\"5\" valign=\"top\">1</th>\n      <th>893</th>\n      <td>-0.001445</td>\n    </tr>\n    <tr>\n      <th>10404</th>\n      <td>-0.002348</td>\n    </tr>\n    <tr>\n      <th>21315</th>\n      <td>-0.014156</td>\n    </tr>\n    <tr>\n      <th>27348</th>\n      <td>-0.004742</td>\n    </tr>\n    <tr>\n      <th>29604</th>\n      <td>0.018305</td>\n    </tr>\n    <tr>\n      <th>...</th>\n      <th>...</th>\n      <td>...</td>\n    </tr>\n    <tr>\n      <th rowspan=\"5\" valign=\"top\">665572</th>\n      <th>32019</th>\n      <td>0.000000</td>\n    </tr>\n    <tr>\n      <th>33959</th>\n      <td>0.100000</td>\n    </tr>\n    <tr>\n      <th>35240</th>\n      <td>0.000000</td>\n    </tr>\n    <tr>\n      <th>94437</th>\n      <td>0.000000</td>\n    </tr>\n    <tr>\n      <th>99509</th>\n      <td>0.076923</td>\n    </tr>\n  </tbody>\n</table>\n<p>9917530 rows × 1 columns</p>\n</div>"
     },
     "execution_count": 59,
     "metadata": {},
     "output_type": "execute_result"
    }
   ],
   "source": [
    "norm_booking_prob_per_prop_id = make_aggregate_feature('srch_id', col='booking_prob_per_prop_id', transform='diff', use_median=True)\n",
    "norm_booking_prob_per_prop_id"
   ]
  },
  {
   "cell_type": "code",
   "execution_count": 60,
   "outputs": [
    {
     "name": "stdout",
     "output_type": "stream",
     "text": [
      "0.00069 NAs\n"
     ]
    },
    {
     "data": {
      "text/plain": "                 click_prob_per_prop_id_d_srch_id\nsrch_id prop_id                                  \n1       893                             -0.000321\n        10404                           -0.000736\n        21315                           -0.017390\n        27348                           -0.002552\n        29604                            0.024663\n...                                           ...\n665572  32019                            0.000000\n        33959                            0.100000\n        35240                            0.000000\n        94437                            0.166667\n        99509                            0.076923\n\n[9917530 rows x 1 columns]",
      "text/html": "<div>\n<style scoped>\n    .dataframe tbody tr th:only-of-type {\n        vertical-align: middle;\n    }\n\n    .dataframe tbody tr th {\n        vertical-align: top;\n    }\n\n    .dataframe thead th {\n        text-align: right;\n    }\n</style>\n<table border=\"1\" class=\"dataframe\">\n  <thead>\n    <tr style=\"text-align: right;\">\n      <th></th>\n      <th></th>\n      <th>click_prob_per_prop_id_d_srch_id</th>\n    </tr>\n    <tr>\n      <th>srch_id</th>\n      <th>prop_id</th>\n      <th></th>\n    </tr>\n  </thead>\n  <tbody>\n    <tr>\n      <th rowspan=\"5\" valign=\"top\">1</th>\n      <th>893</th>\n      <td>-0.000321</td>\n    </tr>\n    <tr>\n      <th>10404</th>\n      <td>-0.000736</td>\n    </tr>\n    <tr>\n      <th>21315</th>\n      <td>-0.017390</td>\n    </tr>\n    <tr>\n      <th>27348</th>\n      <td>-0.002552</td>\n    </tr>\n    <tr>\n      <th>29604</th>\n      <td>0.024663</td>\n    </tr>\n    <tr>\n      <th>...</th>\n      <th>...</th>\n      <td>...</td>\n    </tr>\n    <tr>\n      <th rowspan=\"5\" valign=\"top\">665572</th>\n      <th>32019</th>\n      <td>0.000000</td>\n    </tr>\n    <tr>\n      <th>33959</th>\n      <td>0.100000</td>\n    </tr>\n    <tr>\n      <th>35240</th>\n      <td>0.000000</td>\n    </tr>\n    <tr>\n      <th>94437</th>\n      <td>0.166667</td>\n    </tr>\n    <tr>\n      <th>99509</th>\n      <td>0.076923</td>\n    </tr>\n  </tbody>\n</table>\n<p>9917530 rows × 1 columns</p>\n</div>"
     },
     "execution_count": 60,
     "metadata": {},
     "output_type": "execute_result"
    }
   ],
   "source": [
    "norm_click_prob_per_prop_id = make_aggregate_feature('srch_id', col='click_prob_per_prop_id', transform='diff', use_median=True)\n",
    "norm_click_prob_per_prop_id"
   ],
   "metadata": {
    "collapsed": false,
    "ExecuteTime": {
     "end_time": "2023-05-24T15:13:48.269491475Z",
     "start_time": "2023-05-24T15:13:44.986747291Z"
    }
   }
  },
  {
   "cell_type": "markdown",
   "source": [
    "# Join all dataframes together"
   ],
   "metadata": {
    "collapsed": false
   }
  },
  {
   "cell_type": "code",
   "execution_count": 61,
   "outputs": [
    {
     "name": "stderr",
     "output_type": "stream",
     "text": [
      "100%|██████████| 18/18 [00:43<00:00,  2.42s/it]\n"
     ]
    }
   ],
   "source": [
    "joined = df.set_index(['srch_id', 'prop_id'])\n",
    "from tqdm import tqdm\n",
    "for to_join in tqdm([\n",
    "    norm_price_per_srch,\n",
    "    tosub_prop_starrating_per_dest,# prop_starrating_w0_d_srch_destination_id\n",
    "    norm_prop_starrating_per_srch, # prop_starrating_w0_d_srch_id\n",
    "\n",
    "    tosub_prop_review_score_per_dest, # prop_review_score_d_srch_destination_id\n",
    "    tosub_prop_review_score_per_dest_prop_starrating, # prop_review_score_d_srch_destination_id__prop_starrating\n",
    "    norm_prop_review_score_per_srch, # prop_review_score_d_srch_id\n",
    "\n",
    "    tosub_prop_location_score1_per_dest, # prop_location_score1_d_srch_destination_id\n",
    "    tosub_prop_location_score1_per_dest_prop_starrating, # prop_location_score1_d_srch_destination_id__prop_starrating\n",
    "    norm_prop_location_score1_per_srch, # prop_location_score1_d_srch_id\n",
    "\n",
    "    tosub_prop_location_score2_per_dest_id, # prop_location_score2_d_srch_destination_id\n",
    "    tosub_prop_location_score2_per_dest_id_prop_starrating, # prop_location_score2_d_srch_destination_id__prop_starrating\n",
    "    norm_prop_location_score2_per_srch, # prop_location_score2_d_srch_id\n",
    "\n",
    "    norm_price_per_search_prop_starrating,\n",
    "    norm_booking_prob_per_prop_id, norm_click_prob_per_prop_id,\n",
    "\n",
    "    norm_prop_price_hist_advantage_per_srch_id,\n",
    "    norm_visitor_price_hist_advantage_per_srch_id,\n",
    "    norm_srch_query_affinity_score,\n",
    "    ]):\n",
    "    joined = joined.join(to_join, how='left')\n",
    "\n"
   ],
   "metadata": {
    "collapsed": false,
    "ExecuteTime": {
     "end_time": "2023-05-24T15:14:32.939091445Z",
     "start_time": "2023-05-24T15:13:48.270144750Z"
    }
   }
  },
  {
   "cell_type": "code",
   "execution_count": 62,
   "outputs": [
    {
     "data": {
      "text/plain": "                 site_id  visitor_location_country_id   \nsrch_id prop_id                                         \n427     1              5                          219  \\\n5762    1              5                          219   \n8178    1              5                          219   \n8465    1              5                          219   \n10771   1              5                          219   \n...                  ...                          ...   \n167454  140821        16                           31   \n232724  140821        15                           55   \n284828  140821        16                           31   \n473794  140821        16                           31   \n614801  140821        16                           31   \n\n                 visitor_hist_starrating  visitor_hist_adr_usd   \nsrch_id prop_id                                                  \n427     1                            NaN                   NaN  \\\n5762    1                            3.5                147.02   \n8178    1                            NaN                   NaN   \n8465    1                            NaN                   NaN   \n10771   1                            NaN                   NaN   \n...                                  ...                   ...   \n167454  140821                       NaN                   NaN   \n232724  140821                       NaN                   NaN   \n284828  140821                       NaN                   NaN   \n473794  140821                       NaN                   NaN   \n614801  140821                       NaN                   NaN   \n\n                 prop_country_id  prop_starrating  prop_review_score   \nsrch_id prop_id                                                        \n427     1                    219                2                NaN  \\\n5762    1                    219                2                NaN   \n8178    1                    219                2                NaN   \n8465    1                    219                2                NaN   \n10771   1                    219                2                NaN   \n...                          ...              ...                ...   \n167454  140821                31                4                5.0   \n232724  140821                31                4                5.0   \n284828  140821                31                4                5.0   \n473794  140821                31                4                5.0   \n614801  140821                31                4                5.0   \n\n                 prop_brand_bool  prop_location_score1  prop_location_score2   \nsrch_id prop_id                                                                \n427     1                      1                  3.04                   NaN  \\\n5762    1                      1                  3.04                   NaN   \n8178    1                      1                  3.04                   NaN   \n8465    1                      1                  3.04                   NaN   \n10771   1                      1                  3.04                   NaN   \n...                          ...                   ...                   ...   \n167454  140821                 0                  0.69                   NaN   \n232724  140821                 0                  0.69                0.0095   \n284828  140821                 0                  0.69                   NaN   \n473794  140821                 0                  0.69                0.0659   \n614801  140821                 0                  0.69                   NaN   \n\n                 prop_log_historical_price  position  price_usd   \nsrch_id prop_id                                                   \n427     1                             4.28      21.0      72.00  \\\n5762    1                              NaN      33.0      99.00   \n8178    1                             4.30      34.0      89.00   \n8465    1                             4.28      30.0      81.00   \n10771   1                             4.57      37.0     109.00   \n...                                    ...       ...        ...   \n167454  140821                        4.55      22.0      60.80   \n232724  140821                        4.38       8.0      76.35   \n284828  140821                        4.39      12.0      83.58   \n473794  140821                        4.38       NaN      70.26   \n614801  140821                        4.37       NaN      70.22   \n\n                 promotion_flag  srch_destination_id  srch_length_of_stay   \nsrch_id prop_id                                                             \n427     1                     0                 6475                    1  \\\n5762    1                     0                 6475                    1   \n8178    1                     0                 6475                    1   \n8465    1                     0                 6475                    2   \n10771   1                     0                 6475                    1   \n...                         ...                  ...                  ...   \n167454  140821                0                18417                    7   \n232724  140821                0                13509                    1   \n284828  140821                0                10432                    4   \n473794  140821                0                23788                    1   \n614801  140821                0                27481                    2   \n\n                 srch_booking_window  srch_adults_count  srch_children_count   \nsrch_id prop_id                                                                \n427     1                         10                  2                    0  \\\n5762    1                         72                  2                    0   \n8178    1                          0                  2                    0   \n8465    1                          4                  2                    1   \n10771   1                          4                  1                    0   \n...                              ...                ...                  ...   \n167454  140821                     2                  1                    0   \n232724  140821                    64                  1                    0   \n284828  140821                     5                  2                    0   \n473794  140821                     2                  2                    0   \n614801  140821                    29                  2                    1   \n\n                 srch_room_count  srch_saturday_night_bool   \nsrch_id prop_id                                              \n427     1                      1                         1  \\\n5762    1                      1                         1   \n8178    1                      1                         1   \n8465    1                      1                         1   \n10771   1                      1                         0   \n...                          ...                       ...   \n167454  140821                 1                         0   \n232724  140821                 1                         1   \n284828  140821                 1                         0   \n473794  140821                 1                         1   \n614801  140821                 1                         1   \n\n                 srch_query_affinity_score  random_bool  comp1_rate   \nsrch_id prop_id                                                       \n427     1                              NaN            1         NaN  \\\n5762    1                              NaN            0         NaN   \n8178    1                              NaN            0         NaN   \n8465    1                              NaN            0         NaN   \n10771   1                              NaN            0         NaN   \n...                                    ...          ...         ...   \n167454  140821                         NaN            1         NaN   \n232724  140821                         NaN            0         NaN   \n284828  140821                         NaN            0         NaN   \n473794  140821                         NaN            0         NaN   \n614801  140821                         NaN            0         NaN   \n\n                 comp1_inv  comp1_rate_percent_diff  comp2_rate  comp2_inv   \nsrch_id prop_id                                                              \n427     1              NaN                      NaN         0.0        0.0  \\\n5762    1              NaN                      NaN         NaN        NaN   \n8178    1              NaN                      NaN         NaN        NaN   \n8465    1              NaN                      NaN         0.0        0.0   \n10771   1              NaN                      NaN         0.0        0.0   \n...                    ...                      ...         ...        ...   \n167454  140821         NaN                      NaN         NaN        NaN   \n232724  140821         NaN                      NaN         NaN        NaN   \n284828  140821         NaN                      NaN         NaN        NaN   \n473794  140821         NaN                      NaN         NaN        NaN   \n614801  140821         NaN                      NaN         NaN        NaN   \n\n                 comp2_rate_percent_diff  comp3_rate  comp3_inv   \nsrch_id prop_id                                                   \n427     1                            NaN         0.0        0.0  \\\n5762    1                            NaN         NaN        NaN   \n8178    1                            NaN         NaN        NaN   \n8465    1                            NaN         NaN        NaN   \n10771   1                            NaN         0.0        0.0   \n...                                  ...         ...        ...   \n167454  140821                       NaN         NaN        NaN   \n232724  140821                       NaN         NaN        NaN   \n284828  140821                       NaN         NaN        NaN   \n473794  140821                       NaN         NaN        NaN   \n614801  140821                       NaN         NaN        NaN   \n\n                 comp3_rate_percent_diff  comp4_rate  comp4_inv   \nsrch_id prop_id                                                   \n427     1                            NaN         NaN        NaN  \\\n5762    1                            NaN         NaN        NaN   \n8178    1                            NaN         NaN        NaN   \n8465    1                            NaN         NaN        NaN   \n10771   1                            NaN         NaN        NaN   \n...                                  ...         ...        ...   \n167454  140821                       NaN         NaN        NaN   \n232724  140821                       NaN         NaN        NaN   \n284828  140821                       NaN         NaN        NaN   \n473794  140821                       NaN         NaN        NaN   \n614801  140821                       NaN         NaN        NaN   \n\n                 comp4_rate_percent_diff  comp5_rate  comp5_inv   \nsrch_id prop_id                                                   \n427     1                            NaN         NaN        NaN  \\\n5762    1                            NaN         NaN        NaN   \n8178    1                            NaN         NaN        NaN   \n8465    1                            NaN         0.0        0.0   \n10771   1                            NaN         0.0        0.0   \n...                                  ...         ...        ...   \n167454  140821                       NaN         NaN        NaN   \n232724  140821                       NaN         NaN        NaN   \n284828  140821                       NaN         0.0        0.0   \n473794  140821                       NaN         0.0        0.0   \n614801  140821                       NaN         NaN        NaN   \n\n                 comp5_rate_percent_diff  comp6_rate  comp6_inv   \nsrch_id prop_id                                                   \n427     1                            NaN         NaN        NaN  \\\n5762    1                            NaN         NaN        NaN   \n8178    1                            NaN         NaN        NaN   \n8465    1                            NaN         NaN        NaN   \n10771   1                            NaN         NaN        NaN   \n...                                  ...         ...        ...   \n167454  140821                       NaN         NaN        NaN   \n232724  140821                       NaN         NaN        NaN   \n284828  140821                       NaN         NaN        NaN   \n473794  140821                       NaN         NaN        NaN   \n614801  140821                       NaN         NaN        NaN   \n\n                 comp6_rate_percent_diff  comp7_rate  comp7_inv   \nsrch_id prop_id                                                   \n427     1                            NaN         NaN        NaN  \\\n5762    1                            NaN         NaN        NaN   \n8178    1                            NaN         NaN        NaN   \n8465    1                            NaN         NaN        NaN   \n10771   1                            NaN         NaN        NaN   \n...                                  ...         ...        ...   \n167454  140821                       NaN         NaN        NaN   \n232724  140821                       NaN         NaN        NaN   \n284828  140821                       NaN         NaN        NaN   \n473794  140821                       NaN         NaN        NaN   \n614801  140821                       NaN         NaN        NaN   \n\n                 comp7_rate_percent_diff  comp8_rate  comp8_inv   \nsrch_id prop_id                                                   \n427     1                            NaN         0.0        0.0  \\\n5762    1                            NaN         NaN        NaN   \n8178    1                            NaN         NaN        NaN   \n8465    1                            NaN         0.0        0.0   \n10771   1                            NaN         0.0        0.0   \n...                                  ...         ...        ...   \n167454  140821                       NaN         NaN        NaN   \n232724  140821                       NaN         NaN        NaN   \n284828  140821                       NaN         NaN        NaN   \n473794  140821                       NaN         NaN        NaN   \n614801  140821                       NaN         NaN        NaN   \n\n                 comp8_rate_percent_diff  click_bool  booking_bool  is_test   \nsrch_id prop_id                                                               \n427     1                            NaN         0.0           0.0    False  \\\n5762    1                            NaN         0.0           0.0    False   \n8178    1                            NaN         0.0           0.0    False   \n8465    1                            NaN         0.0           0.0    False   \n10771   1                            NaN         0.0           0.0    False   \n...                                  ...         ...           ...      ...   \n167454  140821                       NaN         0.0           0.0    False   \n232724  140821                       NaN         0.0           0.0    False   \n284828  140821                       NaN         0.0           0.0    False   \n473794  140821                       NaN         NaN           NaN     True   \n614801  140821                       NaN         NaN           NaN     True   \n\n                 prop_starrating_w0  booking_week  booking_month   \nsrch_id prop_id                                                    \n427     1                       2.0             6              2  \\\n5762    1                       2.0            24              6   \n8178    1                       2.0            46             11   \n8465    1                       2.0            15              4   \n10771   1                       2.0            19              5   \n...                             ...           ...            ...   \n167454  140821                  4.0             6              2   \n232724  140821                  4.0            17              4   \n284828  140821                  4.0             9              2   \n473794  140821                  4.0            17              4   \n614801  140821                  4.0            11              3   \n\n                 booking_dayofyear  booking_dayofweek  midstay_week   \nsrch_id prop_id                                                       \n427     1                       37                  2             7  \\\n5762    1                      164                  3            34   \n8178    1                      322                  5            46   \n8465    1                       98                  0            15   \n10771   1                      128                  2            19   \n...                            ...                ...           ...   \n167454  140821                  35                  0             6   \n232724  140821                 114                  2            26   \n284828  140821                  59                  3            10   \n473794  140821                 115                  3            17   \n614801  140821                  73                  3            15   \n\n                 midstay_month  midstay_dayofyear  midstay_dayofweek   \nsrch_id prop_id                                                        \n427     1                    2                 47                  5  \\\n5762    1                    8                236                  5   \n8178    1                   11                322                  5   \n8465    1                    4                103                  5   \n10771   1                    5                132                  6   \n...                        ...                ...                ...   \n167454  140821               2                 40                  5   \n232724  140821               6                178                  3   \n284828  140821               3                 66                  3   \n473794  140821               4                117                  5   \n614801  140821               4                103                  5   \n\n                 hist_starrating_diff  price_hist_logdiff   \nsrch_id prop_id                                             \n427     1                         NaN           -0.003334  \\\n5762    1                         1.5                 NaN   \n8178    1                         NaN            0.188636   \n8465    1                         NaN            0.114449   \n10771   1                         NaN            0.121348   \n...                               ...                 ...   \n167454  140821                    NaN           -0.442410   \n232724  140821                    NaN           -0.044672   \n284828  140821                    NaN            0.035804   \n473794  140821                    NaN           -0.127797   \n614801  140821                    NaN           -0.118367   \n\n                 visitor_hist_adr_usd_logdiff  same_country   \nsrch_id prop_id                                               \n427     1                                 NaN          True  \\\n5762    1                           -0.395449          True   \n8178    1                                 NaN          True   \n8465    1                                 NaN          True   \n10771   1                                 NaN          True   \n...                                       ...           ...   \n167454  140821                            NaN          True   \n232724  140821                            NaN         False   \n284828  140821                            NaN          True   \n473794  140821                            NaN          True   \n614801  140821                            NaN          True   \n\n                 booking_prob_per_prop_id  click_prob_per_prop_id   \nsrch_id prop_id                                                     \n427     1                        0.000000                0.016393  \\\n5762    1                        0.000000                0.016393   \n8178    1                        0.000000                0.016393   \n8465    1                        0.000000                0.016393   \n10771   1                        0.000000                0.016393   \n...                                   ...                     ...   \n167454  140821                   0.142857                0.142857   \n232724  140821                   0.142857                0.142857   \n284828  140821                   0.142857                0.142857   \n473794  140821                   0.142857                0.142857   \n614801  140821                   0.142857                0.142857   \n\n                 price_usd_ld_srch_id   \nsrch_id prop_id                         \n427     1                   -0.067139  \\\n5762    1                   -0.114410   \n8178    1                   -0.065241   \n8465    1                    0.000000   \n10771   1                    0.116637   \n...                               ...   \n167454  140821              -0.095385   \n232724  140821               0.040904   \n284828  140821               0.047974   \n473794  140821              -0.245048   \n614801  140821              -0.105332   \n\n                 prop_starrating_w0_d_srch_destination_id   \nsrch_id prop_id                                             \n427     1                                            -1.5  \\\n5762    1                                            -2.0   \n8178    1                                            -2.0   \n8465    1                                            -1.5   \n10771   1                                            -2.0   \n...                                                   ...   \n167454  140821                                        0.0   \n232724  140821                                        0.0   \n284828  140821                                        0.0   \n473794  140821                                        0.0   \n614801  140821                                        2.0   \n\n                 prop_starrating_w0_d_srch_id   \nsrch_id prop_id                                 \n427     1                                -0.5  \\\n5762    1                                -1.0   \n8178    1                                -1.0   \n8465    1                                -0.5   \n10771   1                                -1.0   \n...                                       ...   \n167454  140821                            0.0   \n232724  140821                            0.0   \n284828  140821                            0.0   \n473794  140821                            0.0   \n614801  140821                            1.0   \n\n                 prop_review_score_d_srch_destination_id   \nsrch_id prop_id                                            \n427     1                                            NaN  \\\n5762    1                                            NaN   \n8178    1                                            NaN   \n8465    1                                            NaN   \n10771   1                                            NaN   \n...                                                  ...   \n167454  140821                                       1.0   \n232724  140821                                       1.0   \n284828  140821                                       1.5   \n473794  140821                                       1.0   \n614801  140821                                       2.0   \n\n                 prop_review_score_d_srch_destination_id__prop_starrating   \nsrch_id prop_id                                                             \n427     1                                                      NaN         \\\n5762    1                                                      NaN          \n8178    1                                                      NaN          \n8465    1                                                      NaN          \n10771   1                                                      NaN          \n...                                                            ...          \n167454  140821                                                1.00          \n232724  140821                                                1.50          \n284828  140821                                                1.75          \n473794  140821                                                1.00          \n614801  140821                                                1.50          \n\n                 prop_review_score_d_srch_id   \nsrch_id prop_id                                \n427     1                                NaN  \\\n5762    1                                NaN   \n8178    1                                NaN   \n8465    1                                NaN   \n10771   1                                NaN   \n...                                      ...   \n167454  140821                          0.50   \n232724  140821                          0.50   \n284828  140821                          0.75   \n473794  140821                          0.50   \n614801  140821                          1.00   \n\n                 prop_location_score1_d_srch_destination_id   \nsrch_id prop_id                                               \n427     1                                              1.20  \\\n5762    1                                              1.12   \n8178    1                                              0.85   \n8465    1                                              1.28   \n10771   1                                              1.28   \n...                                                     ...   \n167454  140821                                        -0.82   \n232724  140821                                        -2.02   \n284828  140821                                        -1.33   \n473794  140821                                        -0.82   \n614801  140821                                        -5.56   \n\n                 prop_location_score1_d_srch_destination_id__prop_starrating   \nsrch_id prop_id                                                                \n427     1                                                    1.040            \\\n5762    1                                                    0.960             \n8178    1                                                    0.690             \n8465    1                                                    1.120             \n10771   1                                                    1.120             \n...                                                            ...             \n167454  140821                                              -1.075             \n232724  140821                                              -2.020             \n284828  140821                                              -1.765             \n473794  140821                                              -0.820             \n614801  140821                                              -2.780             \n\n                 prop_location_score1_d_srch_id   \nsrch_id prop_id                                   \n427     1                                 0.560  \\\n5762    1                                 0.480   \n8178    1                                 0.210   \n8465    1                                 0.640   \n10771   1                                 0.640   \n...                                         ...   \n167454  140821                           -0.410   \n232724  140821                           -0.920   \n284828  140821                           -0.665   \n473794  140821                           -0.410   \n614801  140821                           -2.780   \n\n                 prop_location_score2_d_srch_destination_id   \nsrch_id prop_id                                               \n427     1                                               NaN  \\\n5762    1                                               NaN   \n8178    1                                               NaN   \n8465    1                                               NaN   \n10771   1                                               NaN   \n...                                                     ...   \n167454  140821                                          NaN   \n232724  140821                                      -0.0246   \n284828  140821                                          NaN   \n473794  140821                                       0.0000   \n614801  140821                                          NaN   \n\n                 prop_location_score2_d_srch_destination_id__prop_starrating   \nsrch_id prop_id                                                                \n427     1                                                      NaN            \\\n5762    1                                                      NaN             \n8178    1                                                      NaN             \n8465    1                                                      NaN             \n10771   1                                                      NaN             \n...                                                            ...             \n167454  140821                                                 NaN             \n232724  140821                                            -0.04265             \n284828  140821                                                 NaN             \n473794  140821                                            -0.03080             \n614801  140821                                                 NaN             \n\n                 prop_location_score2_d_srch_id   \nsrch_id prop_id                                   \n427     1                                   NaN  \\\n5762    1                                   NaN   \n8178    1                                   NaN   \n8465    1                                   NaN   \n10771   1                                   NaN   \n...                                         ...   \n167454  140821                              NaN   \n232724  140821                          -0.0123   \n284828  140821                              NaN   \n473794  140821                           0.0000   \n614801  140821                              NaN   \n\n                 price_usd_ld_srch_id__prop_starrating   \nsrch_id prop_id                                          \n427     1                                     0.125626  \\\n5762    1                                     0.129212   \n8178    1                                     0.198177   \n8465    1                                     0.044171   \n10771   1                                     0.450021   \n...                                                ...   \n167454  140821                               -0.312395   \n232724  140821                                0.000000   \n284828  140821                                0.015737   \n473794  140821                               -0.273708   \n614801  140821                               -0.121857   \n\n                 booking_prob_per_prop_id_d_srch_id   \nsrch_id prop_id                                       \n427     1                                 -0.015505  \\\n5762    1                                 -0.017857   \n8178    1                                 -0.015625   \n8465    1                                 -0.015625   \n10771   1                                 -0.016393   \n...                                             ...   \n167454  140821                             0.142857   \n232724  140821                             0.142857   \n284828  140821                             0.142857   \n473794  140821                             0.142857   \n614801  140821                             0.142857   \n\n                 click_prob_per_prop_id_d_srch_id   \nsrch_id prop_id                                     \n427     1                               -0.011613  \\\n5762    1                               -0.014857   \n8178    1                               -0.010634   \n8465    1                               -0.010634   \n10771   1                               -0.014857   \n...                                           ...   \n167454  140821                           0.142857   \n232724  140821                           0.142857   \n284828  140821                           0.087302   \n473794  140821                           0.142857   \n614801  140821                           0.142857   \n\n                 price_hist_logdiff_d_srch_id   \nsrch_id prop_id                                 \n427     1                            0.218860  \\\n5762    1                                 NaN   \n8178    1                            0.283944   \n8465    1                            0.269329   \n10771   1                            0.247003   \n...                                       ...   \n167454  140821                      -0.247723   \n232724  140821                       0.213410   \n284828  140821                       0.105863   \n473794  140821                      -0.042829   \n614801  140821                       0.028794   \n\n                 visitor_hist_adr_usd_logdiff_d_srch_id   \nsrch_id prop_id                                           \n427     1                                           NaN  \\\n5762    1                                      -0.11441   \n8178    1                                           NaN   \n8465    1                                           NaN   \n10771   1                                           NaN   \n...                                                 ...   \n167454  140821                                      NaN   \n232724  140821                                      NaN   \n284828  140821                                      NaN   \n473794  140821                                      NaN   \n614801  140821                                      NaN   \n\n                 srch_query_affinity_score_d_srch_id  \nsrch_id prop_id                                       \n427     1                                        NaN  \n5762    1                                        NaN  \n8178    1                                        NaN  \n8465    1                                        NaN  \n10771   1                                        NaN  \n...                                              ...  \n167454  140821                                   NaN  \n232724  140821                                   NaN  \n284828  140821                                   NaN  \n473794  140821                                   NaN  \n614801  140821                                   NaN  \n\n[9917530 rows x 83 columns]",
      "text/html": "<div>\n<style scoped>\n    .dataframe tbody tr th:only-of-type {\n        vertical-align: middle;\n    }\n\n    .dataframe tbody tr th {\n        vertical-align: top;\n    }\n\n    .dataframe thead th {\n        text-align: right;\n    }\n</style>\n<table border=\"1\" class=\"dataframe\">\n  <thead>\n    <tr style=\"text-align: right;\">\n      <th></th>\n      <th></th>\n      <th>site_id</th>\n      <th>visitor_location_country_id</th>\n      <th>visitor_hist_starrating</th>\n      <th>visitor_hist_adr_usd</th>\n      <th>prop_country_id</th>\n      <th>prop_starrating</th>\n      <th>prop_review_score</th>\n      <th>prop_brand_bool</th>\n      <th>prop_location_score1</th>\n      <th>prop_location_score2</th>\n      <th>prop_log_historical_price</th>\n      <th>position</th>\n      <th>price_usd</th>\n      <th>promotion_flag</th>\n      <th>srch_destination_id</th>\n      <th>srch_length_of_stay</th>\n      <th>srch_booking_window</th>\n      <th>srch_adults_count</th>\n      <th>srch_children_count</th>\n      <th>srch_room_count</th>\n      <th>srch_saturday_night_bool</th>\n      <th>srch_query_affinity_score</th>\n      <th>random_bool</th>\n      <th>comp1_rate</th>\n      <th>comp1_inv</th>\n      <th>comp1_rate_percent_diff</th>\n      <th>comp2_rate</th>\n      <th>comp2_inv</th>\n      <th>comp2_rate_percent_diff</th>\n      <th>comp3_rate</th>\n      <th>comp3_inv</th>\n      <th>comp3_rate_percent_diff</th>\n      <th>comp4_rate</th>\n      <th>comp4_inv</th>\n      <th>comp4_rate_percent_diff</th>\n      <th>comp5_rate</th>\n      <th>comp5_inv</th>\n      <th>comp5_rate_percent_diff</th>\n      <th>comp6_rate</th>\n      <th>comp6_inv</th>\n      <th>comp6_rate_percent_diff</th>\n      <th>comp7_rate</th>\n      <th>comp7_inv</th>\n      <th>comp7_rate_percent_diff</th>\n      <th>comp8_rate</th>\n      <th>comp8_inv</th>\n      <th>comp8_rate_percent_diff</th>\n      <th>click_bool</th>\n      <th>booking_bool</th>\n      <th>is_test</th>\n      <th>prop_starrating_w0</th>\n      <th>booking_week</th>\n      <th>booking_month</th>\n      <th>booking_dayofyear</th>\n      <th>booking_dayofweek</th>\n      <th>midstay_week</th>\n      <th>midstay_month</th>\n      <th>midstay_dayofyear</th>\n      <th>midstay_dayofweek</th>\n      <th>hist_starrating_diff</th>\n      <th>price_hist_logdiff</th>\n      <th>visitor_hist_adr_usd_logdiff</th>\n      <th>same_country</th>\n      <th>booking_prob_per_prop_id</th>\n      <th>click_prob_per_prop_id</th>\n      <th>price_usd_ld_srch_id</th>\n      <th>prop_starrating_w0_d_srch_destination_id</th>\n      <th>prop_starrating_w0_d_srch_id</th>\n      <th>prop_review_score_d_srch_destination_id</th>\n      <th>prop_review_score_d_srch_destination_id__prop_starrating</th>\n      <th>prop_review_score_d_srch_id</th>\n      <th>prop_location_score1_d_srch_destination_id</th>\n      <th>prop_location_score1_d_srch_destination_id__prop_starrating</th>\n      <th>prop_location_score1_d_srch_id</th>\n      <th>prop_location_score2_d_srch_destination_id</th>\n      <th>prop_location_score2_d_srch_destination_id__prop_starrating</th>\n      <th>prop_location_score2_d_srch_id</th>\n      <th>price_usd_ld_srch_id__prop_starrating</th>\n      <th>booking_prob_per_prop_id_d_srch_id</th>\n      <th>click_prob_per_prop_id_d_srch_id</th>\n      <th>price_hist_logdiff_d_srch_id</th>\n      <th>visitor_hist_adr_usd_logdiff_d_srch_id</th>\n      <th>srch_query_affinity_score_d_srch_id</th>\n    </tr>\n    <tr>\n      <th>srch_id</th>\n      <th>prop_id</th>\n      <th></th>\n      <th></th>\n      <th></th>\n      <th></th>\n      <th></th>\n      <th></th>\n      <th></th>\n      <th></th>\n      <th></th>\n      <th></th>\n      <th></th>\n      <th></th>\n      <th></th>\n      <th></th>\n      <th></th>\n      <th></th>\n      <th></th>\n      <th></th>\n      <th></th>\n      <th></th>\n      <th></th>\n      <th></th>\n      <th></th>\n      <th></th>\n      <th></th>\n      <th></th>\n      <th></th>\n      <th></th>\n      <th></th>\n      <th></th>\n      <th></th>\n      <th></th>\n      <th></th>\n      <th></th>\n      <th></th>\n      <th></th>\n      <th></th>\n      <th></th>\n      <th></th>\n      <th></th>\n      <th></th>\n      <th></th>\n      <th></th>\n      <th></th>\n      <th></th>\n      <th></th>\n      <th></th>\n      <th></th>\n      <th></th>\n      <th></th>\n      <th></th>\n      <th></th>\n      <th></th>\n      <th></th>\n      <th></th>\n      <th></th>\n      <th></th>\n      <th></th>\n      <th></th>\n      <th></th>\n      <th></th>\n      <th></th>\n      <th></th>\n      <th></th>\n      <th></th>\n      <th></th>\n      <th></th>\n      <th></th>\n      <th></th>\n      <th></th>\n      <th></th>\n      <th></th>\n      <th></th>\n      <th></th>\n      <th></th>\n      <th></th>\n      <th></th>\n      <th></th>\n      <th></th>\n      <th></th>\n      <th></th>\n      <th></th>\n      <th></th>\n    </tr>\n  </thead>\n  <tbody>\n    <tr>\n      <th>427</th>\n      <th>1</th>\n      <td>5</td>\n      <td>219</td>\n      <td>NaN</td>\n      <td>NaN</td>\n      <td>219</td>\n      <td>2</td>\n      <td>NaN</td>\n      <td>1</td>\n      <td>3.04</td>\n      <td>NaN</td>\n      <td>4.28</td>\n      <td>21.0</td>\n      <td>72.00</td>\n      <td>0</td>\n      <td>6475</td>\n      <td>1</td>\n      <td>10</td>\n      <td>2</td>\n      <td>0</td>\n      <td>1</td>\n      <td>1</td>\n      <td>NaN</td>\n      <td>1</td>\n      <td>NaN</td>\n      <td>NaN</td>\n      <td>NaN</td>\n      <td>0.0</td>\n      <td>0.0</td>\n      <td>NaN</td>\n      <td>0.0</td>\n      <td>0.0</td>\n      <td>NaN</td>\n      <td>NaN</td>\n      <td>NaN</td>\n      <td>NaN</td>\n      <td>NaN</td>\n      <td>NaN</td>\n      <td>NaN</td>\n      <td>NaN</td>\n      <td>NaN</td>\n      <td>NaN</td>\n      <td>NaN</td>\n      <td>NaN</td>\n      <td>NaN</td>\n      <td>0.0</td>\n      <td>0.0</td>\n      <td>NaN</td>\n      <td>0.0</td>\n      <td>0.0</td>\n      <td>False</td>\n      <td>2.0</td>\n      <td>6</td>\n      <td>2</td>\n      <td>37</td>\n      <td>2</td>\n      <td>7</td>\n      <td>2</td>\n      <td>47</td>\n      <td>5</td>\n      <td>NaN</td>\n      <td>-0.003334</td>\n      <td>NaN</td>\n      <td>True</td>\n      <td>0.000000</td>\n      <td>0.016393</td>\n      <td>-0.067139</td>\n      <td>-1.5</td>\n      <td>-0.5</td>\n      <td>NaN</td>\n      <td>NaN</td>\n      <td>NaN</td>\n      <td>1.20</td>\n      <td>1.040</td>\n      <td>0.560</td>\n      <td>NaN</td>\n      <td>NaN</td>\n      <td>NaN</td>\n      <td>0.125626</td>\n      <td>-0.015505</td>\n      <td>-0.011613</td>\n      <td>0.218860</td>\n      <td>NaN</td>\n      <td>NaN</td>\n    </tr>\n    <tr>\n      <th>5762</th>\n      <th>1</th>\n      <td>5</td>\n      <td>219</td>\n      <td>3.5</td>\n      <td>147.02</td>\n      <td>219</td>\n      <td>2</td>\n      <td>NaN</td>\n      <td>1</td>\n      <td>3.04</td>\n      <td>NaN</td>\n      <td>NaN</td>\n      <td>33.0</td>\n      <td>99.00</td>\n      <td>0</td>\n      <td>6475</td>\n      <td>1</td>\n      <td>72</td>\n      <td>2</td>\n      <td>0</td>\n      <td>1</td>\n      <td>1</td>\n      <td>NaN</td>\n      <td>0</td>\n      <td>NaN</td>\n      <td>NaN</td>\n      <td>NaN</td>\n      <td>NaN</td>\n      <td>NaN</td>\n      <td>NaN</td>\n      <td>NaN</td>\n      <td>NaN</td>\n      <td>NaN</td>\n      <td>NaN</td>\n      <td>NaN</td>\n      <td>NaN</td>\n      <td>NaN</td>\n      <td>NaN</td>\n      <td>NaN</td>\n      <td>NaN</td>\n      <td>NaN</td>\n      <td>NaN</td>\n      <td>NaN</td>\n      <td>NaN</td>\n      <td>NaN</td>\n      <td>NaN</td>\n      <td>NaN</td>\n      <td>NaN</td>\n      <td>0.0</td>\n      <td>0.0</td>\n      <td>False</td>\n      <td>2.0</td>\n      <td>24</td>\n      <td>6</td>\n      <td>164</td>\n      <td>3</td>\n      <td>34</td>\n      <td>8</td>\n      <td>236</td>\n      <td>5</td>\n      <td>1.5</td>\n      <td>NaN</td>\n      <td>-0.395449</td>\n      <td>True</td>\n      <td>0.000000</td>\n      <td>0.016393</td>\n      <td>-0.114410</td>\n      <td>-2.0</td>\n      <td>-1.0</td>\n      <td>NaN</td>\n      <td>NaN</td>\n      <td>NaN</td>\n      <td>1.12</td>\n      <td>0.960</td>\n      <td>0.480</td>\n      <td>NaN</td>\n      <td>NaN</td>\n      <td>NaN</td>\n      <td>0.129212</td>\n      <td>-0.017857</td>\n      <td>-0.014857</td>\n      <td>NaN</td>\n      <td>-0.11441</td>\n      <td>NaN</td>\n    </tr>\n    <tr>\n      <th>8178</th>\n      <th>1</th>\n      <td>5</td>\n      <td>219</td>\n      <td>NaN</td>\n      <td>NaN</td>\n      <td>219</td>\n      <td>2</td>\n      <td>NaN</td>\n      <td>1</td>\n      <td>3.04</td>\n      <td>NaN</td>\n      <td>4.30</td>\n      <td>34.0</td>\n      <td>89.00</td>\n      <td>0</td>\n      <td>6475</td>\n      <td>1</td>\n      <td>0</td>\n      <td>2</td>\n      <td>0</td>\n      <td>1</td>\n      <td>1</td>\n      <td>NaN</td>\n      <td>0</td>\n      <td>NaN</td>\n      <td>NaN</td>\n      <td>NaN</td>\n      <td>NaN</td>\n      <td>NaN</td>\n      <td>NaN</td>\n      <td>NaN</td>\n      <td>NaN</td>\n      <td>NaN</td>\n      <td>NaN</td>\n      <td>NaN</td>\n      <td>NaN</td>\n      <td>NaN</td>\n      <td>NaN</td>\n      <td>NaN</td>\n      <td>NaN</td>\n      <td>NaN</td>\n      <td>NaN</td>\n      <td>NaN</td>\n      <td>NaN</td>\n      <td>NaN</td>\n      <td>NaN</td>\n      <td>NaN</td>\n      <td>NaN</td>\n      <td>0.0</td>\n      <td>0.0</td>\n      <td>False</td>\n      <td>2.0</td>\n      <td>46</td>\n      <td>11</td>\n      <td>322</td>\n      <td>5</td>\n      <td>46</td>\n      <td>11</td>\n      <td>322</td>\n      <td>5</td>\n      <td>NaN</td>\n      <td>0.188636</td>\n      <td>NaN</td>\n      <td>True</td>\n      <td>0.000000</td>\n      <td>0.016393</td>\n      <td>-0.065241</td>\n      <td>-2.0</td>\n      <td>-1.0</td>\n      <td>NaN</td>\n      <td>NaN</td>\n      <td>NaN</td>\n      <td>0.85</td>\n      <td>0.690</td>\n      <td>0.210</td>\n      <td>NaN</td>\n      <td>NaN</td>\n      <td>NaN</td>\n      <td>0.198177</td>\n      <td>-0.015625</td>\n      <td>-0.010634</td>\n      <td>0.283944</td>\n      <td>NaN</td>\n      <td>NaN</td>\n    </tr>\n    <tr>\n      <th>8465</th>\n      <th>1</th>\n      <td>5</td>\n      <td>219</td>\n      <td>NaN</td>\n      <td>NaN</td>\n      <td>219</td>\n      <td>2</td>\n      <td>NaN</td>\n      <td>1</td>\n      <td>3.04</td>\n      <td>NaN</td>\n      <td>4.28</td>\n      <td>30.0</td>\n      <td>81.00</td>\n      <td>0</td>\n      <td>6475</td>\n      <td>2</td>\n      <td>4</td>\n      <td>2</td>\n      <td>1</td>\n      <td>1</td>\n      <td>1</td>\n      <td>NaN</td>\n      <td>0</td>\n      <td>NaN</td>\n      <td>NaN</td>\n      <td>NaN</td>\n      <td>0.0</td>\n      <td>0.0</td>\n      <td>NaN</td>\n      <td>NaN</td>\n      <td>NaN</td>\n      <td>NaN</td>\n      <td>NaN</td>\n      <td>NaN</td>\n      <td>NaN</td>\n      <td>0.0</td>\n      <td>0.0</td>\n      <td>NaN</td>\n      <td>NaN</td>\n      <td>NaN</td>\n      <td>NaN</td>\n      <td>NaN</td>\n      <td>NaN</td>\n      <td>NaN</td>\n      <td>0.0</td>\n      <td>0.0</td>\n      <td>NaN</td>\n      <td>0.0</td>\n      <td>0.0</td>\n      <td>False</td>\n      <td>2.0</td>\n      <td>15</td>\n      <td>4</td>\n      <td>98</td>\n      <td>0</td>\n      <td>15</td>\n      <td>4</td>\n      <td>103</td>\n      <td>5</td>\n      <td>NaN</td>\n      <td>0.114449</td>\n      <td>NaN</td>\n      <td>True</td>\n      <td>0.000000</td>\n      <td>0.016393</td>\n      <td>0.000000</td>\n      <td>-1.5</td>\n      <td>-0.5</td>\n      <td>NaN</td>\n      <td>NaN</td>\n      <td>NaN</td>\n      <td>1.28</td>\n      <td>1.120</td>\n      <td>0.640</td>\n      <td>NaN</td>\n      <td>NaN</td>\n      <td>NaN</td>\n      <td>0.044171</td>\n      <td>-0.015625</td>\n      <td>-0.010634</td>\n      <td>0.269329</td>\n      <td>NaN</td>\n      <td>NaN</td>\n    </tr>\n    <tr>\n      <th>10771</th>\n      <th>1</th>\n      <td>5</td>\n      <td>219</td>\n      <td>NaN</td>\n      <td>NaN</td>\n      <td>219</td>\n      <td>2</td>\n      <td>NaN</td>\n      <td>1</td>\n      <td>3.04</td>\n      <td>NaN</td>\n      <td>4.57</td>\n      <td>37.0</td>\n      <td>109.00</td>\n      <td>0</td>\n      <td>6475</td>\n      <td>1</td>\n      <td>4</td>\n      <td>1</td>\n      <td>0</td>\n      <td>1</td>\n      <td>0</td>\n      <td>NaN</td>\n      <td>0</td>\n      <td>NaN</td>\n      <td>NaN</td>\n      <td>NaN</td>\n      <td>0.0</td>\n      <td>0.0</td>\n      <td>NaN</td>\n      <td>0.0</td>\n      <td>0.0</td>\n      <td>NaN</td>\n      <td>NaN</td>\n      <td>NaN</td>\n      <td>NaN</td>\n      <td>0.0</td>\n      <td>0.0</td>\n      <td>NaN</td>\n      <td>NaN</td>\n      <td>NaN</td>\n      <td>NaN</td>\n      <td>NaN</td>\n      <td>NaN</td>\n      <td>NaN</td>\n      <td>0.0</td>\n      <td>0.0</td>\n      <td>NaN</td>\n      <td>0.0</td>\n      <td>0.0</td>\n      <td>False</td>\n      <td>2.0</td>\n      <td>19</td>\n      <td>5</td>\n      <td>128</td>\n      <td>2</td>\n      <td>19</td>\n      <td>5</td>\n      <td>132</td>\n      <td>6</td>\n      <td>NaN</td>\n      <td>0.121348</td>\n      <td>NaN</td>\n      <td>True</td>\n      <td>0.000000</td>\n      <td>0.016393</td>\n      <td>0.116637</td>\n      <td>-2.0</td>\n      <td>-1.0</td>\n      <td>NaN</td>\n      <td>NaN</td>\n      <td>NaN</td>\n      <td>1.28</td>\n      <td>1.120</td>\n      <td>0.640</td>\n      <td>NaN</td>\n      <td>NaN</td>\n      <td>NaN</td>\n      <td>0.450021</td>\n      <td>-0.016393</td>\n      <td>-0.014857</td>\n      <td>0.247003</td>\n      <td>NaN</td>\n      <td>NaN</td>\n    </tr>\n    <tr>\n      <th>...</th>\n      <th>...</th>\n      <td>...</td>\n      <td>...</td>\n      <td>...</td>\n      <td>...</td>\n      <td>...</td>\n      <td>...</td>\n      <td>...</td>\n      <td>...</td>\n      <td>...</td>\n      <td>...</td>\n      <td>...</td>\n      <td>...</td>\n      <td>...</td>\n      <td>...</td>\n      <td>...</td>\n      <td>...</td>\n      <td>...</td>\n      <td>...</td>\n      <td>...</td>\n      <td>...</td>\n      <td>...</td>\n      <td>...</td>\n      <td>...</td>\n      <td>...</td>\n      <td>...</td>\n      <td>...</td>\n      <td>...</td>\n      <td>...</td>\n      <td>...</td>\n      <td>...</td>\n      <td>...</td>\n      <td>...</td>\n      <td>...</td>\n      <td>...</td>\n      <td>...</td>\n      <td>...</td>\n      <td>...</td>\n      <td>...</td>\n      <td>...</td>\n      <td>...</td>\n      <td>...</td>\n      <td>...</td>\n      <td>...</td>\n      <td>...</td>\n      <td>...</td>\n      <td>...</td>\n      <td>...</td>\n      <td>...</td>\n      <td>...</td>\n      <td>...</td>\n      <td>...</td>\n      <td>...</td>\n      <td>...</td>\n      <td>...</td>\n      <td>...</td>\n      <td>...</td>\n      <td>...</td>\n      <td>...</td>\n      <td>...</td>\n      <td>...</td>\n      <td>...</td>\n      <td>...</td>\n      <td>...</td>\n      <td>...</td>\n      <td>...</td>\n      <td>...</td>\n      <td>...</td>\n      <td>...</td>\n      <td>...</td>\n      <td>...</td>\n      <td>...</td>\n      <td>...</td>\n      <td>...</td>\n      <td>...</td>\n      <td>...</td>\n      <td>...</td>\n      <td>...</td>\n      <td>...</td>\n      <td>...</td>\n      <td>...</td>\n      <td>...</td>\n      <td>...</td>\n      <td>...</td>\n    </tr>\n    <tr>\n      <th>167454</th>\n      <th>140821</th>\n      <td>16</td>\n      <td>31</td>\n      <td>NaN</td>\n      <td>NaN</td>\n      <td>31</td>\n      <td>4</td>\n      <td>5.0</td>\n      <td>0</td>\n      <td>0.69</td>\n      <td>NaN</td>\n      <td>4.55</td>\n      <td>22.0</td>\n      <td>60.80</td>\n      <td>0</td>\n      <td>18417</td>\n      <td>7</td>\n      <td>2</td>\n      <td>1</td>\n      <td>0</td>\n      <td>1</td>\n      <td>0</td>\n      <td>NaN</td>\n      <td>1</td>\n      <td>NaN</td>\n      <td>NaN</td>\n      <td>NaN</td>\n      <td>NaN</td>\n      <td>NaN</td>\n      <td>NaN</td>\n      <td>NaN</td>\n      <td>NaN</td>\n      <td>NaN</td>\n      <td>NaN</td>\n      <td>NaN</td>\n      <td>NaN</td>\n      <td>NaN</td>\n      <td>NaN</td>\n      <td>NaN</td>\n      <td>NaN</td>\n      <td>NaN</td>\n      <td>NaN</td>\n      <td>NaN</td>\n      <td>NaN</td>\n      <td>NaN</td>\n      <td>NaN</td>\n      <td>NaN</td>\n      <td>NaN</td>\n      <td>0.0</td>\n      <td>0.0</td>\n      <td>False</td>\n      <td>4.0</td>\n      <td>6</td>\n      <td>2</td>\n      <td>35</td>\n      <td>0</td>\n      <td>6</td>\n      <td>2</td>\n      <td>40</td>\n      <td>5</td>\n      <td>NaN</td>\n      <td>-0.442410</td>\n      <td>NaN</td>\n      <td>True</td>\n      <td>0.142857</td>\n      <td>0.142857</td>\n      <td>-0.095385</td>\n      <td>0.0</td>\n      <td>0.0</td>\n      <td>1.0</td>\n      <td>1.00</td>\n      <td>0.50</td>\n      <td>-0.82</td>\n      <td>-1.075</td>\n      <td>-0.410</td>\n      <td>NaN</td>\n      <td>NaN</td>\n      <td>NaN</td>\n      <td>-0.312395</td>\n      <td>0.142857</td>\n      <td>0.142857</td>\n      <td>-0.247723</td>\n      <td>NaN</td>\n      <td>NaN</td>\n    </tr>\n    <tr>\n      <th>232724</th>\n      <th>140821</th>\n      <td>15</td>\n      <td>55</td>\n      <td>NaN</td>\n      <td>NaN</td>\n      <td>31</td>\n      <td>4</td>\n      <td>5.0</td>\n      <td>0</td>\n      <td>0.69</td>\n      <td>0.0095</td>\n      <td>4.38</td>\n      <td>8.0</td>\n      <td>76.35</td>\n      <td>0</td>\n      <td>13509</td>\n      <td>1</td>\n      <td>64</td>\n      <td>1</td>\n      <td>0</td>\n      <td>1</td>\n      <td>1</td>\n      <td>NaN</td>\n      <td>0</td>\n      <td>NaN</td>\n      <td>NaN</td>\n      <td>NaN</td>\n      <td>NaN</td>\n      <td>NaN</td>\n      <td>NaN</td>\n      <td>NaN</td>\n      <td>NaN</td>\n      <td>NaN</td>\n      <td>NaN</td>\n      <td>NaN</td>\n      <td>NaN</td>\n      <td>NaN</td>\n      <td>NaN</td>\n      <td>NaN</td>\n      <td>NaN</td>\n      <td>NaN</td>\n      <td>NaN</td>\n      <td>NaN</td>\n      <td>NaN</td>\n      <td>NaN</td>\n      <td>NaN</td>\n      <td>NaN</td>\n      <td>NaN</td>\n      <td>0.0</td>\n      <td>0.0</td>\n      <td>False</td>\n      <td>4.0</td>\n      <td>17</td>\n      <td>4</td>\n      <td>114</td>\n      <td>2</td>\n      <td>26</td>\n      <td>6</td>\n      <td>178</td>\n      <td>3</td>\n      <td>NaN</td>\n      <td>-0.044672</td>\n      <td>NaN</td>\n      <td>False</td>\n      <td>0.142857</td>\n      <td>0.142857</td>\n      <td>0.040904</td>\n      <td>0.0</td>\n      <td>0.0</td>\n      <td>1.0</td>\n      <td>1.50</td>\n      <td>0.50</td>\n      <td>-2.02</td>\n      <td>-2.020</td>\n      <td>-0.920</td>\n      <td>-0.0246</td>\n      <td>-0.04265</td>\n      <td>-0.0123</td>\n      <td>0.000000</td>\n      <td>0.142857</td>\n      <td>0.142857</td>\n      <td>0.213410</td>\n      <td>NaN</td>\n      <td>NaN</td>\n    </tr>\n    <tr>\n      <th>284828</th>\n      <th>140821</th>\n      <td>16</td>\n      <td>31</td>\n      <td>NaN</td>\n      <td>NaN</td>\n      <td>31</td>\n      <td>4</td>\n      <td>5.0</td>\n      <td>0</td>\n      <td>0.69</td>\n      <td>NaN</td>\n      <td>4.39</td>\n      <td>12.0</td>\n      <td>83.58</td>\n      <td>0</td>\n      <td>10432</td>\n      <td>4</td>\n      <td>5</td>\n      <td>2</td>\n      <td>0</td>\n      <td>1</td>\n      <td>0</td>\n      <td>NaN</td>\n      <td>0</td>\n      <td>NaN</td>\n      <td>NaN</td>\n      <td>NaN</td>\n      <td>NaN</td>\n      <td>NaN</td>\n      <td>NaN</td>\n      <td>NaN</td>\n      <td>NaN</td>\n      <td>NaN</td>\n      <td>NaN</td>\n      <td>NaN</td>\n      <td>NaN</td>\n      <td>0.0</td>\n      <td>0.0</td>\n      <td>NaN</td>\n      <td>NaN</td>\n      <td>NaN</td>\n      <td>NaN</td>\n      <td>NaN</td>\n      <td>NaN</td>\n      <td>NaN</td>\n      <td>NaN</td>\n      <td>NaN</td>\n      <td>NaN</td>\n      <td>0.0</td>\n      <td>0.0</td>\n      <td>False</td>\n      <td>4.0</td>\n      <td>9</td>\n      <td>2</td>\n      <td>59</td>\n      <td>3</td>\n      <td>10</td>\n      <td>3</td>\n      <td>66</td>\n      <td>3</td>\n      <td>NaN</td>\n      <td>0.035804</td>\n      <td>NaN</td>\n      <td>True</td>\n      <td>0.142857</td>\n      <td>0.142857</td>\n      <td>0.047974</td>\n      <td>0.0</td>\n      <td>0.0</td>\n      <td>1.5</td>\n      <td>1.75</td>\n      <td>0.75</td>\n      <td>-1.33</td>\n      <td>-1.765</td>\n      <td>-0.665</td>\n      <td>NaN</td>\n      <td>NaN</td>\n      <td>NaN</td>\n      <td>0.015737</td>\n      <td>0.142857</td>\n      <td>0.087302</td>\n      <td>0.105863</td>\n      <td>NaN</td>\n      <td>NaN</td>\n    </tr>\n    <tr>\n      <th>473794</th>\n      <th>140821</th>\n      <td>16</td>\n      <td>31</td>\n      <td>NaN</td>\n      <td>NaN</td>\n      <td>31</td>\n      <td>4</td>\n      <td>5.0</td>\n      <td>0</td>\n      <td>0.69</td>\n      <td>0.0659</td>\n      <td>4.38</td>\n      <td>NaN</td>\n      <td>70.26</td>\n      <td>0</td>\n      <td>23788</td>\n      <td>1</td>\n      <td>2</td>\n      <td>2</td>\n      <td>0</td>\n      <td>1</td>\n      <td>1</td>\n      <td>NaN</td>\n      <td>0</td>\n      <td>NaN</td>\n      <td>NaN</td>\n      <td>NaN</td>\n      <td>NaN</td>\n      <td>NaN</td>\n      <td>NaN</td>\n      <td>NaN</td>\n      <td>NaN</td>\n      <td>NaN</td>\n      <td>NaN</td>\n      <td>NaN</td>\n      <td>NaN</td>\n      <td>0.0</td>\n      <td>0.0</td>\n      <td>NaN</td>\n      <td>NaN</td>\n      <td>NaN</td>\n      <td>NaN</td>\n      <td>NaN</td>\n      <td>NaN</td>\n      <td>NaN</td>\n      <td>NaN</td>\n      <td>NaN</td>\n      <td>NaN</td>\n      <td>NaN</td>\n      <td>NaN</td>\n      <td>True</td>\n      <td>4.0</td>\n      <td>17</td>\n      <td>4</td>\n      <td>115</td>\n      <td>3</td>\n      <td>17</td>\n      <td>4</td>\n      <td>117</td>\n      <td>5</td>\n      <td>NaN</td>\n      <td>-0.127797</td>\n      <td>NaN</td>\n      <td>True</td>\n      <td>0.142857</td>\n      <td>0.142857</td>\n      <td>-0.245048</td>\n      <td>0.0</td>\n      <td>0.0</td>\n      <td>1.0</td>\n      <td>1.00</td>\n      <td>0.50</td>\n      <td>-0.82</td>\n      <td>-0.820</td>\n      <td>-0.410</td>\n      <td>0.0000</td>\n      <td>-0.03080</td>\n      <td>0.0000</td>\n      <td>-0.273708</td>\n      <td>0.142857</td>\n      <td>0.142857</td>\n      <td>-0.042829</td>\n      <td>NaN</td>\n      <td>NaN</td>\n    </tr>\n    <tr>\n      <th>614801</th>\n      <th>140821</th>\n      <td>16</td>\n      <td>31</td>\n      <td>NaN</td>\n      <td>NaN</td>\n      <td>31</td>\n      <td>4</td>\n      <td>5.0</td>\n      <td>0</td>\n      <td>0.69</td>\n      <td>NaN</td>\n      <td>4.37</td>\n      <td>NaN</td>\n      <td>70.22</td>\n      <td>0</td>\n      <td>27481</td>\n      <td>2</td>\n      <td>29</td>\n      <td>2</td>\n      <td>1</td>\n      <td>1</td>\n      <td>1</td>\n      <td>NaN</td>\n      <td>0</td>\n      <td>NaN</td>\n      <td>NaN</td>\n      <td>NaN</td>\n      <td>NaN</td>\n      <td>NaN</td>\n      <td>NaN</td>\n      <td>NaN</td>\n      <td>NaN</td>\n      <td>NaN</td>\n      <td>NaN</td>\n      <td>NaN</td>\n      <td>NaN</td>\n      <td>NaN</td>\n      <td>NaN</td>\n      <td>NaN</td>\n      <td>NaN</td>\n      <td>NaN</td>\n      <td>NaN</td>\n      <td>NaN</td>\n      <td>NaN</td>\n      <td>NaN</td>\n      <td>NaN</td>\n      <td>NaN</td>\n      <td>NaN</td>\n      <td>NaN</td>\n      <td>NaN</td>\n      <td>True</td>\n      <td>4.0</td>\n      <td>11</td>\n      <td>3</td>\n      <td>73</td>\n      <td>3</td>\n      <td>15</td>\n      <td>4</td>\n      <td>103</td>\n      <td>5</td>\n      <td>NaN</td>\n      <td>-0.118367</td>\n      <td>NaN</td>\n      <td>True</td>\n      <td>0.142857</td>\n      <td>0.142857</td>\n      <td>-0.105332</td>\n      <td>2.0</td>\n      <td>1.0</td>\n      <td>2.0</td>\n      <td>1.50</td>\n      <td>1.00</td>\n      <td>-5.56</td>\n      <td>-2.780</td>\n      <td>-2.780</td>\n      <td>NaN</td>\n      <td>NaN</td>\n      <td>NaN</td>\n      <td>-0.121857</td>\n      <td>0.142857</td>\n      <td>0.142857</td>\n      <td>0.028794</td>\n      <td>NaN</td>\n      <td>NaN</td>\n    </tr>\n  </tbody>\n</table>\n<p>9917530 rows × 83 columns</p>\n</div>"
     },
     "execution_count": 62,
     "metadata": {},
     "output_type": "execute_result"
    }
   ],
   "source": [
    "# -1 to keep the sign\n",
    "# we want to have the differences between the values relative to the search mean, and relative to the destination mean (someone might be looking at the 4 star hotels in an area predominantly with 3 star hotels, this might say something about the booking behaviour that cannot be seened simply by looking at the relative search orderings).\n",
    "\n",
    "joined.prop_starrating_w0_d_srch_destination_id -= joined.prop_starrating_w0_d_srch_id * -1\n",
    "\n",
    "joined.prop_review_score_d_srch_destination_id -= joined.prop_review_score_d_srch_id * -1\n",
    "joined.prop_review_score_d_srch_destination_id__prop_starrating -= joined.prop_review_score_d_srch_id * -1\n",
    "\n",
    "joined.prop_location_score1_d_srch_destination_id -= joined.prop_location_score1_d_srch_id * -1\n",
    "joined.prop_location_score1_d_srch_destination_id__prop_starrating -= joined.prop_location_score1_d_srch_id * -1\n",
    "\n",
    "joined.prop_location_score2_d_srch_destination_id -= joined.prop_location_score2_d_srch_id * -1\n",
    "joined.prop_location_score2_d_srch_destination_id__prop_starrating -= joined.prop_location_score2_d_srch_id * -1\n",
    "\n",
    "joined"
   ],
   "metadata": {
    "collapsed": false,
    "ExecuteTime": {
     "end_time": "2023-05-24T15:14:33.173653110Z",
     "start_time": "2023-05-24T15:14:32.938681671Z"
    }
   }
  },
  {
   "cell_type": "markdown",
   "source": [
    "# Save the new dataframe"
   ],
   "metadata": {
    "collapsed": false
   }
  },
  {
   "cell_type": "markdown",
   "source": [],
   "metadata": {
    "collapsed": false
   }
  },
  {
   "cell_type": "code",
   "execution_count": 63,
   "outputs": [],
   "source": [
    "#joined.reset_index().to_csv('data/joined_all_features_revealed.csv.zip')\n",
    "joined.reset_index().to_csv('data/joined_all_features.csv.zip')"
   ],
   "metadata": {
    "collapsed": false,
    "ExecuteTime": {
     "end_time": "2023-05-24T15:18:58.565735655Z",
     "start_time": "2023-05-24T15:14:33.171876988Z"
    }
   }
  }
 ],
 "metadata": {
  "kernelspec": {
   "display_name": "Python 3 (ipykernel)",
   "language": "python",
   "name": "python3"
  },
  "language_info": {
   "codemirror_mode": {
    "name": "ipython",
    "version": 3
   },
   "file_extension": ".py",
   "mimetype": "text/x-python",
   "name": "python",
   "nbconvert_exporter": "python",
   "pygments_lexer": "ipython3",
   "version": "3.11.3"
  }
 },
 "nbformat": 4,
 "nbformat_minor": 1
}
