{
 "cells": [
  {
   "cell_type": "code",
   "execution_count": 1,
   "metadata": {
    "is_executing": true
   },
   "outputs": [],
   "source": [
    "import pandas as pd\n",
    "import numpy as np\n",
    "import seaborn as sns\n",
    "from sklearn.metrics import ndcg_score"
   ]
  },
  {
   "cell_type": "code",
   "execution_count": 2,
   "metadata": {
    "ExecuteTime": {
     "end_time": "2023-05-26T21:28:48.076461048Z",
     "start_time": "2023-05-26T21:28:47.872574235Z"
    }
   },
   "outputs": [],
   "source": [
    "def _dsg_numerator(rel, use_2pow):\n",
    "    if use_2pow:\n",
    "        return 2**rel-1\n",
    "    else:\n",
    "        return rel\n",
    "\n",
    "\n",
    "def calc_ndcg(rel_true, rel_est, n=5, use_2pow=True, use_log2=False):\n",
    "    assert len(rel_est) == len(rel_true)\n",
    "    rel_true = np.asarray(rel_true)\n",
    "    rel_est = np.asarray(rel_est)\n",
    "\n",
    "    log_func = np.log2 if use_log2 else np.log\n",
    "    discount = 1 / log_func(np.arange(2, len(rel_true) + 2))\n",
    "    discount[n:] = 0\n",
    "\n",
    "    dsg_N = discount.dot(_dsg_numerator(rel_est, use_2pow))\n",
    "    idsg_N = discount.dot(_dsg_numerator(rel_true, use_2pow))\n",
    "    EPS = 1e-6\n",
    "\n",
    "    return dsg_N/(idsg_N+EPS)\n",
    "\n",
    "\n",
    "def ndcg_dmt(predicted_scores, n=5, use_2pow=True, use_log2=False):\n",
    "    ranked_scores = np.sort(predicted_scores)[::-1] # sorted descending, highest score first\n",
    "    return calc_ndcg(ranked_scores, predicted_scores, n=n, use_2pow=use_2pow, use_log2=use_log2)\n",
    "\n",
    "\n",
    "def ndcg_sklearn(predicted_scores, n=5):\n",
    "    ranked_scores = np.sort(predicted_scores)[::-1] # sorted descending, highest score first\n",
    "    return ndcg_score(np.asarray([ranked_scores]), np.asarray([predicted_scores]), k=n)"
   ]
  },
  {
   "cell_type": "code",
   "execution_count": 3,
   "metadata": {
    "ExecuteTime": {
     "end_time": "2023-05-26T21:28:48.076598923Z",
     "start_time": "2023-05-26T21:28:47.875264515Z"
    }
   },
   "outputs": [],
   "source": [
    "def print_missing(df, col):\n",
    "    miss_cnt = df[col].isna().sum()\n",
    "    if miss_cnt == 0:\n",
    "        return\n",
    "    total_cnt = len(df[col])\n",
    "    perc_miss = 100 * miss_cnt / total_cnt\n",
    "    print(f'{col} missing count {miss_cnt} out of {total_cnt} => {round(perc_miss)}% missing')"
   ]
  },
  {
   "cell_type": "code",
   "execution_count": 4,
   "metadata": {
    "ExecuteTime": {
     "end_time": "2023-05-26T21:29:48.678316569Z",
     "start_time": "2023-05-26T21:28:47.917972714Z"
    },
    "scrolled": true
   },
   "outputs": [],
   "source": [
    "df_to_pred = pd.read_csv(\"data/final_features_test.csv.zip\", index_col=0)"
   ]
  },
  {
   "cell_type": "code",
   "execution_count": 5,
   "metadata": {},
   "outputs": [
    {
     "data": {
      "text/html": [
       "<div>\n",
       "<style scoped>\n",
       "    .dataframe tbody tr th:only-of-type {\n",
       "        vertical-align: middle;\n",
       "    }\n",
       "\n",
       "    .dataframe tbody tr th {\n",
       "        vertical-align: top;\n",
       "    }\n",
       "\n",
       "    .dataframe thead th {\n",
       "        text-align: right;\n",
       "    }\n",
       "</style>\n",
       "<table border=\"1\" class=\"dataframe\">\n",
       "  <thead>\n",
       "    <tr style=\"text-align: right;\">\n",
       "      <th></th>\n",
       "      <th>site_id</th>\n",
       "      <th>visitor_hist_starrating</th>\n",
       "      <th>prop_country_id</th>\n",
       "      <th>prop_starrating</th>\n",
       "      <th>prop_review_score</th>\n",
       "      <th>prop_brand_bool</th>\n",
       "      <th>prop_location_score1</th>\n",
       "      <th>prop_location_score2</th>\n",
       "      <th>prop_log_historical_price</th>\n",
       "      <th>promotion_flag</th>\n",
       "      <th>...</th>\n",
       "      <th>tg_avg_position_prop_id</th>\n",
       "      <th>log_appearance_count_prop_id</th>\n",
       "      <th>avg_res_len_prop_id</th>\n",
       "      <th>srch_id</th>\n",
       "      <th>prop_id</th>\n",
       "      <th>prop_srch_dest_id</th>\n",
       "      <th>click_bool</th>\n",
       "      <th>booking_bool</th>\n",
       "      <th>target_cls</th>\n",
       "      <th>relevance_score</th>\n",
       "    </tr>\n",
       "  </thead>\n",
       "  <tbody>\n",
       "    <tr>\n",
       "      <th>0</th>\n",
       "      <td>12</td>\n",
       "      <td>NaN</td>\n",
       "      <td>219</td>\n",
       "      <td>4</td>\n",
       "      <td>4.5</td>\n",
       "      <td>1</td>\n",
       "      <td>2.77</td>\n",
       "      <td>0.1302</td>\n",
       "      <td>5.20</td>\n",
       "      <td>0</td>\n",
       "      <td>...</td>\n",
       "      <td>10.886756</td>\n",
       "      <td>6.255750</td>\n",
       "      <td>32.303266</td>\n",
       "      <td>1</td>\n",
       "      <td>30184</td>\n",
       "      <td>3018423246</td>\n",
       "      <td>0.0</td>\n",
       "      <td>0.0</td>\n",
       "      <td>0.0</td>\n",
       "      <td>0.0</td>\n",
       "    </tr>\n",
       "    <tr>\n",
       "      <th>1</th>\n",
       "      <td>12</td>\n",
       "      <td>NaN</td>\n",
       "      <td>219</td>\n",
       "      <td>3</td>\n",
       "      <td>3.5</td>\n",
       "      <td>1</td>\n",
       "      <td>2.20</td>\n",
       "      <td>0.0356</td>\n",
       "      <td>4.81</td>\n",
       "      <td>0</td>\n",
       "      <td>...</td>\n",
       "      <td>25.631250</td>\n",
       "      <td>5.075174</td>\n",
       "      <td>33.004739</td>\n",
       "      <td>1</td>\n",
       "      <td>44147</td>\n",
       "      <td>4414723246</td>\n",
       "      <td>0.0</td>\n",
       "      <td>0.0</td>\n",
       "      <td>0.0</td>\n",
       "      <td>0.0</td>\n",
       "    </tr>\n",
       "    <tr>\n",
       "      <th>2</th>\n",
       "      <td>12</td>\n",
       "      <td>NaN</td>\n",
       "      <td>219</td>\n",
       "      <td>4</td>\n",
       "      <td>4.0</td>\n",
       "      <td>1</td>\n",
       "      <td>2.08</td>\n",
       "      <td>0.0150</td>\n",
       "      <td>5.28</td>\n",
       "      <td>0</td>\n",
       "      <td>...</td>\n",
       "      <td>13.072835</td>\n",
       "      <td>6.230481</td>\n",
       "      <td>31.867299</td>\n",
       "      <td>1</td>\n",
       "      <td>89073</td>\n",
       "      <td>8907323246</td>\n",
       "      <td>0.0</td>\n",
       "      <td>0.0</td>\n",
       "      <td>0.0</td>\n",
       "      <td>0.0</td>\n",
       "    </tr>\n",
       "    <tr>\n",
       "      <th>3</th>\n",
       "      <td>12</td>\n",
       "      <td>NaN</td>\n",
       "      <td>219</td>\n",
       "      <td>2</td>\n",
       "      <td>NaN</td>\n",
       "      <td>0</td>\n",
       "      <td>1.61</td>\n",
       "      <td>NaN</td>\n",
       "      <td>4.14</td>\n",
       "      <td>0</td>\n",
       "      <td>...</td>\n",
       "      <td>29.170732</td>\n",
       "      <td>4.406719</td>\n",
       "      <td>32.105769</td>\n",
       "      <td>1</td>\n",
       "      <td>50984</td>\n",
       "      <td>5098423246</td>\n",
       "      <td>0.0</td>\n",
       "      <td>0.0</td>\n",
       "      <td>0.0</td>\n",
       "      <td>0.0</td>\n",
       "    </tr>\n",
       "    <tr>\n",
       "      <th>4</th>\n",
       "      <td>12</td>\n",
       "      <td>NaN</td>\n",
       "      <td>219</td>\n",
       "      <td>3</td>\n",
       "      <td>NaN</td>\n",
       "      <td>1</td>\n",
       "      <td>2.20</td>\n",
       "      <td>NaN</td>\n",
       "      <td>5.08</td>\n",
       "      <td>0</td>\n",
       "      <td>...</td>\n",
       "      <td>25.287770</td>\n",
       "      <td>5.627621</td>\n",
       "      <td>32.500000</td>\n",
       "      <td>1</td>\n",
       "      <td>59267</td>\n",
       "      <td>5926723246</td>\n",
       "      <td>0.0</td>\n",
       "      <td>0.0</td>\n",
       "      <td>0.0</td>\n",
       "      <td>0.0</td>\n",
       "    </tr>\n",
       "  </tbody>\n",
       "</table>\n",
       "<p>5 rows × 66 columns</p>\n",
       "</div>"
      ],
      "text/plain": [
       "   site_id  visitor_hist_starrating  prop_country_id  prop_starrating   \n",
       "0       12                      NaN              219                4  \\\n",
       "1       12                      NaN              219                3   \n",
       "2       12                      NaN              219                4   \n",
       "3       12                      NaN              219                2   \n",
       "4       12                      NaN              219                3   \n",
       "\n",
       "   prop_review_score  prop_brand_bool  prop_location_score1   \n",
       "0                4.5                1                  2.77  \\\n",
       "1                3.5                1                  2.20   \n",
       "2                4.0                1                  2.08   \n",
       "3                NaN                0                  1.61   \n",
       "4                NaN                1                  2.20   \n",
       "\n",
       "   prop_location_score2  prop_log_historical_price  promotion_flag  ...   \n",
       "0                0.1302                       5.20               0  ...  \\\n",
       "1                0.0356                       4.81               0  ...   \n",
       "2                0.0150                       5.28               0  ...   \n",
       "3                   NaN                       4.14               0  ...   \n",
       "4                   NaN                       5.08               0  ...   \n",
       "\n",
       "   tg_avg_position_prop_id  log_appearance_count_prop_id  avg_res_len_prop_id   \n",
       "0                10.886756                      6.255750            32.303266  \\\n",
       "1                25.631250                      5.075174            33.004739   \n",
       "2                13.072835                      6.230481            31.867299   \n",
       "3                29.170732                      4.406719            32.105769   \n",
       "4                25.287770                      5.627621            32.500000   \n",
       "\n",
       "   srch_id  prop_id  prop_srch_dest_id  click_bool  booking_bool  target_cls   \n",
       "0        1    30184         3018423246         0.0           0.0         0.0  \\\n",
       "1        1    44147         4414723246         0.0           0.0         0.0   \n",
       "2        1    89073         8907323246         0.0           0.0         0.0   \n",
       "3        1    50984         5098423246         0.0           0.0         0.0   \n",
       "4        1    59267         5926723246         0.0           0.0         0.0   \n",
       "\n",
       "   relevance_score  \n",
       "0              0.0  \n",
       "1              0.0  \n",
       "2              0.0  \n",
       "3              0.0  \n",
       "4              0.0  \n",
       "\n",
       "[5 rows x 66 columns]"
      ]
     },
     "execution_count": 5,
     "metadata": {},
     "output_type": "execute_result"
    }
   ],
   "source": [
    "df_devel = pd.read_csv(\"data/final_features_train.csv.zip\", index_col=0)\n",
    "df_devel['target_cls'] = df_devel.booking_bool + df_devel.click_bool\n",
    "df_devel['relevance_score'] = df_devel.booking_bool * 4 + df_devel.click_bool\n",
    "df_devel.head()"
   ]
  },
  {
   "cell_type": "code",
   "execution_count": 6,
   "metadata": {
    "ExecuteTime": {
     "end_time": "2023-05-26T22:12:54.596685951Z",
     "start_time": "2023-05-26T22:12:54.445984264Z"
    },
    "scrolled": true
   },
   "outputs": [
    {
     "name": "stdout",
     "output_type": "stream",
     "text": [
      "visitor_hist_starrating missing count 4706481 out of 4958347 => 95% missing\n",
      "prop_review_score missing count 240658 out of 4958347 => 5% missing\n",
      "prop_location_score2 missing count 1090348 out of 4958347 => 22% missing\n",
      "prop_log_historical_price missing count 713899 out of 4958347 => 14% missing\n",
      "srch_query_affinity_score missing count 4640941 out of 4958347 => 94% missing\n",
      "hist_starrating_diff missing count 4706481 out of 4958347 => 95% missing\n",
      "price_hist_logdiff missing count 713927 out of 4958347 => 14% missing\n",
      "visitor_hist_adr_usd_logdiff missing count 4705398 out of 4958347 => 95% missing\n",
      "price_usd_d_srch_id missing count 31 out of 4958347 => 0% missing\n",
      "prop_starrating_w0_std_srch_destination_id missing count 230 out of 4958347 => 0% missing\n",
      "prop_starrating_w0_d_srch_destination_id missing count 169572 out of 4958347 => 3% missing\n",
      "prop_starrating_w0_std_srch_id missing count 1528 out of 4958347 => 0% missing\n",
      "prop_starrating_w0_d_srch_id missing count 169572 out of 4958347 => 3% missing\n",
      "prop_review_score_std_srch_destination_id missing count 440 out of 4958347 => 0% missing\n",
      "prop_review_score_d_srch_destination_id missing count 240658 out of 4958347 => 5% missing\n",
      "prop_review_score_std_srch_id missing count 1156 out of 4958347 => 0% missing\n",
      "prop_review_score_d_srch_id missing count 240658 out of 4958347 => 5% missing\n",
      "prop_location_score1_std_srch_destination_id__prop_starrating missing count 4594 out of 4958347 => 0% missing\n",
      "prop_location_score2_d_srch_destination_id missing count 1090348 out of 4958347 => 22% missing\n",
      "prop_location_score2_d_srch_destination_id__prop_starrating missing count 1090348 out of 4958347 => 22% missing\n",
      "prop_location_score2_std_srch_id missing count 187573 out of 4958347 => 4% missing\n",
      "prop_location_score2_d_srch_id missing count 1090348 out of 4958347 => 22% missing\n",
      "price_usd_d_srch_id__prop_starrating missing count 31 out of 4958347 => 0% missing\n",
      "price_hist_logdiff_d_srch_id missing count 713927 out of 4958347 => 14% missing\n",
      "visitor_hist_adr_usd_logdiff_d_srch_id missing count 4705398 out of 4958347 => 95% missing\n",
      "srch_query_affinity_score_d_srch_id missing count 4640941 out of 4958347 => 94% missing\n",
      "price_usd_rank missing count 31 out of 4958347 => 0% missing\n",
      "tg_avg_position_srch_prop_id missing count 331108 out of 4958347 => 7% missing\n",
      "tg_std_position_srch_prop_id missing count 503287 out of 4958347 => 10% missing\n",
      "log_appearance_count_srch_prop_id missing count 331108 out of 4958347 => 7% missing\n",
      "tg_avg_position_prop_id missing count 26954 out of 4958347 => 1% missing\n",
      "log_appearance_count_prop_id missing count 26954 out of 4958347 => 1% missing\n"
     ]
    }
   ],
   "source": [
    "for col in df_devel.columns:\n",
    "    print_missing(df_devel, col)"
   ]
  },
  {
   "cell_type": "code",
   "execution_count": 7,
   "metadata": {
    "ExecuteTime": {
     "end_time": "2023-05-26T22:12:55.459907023Z",
     "start_time": "2023-05-26T22:12:54.594781741Z"
    }
   },
   "outputs": [],
   "source": [
    "# split srch_id into train and val\n",
    "all_srch_ids = df_devel.srch_id.unique()\n",
    "\n",
    "# randomly shuffle all_srch_ids using random seed 42\n",
    "RANDOM_SEED = 124\n",
    "rng = np.random.default_rng(RANDOM_SEED)\n",
    "all_srch_ids.sort()\n",
    "rng.shuffle(all_srch_ids)\n",
    "\n",
    "VALIDATION_PROP = 0.1\n",
    "TEST_PROP = 0.05\n",
    "TRAIN_PROP = 1 - (VALIDATION_PROP + TEST_PROP)\n",
    "\n",
    "train_cnt = int(len(all_srch_ids)*(TRAIN_PROP))\n",
    "train_ids = all_srch_ids[:train_cnt]\n",
    "\n",
    "val_cnt = int(len(all_srch_ids)*(VALIDATION_PROP))\n",
    "val_ids = all_srch_ids[train_cnt:train_cnt+val_cnt]\n",
    "\n",
    "test_cnt = len(all_srch_ids)-val_cnt-train_cnt\n",
    "test_ids = all_srch_ids[-test_cnt:]\n",
    "\n",
    "df_train = df_devel.loc[df_devel.srch_id.isin(train_ids)]\n",
    "df_val = df_devel.loc[df_devel.srch_id.isin(val_ids)]\n",
    "df_test = df_devel.loc[df_devel.srch_id.isin(test_ids)]"
   ]
  },
  {
   "cell_type": "code",
   "execution_count": 8,
   "metadata": {
    "ExecuteTime": {
     "end_time": "2023-05-26T22:12:55.464214175Z",
     "start_time": "2023-05-26T22:12:55.460777491Z"
    },
    "collapsed": false,
    "jupyter": {
     "outputs_hidden": false
    }
   },
   "outputs": [
    {
     "data": {
      "text/plain": [
       "0"
      ]
     },
     "execution_count": 8,
     "metadata": {},
     "output_type": "execute_result"
    }
   ],
   "source": [
    "# del df\n",
    "# del df_raw\n",
    "import gc\n",
    "gc.collect()"
   ]
  },
  {
   "cell_type": "code",
   "execution_count": 9,
   "metadata": {},
   "outputs": [
    {
     "name": "stdout",
     "output_type": "stream",
     "text": [
      "66063 127134 796\n",
      "127098 569116 14041\n",
      "82693 127134 1290\n",
      "193371 569116 28036\n",
      "127134 66063 61867\n",
      "569116 127098 456059\n",
      "127134 82693 45731\n",
      "569116 193371 403781\n"
     ]
    }
   ],
   "source": [
    "# So first we need to remove the click/book probs for all ids in val only\n",
    "def get_ids_in_one_but_not_the_other(df_in_this, df_not_in_this, col):\n",
    "    in_this = set(df_in_this.set_index(col).index.unique())\n",
    "    not_in_this = set(df_not_in_this.set_index(col).index.unique())\n",
    "    missing = in_this - not_in_this\n",
    "    print(len(in_this), len(not_in_this), len(missing))\n",
    "    return missing\n",
    "\n",
    "def _set_cols_to_NA_for_ids_in_one_but_not_other(df_in_this, df_not_in_this, groupby, cols):\n",
    "    ids = get_ids_in_one_but_not_the_other(df_in_this, df_not_in_this, groupby)\n",
    "    df_in_this.set_index(groupby).loc[[id for id in ids], cols] = pd.NA\n",
    "\n",
    "# first the test set will have some ids which are not in the training set, as such, these target related values must be removed\n",
    "_set_cols_to_NA_for_ids_in_one_but_not_other(df_test, df_train,\n",
    "                                             ['prop_id'], \n",
    "                                             ['tg_avg_position_prop_id', 'tg_std_position_prop_id', 'tg_click_prob_prop_id', 'log_appearance_count_prop_id'])#, 'avg_res_len_srch_prop_id'])\n",
    "_set_cols_to_NA_for_ids_in_one_but_not_other(df_test, df_train,\n",
    "                                             ['prop_srch_dest_id'], \n",
    "                                             ['tg_avg_position_srch_prop_id', 'tg_std_position_srch_prop_id', 'tg_click_prob_srch_prop_id', 'log_appearance_count_srch_prop_id'])#, 'avg_res_len_srch_prop_id'])\n",
    "# same for the validation set\n",
    "_set_cols_to_NA_for_ids_in_one_but_not_other(df_val, df_train,\n",
    "                                             ['prop_id'], \n",
    "                                             ['tg_avg_position_prop_id', 'tg_std_position_prop_id', 'tg_click_prob_prop_id', 'log_appearance_count_prop_id'])#, 'avg_res_len_srch_prop_id'])\n",
    "_set_cols_to_NA_for_ids_in_one_but_not_other(df_val, df_train,\n",
    "                                             ['prop_srch_dest_id'], \n",
    "                                             ['tg_avg_position_srch_prop_id', 'tg_std_position_srch_prop_id', 'tg_click_prob_srch_prop_id', 'log_appearance_count_srch_prop_id'])#, 'avg_res_len_srch_prop_id'])\n",
    "\n",
    "\n",
    "# Improvement here: ids in the train set but not in the test or validation set should be removed, to align the data missingness of the test, validation and prediction set\n",
    "_set_cols_to_NA_for_ids_in_one_but_not_other(df_train, df_test, \n",
    "                                             ['prop_id'], \n",
    "                                             ['tg_avg_position_prop_id', 'tg_std_position_prop_id', 'tg_click_prob_prop_id', 'log_appearance_count_prop_id'])#, 'avg_res_len_srch_prop_id'])\n",
    "_set_cols_to_NA_for_ids_in_one_but_not_other(df_train, df_test, \n",
    "                                             ['prop_srch_dest_id'], \n",
    "                                             ['tg_avg_position_srch_prop_id', 'tg_std_position_srch_prop_id', 'tg_click_prob_srch_prop_id', 'log_appearance_count_srch_prop_id'])#, 'avg_res_len_srch_prop_id'])\n",
    "\n",
    "_set_cols_to_NA_for_ids_in_one_but_not_other(df_train, df_val, \n",
    "                                             ['prop_id'], \n",
    "                                             ['tg_avg_position_prop_id', 'tg_std_position_prop_id', 'tg_click_prob_prop_id', 'log_appearance_count_prop_id'])#, 'avg_res_len_srch_prop_id'])\n",
    "_set_cols_to_NA_for_ids_in_one_but_not_other(df_train, df_val, \n",
    "                                             ['prop_srch_dest_id'], \n",
    "                                             ['tg_avg_position_srch_prop_id', 'tg_std_position_srch_prop_id', 'tg_click_prob_srch_prop_id', 'log_appearance_count_srch_prop_id'])#, 'avg_res_len_srch_prop_id'])"
   ]
  },
  {
   "cell_type": "code",
   "execution_count": 10,
   "metadata": {
    "ExecuteTime": {
     "end_time": "2023-05-26T22:24:09.751869854Z",
     "start_time": "2023-05-26T22:23:59.801920356Z"
    }
   },
   "outputs": [],
   "source": [
    "df_train = df_train.set_index('srch_id').sort_index().reset_index()\n",
    "df_val = df_val.set_index('srch_id').sort_index().reset_index()\n",
    "df_test = df_test.set_index('srch_id').sort_index().reset_index()\n",
    "\n",
    "def get_groups(df):\n",
    "    grp = df.groupby('srch_id').srch_id.count()\n",
    "    return grp.values\n",
    "\n",
    "groups_train = get_groups(df_train)\n",
    "df_tg_train = df_train['target_cls'].astype(int)\n",
    "\n",
    "groups_val = get_groups(df_val)\n",
    "df_tg_val = df_val['target_cls'].astype(int)\n",
    "\n",
    "groups_test = get_groups(df_test)\n",
    "df_tg_test = df_test['target_cls'].astype(int)"
   ]
  },
  {
   "cell_type": "code",
   "execution_count": 11,
   "metadata": {
    "ExecuteTime": {
     "end_time": "2023-05-26T22:22:48.233753663Z",
     "start_time": "2023-05-26T22:22:46.256701139Z"
    }
   },
   "outputs": [
    {
     "name": "stdout",
     "output_type": "stream",
     "text": [
      "visitor_hist_starrating missing count 4000934 out of 4215208 => 95% missing\n",
      "prop_review_score missing count 204668 out of 4215208 => 5% missing\n",
      "prop_location_score2 missing count 927364 out of 4215208 => 22% missing\n",
      "prop_log_historical_price missing count 607253 out of 4215208 => 14% missing\n",
      "srch_query_affinity_score missing count 3945585 out of 4215208 => 94% missing\n",
      "hist_starrating_diff missing count 4000934 out of 4215208 => 95% missing\n",
      "price_hist_logdiff missing count 607273 out of 4215208 => 14% missing\n",
      "visitor_hist_adr_usd_logdiff missing count 3999963 out of 4215208 => 95% missing\n",
      "price_usd_d_srch_id missing count 22 out of 4215208 => 0% missing\n",
      "prop_starrating_w0_std_srch_destination_id missing count 212 out of 4215208 => 0% missing\n",
      "prop_starrating_w0_d_srch_destination_id missing count 144143 out of 4215208 => 3% missing\n",
      "prop_starrating_w0_std_srch_id missing count 1266 out of 4215208 => 0% missing\n",
      "prop_starrating_w0_d_srch_id missing count 144143 out of 4215208 => 3% missing\n",
      "prop_review_score_std_srch_destination_id missing count 349 out of 4215208 => 0% missing\n",
      "prop_review_score_d_srch_destination_id missing count 204668 out of 4215208 => 5% missing\n",
      "prop_review_score_std_srch_id missing count 956 out of 4215208 => 0% missing\n",
      "prop_review_score_d_srch_id missing count 204668 out of 4215208 => 5% missing\n",
      "prop_location_score1_std_srch_destination_id__prop_starrating missing count 3935 out of 4215208 => 0% missing\n",
      "prop_location_score2_d_srch_destination_id missing count 927364 out of 4215208 => 22% missing\n",
      "prop_location_score2_d_srch_destination_id__prop_starrating missing count 927364 out of 4215208 => 22% missing\n",
      "prop_location_score2_std_srch_id missing count 158931 out of 4215208 => 4% missing\n",
      "prop_location_score2_d_srch_id missing count 927364 out of 4215208 => 22% missing\n",
      "price_usd_d_srch_id__prop_starrating missing count 22 out of 4215208 => 0% missing\n",
      "price_hist_logdiff_d_srch_id missing count 607273 out of 4215208 => 14% missing\n",
      "visitor_hist_adr_usd_logdiff_d_srch_id missing count 3999963 out of 4215208 => 95% missing\n",
      "srch_query_affinity_score_d_srch_id missing count 3945585 out of 4215208 => 94% missing\n",
      "price_usd_rank missing count 22 out of 4215208 => 0% missing\n",
      "tg_avg_position_srch_prop_id missing count 282059 out of 4215208 => 7% missing\n",
      "tg_std_position_srch_prop_id missing count 427983 out of 4215208 => 10% missing\n",
      "log_appearance_count_srch_prop_id missing count 282059 out of 4215208 => 7% missing\n",
      "tg_avg_position_prop_id missing count 23116 out of 4215208 => 1% missing\n",
      "log_appearance_count_prop_id missing count 23116 out of 4215208 => 1% missing\n"
     ]
    }
   ],
   "source": [
    "df_val.fillna(np.NaN, inplace=True)\n",
    "df_train.fillna(np.NaN, inplace=True)\n",
    "df_test.fillna(np.NaN, inplace=True)\n",
    "\n",
    "for col in df_train.columns:\n",
    "    print_missing(df_train, col)"
   ]
  },
  {
   "cell_type": "code",
   "execution_count": 13,
   "metadata": {},
   "outputs": [],
   "source": [
    "from lightgbm import early_stopping, log_evaluation, reset_parameter, LGBMRanker\n",
    "\n",
    "gc.collect()\n",
    "\n",
    "predictor_cols = [c for c in df_train.columns if c not in ('prop_id', 'srch_id', 'prop_srch_dest_id', 'position', 'booking_bool', 'click_bool', 'target_cls', 'relevance_score')]\n",
    "\n",
    "def get_categorical_column(df):\n",
    "    categorical_features = [\n",
    "        \"day\",\n",
    "        \"month\",\n",
    "        #\"prop_country_id\",\n",
    "        \"site_id\",\n",
    "        #\"visitor_location_country_id\",\n",
    "        'srch_saturday_night_bool',\n",
    "        'prop_brand_bool',\n",
    "        'same_country',\n",
    "        'random_bool',\n",
    "        'couple_bool',\n",
    "        'promotion_flag',\n",
    "        #'midstay_week',\n",
    "        'midstay_month',\n",
    "        'midstay_dayofyear',\n",
    "        #'midstay_dayofweek',\n",
    "        #'booking_week',\n",
    "        'booking_month',\n",
    "        'booking_dayofyear',\n",
    "        #'booking_dayofweek' ,\n",
    "#        'prop_starrating',\n",
    "    ]\n",
    "    categorical_features = [c for c in categorical_features if c in df.columns.values]\n",
    "    categorical_features_numbers = [df.columns.get_loc(x) for x in categorical_features]\n",
    "    return categorical_features_numbers"
   ]
  },
  {
   "cell_type": "code",
   "execution_count": 12,
   "metadata": {
    "is_executing": true
   },
   "outputs": [
    {
     "name": "stderr",
     "output_type": "stream",
     "text": [
      "/home/robert/miniconda3/envs/dmt_expedia/lib/python3.11/site-packages/lightgbm/basic.py:2065: UserWarning: Using categorical_feature in Dataset.\n",
      "  _log_warning('Using categorical_feature in Dataset.')\n",
      "/home/robert/miniconda3/envs/dmt_expedia/lib/python3.11/site-packages/lightgbm/basic.py:2068: UserWarning: categorical_feature in Dataset is overridden.\n",
      "New categorical_feature is [0, 5, 9, 15]\n",
      "  _log_warning('categorical_feature in Dataset is overridden.\\n'\n"
     ]
    },
    {
     "name": "stdout",
     "output_type": "stream",
     "text": [
      "[LightGBM] [Warning] Unknown parameter: max_position\n",
      "[LightGBM] [Warning] lambda_l2 is set=0.001, reg_lambda=0.0 will be ignored. Current value: lambda_l2=0.001\n",
      "[LightGBM] [Warning] boosting is set=goss, boosting_type=gbdt will be ignored. Current value: boosting=goss\n",
      "[LightGBM] [Warning] min_data_in_leaf is set=60, min_child_samples=20 will be ignored. Current value: min_data_in_leaf=60\n",
      "[LightGBM] [Warning] num_threads is set=24, n_jobs=-1 will be ignored. Current value: num_threads=24\n"
     ]
    },
    {
     "name": "stderr",
     "output_type": "stream",
     "text": [
      "/home/robert/miniconda3/envs/dmt_expedia/lib/python3.11/site-packages/lightgbm/basic.py:1780: UserWarning: Overriding the parameters from Reference Dataset.\n",
      "  _log_warning('Overriding the parameters from Reference Dataset.')\n",
      "/home/robert/miniconda3/envs/dmt_expedia/lib/python3.11/site-packages/lightgbm/basic.py:1513: UserWarning: categorical_column in param dict is overridden.\n",
      "  _log_warning(f'{cat_alias} in param dict is overridden.')\n"
     ]
    },
    {
     "name": "stdout",
     "output_type": "stream",
     "text": [
      "Training until validation scores don't improve for 350 rounds\n",
      "[20]\ttraining's ndcg@5: 0.391561\tvalid_1's ndcg@5: 0.388457\n",
      "[40]\ttraining's ndcg@5: 0.400577\tvalid_1's ndcg@5: 0.396132\n",
      "[60]\ttraining's ndcg@5: 0.406754\tvalid_1's ndcg@5: 0.399099\n",
      "[80]\ttraining's ndcg@5: 0.411404\tvalid_1's ndcg@5: 0.402424\n",
      "[100]\ttraining's ndcg@5: 0.415041\tvalid_1's ndcg@5: 0.404909\n",
      "[120]\ttraining's ndcg@5: 0.418378\tvalid_1's ndcg@5: 0.406276\n",
      "[140]\ttraining's ndcg@5: 0.421001\tvalid_1's ndcg@5: 0.407116\n",
      "[160]\ttraining's ndcg@5: 0.423438\tvalid_1's ndcg@5: 0.408503\n",
      "[180]\ttraining's ndcg@5: 0.42604\tvalid_1's ndcg@5: 0.40962\n",
      "[200]\ttraining's ndcg@5: 0.428409\tvalid_1's ndcg@5: 0.409825\n",
      "[220]\ttraining's ndcg@5: 0.430787\tvalid_1's ndcg@5: 0.410776\n",
      "[240]\ttraining's ndcg@5: 0.432699\tvalid_1's ndcg@5: 0.410841\n",
      "[260]\ttraining's ndcg@5: 0.434798\tvalid_1's ndcg@5: 0.41103\n",
      "[280]\ttraining's ndcg@5: 0.436914\tvalid_1's ndcg@5: 0.412041\n",
      "[300]\ttraining's ndcg@5: 0.438714\tvalid_1's ndcg@5: 0.411892\n",
      "[320]\ttraining's ndcg@5: 0.440755\tvalid_1's ndcg@5: 0.412359\n",
      "[340]\ttraining's ndcg@5: 0.442738\tvalid_1's ndcg@5: 0.412611\n",
      "[360]\ttraining's ndcg@5: 0.444735\tvalid_1's ndcg@5: 0.412783\n",
      "[380]\ttraining's ndcg@5: 0.446442\tvalid_1's ndcg@5: 0.41262\n",
      "[400]\ttraining's ndcg@5: 0.448259\tvalid_1's ndcg@5: 0.412826\n",
      "[420]\ttraining's ndcg@5: 0.450298\tvalid_1's ndcg@5: 0.413113\n",
      "[440]\ttraining's ndcg@5: 0.45189\tvalid_1's ndcg@5: 0.412504\n",
      "[460]\ttraining's ndcg@5: 0.453758\tvalid_1's ndcg@5: 0.412748\n",
      "[480]\ttraining's ndcg@5: 0.455162\tvalid_1's ndcg@5: 0.412932\n",
      "[500]\ttraining's ndcg@5: 0.456484\tvalid_1's ndcg@5: 0.413049\n",
      "[520]\ttraining's ndcg@5: 0.457965\tvalid_1's ndcg@5: 0.412535\n",
      "[540]\ttraining's ndcg@5: 0.459636\tvalid_1's ndcg@5: 0.412671\n",
      "[560]\ttraining's ndcg@5: 0.461017\tvalid_1's ndcg@5: 0.412407\n",
      "[580]\ttraining's ndcg@5: 0.462401\tvalid_1's ndcg@5: 0.412618\n",
      "[600]\ttraining's ndcg@5: 0.463968\tvalid_1's ndcg@5: 0.412523\n",
      "[620]\ttraining's ndcg@5: 0.465475\tvalid_1's ndcg@5: 0.413342\n",
      "[640]\ttraining's ndcg@5: 0.466853\tvalid_1's ndcg@5: 0.413088\n",
      "[660]\ttraining's ndcg@5: 0.468305\tvalid_1's ndcg@5: 0.413106\n",
      "[680]\ttraining's ndcg@5: 0.469624\tvalid_1's ndcg@5: 0.413537\n",
      "[700]\ttraining's ndcg@5: 0.471149\tvalid_1's ndcg@5: 0.413822\n",
      "[720]\ttraining's ndcg@5: 0.472444\tvalid_1's ndcg@5: 0.413955\n",
      "[740]\ttraining's ndcg@5: 0.473917\tvalid_1's ndcg@5: 0.413012\n",
      "[760]\ttraining's ndcg@5: 0.475459\tvalid_1's ndcg@5: 0.413557\n",
      "[780]\ttraining's ndcg@5: 0.476854\tvalid_1's ndcg@5: 0.413618\n",
      "[800]\ttraining's ndcg@5: 0.477951\tvalid_1's ndcg@5: 0.413638\n",
      "[820]\ttraining's ndcg@5: 0.47958\tvalid_1's ndcg@5: 0.413452\n",
      "[840]\ttraining's ndcg@5: 0.481032\tvalid_1's ndcg@5: 0.413977\n",
      "[860]\ttraining's ndcg@5: 0.482348\tvalid_1's ndcg@5: 0.413933\n",
      "[880]\ttraining's ndcg@5: 0.4837\tvalid_1's ndcg@5: 0.413519\n",
      "[900]\ttraining's ndcg@5: 0.485164\tvalid_1's ndcg@5: 0.413173\n",
      "[920]\ttraining's ndcg@5: 0.486729\tvalid_1's ndcg@5: 0.413431\n",
      "[940]\ttraining's ndcg@5: 0.487985\tvalid_1's ndcg@5: 0.413356\n",
      "[960]\ttraining's ndcg@5: 0.489294\tvalid_1's ndcg@5: 0.41304\n",
      "[980]\ttraining's ndcg@5: 0.490653\tvalid_1's ndcg@5: 0.413143\n",
      "[1000]\ttraining's ndcg@5: 0.492006\tvalid_1's ndcg@5: 0.413497\n",
      "[1020]\ttraining's ndcg@5: 0.493352\tvalid_1's ndcg@5: 0.413226\n",
      "[1040]\ttraining's ndcg@5: 0.494778\tvalid_1's ndcg@5: 0.413087\n",
      "[1060]\ttraining's ndcg@5: 0.496198\tvalid_1's ndcg@5: 0.413042\n",
      "[1080]\ttraining's ndcg@5: 0.497451\tvalid_1's ndcg@5: 0.412573\n",
      "[1100]\ttraining's ndcg@5: 0.498548\tvalid_1's ndcg@5: 0.412227\n",
      "[1120]\ttraining's ndcg@5: 0.500085\tvalid_1's ndcg@5: 0.412649\n",
      "[1140]\ttraining's ndcg@5: 0.501274\tvalid_1's ndcg@5: 0.412671\n",
      "[1160]\ttraining's ndcg@5: 0.502484\tvalid_1's ndcg@5: 0.413197\n",
      "[1180]\ttraining's ndcg@5: 0.503843\tvalid_1's ndcg@5: 0.412887\n",
      "Early stopping, best iteration is:\n",
      "[832]\ttraining's ndcg@5: 0.480431\tvalid_1's ndcg@5: 0.414095\n",
      "Evaluated only: ndcg@5\n"
     ]
    },
    {
     "data": {
      "text/html": [
       "<style>#sk-container-id-1 {color: black;background-color: white;}#sk-container-id-1 pre{padding: 0;}#sk-container-id-1 div.sk-toggleable {background-color: white;}#sk-container-id-1 label.sk-toggleable__label {cursor: pointer;display: block;width: 100%;margin-bottom: 0;padding: 0.3em;box-sizing: border-box;text-align: center;}#sk-container-id-1 label.sk-toggleable__label-arrow:before {content: \"▸\";float: left;margin-right: 0.25em;color: #696969;}#sk-container-id-1 label.sk-toggleable__label-arrow:hover:before {color: black;}#sk-container-id-1 div.sk-estimator:hover label.sk-toggleable__label-arrow:before {color: black;}#sk-container-id-1 div.sk-toggleable__content {max-height: 0;max-width: 0;overflow: hidden;text-align: left;background-color: #f0f8ff;}#sk-container-id-1 div.sk-toggleable__content pre {margin: 0.2em;color: black;border-radius: 0.25em;background-color: #f0f8ff;}#sk-container-id-1 input.sk-toggleable__control:checked~div.sk-toggleable__content {max-height: 200px;max-width: 100%;overflow: auto;}#sk-container-id-1 input.sk-toggleable__control:checked~label.sk-toggleable__label-arrow:before {content: \"▾\";}#sk-container-id-1 div.sk-estimator input.sk-toggleable__control:checked~label.sk-toggleable__label {background-color: #d4ebff;}#sk-container-id-1 div.sk-label input.sk-toggleable__control:checked~label.sk-toggleable__label {background-color: #d4ebff;}#sk-container-id-1 input.sk-hidden--visually {border: 0;clip: rect(1px 1px 1px 1px);clip: rect(1px, 1px, 1px, 1px);height: 1px;margin: -1px;overflow: hidden;padding: 0;position: absolute;width: 1px;}#sk-container-id-1 div.sk-estimator {font-family: monospace;background-color: #f0f8ff;border: 1px dotted black;border-radius: 0.25em;box-sizing: border-box;margin-bottom: 0.5em;}#sk-container-id-1 div.sk-estimator:hover {background-color: #d4ebff;}#sk-container-id-1 div.sk-parallel-item::after {content: \"\";width: 100%;border-bottom: 1px solid gray;flex-grow: 1;}#sk-container-id-1 div.sk-label:hover label.sk-toggleable__label {background-color: #d4ebff;}#sk-container-id-1 div.sk-serial::before {content: \"\";position: absolute;border-left: 1px solid gray;box-sizing: border-box;top: 0;bottom: 0;left: 50%;z-index: 0;}#sk-container-id-1 div.sk-serial {display: flex;flex-direction: column;align-items: center;background-color: white;padding-right: 0.2em;padding-left: 0.2em;position: relative;}#sk-container-id-1 div.sk-item {position: relative;z-index: 1;}#sk-container-id-1 div.sk-parallel {display: flex;align-items: stretch;justify-content: center;background-color: white;position: relative;}#sk-container-id-1 div.sk-item::before, #sk-container-id-1 div.sk-parallel-item::before {content: \"\";position: absolute;border-left: 1px solid gray;box-sizing: border-box;top: 0;bottom: 0;left: 50%;z-index: -1;}#sk-container-id-1 div.sk-parallel-item {display: flex;flex-direction: column;z-index: 1;position: relative;background-color: white;}#sk-container-id-1 div.sk-parallel-item:first-child::after {align-self: flex-end;width: 50%;}#sk-container-id-1 div.sk-parallel-item:last-child::after {align-self: flex-start;width: 50%;}#sk-container-id-1 div.sk-parallel-item:only-child::after {width: 0;}#sk-container-id-1 div.sk-dashed-wrapped {border: 1px dashed gray;margin: 0 0.4em 0.5em 0.4em;box-sizing: border-box;padding-bottom: 0.4em;background-color: white;}#sk-container-id-1 div.sk-label label {font-family: monospace;font-weight: bold;display: inline-block;line-height: 1.2em;}#sk-container-id-1 div.sk-label-container {text-align: center;}#sk-container-id-1 div.sk-container {/* jupyter's `normalize.less` sets `[hidden] { display: none; }` but bootstrap.min.css set `[hidden] { display: none !important; }` so we also need the `!important` here to be able to override the default hidden behavior on the sphinx rendered scikit-learn.org. See: https://github.com/scikit-learn/scikit-learn/issues/21755 */display: inline-block !important;position: relative;}#sk-container-id-1 div.sk-text-repr-fallback {display: none;}</style><div id=\"sk-container-id-1\" class=\"sk-top-container\"><div class=\"sk-text-repr-fallback\"><pre>LGBMRanker(boosting=&#x27;goss&#x27;, deterministic=True, label_gain=[0, 1, 5],\n",
       "           lambda_l2=0.001, lambdarank_truncation_level=11, max_depth=6,\n",
       "           max_position=5, metric=&#x27;ndcg&#x27;, min_data_in_leaf=60,\n",
       "           n_estimators=16000, num_threads=24, objective=&#x27;lambdarank&#x27;,\n",
       "           random_state=42, subsample_for_bin=400000)</pre><b>In a Jupyter environment, please rerun this cell to show the HTML representation or trust the notebook. <br />On GitHub, the HTML representation is unable to render, please try loading this page with nbviewer.org.</b></div><div class=\"sk-container\" hidden><div class=\"sk-item\"><div class=\"sk-estimator sk-toggleable\"><input class=\"sk-toggleable__control sk-hidden--visually\" id=\"sk-estimator-id-1\" type=\"checkbox\" checked><label for=\"sk-estimator-id-1\" class=\"sk-toggleable__label sk-toggleable__label-arrow\">LGBMRanker</label><div class=\"sk-toggleable__content\"><pre>LGBMRanker(boosting=&#x27;goss&#x27;, deterministic=True, label_gain=[0, 1, 5],\n",
       "           lambda_l2=0.001, lambdarank_truncation_level=11, max_depth=6,\n",
       "           max_position=5, metric=&#x27;ndcg&#x27;, min_data_in_leaf=60,\n",
       "           n_estimators=16000, num_threads=24, objective=&#x27;lambdarank&#x27;,\n",
       "           random_state=42, subsample_for_bin=400000)</pre></div></div></div></div></div>"
      ],
      "text/plain": [
       "LGBMRanker(boosting='goss', deterministic=True, label_gain=[0, 1, 5],\n",
       "           lambda_l2=0.001, lambdarank_truncation_level=11, max_depth=6,\n",
       "           max_position=5, metric='ndcg', min_data_in_leaf=60,\n",
       "           n_estimators=16000, num_threads=24, objective='lambdarank',\n",
       "           random_state=42, subsample_for_bin=400000)"
      ]
     },
     "execution_count": 12,
     "metadata": {},
     "output_type": "execute_result"
    }
   ],
   "source": [
    "# Train the classifier with the best hyperparameters\n",
    "ranker = LGBMRanker(\n",
    "    #objective=\"rank_xendcg\",\n",
    "    objective='lambdarank',\n",
    "    metric=\"ndcg\",\n",
    "    subsample_for_bin=400000,\n",
    "    n_estimators=16000, # this is the max, early stopping will likely result in fewer\n",
    "    learning_rate=0.1,\n",
    "    #label_gain=[0, 1, 31],\n",
    "    label_gain=[0, 1, 5],\n",
    "    random_state=42,\n",
    "    boosting='goss',\n",
    "    # top_rate=0.13, # goss\n",
    "    # other_rate=0.10, # goss\n",
    "    # --\n",
    "    # boosting='dart',\n",
    "    # boosting='gbdt',\n",
    "    #bagging_fraction=0.9,\n",
    "    #bagging_freq=20,\n",
    "    # bagging_seed=123,\n",
    "    # --\n",
    "    #monotone_constraints=mon,\n",
    "    #monotone_constraints_method='advanced',\n",
    "    #extra_trees=True,\n",
    "    lambda_l2=1e-3,\n",
    "    #lambda_l1=1e-3,\n",
    "    min_data_in_leaf=60,\n",
    "    max_depth=6,\n",
    "    max_position=5,\n",
    "    deterministic=True,\n",
    "    num_threads=24,\n",
    "    lambdarank_truncation_level=11,\n",
    "    #path_smooth=3,\n",
    "    #feature_fraction=0.3,\n",
    ")\n",
    "\n",
    "x_val = df_val[predictor_cols]\n",
    "Y_val = df_tg_val\n",
    "g_val = groups_val\n",
    "\n",
    "x_train = df_train[predictor_cols]\n",
    "Y_train = df_tg_train\n",
    "g_train = groups_train\n",
    "\n",
    "early_stopping_callback = early_stopping(stopping_rounds=350, first_metric_only=True)\n",
    "log_evaluation_callback = log_evaluation(period=20)\n",
    "\n",
    "ranker.fit(\n",
    "    x_train,\n",
    "    Y_train,\n",
    "    eval_set=[(x_train, Y_train), (x_val, Y_val)],\n",
    "    eval_group=[g_train, g_val],\n",
    "    group=g_train,\n",
    "    eval_at=5,\n",
    "    callbacks=[early_stopping_callback, log_evaluation_callback, ],    \n",
    "    categorical_feature=get_categorical_column(x_train),\n",
    ")\n"
   ]
  },
  {
   "cell_type": "code",
   "execution_count": 13,
   "metadata": {
    "ExecuteTime": {
     "end_time": "2023-05-26T22:20:21.348428104Z",
     "start_time": "2023-05-26T22:20:21.346155173Z"
    }
   },
   "outputs": [
    {
     "data": {
      "text/plain": [
       "{'site_id': 1695,\n",
       " 'visitor_hist_starrating': 93,\n",
       " 'prop_country_id': 202,\n",
       " 'prop_starrating': 167,\n",
       " 'prop_review_score': 255,\n",
       " 'prop_brand_bool': 91,\n",
       " 'prop_location_score1': 477,\n",
       " 'prop_location_score2': 796,\n",
       " 'prop_log_historical_price': 784,\n",
       " 'promotion_flag': 83,\n",
       " 'srch_length_of_stay': 213,\n",
       " 'srch_booking_window': 457,\n",
       " 'srch_adults_count': 118,\n",
       " 'srch_children_count': 114,\n",
       " 'srch_query_affinity_score': 187,\n",
       " 'random_bool': 296,\n",
       " 'midstay_week': 267,\n",
       " 'midstay_dayofweek': 132,\n",
       " 'hist_starrating_diff': 122,\n",
       " 'price_hist_logdiff': 848,\n",
       " 'visitor_hist_adr_usd_logdiff': 243,\n",
       " 'prop_count_per_srch_dest': 311,\n",
       " 'srch_dest_count_per_prop': 491,\n",
       " 'price_usd_std_srch_id': 539,\n",
       " 'price_usd_med_srch_id': 505,\n",
       " 'price_usd_d_srch_id': 824,\n",
       " 'prop_starrating_w0_std_srch_destination_id': 317,\n",
       " 'prop_starrating_w0_d_srch_destination_id': 265,\n",
       " 'prop_starrating_w0_std_srch_id': 433,\n",
       " 'prop_starrating_w0_d_srch_id': 153,\n",
       " 'prop_review_score_std_srch_destination_id': 302,\n",
       " 'prop_review_score_d_srch_destination_id': 331,\n",
       " 'prop_review_score_std_srch_id': 384,\n",
       " 'prop_review_score_d_srch_id': 201,\n",
       " 'prop_location_score1_std_srch_destination_id': 246,\n",
       " 'prop_location_score1_d_srch_destination_id': 409,\n",
       " 'prop_location_score1_std_srch_destination_id__prop_starrating': 401,\n",
       " 'prop_location_score1_med_srch_destination_id__prop_starrating': 293,\n",
       " 'prop_location_score1_d_srch_destination_id__prop_starrating': 404,\n",
       " 'prop_location_score1_std_srch_id': 333,\n",
       " 'prop_location_score1_d_srch_id': 485,\n",
       " 'prop_location_score2_d_srch_destination_id': 481,\n",
       " 'prop_location_score2_d_srch_destination_id__prop_starrating': 578,\n",
       " 'prop_location_score2_std_srch_id': 563,\n",
       " 'prop_location_score2_d_srch_id': 533,\n",
       " 'price_usd_d_srch_id__prop_starrating': 811,\n",
       " 'price_hist_logdiff_d_srch_id': 1038,\n",
       " 'visitor_hist_adr_usd_logdiff_d_srch_id': 144,\n",
       " 'srch_query_affinity_score_d_srch_id': 280,\n",
       " 'comp_known_cnt': 112,\n",
       " 'comp_better_worse': 149,\n",
       " 'price_usd_rank': 429,\n",
       " 'tg_avg_position_srch_prop_id': 848,\n",
       " 'tg_std_position_srch_prop_id': 747,\n",
       " 'log_appearance_count_srch_prop_id': 539,\n",
       " 'avg_res_len_srch_prop_id': 454,\n",
       " 'tg_avg_position_prop_id': 789,\n",
       " 'log_appearance_count_prop_id': 587,\n",
       " 'avg_res_len_prop_id': 559}"
      ]
     },
     "execution_count": 13,
     "metadata": {},
     "output_type": "execute_result"
    }
   ],
   "source": [
    "{f:i for (f, i) in zip(ranker.feature_name_, ranker.feature_importances_)}"
   ]
  },
  {
   "cell_type": "code",
   "execution_count": 14,
   "metadata": {
    "ExecuteTime": {
     "end_time": "2023-05-26T22:16:57.921373835Z",
     "start_time": "2023-05-26T22:16:57.843315916Z"
    }
   },
   "outputs": [],
   "source": [
    "def get_prediction_df(preds, df):\n",
    "    df_prediction = df[[\"srch_id\", \"prop_id\", 'relevance_score']].assign(predicted = preds)\n",
    "    return df_prediction.sort_values(\"predicted\", ascending=False).sort_values(\"srch_id\", kind='stable')"
   ]
  },
  {
   "cell_type": "code",
   "execution_count": 15,
   "metadata": {
    "ExecuteTime": {
     "end_time": "2023-05-26T22:17:26.298364226Z",
     "start_time": "2023-05-26T22:16:58.844138818Z"
    },
    "collapsed": false,
    "jupyter": {
     "outputs_hidden": false
    }
   },
   "outputs": [
    {
     "data": {
      "text/plain": [
       "0.40948660388477953"
      ]
     },
     "execution_count": 15,
     "metadata": {},
     "output_type": "execute_result"
    }
   ],
   "source": [
    "df_pred_test = get_prediction_df(ranker.predict(df_test[predictor_cols]), df_test)\n",
    "df_pred_test.groupby('srch_id')['relevance_score'].apply(lambda x: ndcg_dmt(x, use_2pow=False, use_log2=False)).mean()"
   ]
  },
  {
   "cell_type": "code",
   "execution_count": 16,
   "metadata": {
    "ExecuteTime": {
     "end_time": "2023-05-26T21:56:17.680129214Z",
     "start_time": "2023-05-26T21:56:17.153981757Z"
    },
    "collapsed": false,
    "jupyter": {
     "outputs_hidden": false
    }
   },
   "outputs": [
    {
     "data": {
      "text/plain": [
       "0.4140946800269657"
      ]
     },
     "execution_count": 16,
     "metadata": {},
     "output_type": "execute_result"
    }
   ],
   "source": [
    "df_pred_val = get_prediction_df(ranker.predict(df_val[predictor_cols], predict_raw_score=True, predict_disable_shape_check=True), df_val)\n",
    "df_pred_val.groupby('srch_id')['relevance_score'].apply(lambda x: ndcg_dmt(x, use_2pow=False, use_log2=False)).mean()"
   ]
  },
  {
   "cell_type": "markdown",
   "metadata": {
    "ExecuteTime": {
     "end_time": "2023-05-26T21:56:18.091599052Z",
     "start_time": "2023-05-26T21:56:17.681844161Z"
    }
   },
   "source": [
    "# We see that the validation score matches the test score so we can train the model without a test set, only validation"
   ]
  },
  {
   "cell_type": "code",
   "execution_count": 17,
   "metadata": {
    "ExecuteTime": {
     "end_time": "2023-05-26T11:11:58.740570337Z",
     "start_time": "2023-05-26T11:11:58.726049658Z"
    }
   },
   "outputs": [
    {
     "name": "stdout",
     "output_type": "stream",
     "text": [
      "83083 127783 1330\n",
      "193941 583459 26916\n",
      "127783 83083 46030\n",
      "583459 193941 416434\n"
     ]
    },
    {
     "name": "stderr",
     "output_type": "stream",
     "text": [
      "/home/robert/miniconda3/envs/dmt_expedia/lib/python3.11/site-packages/lightgbm/basic.py:2065: UserWarning: Using categorical_feature in Dataset.\n",
      "  _log_warning('Using categorical_feature in Dataset.')\n",
      "/home/robert/miniconda3/envs/dmt_expedia/lib/python3.11/site-packages/lightgbm/basic.py:2068: UserWarning: categorical_feature in Dataset is overridden.\n",
      "New categorical_feature is [0, 5, 9, 15]\n",
      "  _log_warning('categorical_feature in Dataset is overridden.\\n'\n"
     ]
    },
    {
     "name": "stdout",
     "output_type": "stream",
     "text": [
      "[LightGBM] [Warning] Unknown parameter: max_position\n",
      "[LightGBM] [Warning] lambda_l2 is set=0.001, reg_lambda=0.0 will be ignored. Current value: lambda_l2=0.001\n",
      "[LightGBM] [Warning] boosting is set=goss, boosting_type=gbdt will be ignored. Current value: boosting=goss\n",
      "[LightGBM] [Warning] min_data_in_leaf is set=60, min_child_samples=20 will be ignored. Current value: min_data_in_leaf=60\n",
      "[LightGBM] [Warning] num_threads is set=24, n_jobs=-1 will be ignored. Current value: num_threads=24\n"
     ]
    },
    {
     "name": "stderr",
     "output_type": "stream",
     "text": [
      "/home/robert/miniconda3/envs/dmt_expedia/lib/python3.11/site-packages/lightgbm/basic.py:1780: UserWarning: Overriding the parameters from Reference Dataset.\n",
      "  _log_warning('Overriding the parameters from Reference Dataset.')\n",
      "/home/robert/miniconda3/envs/dmt_expedia/lib/python3.11/site-packages/lightgbm/basic.py:1513: UserWarning: categorical_column in param dict is overridden.\n",
      "  _log_warning(f'{cat_alias} in param dict is overridden.')\n"
     ]
    },
    {
     "name": "stdout",
     "output_type": "stream",
     "text": [
      "Training until validation scores don't improve for 350 rounds\n",
      "[20]\ttraining's ndcg@5: 0.391556\tvalid_1's ndcg@5: 0.386478\n",
      "[40]\ttraining's ndcg@5: 0.400053\tvalid_1's ndcg@5: 0.393166\n",
      "[60]\ttraining's ndcg@5: 0.406629\tvalid_1's ndcg@5: 0.397097\n",
      "[80]\ttraining's ndcg@5: 0.411329\tvalid_1's ndcg@5: 0.400508\n",
      "[100]\ttraining's ndcg@5: 0.414872\tvalid_1's ndcg@5: 0.401939\n",
      "[120]\ttraining's ndcg@5: 0.41783\tvalid_1's ndcg@5: 0.403522\n",
      "[140]\ttraining's ndcg@5: 0.420415\tvalid_1's ndcg@5: 0.405344\n",
      "[160]\ttraining's ndcg@5: 0.422774\tvalid_1's ndcg@5: 0.406206\n",
      "[180]\ttraining's ndcg@5: 0.425027\tvalid_1's ndcg@5: 0.407207\n",
      "[200]\ttraining's ndcg@5: 0.427495\tvalid_1's ndcg@5: 0.408253\n",
      "[220]\ttraining's ndcg@5: 0.429597\tvalid_1's ndcg@5: 0.408467\n",
      "[240]\ttraining's ndcg@5: 0.431458\tvalid_1's ndcg@5: 0.40885\n",
      "[260]\ttraining's ndcg@5: 0.433402\tvalid_1's ndcg@5: 0.409407\n",
      "[280]\ttraining's ndcg@5: 0.435508\tvalid_1's ndcg@5: 0.409938\n",
      "[300]\ttraining's ndcg@5: 0.437635\tvalid_1's ndcg@5: 0.410386\n",
      "[320]\ttraining's ndcg@5: 0.439127\tvalid_1's ndcg@5: 0.410585\n",
      "[340]\ttraining's ndcg@5: 0.44098\tvalid_1's ndcg@5: 0.411265\n",
      "[360]\ttraining's ndcg@5: 0.442766\tvalid_1's ndcg@5: 0.411646\n",
      "[380]\ttraining's ndcg@5: 0.444563\tvalid_1's ndcg@5: 0.411667\n",
      "[400]\ttraining's ndcg@5: 0.446445\tvalid_1's ndcg@5: 0.411215\n",
      "[420]\ttraining's ndcg@5: 0.447891\tvalid_1's ndcg@5: 0.410776\n",
      "[440]\ttraining's ndcg@5: 0.449513\tvalid_1's ndcg@5: 0.411072\n",
      "[460]\ttraining's ndcg@5: 0.451355\tvalid_1's ndcg@5: 0.41158\n",
      "[480]\ttraining's ndcg@5: 0.452846\tvalid_1's ndcg@5: 0.411552\n",
      "[500]\ttraining's ndcg@5: 0.454398\tvalid_1's ndcg@5: 0.411917\n",
      "[520]\ttraining's ndcg@5: 0.455921\tvalid_1's ndcg@5: 0.412127\n",
      "[540]\ttraining's ndcg@5: 0.457577\tvalid_1's ndcg@5: 0.412388\n",
      "[560]\ttraining's ndcg@5: 0.459092\tvalid_1's ndcg@5: 0.412355\n",
      "[580]\ttraining's ndcg@5: 0.460499\tvalid_1's ndcg@5: 0.412186\n",
      "[600]\ttraining's ndcg@5: 0.461892\tvalid_1's ndcg@5: 0.412361\n",
      "[620]\ttraining's ndcg@5: 0.463215\tvalid_1's ndcg@5: 0.412663\n",
      "[640]\ttraining's ndcg@5: 0.46483\tvalid_1's ndcg@5: 0.412983\n",
      "[660]\ttraining's ndcg@5: 0.466125\tvalid_1's ndcg@5: 0.413226\n",
      "[680]\ttraining's ndcg@5: 0.467502\tvalid_1's ndcg@5: 0.413447\n",
      "[700]\ttraining's ndcg@5: 0.469026\tvalid_1's ndcg@5: 0.412916\n",
      "[720]\ttraining's ndcg@5: 0.470391\tvalid_1's ndcg@5: 0.412906\n",
      "[740]\ttraining's ndcg@5: 0.471754\tvalid_1's ndcg@5: 0.413416\n",
      "[760]\ttraining's ndcg@5: 0.473204\tvalid_1's ndcg@5: 0.413554\n",
      "[780]\ttraining's ndcg@5: 0.474586\tvalid_1's ndcg@5: 0.413393\n",
      "[800]\ttraining's ndcg@5: 0.476232\tvalid_1's ndcg@5: 0.413571\n",
      "[820]\ttraining's ndcg@5: 0.477503\tvalid_1's ndcg@5: 0.412647\n",
      "[840]\ttraining's ndcg@5: 0.478912\tvalid_1's ndcg@5: 0.412891\n",
      "[860]\ttraining's ndcg@5: 0.480175\tvalid_1's ndcg@5: 0.413164\n",
      "[880]\ttraining's ndcg@5: 0.481655\tvalid_1's ndcg@5: 0.412827\n",
      "[900]\ttraining's ndcg@5: 0.482947\tvalid_1's ndcg@5: 0.41286\n",
      "[920]\ttraining's ndcg@5: 0.484361\tvalid_1's ndcg@5: 0.413319\n",
      "[940]\ttraining's ndcg@5: 0.485517\tvalid_1's ndcg@5: 0.413143\n",
      "[960]\ttraining's ndcg@5: 0.486822\tvalid_1's ndcg@5: 0.41349\n",
      "[980]\ttraining's ndcg@5: 0.487975\tvalid_1's ndcg@5: 0.413494\n",
      "[1000]\ttraining's ndcg@5: 0.489286\tvalid_1's ndcg@5: 0.4135\n",
      "[1020]\ttraining's ndcg@5: 0.490494\tvalid_1's ndcg@5: 0.413248\n",
      "[1040]\ttraining's ndcg@5: 0.491992\tvalid_1's ndcg@5: 0.413359\n",
      "[1060]\ttraining's ndcg@5: 0.493257\tvalid_1's ndcg@5: 0.413402\n",
      "[1080]\ttraining's ndcg@5: 0.494428\tvalid_1's ndcg@5: 0.413122\n",
      "[1100]\ttraining's ndcg@5: 0.495742\tvalid_1's ndcg@5: 0.413323\n",
      "[1120]\ttraining's ndcg@5: 0.496952\tvalid_1's ndcg@5: 0.413368\n",
      "[1140]\ttraining's ndcg@5: 0.498022\tvalid_1's ndcg@5: 0.413375\n",
      "Early stopping, best iteration is:\n",
      "[796]\ttraining's ndcg@5: 0.475903\tvalid_1's ndcg@5: 0.413866\n",
      "Evaluated only: ndcg@5\n"
     ]
    },
    {
     "data": {
      "text/html": [
       "<style>#sk-container-id-2 {color: black;background-color: white;}#sk-container-id-2 pre{padding: 0;}#sk-container-id-2 div.sk-toggleable {background-color: white;}#sk-container-id-2 label.sk-toggleable__label {cursor: pointer;display: block;width: 100%;margin-bottom: 0;padding: 0.3em;box-sizing: border-box;text-align: center;}#sk-container-id-2 label.sk-toggleable__label-arrow:before {content: \"▸\";float: left;margin-right: 0.25em;color: #696969;}#sk-container-id-2 label.sk-toggleable__label-arrow:hover:before {color: black;}#sk-container-id-2 div.sk-estimator:hover label.sk-toggleable__label-arrow:before {color: black;}#sk-container-id-2 div.sk-toggleable__content {max-height: 0;max-width: 0;overflow: hidden;text-align: left;background-color: #f0f8ff;}#sk-container-id-2 div.sk-toggleable__content pre {margin: 0.2em;color: black;border-radius: 0.25em;background-color: #f0f8ff;}#sk-container-id-2 input.sk-toggleable__control:checked~div.sk-toggleable__content {max-height: 200px;max-width: 100%;overflow: auto;}#sk-container-id-2 input.sk-toggleable__control:checked~label.sk-toggleable__label-arrow:before {content: \"▾\";}#sk-container-id-2 div.sk-estimator input.sk-toggleable__control:checked~label.sk-toggleable__label {background-color: #d4ebff;}#sk-container-id-2 div.sk-label input.sk-toggleable__control:checked~label.sk-toggleable__label {background-color: #d4ebff;}#sk-container-id-2 input.sk-hidden--visually {border: 0;clip: rect(1px 1px 1px 1px);clip: rect(1px, 1px, 1px, 1px);height: 1px;margin: -1px;overflow: hidden;padding: 0;position: absolute;width: 1px;}#sk-container-id-2 div.sk-estimator {font-family: monospace;background-color: #f0f8ff;border: 1px dotted black;border-radius: 0.25em;box-sizing: border-box;margin-bottom: 0.5em;}#sk-container-id-2 div.sk-estimator:hover {background-color: #d4ebff;}#sk-container-id-2 div.sk-parallel-item::after {content: \"\";width: 100%;border-bottom: 1px solid gray;flex-grow: 1;}#sk-container-id-2 div.sk-label:hover label.sk-toggleable__label {background-color: #d4ebff;}#sk-container-id-2 div.sk-serial::before {content: \"\";position: absolute;border-left: 1px solid gray;box-sizing: border-box;top: 0;bottom: 0;left: 50%;z-index: 0;}#sk-container-id-2 div.sk-serial {display: flex;flex-direction: column;align-items: center;background-color: white;padding-right: 0.2em;padding-left: 0.2em;position: relative;}#sk-container-id-2 div.sk-item {position: relative;z-index: 1;}#sk-container-id-2 div.sk-parallel {display: flex;align-items: stretch;justify-content: center;background-color: white;position: relative;}#sk-container-id-2 div.sk-item::before, #sk-container-id-2 div.sk-parallel-item::before {content: \"\";position: absolute;border-left: 1px solid gray;box-sizing: border-box;top: 0;bottom: 0;left: 50%;z-index: -1;}#sk-container-id-2 div.sk-parallel-item {display: flex;flex-direction: column;z-index: 1;position: relative;background-color: white;}#sk-container-id-2 div.sk-parallel-item:first-child::after {align-self: flex-end;width: 50%;}#sk-container-id-2 div.sk-parallel-item:last-child::after {align-self: flex-start;width: 50%;}#sk-container-id-2 div.sk-parallel-item:only-child::after {width: 0;}#sk-container-id-2 div.sk-dashed-wrapped {border: 1px dashed gray;margin: 0 0.4em 0.5em 0.4em;box-sizing: border-box;padding-bottom: 0.4em;background-color: white;}#sk-container-id-2 div.sk-label label {font-family: monospace;font-weight: bold;display: inline-block;line-height: 1.2em;}#sk-container-id-2 div.sk-label-container {text-align: center;}#sk-container-id-2 div.sk-container {/* jupyter's `normalize.less` sets `[hidden] { display: none; }` but bootstrap.min.css set `[hidden] { display: none !important; }` so we also need the `!important` here to be able to override the default hidden behavior on the sphinx rendered scikit-learn.org. See: https://github.com/scikit-learn/scikit-learn/issues/21755 */display: inline-block !important;position: relative;}#sk-container-id-2 div.sk-text-repr-fallback {display: none;}</style><div id=\"sk-container-id-2\" class=\"sk-top-container\"><div class=\"sk-text-repr-fallback\"><pre>LGBMRanker(boosting=&#x27;goss&#x27;, deterministic=True, label_gain=[0, 1, 5],\n",
       "           lambda_l2=0.001, lambdarank_truncation_level=11, max_depth=6,\n",
       "           max_position=5, metric=&#x27;ndcg&#x27;, min_data_in_leaf=60,\n",
       "           n_estimators=16000, num_threads=24, objective=&#x27;lambdarank&#x27;,\n",
       "           random_state=42, subsample_for_bin=400000)</pre><b>In a Jupyter environment, please rerun this cell to show the HTML representation or trust the notebook. <br />On GitHub, the HTML representation is unable to render, please try loading this page with nbviewer.org.</b></div><div class=\"sk-container\" hidden><div class=\"sk-item\"><div class=\"sk-estimator sk-toggleable\"><input class=\"sk-toggleable__control sk-hidden--visually\" id=\"sk-estimator-id-2\" type=\"checkbox\" checked><label for=\"sk-estimator-id-2\" class=\"sk-toggleable__label sk-toggleable__label-arrow\">LGBMRanker</label><div class=\"sk-toggleable__content\"><pre>LGBMRanker(boosting=&#x27;goss&#x27;, deterministic=True, label_gain=[0, 1, 5],\n",
       "           lambda_l2=0.001, lambdarank_truncation_level=11, max_depth=6,\n",
       "           max_position=5, metric=&#x27;ndcg&#x27;, min_data_in_leaf=60,\n",
       "           n_estimators=16000, num_threads=24, objective=&#x27;lambdarank&#x27;,\n",
       "           random_state=42, subsample_for_bin=400000)</pre></div></div></div></div></div>"
      ],
      "text/plain": [
       "LGBMRanker(boosting='goss', deterministic=True, label_gain=[0, 1, 5],\n",
       "           lambda_l2=0.001, lambdarank_truncation_level=11, max_depth=6,\n",
       "           max_position=5, metric='ndcg', min_data_in_leaf=60,\n",
       "           n_estimators=16000, num_threads=24, objective='lambdarank',\n",
       "           random_state=42, subsample_for_bin=400000)"
      ]
     },
     "execution_count": 17,
     "metadata": {},
     "output_type": "execute_result"
    }
   ],
   "source": [
    "### Split\n",
    "\n",
    "# randomly shuffle all_srch_ids using random seed 42\n",
    "RANDOM_SEED = 124\n",
    "rng = np.random.default_rng(RANDOM_SEED)\n",
    "all_srch_ids.sort()\n",
    "rng.shuffle(all_srch_ids)\n",
    "\n",
    "VALIDATION_PROP = 0.1\n",
    "TRAIN_PROP = 1 - (VALIDATION_PROP)\n",
    "\n",
    "train_cnt = int(len(all_srch_ids)*(TRAIN_PROP))\n",
    "train_ids = all_srch_ids[:train_cnt]\n",
    "\n",
    "val_cnt = int(len(all_srch_ids)*(VALIDATION_PROP))\n",
    "val_ids = all_srch_ids[train_cnt:train_cnt+val_cnt]\n",
    "\n",
    "df_train = df_devel.loc[df_devel.srch_id.isin(train_ids)]\n",
    "df_val = df_devel.loc[df_devel.srch_id.isin(val_ids)]\n",
    "\n",
    "### Missingness\n",
    "\n",
    "# same for the validation set\n",
    "_set_cols_to_NA_for_ids_in_one_but_not_other(df_val, df_train,\n",
    "                                             ['prop_id'], \n",
    "                                             ['tg_avg_position_prop_id', 'tg_std_position_prop_id', 'tg_click_prob_prop_id', 'log_appearance_count_prop_id'])#, 'avg_res_len_srch_prop_id'])\n",
    "_set_cols_to_NA_for_ids_in_one_but_not_other(df_val, df_train,\n",
    "                                             ['prop_srch_dest_id'], \n",
    "                                             ['tg_avg_position_srch_prop_id', 'tg_std_position_srch_prop_id', 'tg_click_prob_srch_prop_id', 'log_appearance_count_srch_prop_id'])#, 'avg_res_len_srch_prop_id'])\n",
    "\n",
    "\n",
    "# Improvement here: ids in the train set but not in the test or validation set should be removed, to align the data missingness of the test, validation and prediction set\n",
    "_set_cols_to_NA_for_ids_in_one_but_not_other(df_train, df_val, \n",
    "                                             ['prop_id'], \n",
    "                                             ['tg_avg_position_prop_id', 'tg_std_position_prop_id', 'tg_click_prob_prop_id', 'log_appearance_count_prop_id'])#, 'avg_res_len_srch_prop_id'])\n",
    "_set_cols_to_NA_for_ids_in_one_but_not_other(df_train, df_val, \n",
    "                                             ['prop_srch_dest_id'], \n",
    "                                             ['tg_avg_position_srch_prop_id', 'tg_std_position_srch_prop_id', 'tg_click_prob_srch_prop_id', 'log_appearance_count_srch_prop_id'])#, 'avg_res_len_srch_prop_id'])\n",
    "\n",
    "### Groups\n",
    "\n",
    "df_train = df_train.set_index('srch_id').sort_index().reset_index()\n",
    "df_val = df_val.set_index('srch_id').sort_index().reset_index()\n",
    "\n",
    "groups_train = get_groups(df_train)\n",
    "df_tg_train = df_train['target_cls'].astype(int)\n",
    "\n",
    "groups_val = get_groups(df_val)\n",
    "df_tg_val = df_val['target_cls'].astype(int)\n",
    "\n",
    "## NAs made the same\n",
    "\n",
    "df_val.fillna(np.NaN, inplace=True)\n",
    "df_train.fillna(np.NaN, inplace=True)\n",
    "\n",
    "### Training\n",
    "\n",
    "# Train the classifier with the best hyperparameters\n",
    "ranker = LGBMRanker(\n",
    "    objective='lambdarank',\n",
    "    metric=\"ndcg\",\n",
    "    subsample_for_bin=400000,\n",
    "    n_estimators=16000, # this is the max, early stopping will likely result in fewer\n",
    "    learning_rate=0.1,\n",
    "    label_gain=[0, 1, 5],\n",
    "    random_state=42,\n",
    "    boosting='goss',\n",
    "    lambda_l2=1e-3,\n",
    "    min_data_in_leaf=60,\n",
    "    max_depth=6,\n",
    "    max_position=5,\n",
    "    deterministic=True,\n",
    "    num_threads=24,\n",
    "    lambdarank_truncation_level=11,\n",
    ")\n",
    "\n",
    "x_val = df_val[predictor_cols]\n",
    "Y_val = df_tg_val\n",
    "g_val = groups_val\n",
    "\n",
    "x_train = df_train[predictor_cols]\n",
    "Y_train = df_tg_train\n",
    "g_train = groups_train\n",
    "\n",
    "early_stopping_callback = early_stopping(stopping_rounds=350, first_metric_only=True)\n",
    "log_evaluation_callback = log_evaluation(period=20)\n",
    "\n",
    "ranker.fit(\n",
    "    x_train,\n",
    "    Y_train,\n",
    "    eval_set=[(x_train, Y_train), (x_val, Y_val)],\n",
    "    eval_group=[g_train, g_val],\n",
    "    group=g_train,\n",
    "    eval_at=5,\n",
    "    callbacks=[early_stopping_callback, log_evaluation_callback, ],    \n",
    "    categorical_feature=get_categorical_column(x_train),\n",
    ")\n"
   ]
  },
  {
   "cell_type": "markdown",
   "metadata": {},
   "source": [
    "# We see that the validation score increased but also the number of steps increased, training the final model without validation set"
   ]
  },
  {
   "cell_type": "code",
   "execution_count": 18,
   "metadata": {},
   "outputs": [
    {
     "data": {
      "text/plain": [
       "1238.5867620751342"
      ]
     },
     "execution_count": 18,
     "metadata": {},
     "output_type": "execute_result"
    }
   ],
   "source": [
    "increase_for_5pct = 1 - 942 / 1118  # the stopping criteria increased this much for a 5 percent increase in training data\n",
    "# so we double it for another 10% increase in the training data\n",
    "ESTIMATED_STEPS = 942 * (1 + 2 * increase_for_5pct)\n",
    "ESTIMATED_STEPS"
   ]
  },
  {
   "cell_type": "code",
   "execution_count": 19,
   "metadata": {},
   "outputs": [
    {
     "name": "stderr",
     "output_type": "stream",
     "text": [
      "/home/robert/miniconda3/envs/dmt_expedia/lib/python3.11/site-packages/lightgbm/basic.py:2065: UserWarning: Using categorical_feature in Dataset.\n",
      "  _log_warning('Using categorical_feature in Dataset.')\n"
     ]
    },
    {
     "name": "stdout",
     "output_type": "stream",
     "text": [
      "[20]\ttraining's ndcg@5: 0.390848\n",
      "[40]\ttraining's ndcg@5: 0.400279\n",
      "[60]\ttraining's ndcg@5: 0.406041\n",
      "[80]\ttraining's ndcg@5: 0.410439\n",
      "[100]\ttraining's ndcg@5: 0.413842\n",
      "[120]\ttraining's ndcg@5: 0.416627\n",
      "[140]\ttraining's ndcg@5: 0.419223\n",
      "[160]\ttraining's ndcg@5: 0.421468\n",
      "[180]\ttraining's ndcg@5: 0.423687\n",
      "[200]\ttraining's ndcg@5: 0.425967\n",
      "[220]\ttraining's ndcg@5: 0.428241\n",
      "[240]\ttraining's ndcg@5: 0.430029\n",
      "[260]\ttraining's ndcg@5: 0.432007\n",
      "[280]\ttraining's ndcg@5: 0.433617\n",
      "[300]\ttraining's ndcg@5: 0.435515\n",
      "[320]\ttraining's ndcg@5: 0.437261\n",
      "[340]\ttraining's ndcg@5: 0.438873\n",
      "[360]\ttraining's ndcg@5: 0.440599\n",
      "[380]\ttraining's ndcg@5: 0.442118\n",
      "[400]\ttraining's ndcg@5: 0.443595\n",
      "[420]\ttraining's ndcg@5: 0.445297\n",
      "[440]\ttraining's ndcg@5: 0.446825\n",
      "[460]\ttraining's ndcg@5: 0.448139\n",
      "[480]\ttraining's ndcg@5: 0.44983\n",
      "[500]\ttraining's ndcg@5: 0.451156\n",
      "[520]\ttraining's ndcg@5: 0.452406\n",
      "[540]\ttraining's ndcg@5: 0.453802\n",
      "[560]\ttraining's ndcg@5: 0.455373\n",
      "[580]\ttraining's ndcg@5: 0.456684\n",
      "[600]\ttraining's ndcg@5: 0.458045\n",
      "[620]\ttraining's ndcg@5: 0.459495\n",
      "[640]\ttraining's ndcg@5: 0.460857\n",
      "[660]\ttraining's ndcg@5: 0.462119\n",
      "[680]\ttraining's ndcg@5: 0.463474\n",
      "[700]\ttraining's ndcg@5: 0.464788\n",
      "[720]\ttraining's ndcg@5: 0.466197\n",
      "[740]\ttraining's ndcg@5: 0.467574\n",
      "[760]\ttraining's ndcg@5: 0.4689\n",
      "[780]\ttraining's ndcg@5: 0.470148\n",
      "[800]\ttraining's ndcg@5: 0.471443\n",
      "[820]\ttraining's ndcg@5: 0.472696\n",
      "[840]\ttraining's ndcg@5: 0.473806\n",
      "[860]\ttraining's ndcg@5: 0.475098\n",
      "[880]\ttraining's ndcg@5: 0.476382\n",
      "[900]\ttraining's ndcg@5: 0.4776\n",
      "[920]\ttraining's ndcg@5: 0.47894\n",
      "[940]\ttraining's ndcg@5: 0.480198\n",
      "[960]\ttraining's ndcg@5: 0.481401\n",
      "[980]\ttraining's ndcg@5: 0.482701\n",
      "[1000]\ttraining's ndcg@5: 0.483729\n",
      "[1020]\ttraining's ndcg@5: 0.4849\n",
      "[1040]\ttraining's ndcg@5: 0.485963\n",
      "[1060]\ttraining's ndcg@5: 0.48727\n",
      "[1080]\ttraining's ndcg@5: 0.488392\n",
      "[1100]\ttraining's ndcg@5: 0.489459\n",
      "[1120]\ttraining's ndcg@5: 0.490459\n",
      "[1140]\ttraining's ndcg@5: 0.491439\n",
      "[1160]\ttraining's ndcg@5: 0.492583\n",
      "[1180]\ttraining's ndcg@5: 0.49364\n",
      "[1200]\ttraining's ndcg@5: 0.495081\n",
      "[1220]\ttraining's ndcg@5: 0.496172\n"
     ]
    },
    {
     "data": {
      "text/html": [
       "<style>#sk-container-id-3 {color: black;background-color: white;}#sk-container-id-3 pre{padding: 0;}#sk-container-id-3 div.sk-toggleable {background-color: white;}#sk-container-id-3 label.sk-toggleable__label {cursor: pointer;display: block;width: 100%;margin-bottom: 0;padding: 0.3em;box-sizing: border-box;text-align: center;}#sk-container-id-3 label.sk-toggleable__label-arrow:before {content: \"▸\";float: left;margin-right: 0.25em;color: #696969;}#sk-container-id-3 label.sk-toggleable__label-arrow:hover:before {color: black;}#sk-container-id-3 div.sk-estimator:hover label.sk-toggleable__label-arrow:before {color: black;}#sk-container-id-3 div.sk-toggleable__content {max-height: 0;max-width: 0;overflow: hidden;text-align: left;background-color: #f0f8ff;}#sk-container-id-3 div.sk-toggleable__content pre {margin: 0.2em;color: black;border-radius: 0.25em;background-color: #f0f8ff;}#sk-container-id-3 input.sk-toggleable__control:checked~div.sk-toggleable__content {max-height: 200px;max-width: 100%;overflow: auto;}#sk-container-id-3 input.sk-toggleable__control:checked~label.sk-toggleable__label-arrow:before {content: \"▾\";}#sk-container-id-3 div.sk-estimator input.sk-toggleable__control:checked~label.sk-toggleable__label {background-color: #d4ebff;}#sk-container-id-3 div.sk-label input.sk-toggleable__control:checked~label.sk-toggleable__label {background-color: #d4ebff;}#sk-container-id-3 input.sk-hidden--visually {border: 0;clip: rect(1px 1px 1px 1px);clip: rect(1px, 1px, 1px, 1px);height: 1px;margin: -1px;overflow: hidden;padding: 0;position: absolute;width: 1px;}#sk-container-id-3 div.sk-estimator {font-family: monospace;background-color: #f0f8ff;border: 1px dotted black;border-radius: 0.25em;box-sizing: border-box;margin-bottom: 0.5em;}#sk-container-id-3 div.sk-estimator:hover {background-color: #d4ebff;}#sk-container-id-3 div.sk-parallel-item::after {content: \"\";width: 100%;border-bottom: 1px solid gray;flex-grow: 1;}#sk-container-id-3 div.sk-label:hover label.sk-toggleable__label {background-color: #d4ebff;}#sk-container-id-3 div.sk-serial::before {content: \"\";position: absolute;border-left: 1px solid gray;box-sizing: border-box;top: 0;bottom: 0;left: 50%;z-index: 0;}#sk-container-id-3 div.sk-serial {display: flex;flex-direction: column;align-items: center;background-color: white;padding-right: 0.2em;padding-left: 0.2em;position: relative;}#sk-container-id-3 div.sk-item {position: relative;z-index: 1;}#sk-container-id-3 div.sk-parallel {display: flex;align-items: stretch;justify-content: center;background-color: white;position: relative;}#sk-container-id-3 div.sk-item::before, #sk-container-id-3 div.sk-parallel-item::before {content: \"\";position: absolute;border-left: 1px solid gray;box-sizing: border-box;top: 0;bottom: 0;left: 50%;z-index: -1;}#sk-container-id-3 div.sk-parallel-item {display: flex;flex-direction: column;z-index: 1;position: relative;background-color: white;}#sk-container-id-3 div.sk-parallel-item:first-child::after {align-self: flex-end;width: 50%;}#sk-container-id-3 div.sk-parallel-item:last-child::after {align-self: flex-start;width: 50%;}#sk-container-id-3 div.sk-parallel-item:only-child::after {width: 0;}#sk-container-id-3 div.sk-dashed-wrapped {border: 1px dashed gray;margin: 0 0.4em 0.5em 0.4em;box-sizing: border-box;padding-bottom: 0.4em;background-color: white;}#sk-container-id-3 div.sk-label label {font-family: monospace;font-weight: bold;display: inline-block;line-height: 1.2em;}#sk-container-id-3 div.sk-label-container {text-align: center;}#sk-container-id-3 div.sk-container {/* jupyter's `normalize.less` sets `[hidden] { display: none; }` but bootstrap.min.css set `[hidden] { display: none !important; }` so we also need the `!important` here to be able to override the default hidden behavior on the sphinx rendered scikit-learn.org. See: https://github.com/scikit-learn/scikit-learn/issues/21755 */display: inline-block !important;position: relative;}#sk-container-id-3 div.sk-text-repr-fallback {display: none;}</style><div id=\"sk-container-id-3\" class=\"sk-top-container\"><div class=\"sk-text-repr-fallback\"><pre>LGBMRanker(boosting=&#x27;goss&#x27;, deterministic=True, label_gain=[0, 1, 5],\n",
       "           lambda_l2=0.001, lambdarank_truncation_level=11, max_depth=6,\n",
       "           max_position=5, metric=&#x27;ndcg&#x27;, min_data_in_leaf=60,\n",
       "           n_estimators=1238, num_threads=24, objective=&#x27;lambdarank&#x27;,\n",
       "           random_state=42, subsample_for_bin=400000)</pre><b>In a Jupyter environment, please rerun this cell to show the HTML representation or trust the notebook. <br />On GitHub, the HTML representation is unable to render, please try loading this page with nbviewer.org.</b></div><div class=\"sk-container\" hidden><div class=\"sk-item\"><div class=\"sk-estimator sk-toggleable\"><input class=\"sk-toggleable__control sk-hidden--visually\" id=\"sk-estimator-id-3\" type=\"checkbox\" checked><label for=\"sk-estimator-id-3\" class=\"sk-toggleable__label sk-toggleable__label-arrow\">LGBMRanker</label><div class=\"sk-toggleable__content\"><pre>LGBMRanker(boosting=&#x27;goss&#x27;, deterministic=True, label_gain=[0, 1, 5],\n",
       "           lambda_l2=0.001, lambdarank_truncation_level=11, max_depth=6,\n",
       "           max_position=5, metric=&#x27;ndcg&#x27;, min_data_in_leaf=60,\n",
       "           n_estimators=1238, num_threads=24, objective=&#x27;lambdarank&#x27;,\n",
       "           random_state=42, subsample_for_bin=400000)</pre></div></div></div></div></div>"
      ],
      "text/plain": [
       "LGBMRanker(boosting='goss', deterministic=True, label_gain=[0, 1, 5],\n",
       "           lambda_l2=0.001, lambdarank_truncation_level=11, max_depth=6,\n",
       "           max_position=5, metric='ndcg', min_data_in_leaf=60,\n",
       "           n_estimators=1238, num_threads=24, objective='lambdarank',\n",
       "           random_state=42, subsample_for_bin=400000)"
      ]
     },
     "execution_count": 19,
     "metadata": {},
     "output_type": "execute_result"
    }
   ],
   "source": [
    "### Split\n",
    "\n",
    "### Missingness\n",
    "\n",
    "# same for the validation set\n",
    "# _set_cols_to_NA_for_ids_in_one_but_not_other(df_to_pred, df_devel,\n",
    "#                                              ['prop_id'], \n",
    "#                                              ['tg_avg_position_prop_id', 'tg_std_position_prop_id', 'tg_click_prob_prop_id', 'log_appearance_count_prop_id'])#, 'avg_res_len_srch_prop_id'])\n",
    "# _set_cols_to_NA_for_ids_in_one_but_not_other(df_to_pred, df_devel,\n",
    "#                                              ['prop_srch_dest_id'], \n",
    "#                                              ['tg_avg_position_srch_prop_id', 'tg_std_position_srch_prop_id', 'tg_click_prob_srch_prop_id', 'log_appearance_count_srch_prop_id'])#, 'avg_res_len_srch_prop_id'])\n",
    "# not necessary, but sanity check\n",
    "\n",
    "\n",
    "# Improvement here: ids in the train set but not in the test or validation set should be removed, to align the data missingness of the test, validation and prediction set\n",
    "# _set_cols_to_NA_for_ids_in_one_but_not_other(df_devel, df_to_pred, \n",
    "#                                              ['prop_id'], \n",
    "#                                              ['tg_avg_position_prop_id', 'tg_std_position_prop_id', 'tg_click_prob_prop_id', 'log_appearance_count_prop_id'])#, 'avg_res_len_srch_prop_id'])\n",
    "# _set_cols_to_NA_for_ids_in_one_but_not_other(df_devel, df_to_pred, \n",
    "#                                              ['prop_srch_dest_id'], \n",
    "#                                              ['tg_avg_position_srch_prop_id', 'tg_std_position_srch_prop_id', 'tg_click_prob_srch_prop_id', 'log_appearance_count_srch_prop_id'])#, 'avg_res_len_srch_prop_id'])\n",
    "\n",
    "### Groups\n",
    "\n",
    "df_devel = df_devel.set_index('srch_id').sort_index().reset_index()\n",
    "\n",
    "groups_devel = get_groups(df_devel)\n",
    "df_tg_devel = df_devel['target_cls'].astype(int)\n",
    "\n",
    "## NAs made the same\n",
    "\n",
    "df_devel.fillna(np.NaN, inplace=True)\n",
    "df_to_pred.fillna(np.NaN, inplace=True)\n",
    "\n",
    "### Training\n",
    "\n",
    "# Train the classifier with the best hyperparameters\n",
    "ranker = LGBMRanker(\n",
    "    objective='lambdarank',\n",
    "    metric=\"ndcg\",\n",
    "    subsample_for_bin=400000,\n",
    "    n_estimators=int(ESTIMATED_STEPS),\n",
    "    learning_rate=0.1,\n",
    "    label_gain=[0, 1, 5],\n",
    "    random_state=42,\n",
    "    boosting='goss',\n",
    "    lambda_l2=1e-3,\n",
    "    min_data_in_leaf=60,\n",
    "    max_depth=6,\n",
    "    max_position=5,\n",
    "    deterministic=True,\n",
    "    num_threads=24,\n",
    "    lambdarank_truncation_level=11,\n",
    ")\n",
    "\n",
    "x_train = df_devel[predictor_cols]\n",
    "Y_train = df_tg_devel\n",
    "g_train = groups_devel\n",
    "\n",
    "log_evaluation_callback = log_evaluation(period=20)\n",
    "\n",
    "ranker.fit(\n",
    "    x_train,\n",
    "    Y_train,\n",
    "    eval_set=[(x_train, Y_train)],\n",
    "    eval_group=[g_train],\n",
    "    group=g_train,\n",
    "    eval_at=5,\n",
    "    callbacks=[log_evaluation_callback, ],    \n",
    "    categorical_feature=get_categorical_column(x_train),\n",
    ")"
   ]
  },
  {
   "cell_type": "code",
   "execution_count": 20,
   "metadata": {},
   "outputs": [
    {
     "data": {
      "text/plain": [
       "{'site_id': 2541,\n",
       " 'visitor_hist_starrating': 159,\n",
       " 'prop_country_id': 317,\n",
       " 'prop_starrating': 180,\n",
       " 'prop_review_score': 333,\n",
       " 'prop_brand_bool': 114,\n",
       " 'prop_location_score1': 741,\n",
       " 'prop_location_score2': 1149,\n",
       " 'prop_log_historical_price': 1187,\n",
       " 'promotion_flag': 118,\n",
       " 'srch_length_of_stay': 314,\n",
       " 'srch_booking_window': 694,\n",
       " 'srch_adults_count': 180,\n",
       " 'srch_children_count': 170,\n",
       " 'srch_query_affinity_score': 272,\n",
       " 'random_bool': 364,\n",
       " 'midstay_week': 478,\n",
       " 'midstay_dayofweek': 194,\n",
       " 'hist_starrating_diff': 203,\n",
       " 'price_hist_logdiff': 1170,\n",
       " 'visitor_hist_adr_usd_logdiff': 279,\n",
       " 'prop_count_per_srch_dest': 465,\n",
       " 'srch_dest_count_per_prop': 760,\n",
       " 'price_usd_std_srch_id': 816,\n",
       " 'price_usd_med_srch_id': 719,\n",
       " 'price_usd_d_srch_id': 1188,\n",
       " 'prop_starrating_w0_std_srch_destination_id': 492,\n",
       " 'prop_starrating_w0_d_srch_destination_id': 380,\n",
       " 'prop_starrating_w0_std_srch_id': 702,\n",
       " 'prop_starrating_w0_d_srch_id': 228,\n",
       " 'prop_review_score_std_srch_destination_id': 490,\n",
       " 'prop_review_score_d_srch_destination_id': 557,\n",
       " 'prop_review_score_std_srch_id': 533,\n",
       " 'prop_review_score_d_srch_id': 284,\n",
       " 'prop_location_score1_std_srch_destination_id': 410,\n",
       " 'prop_location_score1_d_srch_destination_id': 618,\n",
       " 'prop_location_score1_std_srch_destination_id__prop_starrating': 596,\n",
       " 'prop_location_score1_med_srch_destination_id__prop_starrating': 464,\n",
       " 'prop_location_score1_d_srch_destination_id__prop_starrating': 659,\n",
       " 'prop_location_score1_std_srch_id': 540,\n",
       " 'prop_location_score1_d_srch_id': 691,\n",
       " 'prop_location_score2_d_srch_destination_id': 714,\n",
       " 'prop_location_score2_d_srch_destination_id__prop_starrating': 853,\n",
       " 'prop_location_score2_std_srch_id': 894,\n",
       " 'prop_location_score2_d_srch_id': 785,\n",
       " 'price_usd_d_srch_id__prop_starrating': 1165,\n",
       " 'price_hist_logdiff_d_srch_id': 1391,\n",
       " 'visitor_hist_adr_usd_logdiff_d_srch_id': 240,\n",
       " 'srch_query_affinity_score_d_srch_id': 399,\n",
       " 'comp_known_cnt': 187,\n",
       " 'comp_better_worse': 197,\n",
       " 'price_usd_rank': 613,\n",
       " 'tg_avg_position_srch_prop_id': 1301,\n",
       " 'tg_std_position_srch_prop_id': 1087,\n",
       " 'log_appearance_count_srch_prop_id': 835,\n",
       " 'avg_res_len_srch_prop_id': 760,\n",
       " 'tg_avg_position_prop_id': 1198,\n",
       " 'log_appearance_count_prop_id': 833,\n",
       " 'avg_res_len_prop_id': 891}"
      ]
     },
     "execution_count": 20,
     "metadata": {},
     "output_type": "execute_result"
    }
   ],
   "source": [
    "{f:i for (f, i) in zip(ranker.feature_name_, ranker.feature_importances_)}"
   ]
  },
  {
   "cell_type": "code",
   "execution_count": 21,
   "metadata": {},
   "outputs": [],
   "source": [
    "import pickle\n",
    "\n",
    "# Save the model to a pickle file\n",
    "with open('models/lgbm_ranker_best2_model.pkl', 'wb') as f:\n",
    "    pickle.dump(ranker, f)"
   ]
  },
  {
   "cell_type": "markdown",
   "metadata": {
    "ExecuteTime": {
     "end_time": "2023-05-26T11:12:26.293783708Z",
     "start_time": "2023-05-26T11:12:26.282005950Z"
    }
   },
   "source": [
    "# Training the point-wise model on the same dataset"
   ]
  },
  {
   "cell_type": "code",
   "execution_count": 14,
   "metadata": {},
   "outputs": [
    {
     "data": {
      "text/html": [
       "<style>#sk-container-id-1 {color: black;background-color: white;}#sk-container-id-1 pre{padding: 0;}#sk-container-id-1 div.sk-toggleable {background-color: white;}#sk-container-id-1 label.sk-toggleable__label {cursor: pointer;display: block;width: 100%;margin-bottom: 0;padding: 0.3em;box-sizing: border-box;text-align: center;}#sk-container-id-1 label.sk-toggleable__label-arrow:before {content: \"▸\";float: left;margin-right: 0.25em;color: #696969;}#sk-container-id-1 label.sk-toggleable__label-arrow:hover:before {color: black;}#sk-container-id-1 div.sk-estimator:hover label.sk-toggleable__label-arrow:before {color: black;}#sk-container-id-1 div.sk-toggleable__content {max-height: 0;max-width: 0;overflow: hidden;text-align: left;background-color: #f0f8ff;}#sk-container-id-1 div.sk-toggleable__content pre {margin: 0.2em;color: black;border-radius: 0.25em;background-color: #f0f8ff;}#sk-container-id-1 input.sk-toggleable__control:checked~div.sk-toggleable__content {max-height: 200px;max-width: 100%;overflow: auto;}#sk-container-id-1 input.sk-toggleable__control:checked~label.sk-toggleable__label-arrow:before {content: \"▾\";}#sk-container-id-1 div.sk-estimator input.sk-toggleable__control:checked~label.sk-toggleable__label {background-color: #d4ebff;}#sk-container-id-1 div.sk-label input.sk-toggleable__control:checked~label.sk-toggleable__label {background-color: #d4ebff;}#sk-container-id-1 input.sk-hidden--visually {border: 0;clip: rect(1px 1px 1px 1px);clip: rect(1px, 1px, 1px, 1px);height: 1px;margin: -1px;overflow: hidden;padding: 0;position: absolute;width: 1px;}#sk-container-id-1 div.sk-estimator {font-family: monospace;background-color: #f0f8ff;border: 1px dotted black;border-radius: 0.25em;box-sizing: border-box;margin-bottom: 0.5em;}#sk-container-id-1 div.sk-estimator:hover {background-color: #d4ebff;}#sk-container-id-1 div.sk-parallel-item::after {content: \"\";width: 100%;border-bottom: 1px solid gray;flex-grow: 1;}#sk-container-id-1 div.sk-label:hover label.sk-toggleable__label {background-color: #d4ebff;}#sk-container-id-1 div.sk-serial::before {content: \"\";position: absolute;border-left: 1px solid gray;box-sizing: border-box;top: 0;bottom: 0;left: 50%;z-index: 0;}#sk-container-id-1 div.sk-serial {display: flex;flex-direction: column;align-items: center;background-color: white;padding-right: 0.2em;padding-left: 0.2em;position: relative;}#sk-container-id-1 div.sk-item {position: relative;z-index: 1;}#sk-container-id-1 div.sk-parallel {display: flex;align-items: stretch;justify-content: center;background-color: white;position: relative;}#sk-container-id-1 div.sk-item::before, #sk-container-id-1 div.sk-parallel-item::before {content: \"\";position: absolute;border-left: 1px solid gray;box-sizing: border-box;top: 0;bottom: 0;left: 50%;z-index: -1;}#sk-container-id-1 div.sk-parallel-item {display: flex;flex-direction: column;z-index: 1;position: relative;background-color: white;}#sk-container-id-1 div.sk-parallel-item:first-child::after {align-self: flex-end;width: 50%;}#sk-container-id-1 div.sk-parallel-item:last-child::after {align-self: flex-start;width: 50%;}#sk-container-id-1 div.sk-parallel-item:only-child::after {width: 0;}#sk-container-id-1 div.sk-dashed-wrapped {border: 1px dashed gray;margin: 0 0.4em 0.5em 0.4em;box-sizing: border-box;padding-bottom: 0.4em;background-color: white;}#sk-container-id-1 div.sk-label label {font-family: monospace;font-weight: bold;display: inline-block;line-height: 1.2em;}#sk-container-id-1 div.sk-label-container {text-align: center;}#sk-container-id-1 div.sk-container {/* jupyter's `normalize.less` sets `[hidden] { display: none; }` but bootstrap.min.css set `[hidden] { display: none !important; }` so we also need the `!important` here to be able to override the default hidden behavior on the sphinx rendered scikit-learn.org. See: https://github.com/scikit-learn/scikit-learn/issues/21755 */display: inline-block !important;position: relative;}#sk-container-id-1 div.sk-text-repr-fallback {display: none;}</style><div id=\"sk-container-id-1\" class=\"sk-top-container\"><div class=\"sk-text-repr-fallback\"><pre>HistGradientBoostingClassifier(categorical_features=[0, 5, 15, 9],\n",
       "                               l2_regularization=0.001, max_depth=6,\n",
       "                               max_iter=12000, n_iter_no_change=250,\n",
       "                               random_state=123)</pre><b>In a Jupyter environment, please rerun this cell to show the HTML representation or trust the notebook. <br />On GitHub, the HTML representation is unable to render, please try loading this page with nbviewer.org.</b></div><div class=\"sk-container\" hidden><div class=\"sk-item\"><div class=\"sk-estimator sk-toggleable\"><input class=\"sk-toggleable__control sk-hidden--visually\" id=\"sk-estimator-id-1\" type=\"checkbox\" checked><label for=\"sk-estimator-id-1\" class=\"sk-toggleable__label sk-toggleable__label-arrow\">HistGradientBoostingClassifier</label><div class=\"sk-toggleable__content\"><pre>HistGradientBoostingClassifier(categorical_features=[0, 5, 15, 9],\n",
       "                               l2_regularization=0.001, max_depth=6,\n",
       "                               max_iter=12000, n_iter_no_change=250,\n",
       "                               random_state=123)</pre></div></div></div></div></div>"
      ],
      "text/plain": [
       "HistGradientBoostingClassifier(categorical_features=[0, 5, 15, 9],\n",
       "                               l2_regularization=0.001, max_depth=6,\n",
       "                               max_iter=12000, n_iter_no_change=250,\n",
       "                               random_state=123)"
      ]
     },
     "execution_count": 14,
     "metadata": {},
     "output_type": "execute_result"
    }
   ],
   "source": [
    "from sklearn.ensemble import HistGradientBoostingClassifier\n",
    "\n",
    "# Train the classifier with the best hyperparameters\n",
    "clf = HistGradientBoostingClassifier(random_state=123,\n",
    "                                     min_samples_leaf=20,\n",
    "                                     max_iter=12000,\n",
    "                                     max_leaf_nodes = 31,\n",
    "                                     max_bins=255,\n",
    "                                     l2_regularization=1e-3,\n",
    "                                     n_iter_no_change=250,\n",
    "                                     max_depth=6,\n",
    "                                     categorical_features=get_categorical_column(df_train[predictor_cols]),\n",
    "                                     validation_fraction=0.1,\n",
    "                                    )\n",
    "\n",
    "# # downsample the training data for experimentation\n",
    "# rng = np.random.default_rng(RANDOM_SEED)\n",
    "# downsample_idx = np.arange(len(df))\n",
    "# rng.shuffle(downsample_idx)\n",
    "# downsample_idx = downsample_idx[:len(df)//10]\n",
    "# len(downsample_idx), len(df)\n",
    "#x = df_data.iloc[downsample_idx]\n",
    "#Y = df_tg.iloc[downsample_idx]\n",
    "\n",
    "clf.fit(df_train[predictor_cols], df_tg_train)"
   ]
  },
  {
   "cell_type": "code",
   "execution_count": 15,
   "metadata": {},
   "outputs": [],
   "source": [
    "def get_avg_ndgc(df, df_data):\n",
    "    pred = df[['srch_id', 'prop_id', 'relevance_score', 'target_cls']]\n",
    "    #pred = pred.assign(score = clf.predict_proba(df_data)[:, 1:].sum(axis=1))\n",
    "    pred = pred.assign(score = clf.predict_proba(df_data).dot(np.array([0, 1, 4])))\n",
    "    tmp = pred.sort_values(by='score', ascending=False).sort_values(by='srch_id', kind='stable')[['srch_id','target_cls','score', 'relevance_score']]\n",
    "    ndcg = tmp.groupby('srch_id')['relevance_score'].apply(lambda x: ndcg_dmt(x, use_2pow=False))\n",
    "    #ndcg = tmp.groupby('srch_id')['relevance_score'].apply(ndcg_sklearn)\n",
    "    return ndcg.mean()\n",
    "\n",
    "def get_prediction(df, df_data):\n",
    "    pred = df[['srch_id', 'prop_id']]\n",
    "    pred = pred.assign(score = clf.predict_proba(df_data)[:, 1:2].sum(axis=1))\n",
    "    pred = pred.sort_values(by='score', ascending=False).sort_values(by='srch_id', kind='stable')[['srch_id','prop_id','score']]\n",
    "    return pred"
   ]
  },
  {
   "cell_type": "code",
   "execution_count": 16,
   "metadata": {},
   "outputs": [
    {
     "data": {
      "text/plain": [
       "0.4031710763995877"
      ]
     },
     "execution_count": 16,
     "metadata": {},
     "output_type": "execute_result"
    }
   ],
   "source": [
    "get_avg_ndgc(df_test, df_test[predictor_cols])"
   ]
  },
  {
   "cell_type": "code",
   "execution_count": 17,
   "metadata": {},
   "outputs": [
    {
     "data": {
      "text/plain": [
       "0.4074453962462336"
      ]
     },
     "execution_count": 17,
     "metadata": {},
     "output_type": "execute_result"
    }
   ],
   "source": [
    "get_avg_ndgc(df_val, df_val[predictor_cols])"
   ]
  },
  {
   "cell_type": "code",
   "execution_count": 38,
   "metadata": {},
   "outputs": [],
   "source": [
    "import pickle\n",
    "\n",
    "# Assume clf is your trained HistGradientBoostingClassifier\n",
    "with open('models/hist_gradient_boosting_best.pkl', 'wb') as f:\n",
    "    pickle.dump(clf, f)"
   ]
  },
  {
   "cell_type": "code",
   "execution_count": null,
   "metadata": {},
   "outputs": [],
   "source": [
    "get_avg_ndgc(df_train, df_train[predictor_cols])"
   ]
  }
 ],
 "metadata": {
  "kernelspec": {
   "display_name": "Python 3 (ipykernel)",
   "language": "python",
   "name": "python3"
  },
  "language_info": {
   "codemirror_mode": {
    "name": "ipython",
    "version": 3
   },
   "file_extension": ".py",
   "mimetype": "text/x-python",
   "name": "python",
   "nbconvert_exporter": "python",
   "pygments_lexer": "ipython3",
   "version": "3.11.3"
  }
 },
 "nbformat": 4,
 "nbformat_minor": 4
}
