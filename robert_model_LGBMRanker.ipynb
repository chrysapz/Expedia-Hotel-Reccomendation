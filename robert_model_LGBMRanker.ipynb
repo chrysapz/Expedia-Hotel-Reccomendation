{
 "cells": [
  {
   "cell_type": "code",
   "execution_count": 1,
   "metadata": {
    "collapsed": true,
    "ExecuteTime": {
     "end_time": "2023-05-10T07:58:55.144488357Z",
     "start_time": "2023-05-10T07:58:55.136354016Z"
    }
   },
   "outputs": [],
   "source": [
    "import pandas as pd\n",
    "import numpy as np\n",
    "import seaborn as sns\n",
    "from sklearn.metrics import ndcg_score"
   ]
  },
  {
   "cell_type": "code",
   "execution_count": 2,
   "outputs": [],
   "source": [
    "def _dsg_numerator(rel, use_2pow):\n",
    "    if use_2pow:\n",
    "        return 2**rel-1\n",
    "    else:\n",
    "        return rel\n",
    "\n",
    "\n",
    "def calc_ndcg(rel_true, rel_est, n=5, use_2pow=True):\n",
    "    assert len(rel_est) == len(rel_true)\n",
    "    rel_true = np.asarray(rel_true)\n",
    "    rel_est = np.asarray(rel_est)\n",
    "\n",
    "    discount = 1 / np.log(np.arange(2, len(rel_true) + 2))\n",
    "    discount[n:] = 0\n",
    "\n",
    "    dsg_N = discount.dot(_dsg_numerator(rel_est, use_2pow))\n",
    "    idsg_N = discount.dot(_dsg_numerator(rel_true, use_2pow))\n",
    "\n",
    "    return dsg_N/idsg_N\n",
    "\n",
    "\n",
    "def ndcg_dmt(predicted_scores, n=5, use_2pow=True):\n",
    "    ranked_scores = np.sort(predicted_scores)[::-1] # sorted descending, highest score first\n",
    "    return calc_ndcg(ranked_scores, predicted_scores, n=n, use_2pow=use_2pow)\n",
    "\n",
    "\n",
    "def ndcg_sklearn(predicted_scores, n=5):\n",
    "    ranked_scores = np.sort(predicted_scores)[::-1] # sorted descending, highest score first\n",
    "    return ndcg_score(np.asarray([ranked_scores]), np.asarray([predicted_scores]), k=n)"
   ],
   "metadata": {
    "collapsed": false,
    "ExecuteTime": {
     "end_time": "2023-05-10T07:58:55.159405017Z",
     "start_time": "2023-05-10T07:58:55.146486516Z"
    }
   }
  },
  {
   "cell_type": "code",
   "execution_count": 3,
   "outputs": [],
   "source": [
    "def print_missing(df, col):\n",
    "    miss_cnt = df[col].isna().sum()\n",
    "    if miss_cnt == 0:\n",
    "        return\n",
    "    total_cnt = len(df[col])\n",
    "    perc_miss = 100 * miss_cnt / total_cnt\n",
    "    print(f'{col} missing count {miss_cnt} out of {total_cnt} => {round(perc_miss)}% missing')"
   ],
   "metadata": {
    "collapsed": false,
    "ExecuteTime": {
     "end_time": "2023-05-10T07:58:55.159847431Z",
     "start_time": "2023-05-10T07:58:55.148183626Z"
    }
   }
  },
  {
   "cell_type": "code",
   "execution_count": 4,
   "outputs": [
    {
     "data": {
      "text/plain": "   srch_id  prop_id  site_id  visitor_location_country_id   \n0      427        1        5                          219  \\\n1     5762        1        5                          219   \n2     8178        1        5                          219   \n3     8465        1        5                          219   \n4    10771        1        5                          219   \n\n   visitor_hist_starrating  visitor_hist_adr_usd  prop_country_id   \n0                      NaN                   NaN              219  \\\n1                      3.5                147.02              219   \n2                      NaN                   NaN              219   \n3                      NaN                   NaN              219   \n4                      NaN                   NaN              219   \n\n   prop_starrating  prop_review_score  prop_brand_bool  ...   \n0                2                NaN                1  ...  \\\n1                2                NaN                1  ...   \n2                2                NaN                1  ...   \n3                2                NaN                1  ...   \n4                2                NaN                1  ...   \n\n   prop_location_score1_d_srch_id  prop_location_score2_d_srch_destination_id   \n0                            0.56                                         NaN  \\\n1                            0.48                                         NaN   \n2                            0.21                                         NaN   \n3                            0.64                                         NaN   \n4                            0.64                                         NaN   \n\n   prop_location_score2_d_srch_destination_id__prop_starrating   \n0                                                NaN            \\\n1                                                NaN             \n2                                                NaN             \n3                                                NaN             \n4                                                NaN             \n\n   prop_location_score2_d_srch_id  price_usd_ld_srch_id__prop_starrating   \n0                             NaN                               0.125626  \\\n1                             NaN                               0.129212   \n2                             NaN                               0.198177   \n3                             NaN                               0.044171   \n4                             NaN                               0.450021   \n\n   booking_prob_per_prop_id_d_srch_id  click_prob_per_prop_id_d_srch_id   \n0                           -0.015505                         -0.011613  \\\n1                           -0.017857                         -0.014857   \n2                           -0.015625                         -0.010634   \n3                           -0.015625                         -0.010634   \n4                           -0.016393                         -0.014857   \n\n   price_hist_logdiff_d_srch_id  visitor_hist_adr_usd_logdiff_d_srch_id   \n0                      0.218860                                     NaN  \\\n1                           NaN                                -0.11441   \n2                      0.283944                                     NaN   \n3                      0.269329                                     NaN   \n4                      0.247003                                     NaN   \n\n   srch_query_affinity_score_d_srch_id  \n0                                  NaN  \n1                                  NaN  \n2                                  NaN  \n3                                  NaN  \n4                                  NaN  \n\n[5 rows x 57 columns]",
      "text/html": "<div>\n<style scoped>\n    .dataframe tbody tr th:only-of-type {\n        vertical-align: middle;\n    }\n\n    .dataframe tbody tr th {\n        vertical-align: top;\n    }\n\n    .dataframe thead th {\n        text-align: right;\n    }\n</style>\n<table border=\"1\" class=\"dataframe\">\n  <thead>\n    <tr style=\"text-align: right;\">\n      <th></th>\n      <th>srch_id</th>\n      <th>prop_id</th>\n      <th>site_id</th>\n      <th>visitor_location_country_id</th>\n      <th>visitor_hist_starrating</th>\n      <th>visitor_hist_adr_usd</th>\n      <th>prop_country_id</th>\n      <th>prop_starrating</th>\n      <th>prop_review_score</th>\n      <th>prop_brand_bool</th>\n      <th>...</th>\n      <th>prop_location_score1_d_srch_id</th>\n      <th>prop_location_score2_d_srch_destination_id</th>\n      <th>prop_location_score2_d_srch_destination_id__prop_starrating</th>\n      <th>prop_location_score2_d_srch_id</th>\n      <th>price_usd_ld_srch_id__prop_starrating</th>\n      <th>booking_prob_per_prop_id_d_srch_id</th>\n      <th>click_prob_per_prop_id_d_srch_id</th>\n      <th>price_hist_logdiff_d_srch_id</th>\n      <th>visitor_hist_adr_usd_logdiff_d_srch_id</th>\n      <th>srch_query_affinity_score_d_srch_id</th>\n    </tr>\n  </thead>\n  <tbody>\n    <tr>\n      <th>0</th>\n      <td>427</td>\n      <td>1</td>\n      <td>5</td>\n      <td>219</td>\n      <td>NaN</td>\n      <td>NaN</td>\n      <td>219</td>\n      <td>2</td>\n      <td>NaN</td>\n      <td>1</td>\n      <td>...</td>\n      <td>0.56</td>\n      <td>NaN</td>\n      <td>NaN</td>\n      <td>NaN</td>\n      <td>0.125626</td>\n      <td>-0.015505</td>\n      <td>-0.011613</td>\n      <td>0.218860</td>\n      <td>NaN</td>\n      <td>NaN</td>\n    </tr>\n    <tr>\n      <th>1</th>\n      <td>5762</td>\n      <td>1</td>\n      <td>5</td>\n      <td>219</td>\n      <td>3.5</td>\n      <td>147.02</td>\n      <td>219</td>\n      <td>2</td>\n      <td>NaN</td>\n      <td>1</td>\n      <td>...</td>\n      <td>0.48</td>\n      <td>NaN</td>\n      <td>NaN</td>\n      <td>NaN</td>\n      <td>0.129212</td>\n      <td>-0.017857</td>\n      <td>-0.014857</td>\n      <td>NaN</td>\n      <td>-0.11441</td>\n      <td>NaN</td>\n    </tr>\n    <tr>\n      <th>2</th>\n      <td>8178</td>\n      <td>1</td>\n      <td>5</td>\n      <td>219</td>\n      <td>NaN</td>\n      <td>NaN</td>\n      <td>219</td>\n      <td>2</td>\n      <td>NaN</td>\n      <td>1</td>\n      <td>...</td>\n      <td>0.21</td>\n      <td>NaN</td>\n      <td>NaN</td>\n      <td>NaN</td>\n      <td>0.198177</td>\n      <td>-0.015625</td>\n      <td>-0.010634</td>\n      <td>0.283944</td>\n      <td>NaN</td>\n      <td>NaN</td>\n    </tr>\n    <tr>\n      <th>3</th>\n      <td>8465</td>\n      <td>1</td>\n      <td>5</td>\n      <td>219</td>\n      <td>NaN</td>\n      <td>NaN</td>\n      <td>219</td>\n      <td>2</td>\n      <td>NaN</td>\n      <td>1</td>\n      <td>...</td>\n      <td>0.64</td>\n      <td>NaN</td>\n      <td>NaN</td>\n      <td>NaN</td>\n      <td>0.044171</td>\n      <td>-0.015625</td>\n      <td>-0.010634</td>\n      <td>0.269329</td>\n      <td>NaN</td>\n      <td>NaN</td>\n    </tr>\n    <tr>\n      <th>4</th>\n      <td>10771</td>\n      <td>1</td>\n      <td>5</td>\n      <td>219</td>\n      <td>NaN</td>\n      <td>NaN</td>\n      <td>219</td>\n      <td>2</td>\n      <td>NaN</td>\n      <td>1</td>\n      <td>...</td>\n      <td>0.64</td>\n      <td>NaN</td>\n      <td>NaN</td>\n      <td>NaN</td>\n      <td>0.450021</td>\n      <td>-0.016393</td>\n      <td>-0.014857</td>\n      <td>0.247003</td>\n      <td>NaN</td>\n      <td>NaN</td>\n    </tr>\n  </tbody>\n</table>\n<p>5 rows × 57 columns</p>\n</div>"
     },
     "execution_count": 4,
     "metadata": {},
     "output_type": "execute_result"
    }
   ],
   "source": [
    "df = pd.read_csv(\"data/joined_all_features.csv.zip\", index_col=0)\n",
    "df.head()"
   ],
   "metadata": {
    "collapsed": false,
    "ExecuteTime": {
     "end_time": "2023-05-10T07:59:23.253921213Z",
     "start_time": "2023-05-10T07:58:55.159679927Z"
    }
   }
  },
  {
   "cell_type": "code",
   "execution_count": 5,
   "outputs": [],
   "source": [
    "df_devel = df.loc[df.is_test==False, [c for c in df.columns if c != 'is_test']]\n",
    "df_test = df.loc[df.is_test==True, [c for c in df.columns if c != 'is_test']]\n",
    "df_test.srch_id -= df_devel.srch_id.max()\n",
    "# del df\n",
    "# import gc\n",
    "# gc.collect()"
   ],
   "metadata": {
    "collapsed": false,
    "ExecuteTime": {
     "end_time": "2023-05-10T07:59:24.563189155Z",
     "start_time": "2023-05-10T07:59:23.253281115Z"
    }
   }
  },
  {
   "cell_type": "code",
   "execution_count": 6,
   "outputs": [
    {
     "name": "stdout",
     "output_type": "stream",
     "text": [
      "visitor_hist_starrating missing count 4706481 out of 4958347 => 95% missing\n",
      "visitor_hist_adr_usd missing count 4705398 out of 4958347 => 95% missing\n",
      "prop_review_score missing count 240658 out of 4958347 => 5% missing\n",
      "prop_location_score2 missing count 1090348 out of 4958347 => 22% missing\n",
      "prop_log_historical_price missing count 713899 out of 4958347 => 14% missing\n",
      "price_usd missing count 31 out of 4958347 => 0% missing\n",
      "srch_query_affinity_score missing count 4640941 out of 4958347 => 94% missing\n",
      "prop_starrating_w0 missing count 169572 out of 4958347 => 3% missing\n",
      "comp_better_worse missing count 1716808 out of 4958347 => 35% missing\n",
      "hist_starrating_diff missing count 4706481 out of 4958347 => 95% missing\n",
      "price_hist_logdiff missing count 713927 out of 4958347 => 14% missing\n",
      "visitor_hist_adr_usd_logdiff missing count 4705398 out of 4958347 => 95% missing\n",
      "price_usd_ld_srch_id missing count 31 out of 4958347 => 0% missing\n",
      "prop_starrating_w0_d_srch_destination_id missing count 169572 out of 4958347 => 3% missing\n",
      "prop_starrating_w0_d_srch_id missing count 169572 out of 4958347 => 3% missing\n",
      "prop_review_score_d_srch_destination_id missing count 240658 out of 4958347 => 5% missing\n",
      "prop_review_score_d_srch_destination_id__prop_starrating missing count 240658 out of 4958347 => 5% missing\n",
      "prop_review_score_d_srch_id missing count 240658 out of 4958347 => 5% missing\n",
      "prop_location_score2_d_srch_destination_id missing count 1090348 out of 4958347 => 22% missing\n",
      "prop_location_score2_d_srch_destination_id__prop_starrating missing count 1090348 out of 4958347 => 22% missing\n",
      "prop_location_score2_d_srch_id missing count 1090348 out of 4958347 => 22% missing\n",
      "price_usd_ld_srch_id__prop_starrating missing count 31 out of 4958347 => 0% missing\n",
      "price_hist_logdiff_d_srch_id missing count 713927 out of 4958347 => 14% missing\n",
      "visitor_hist_adr_usd_logdiff_d_srch_id missing count 4705398 out of 4958347 => 95% missing\n",
      "srch_query_affinity_score_d_srch_id missing count 4640941 out of 4958347 => 94% missing\n"
     ]
    }
   ],
   "source": [
    "for col in df_devel.columns:\n",
    "    print_missing(df_devel, col)"
   ],
   "metadata": {
    "collapsed": false,
    "ExecuteTime": {
     "end_time": "2023-05-10T07:59:24.714690229Z",
     "start_time": "2023-05-10T07:59:24.563772794Z"
    }
   }
  },
  {
   "cell_type": "code",
   "execution_count": 7,
   "outputs": [],
   "source": [
    "# split srch_id into train and val\n",
    "all_srch_ids = df_devel.srch_id.unique()\n",
    "\n",
    "# randomly shuffle all_srch_ids using random seed 42\n",
    "RANDOM_SEED = 123\n",
    "rng = np.random.default_rng(RANDOM_SEED)\n",
    "all_srch_ids.sort()\n",
    "rng.shuffle(all_srch_ids)\n",
    "\n",
    "VALIDATION_PROP = 0.1\n",
    "val_start_idx = int(len(all_srch_ids)*(1-VALIDATION_PROP))\n",
    "train_ids = all_srch_ids[:val_start_idx]\n",
    "val_ids = all_srch_ids[val_start_idx:]"
   ],
   "metadata": {
    "collapsed": false,
    "ExecuteTime": {
     "end_time": "2023-05-10T07:59:24.715058986Z",
     "start_time": "2023-05-10T07:59:24.706861177Z"
    }
   }
  },
  {
   "cell_type": "code",
   "execution_count": 81,
   "outputs": [
    {
     "name": "stderr",
     "output_type": "stream",
     "text": [
      "/tmp/ipykernel_1101228/2763534728.py:58: SettingWithCopyWarning: \n",
      "A value is trying to be set on a copy of a slice from a DataFrame\n",
      "\n",
      "See the caveats in the documentation: https://pandas.pydata.org/pandas-docs/stable/user_guide/indexing.html#returning-a-view-versus-a-copy\n",
      "  df_data_test.drop(columns=['srch_id'], inplace=True)\n"
     ]
    }
   ],
   "source": [
    "df_devel['target_cls'] = df_devel.booking_bool + df_devel.click_bool\n",
    "df_devel['relevance_score'] = df_devel.booking_bool * 4 + df_devel.click_bool\n",
    "\n",
    "columns_to_remove = [\n",
    "    'visitor_location_country_id', # todo: visitor_location_country_id: combine with prop_country_id and keep the N most clicked/booked combinations,\n",
    "    'visitor_hist_starrating', # normalized\n",
    "    'visitor_hist_adr_usd', # normalized\n",
    "    'prop_country_id', # todo:\n",
    "    #'prop_starrating', # normalized\n",
    "    #'prop_review_score', # normalized\n",
    "    #'prop_location_score1', # normalized\n",
    "    #'prop_location_score2', # normalized\n",
    "    'prop_log_historical_price', # normalized\n",
    "    'position', # todo: maybe mean/stdev_position_per_prop\n",
    "    'price_usd', # normalized\n",
    "    'srch_destination_id',\n",
    "    #'srch_query_affinity_score', # normalized\n",
    "    'prop_starrating_w0', # normalized\n",
    "\n",
    "    'prop_location_score1_d_srch_id',\n",
    "    'prop_location_score1_d_srch_destination_id__prop_starrating',\n",
    "    'prop_location_score2_d_srch_id',\n",
    "    'prop_location_score2_d_srch_destination_id__prop_starrating',\n",
    "    'booking_end_offset',\n",
    "\n",
    "    #'booking_prob_per_prop_id_d_srch_id',\n",
    "    #'click_prob_per_prop_id_d_srch_id',\n",
    "    #'booking_prob_per_prop_id',\n",
    "    #'click_prob_per_prop_id',\n",
    "]\n",
    "predictor_cols = [c for c in df_devel.columns if ((c not in ('position', 'booking_bool', 'click_bool', 'target_cls', 'relevance_score', 'prop_id', 'is_test')) and (c not in columns_to_remove))]\n",
    "\n",
    "def get_groups(df):\n",
    "    grp = df.groupby('srch_id').srch_id.count()\n",
    "    return grp.values\n",
    "\n",
    "df_devel = df_devel.set_index('srch_id').sort_index().reset_index()\n",
    "\n",
    "df_data_train = df_devel.loc[df_devel.srch_id.isin(train_ids), predictor_cols]\n",
    "groups_train = get_groups(df_data_train)\n",
    "# #df_data_train = df_data_train.dropna() # let's see what happens if we drop all NAs\n",
    "df_train = df_devel.loc[df_data_train.index]\n",
    "df_tg_train = df_devel['target_cls'][df_data_train.index]\n",
    "df_tg_train = df_tg_train.astype(int)\n",
    "df_data_train.drop(columns=['srch_id'], inplace=True)\n",
    "\n",
    "df_data_val = df_devel.loc[df_devel.srch_id.isin(val_ids), predictor_cols]\n",
    "groups_val = get_groups(df_data_val)\n",
    "#df_data_val = df_data_val.dropna() # let's see what happens if we drop all NAs\n",
    "df_val = df_devel.loc[df_data_val.index]\n",
    "df_tg_val = df_devel['target_cls'][df_data_val.index]\n",
    "df_tg_val = df_tg_val.astype(int)\n",
    "df_data_val.drop(columns=['srch_id'], inplace=True)\n",
    "\n",
    "df_test = df_test.set_index('srch_id').sort_index().reset_index()\n",
    "df_data_test = df_test[predictor_cols]\n",
    "groups_test = get_groups(df_data_test)\n",
    "df_data_test.drop(columns=['srch_id'], inplace=True)\n",
    "#df_data_test = df_data_test.dropna()"
   ],
   "metadata": {
    "collapsed": false,
    "ExecuteTime": {
     "end_time": "2023-05-10T08:55:39.765048717Z",
     "start_time": "2023-05-10T08:55:35.496010269Z"
    }
   }
  },
  {
   "cell_type": "code",
   "execution_count": 82,
   "outputs": [
    {
     "name": "stdout",
     "output_type": "stream",
     "text": [
      "prop_review_score missing count 216622 out of 4461904 => 5% missing\n",
      "prop_location_score2 missing count 981192 out of 4461904 => 22% missing\n",
      "srch_query_affinity_score missing count 4175744 out of 4461904 => 94% missing\n",
      "comp_better_worse missing count 1546315 out of 4461904 => 35% missing\n",
      "hist_starrating_diff missing count 4234609 out of 4461904 => 95% missing\n",
      "price_hist_logdiff missing count 641509 out of 4461904 => 14% missing\n",
      "visitor_hist_adr_usd_logdiff missing count 4233562 out of 4461904 => 95% missing\n",
      "price_usd_ld_srch_id missing count 30 out of 4461904 => 0% missing\n",
      "prop_starrating_w0_d_srch_destination_id missing count 152763 out of 4461904 => 3% missing\n",
      "prop_starrating_w0_d_srch_id missing count 152763 out of 4461904 => 3% missing\n",
      "prop_review_score_d_srch_destination_id missing count 216622 out of 4461904 => 5% missing\n",
      "prop_review_score_d_srch_destination_id__prop_starrating missing count 216622 out of 4461904 => 5% missing\n",
      "prop_review_score_d_srch_id missing count 216622 out of 4461904 => 5% missing\n",
      "prop_location_score2_d_srch_destination_id missing count 981192 out of 4461904 => 22% missing\n",
      "price_usd_ld_srch_id__prop_starrating missing count 30 out of 4461904 => 0% missing\n",
      "price_hist_logdiff_d_srch_id missing count 641509 out of 4461904 => 14% missing\n",
      "visitor_hist_adr_usd_logdiff_d_srch_id missing count 4233562 out of 4461904 => 95% missing\n",
      "srch_query_affinity_score_d_srch_id missing count 4175744 out of 4461904 => 94% missing\n"
     ]
    }
   ],
   "source": [
    "for col in df_data_train.columns:\n",
    "    print_missing(df_data_train, col)"
   ],
   "metadata": {
    "collapsed": false,
    "ExecuteTime": {
     "end_time": "2023-05-10T08:55:39.827466002Z",
     "start_time": "2023-05-10T08:55:39.760110591Z"
    }
   }
  },
  {
   "cell_type": "code",
   "execution_count": 83,
   "outputs": [
    {
     "data": {
      "text/plain": "         site_id  prop_starrating  prop_review_score  prop_brand_bool   \n0             12                3                NaN                1  \\\n1             12                2                NaN                0   \n2             12                4                4.5                1   \n3             12                2                3.5                1   \n4             12                4                3.5                1   \n...          ...              ...                ...              ...   \n4958342        5                3                4.0                1   \n4958343        5                3                2.5                1   \n4958344        5                3                3.5                1   \n4958345        5                3                1.0                1   \n4958346        5                3                5.0                1   \n\n         prop_location_score1  prop_location_score2  promotion_flag   \n0                        2.20                   NaN               0  \\\n1                        1.61                   NaN               0   \n2                        2.77                0.1302               0   \n3                        1.61                0.0052               0   \n4                        2.77                0.1266               0   \n...                       ...                   ...             ...   \n4958342                  1.61                0.0471               0   \n4958343                  1.10                   NaN               0   \n4958344                  1.10                0.0164               0   \n4958345                  2.20                   NaN               0   \n4958346                  1.95                0.0662               0   \n\n         srch_length_of_stay  srch_booking_window  srch_adults_count  ...   \n0                          1                    0                  4  ...  \\\n1                          1                    0                  4  ...   \n2                          1                    0                  4  ...   \n3                          1                    0                  4  ...   \n4                          1                    0                  4  ...   \n...                      ...                  ...                ...  ...   \n4958342                    1                   21                  3  ...   \n4958343                    1                   21                  3  ...   \n4958344                    1                   21                  3  ...   \n4958345                    1                   21                  3  ...   \n4958346                    1                   21                  3  ...   \n\n         prop_review_score_d_srch_destination_id__prop_starrating   \n0                                                      NaN         \\\n1                                                      NaN          \n2                                                     1.25          \n3                                                    -0.25          \n4                                                    -0.75          \n...                                                    ...          \n4958342                                               0.25          \n4958343                                              -2.75          \n4958344                                              -0.75          \n4958345                                              -5.75          \n4958346                                               2.25          \n\n         prop_review_score_d_srch_id   \n0                                NaN  \\\n1                                NaN   \n2                               0.75   \n3                              -0.25   \n4                              -0.25   \n...                              ...   \n4958342                         0.25   \n4958343                        -1.25   \n4958344                        -0.25   \n4958345                        -2.75   \n4958346                         1.25   \n\n         prop_location_score1_d_srch_destination_id   \n0                                             -0.20  \\\n1                                             -1.38   \n2                                              0.94   \n3                                             -1.38   \n4                                              0.94   \n...                                             ...   \n4958342                                       -0.35   \n4958343                                       -1.37   \n4958344                                       -1.37   \n4958345                                        0.83   \n4958346                                        0.33   \n\n         prop_location_score2_d_srch_destination_id   \n0                                               NaN  \\\n1                                               NaN   \n2                                           0.21395   \n3                                          -0.03605   \n4                                           0.20675   \n...                                             ...   \n4958342                                     0.00995   \n4958343                                         NaN   \n4958344                                    -0.05145   \n4958345                                         NaN   \n4958346                                     0.04815   \n\n         price_usd_ld_srch_id__prop_starrating   \n0                                     0.317613  \\\n1                                    -0.204773   \n2                                     0.246623   \n3                                     0.000000   \n4                                    -0.282042   \n...                                        ...   \n4958342                               0.126294   \n4958343                              -0.533517   \n4958344                              -0.049271   \n4958345                               0.046957   \n4958346                               0.290083   \n\n         booking_prob_per_prop_id_d_srch_id  click_prob_per_prop_id_d_srch_id   \n0                                 -0.002904                          0.000321  \\\n1                                  0.001445                         -0.007234   \n2                                  0.003988                          0.018636   \n3                                 -0.012760                         -0.013064   \n4                                  0.045751                          0.063314   \n...                                     ...                               ...   \n4958342                           -0.019264                         -0.022139   \n4958343                            0.021516                          0.080698   \n4958344                           -0.061817                         -0.062713   \n4958345                           -0.026103                         -0.050255   \n4958346                            0.019264                          0.022139   \n\n         price_hist_logdiff_d_srch_id  visitor_hist_adr_usd_logdiff_d_srch_id   \n0                            0.079837                                     NaN  \\\n1                            0.219071                                     NaN   \n2                           -0.013285                                     NaN   \n3                           -0.106156                                     NaN   \n4                           -0.321949                                     NaN   \n...                               ...                                     ...   \n4958342                           NaN                                     NaN   \n4958343                           NaN                                     NaN   \n4958344                           NaN                                     NaN   \n4958345                           NaN                                     NaN   \n4958346                           NaN                                     NaN   \n\n         srch_query_affinity_score_d_srch_id  \n0                                        NaN  \n1                                        NaN  \n2                                        NaN  \n3                                        NaN  \n4                                        NaN  \n...                                      ...  \n4958342                                  NaN  \n4958343                                  NaN  \n4958344                                  NaN  \n4958345                                  NaN  \n4958346                                  NaN  \n\n[4461904 rows x 38 columns]",
      "text/html": "<div>\n<style scoped>\n    .dataframe tbody tr th:only-of-type {\n        vertical-align: middle;\n    }\n\n    .dataframe tbody tr th {\n        vertical-align: top;\n    }\n\n    .dataframe thead th {\n        text-align: right;\n    }\n</style>\n<table border=\"1\" class=\"dataframe\">\n  <thead>\n    <tr style=\"text-align: right;\">\n      <th></th>\n      <th>site_id</th>\n      <th>prop_starrating</th>\n      <th>prop_review_score</th>\n      <th>prop_brand_bool</th>\n      <th>prop_location_score1</th>\n      <th>prop_location_score2</th>\n      <th>promotion_flag</th>\n      <th>srch_length_of_stay</th>\n      <th>srch_booking_window</th>\n      <th>srch_adults_count</th>\n      <th>...</th>\n      <th>prop_review_score_d_srch_destination_id__prop_starrating</th>\n      <th>prop_review_score_d_srch_id</th>\n      <th>prop_location_score1_d_srch_destination_id</th>\n      <th>prop_location_score2_d_srch_destination_id</th>\n      <th>price_usd_ld_srch_id__prop_starrating</th>\n      <th>booking_prob_per_prop_id_d_srch_id</th>\n      <th>click_prob_per_prop_id_d_srch_id</th>\n      <th>price_hist_logdiff_d_srch_id</th>\n      <th>visitor_hist_adr_usd_logdiff_d_srch_id</th>\n      <th>srch_query_affinity_score_d_srch_id</th>\n    </tr>\n  </thead>\n  <tbody>\n    <tr>\n      <th>0</th>\n      <td>12</td>\n      <td>3</td>\n      <td>NaN</td>\n      <td>1</td>\n      <td>2.20</td>\n      <td>NaN</td>\n      <td>0</td>\n      <td>1</td>\n      <td>0</td>\n      <td>4</td>\n      <td>...</td>\n      <td>NaN</td>\n      <td>NaN</td>\n      <td>-0.20</td>\n      <td>NaN</td>\n      <td>0.317613</td>\n      <td>-0.002904</td>\n      <td>0.000321</td>\n      <td>0.079837</td>\n      <td>NaN</td>\n      <td>NaN</td>\n    </tr>\n    <tr>\n      <th>1</th>\n      <td>12</td>\n      <td>2</td>\n      <td>NaN</td>\n      <td>0</td>\n      <td>1.61</td>\n      <td>NaN</td>\n      <td>0</td>\n      <td>1</td>\n      <td>0</td>\n      <td>4</td>\n      <td>...</td>\n      <td>NaN</td>\n      <td>NaN</td>\n      <td>-1.38</td>\n      <td>NaN</td>\n      <td>-0.204773</td>\n      <td>0.001445</td>\n      <td>-0.007234</td>\n      <td>0.219071</td>\n      <td>NaN</td>\n      <td>NaN</td>\n    </tr>\n    <tr>\n      <th>2</th>\n      <td>12</td>\n      <td>4</td>\n      <td>4.5</td>\n      <td>1</td>\n      <td>2.77</td>\n      <td>0.1302</td>\n      <td>0</td>\n      <td>1</td>\n      <td>0</td>\n      <td>4</td>\n      <td>...</td>\n      <td>1.25</td>\n      <td>0.75</td>\n      <td>0.94</td>\n      <td>0.21395</td>\n      <td>0.246623</td>\n      <td>0.003988</td>\n      <td>0.018636</td>\n      <td>-0.013285</td>\n      <td>NaN</td>\n      <td>NaN</td>\n    </tr>\n    <tr>\n      <th>3</th>\n      <td>12</td>\n      <td>2</td>\n      <td>3.5</td>\n      <td>1</td>\n      <td>1.61</td>\n      <td>0.0052</td>\n      <td>0</td>\n      <td>1</td>\n      <td>0</td>\n      <td>4</td>\n      <td>...</td>\n      <td>-0.25</td>\n      <td>-0.25</td>\n      <td>-1.38</td>\n      <td>-0.03605</td>\n      <td>0.000000</td>\n      <td>-0.012760</td>\n      <td>-0.013064</td>\n      <td>-0.106156</td>\n      <td>NaN</td>\n      <td>NaN</td>\n    </tr>\n    <tr>\n      <th>4</th>\n      <td>12</td>\n      <td>4</td>\n      <td>3.5</td>\n      <td>1</td>\n      <td>2.77</td>\n      <td>0.1266</td>\n      <td>0</td>\n      <td>1</td>\n      <td>0</td>\n      <td>4</td>\n      <td>...</td>\n      <td>-0.75</td>\n      <td>-0.25</td>\n      <td>0.94</td>\n      <td>0.20675</td>\n      <td>-0.282042</td>\n      <td>0.045751</td>\n      <td>0.063314</td>\n      <td>-0.321949</td>\n      <td>NaN</td>\n      <td>NaN</td>\n    </tr>\n    <tr>\n      <th>...</th>\n      <td>...</td>\n      <td>...</td>\n      <td>...</td>\n      <td>...</td>\n      <td>...</td>\n      <td>...</td>\n      <td>...</td>\n      <td>...</td>\n      <td>...</td>\n      <td>...</td>\n      <td>...</td>\n      <td>...</td>\n      <td>...</td>\n      <td>...</td>\n      <td>...</td>\n      <td>...</td>\n      <td>...</td>\n      <td>...</td>\n      <td>...</td>\n      <td>...</td>\n      <td>...</td>\n    </tr>\n    <tr>\n      <th>4958342</th>\n      <td>5</td>\n      <td>3</td>\n      <td>4.0</td>\n      <td>1</td>\n      <td>1.61</td>\n      <td>0.0471</td>\n      <td>0</td>\n      <td>1</td>\n      <td>21</td>\n      <td>3</td>\n      <td>...</td>\n      <td>0.25</td>\n      <td>0.25</td>\n      <td>-0.35</td>\n      <td>0.00995</td>\n      <td>0.126294</td>\n      <td>-0.019264</td>\n      <td>-0.022139</td>\n      <td>NaN</td>\n      <td>NaN</td>\n      <td>NaN</td>\n    </tr>\n    <tr>\n      <th>4958343</th>\n      <td>5</td>\n      <td>3</td>\n      <td>2.5</td>\n      <td>1</td>\n      <td>1.10</td>\n      <td>NaN</td>\n      <td>0</td>\n      <td>1</td>\n      <td>21</td>\n      <td>3</td>\n      <td>...</td>\n      <td>-2.75</td>\n      <td>-1.25</td>\n      <td>-1.37</td>\n      <td>NaN</td>\n      <td>-0.533517</td>\n      <td>0.021516</td>\n      <td>0.080698</td>\n      <td>NaN</td>\n      <td>NaN</td>\n      <td>NaN</td>\n    </tr>\n    <tr>\n      <th>4958344</th>\n      <td>5</td>\n      <td>3</td>\n      <td>3.5</td>\n      <td>1</td>\n      <td>1.10</td>\n      <td>0.0164</td>\n      <td>0</td>\n      <td>1</td>\n      <td>21</td>\n      <td>3</td>\n      <td>...</td>\n      <td>-0.75</td>\n      <td>-0.25</td>\n      <td>-1.37</td>\n      <td>-0.05145</td>\n      <td>-0.049271</td>\n      <td>-0.061817</td>\n      <td>-0.062713</td>\n      <td>NaN</td>\n      <td>NaN</td>\n      <td>NaN</td>\n    </tr>\n    <tr>\n      <th>4958345</th>\n      <td>5</td>\n      <td>3</td>\n      <td>1.0</td>\n      <td>1</td>\n      <td>2.20</td>\n      <td>NaN</td>\n      <td>0</td>\n      <td>1</td>\n      <td>21</td>\n      <td>3</td>\n      <td>...</td>\n      <td>-5.75</td>\n      <td>-2.75</td>\n      <td>0.83</td>\n      <td>NaN</td>\n      <td>0.046957</td>\n      <td>-0.026103</td>\n      <td>-0.050255</td>\n      <td>NaN</td>\n      <td>NaN</td>\n      <td>NaN</td>\n    </tr>\n    <tr>\n      <th>4958346</th>\n      <td>5</td>\n      <td>3</td>\n      <td>5.0</td>\n      <td>1</td>\n      <td>1.95</td>\n      <td>0.0662</td>\n      <td>0</td>\n      <td>1</td>\n      <td>21</td>\n      <td>3</td>\n      <td>...</td>\n      <td>2.25</td>\n      <td>1.25</td>\n      <td>0.33</td>\n      <td>0.04815</td>\n      <td>0.290083</td>\n      <td>0.019264</td>\n      <td>0.022139</td>\n      <td>NaN</td>\n      <td>NaN</td>\n      <td>NaN</td>\n    </tr>\n  </tbody>\n</table>\n<p>4461904 rows × 38 columns</p>\n</div>"
     },
     "execution_count": 83,
     "metadata": {},
     "output_type": "execute_result"
    }
   ],
   "source": [
    "df_data_train"
   ],
   "metadata": {
    "collapsed": false,
    "ExecuteTime": {
     "end_time": "2023-05-10T08:55:40.071079178Z",
     "start_time": "2023-05-10T08:55:39.822969528Z"
    }
   }
  },
  {
   "cell_type": "code",
   "execution_count": 84,
   "outputs": [],
   "source": [
    "# define a custom objective (to be exactly the same as the one used in the competition)\n",
    "\n",
    "# self-defined objective function\n",
    "# f(preds: array, train_data: Dataset) -> grad: array, hess: array\n",
    "# log likelihood loss\n",
    "def custom_ndcg(preds, train_data, *largs, **kwargs):\n",
    "    print('not sure how to do this')\n",
    "    return None\n"
   ],
   "metadata": {
    "collapsed": false,
    "ExecuteTime": {
     "end_time": "2023-05-10T08:55:40.073046381Z",
     "start_time": "2023-05-10T08:55:40.071199083Z"
    }
   }
  },
  {
   "cell_type": "code",
   "execution_count": 85,
   "outputs": [
    {
     "data": {
      "text/plain": "array([ 0.,  0.,  0.,  0.,  0.,  0.,  0.,  0.,  0.,  0.,  0.,  0.,  0.,\n        0., -1.,  0.,  0.,  0.,  0.,  0.,  0.,  0.,  0.,  0.,  0.,  0.,\n        0.,  0.,  0.,  0.,  0.,  0.,  0.,  0.,  0.,  0.,  0.,  0.])"
     },
     "execution_count": 85,
     "metadata": {},
     "output_type": "execute_result"
    }
   ],
   "source": [
    "def monotone_constraints_from_tuples(tpls):\n",
    "    pass\n",
    "\n",
    "test = [\n",
    "#('promotion_flag', 1),\n",
    "('random_bool', -1),\n",
    "#('comp_better_cnt', -1),\n",
    "#('price_hist_logdiff', -1),\n",
    "#('price_usd_ld_srch_id', -1),\n",
    "#('prop_starrating_w0_d_srch_id', 1),\n",
    "#('prop_location_score1_d_srch_id', 1),\n",
    "#('click_prob_per_prop_id_d_srch_id', 1),\n",
    "]\n",
    "\n",
    "d = {col:i for i, col in enumerate(df_data_train.columns)}\n",
    "\n",
    "mon = np.zeros(len(df_data_train.columns))\n",
    "for t in test:\n",
    "    mon[d[t[0]]]=t[1]\n",
    "\n",
    "mon"
   ],
   "metadata": {
    "collapsed": false,
    "ExecuteTime": {
     "end_time": "2023-05-10T08:55:40.082587527Z",
     "start_time": "2023-05-10T08:55:40.073557561Z"
    }
   }
  },
  {
   "cell_type": "code",
   "execution_count": 86,
   "outputs": [
    {
     "name": "stderr",
     "output_type": "stream",
     "text": [
      "/home/robert/miniconda3/envs/dmt_expedia/lib/python3.11/site-packages/lightgbm/basic.py:2065: UserWarning: Using categorical_feature in Dataset.\n",
      "  _log_warning('Using categorical_feature in Dataset.')\n",
      "/home/robert/miniconda3/envs/dmt_expedia/lib/python3.11/site-packages/lightgbm/basic.py:2068: UserWarning: categorical_feature in Dataset is overridden.\n",
      "New categorical_feature is ['prop_brand_bool', 'same_country', 'site_id', 'srch_saturday_night_bool']\n",
      "  _log_warning('categorical_feature in Dataset is overridden.\\n'\n",
      "/home/robert/miniconda3/envs/dmt_expedia/lib/python3.11/site-packages/lightgbm/basic.py:1780: UserWarning: Overriding the parameters from Reference Dataset.\n",
      "  _log_warning('Overriding the parameters from Reference Dataset.')\n",
      "/home/robert/miniconda3/envs/dmt_expedia/lib/python3.11/site-packages/lightgbm/basic.py:1513: UserWarning: categorical_column in param dict is overridden.\n",
      "  _log_warning(f'{cat_alias} in param dict is overridden.')\n"
     ]
    },
    {
     "name": "stdout",
     "output_type": "stream",
     "text": [
      "Training until validation scores don't improve for 300 rounds\n",
      "[20]\ttraining's ndcg@5: 0.452977\tvalid_1's ndcg@5: 0.44927\n",
      "[40]\ttraining's ndcg@5: 0.46428\tvalid_1's ndcg@5: 0.460044\n",
      "[60]\ttraining's ndcg@5: 0.471292\tvalid_1's ndcg@5: 0.466246\n",
      "[80]\ttraining's ndcg@5: 0.476263\tvalid_1's ndcg@5: 0.4705\n",
      "[100]\ttraining's ndcg@5: 0.479809\tvalid_1's ndcg@5: 0.471483\n",
      "[120]\ttraining's ndcg@5: 0.483104\tvalid_1's ndcg@5: 0.473529\n",
      "[140]\ttraining's ndcg@5: 0.486034\tvalid_1's ndcg@5: 0.475519\n",
      "[160]\ttraining's ndcg@5: 0.488262\tvalid_1's ndcg@5: 0.477597\n",
      "[180]\ttraining's ndcg@5: 0.489827\tvalid_1's ndcg@5: 0.478173\n",
      "[200]\ttraining's ndcg@5: 0.491677\tvalid_1's ndcg@5: 0.479018\n",
      "[220]\ttraining's ndcg@5: 0.493219\tvalid_1's ndcg@5: 0.479301\n",
      "[240]\ttraining's ndcg@5: 0.494628\tvalid_1's ndcg@5: 0.47966\n",
      "[260]\ttraining's ndcg@5: 0.49597\tvalid_1's ndcg@5: 0.479447\n",
      "[280]\ttraining's ndcg@5: 0.497507\tvalid_1's ndcg@5: 0.480513\n",
      "[300]\ttraining's ndcg@5: 0.499099\tvalid_1's ndcg@5: 0.480758\n",
      "[320]\ttraining's ndcg@5: 0.500453\tvalid_1's ndcg@5: 0.480673\n",
      "[340]\ttraining's ndcg@5: 0.501578\tvalid_1's ndcg@5: 0.480575\n",
      "[360]\ttraining's ndcg@5: 0.502759\tvalid_1's ndcg@5: 0.480733\n",
      "[380]\ttraining's ndcg@5: 0.503733\tvalid_1's ndcg@5: 0.481259\n",
      "[400]\ttraining's ndcg@5: 0.5048\tvalid_1's ndcg@5: 0.481057\n",
      "[420]\ttraining's ndcg@5: 0.50602\tvalid_1's ndcg@5: 0.481382\n",
      "[440]\ttraining's ndcg@5: 0.506919\tvalid_1's ndcg@5: 0.481285\n",
      "[460]\ttraining's ndcg@5: 0.507988\tvalid_1's ndcg@5: 0.481525\n",
      "[480]\ttraining's ndcg@5: 0.50914\tvalid_1's ndcg@5: 0.481457\n",
      "[500]\ttraining's ndcg@5: 0.51005\tvalid_1's ndcg@5: 0.481771\n",
      "[520]\ttraining's ndcg@5: 0.511121\tvalid_1's ndcg@5: 0.482066\n",
      "[540]\ttraining's ndcg@5: 0.512363\tvalid_1's ndcg@5: 0.482249\n",
      "[560]\ttraining's ndcg@5: 0.513272\tvalid_1's ndcg@5: 0.481716\n",
      "[580]\ttraining's ndcg@5: 0.514098\tvalid_1's ndcg@5: 0.481997\n",
      "[600]\ttraining's ndcg@5: 0.514847\tvalid_1's ndcg@5: 0.482206\n",
      "[620]\ttraining's ndcg@5: 0.51568\tvalid_1's ndcg@5: 0.482129\n",
      "[640]\ttraining's ndcg@5: 0.516644\tvalid_1's ndcg@5: 0.482021\n",
      "[660]\ttraining's ndcg@5: 0.517328\tvalid_1's ndcg@5: 0.481916\n",
      "[680]\ttraining's ndcg@5: 0.518472\tvalid_1's ndcg@5: 0.481834\n",
      "[700]\ttraining's ndcg@5: 0.519409\tvalid_1's ndcg@5: 0.481909\n",
      "[720]\ttraining's ndcg@5: 0.520164\tvalid_1's ndcg@5: 0.481503\n",
      "[740]\ttraining's ndcg@5: 0.521045\tvalid_1's ndcg@5: 0.481514\n",
      "[760]\ttraining's ndcg@5: 0.521992\tvalid_1's ndcg@5: 0.481632\n",
      "[780]\ttraining's ndcg@5: 0.52316\tvalid_1's ndcg@5: 0.481886\n",
      "[800]\ttraining's ndcg@5: 0.523888\tvalid_1's ndcg@5: 0.482082\n",
      "[820]\ttraining's ndcg@5: 0.524887\tvalid_1's ndcg@5: 0.482511\n",
      "[840]\ttraining's ndcg@5: 0.525912\tvalid_1's ndcg@5: 0.482806\n",
      "[860]\ttraining's ndcg@5: 0.526686\tvalid_1's ndcg@5: 0.482207\n",
      "[880]\ttraining's ndcg@5: 0.52742\tvalid_1's ndcg@5: 0.482348\n",
      "[900]\ttraining's ndcg@5: 0.528327\tvalid_1's ndcg@5: 0.482673\n",
      "[920]\ttraining's ndcg@5: 0.529127\tvalid_1's ndcg@5: 0.482411\n",
      "[940]\ttraining's ndcg@5: 0.530053\tvalid_1's ndcg@5: 0.482521\n",
      "[960]\ttraining's ndcg@5: 0.530775\tvalid_1's ndcg@5: 0.482731\n",
      "[980]\ttraining's ndcg@5: 0.531706\tvalid_1's ndcg@5: 0.482473\n",
      "[1000]\ttraining's ndcg@5: 0.532596\tvalid_1's ndcg@5: 0.482289\n",
      "[1020]\ttraining's ndcg@5: 0.533136\tvalid_1's ndcg@5: 0.48237\n",
      "[1040]\ttraining's ndcg@5: 0.533934\tvalid_1's ndcg@5: 0.482431\n",
      "[1060]\ttraining's ndcg@5: 0.534802\tvalid_1's ndcg@5: 0.482415\n",
      "[1080]\ttraining's ndcg@5: 0.535637\tvalid_1's ndcg@5: 0.482888\n",
      "[1100]\ttraining's ndcg@5: 0.536373\tvalid_1's ndcg@5: 0.482858\n",
      "[1120]\ttraining's ndcg@5: 0.537134\tvalid_1's ndcg@5: 0.48273\n",
      "[1140]\ttraining's ndcg@5: 0.538061\tvalid_1's ndcg@5: 0.482199\n",
      "[1160]\ttraining's ndcg@5: 0.538761\tvalid_1's ndcg@5: 0.482396\n",
      "[1180]\ttraining's ndcg@5: 0.539552\tvalid_1's ndcg@5: 0.482284\n",
      "[1200]\ttraining's ndcg@5: 0.540291\tvalid_1's ndcg@5: 0.482431\n",
      "[1220]\ttraining's ndcg@5: 0.540954\tvalid_1's ndcg@5: 0.482483\n",
      "[1240]\ttraining's ndcg@5: 0.54165\tvalid_1's ndcg@5: 0.48251\n",
      "[1260]\ttraining's ndcg@5: 0.542243\tvalid_1's ndcg@5: 0.482591\n",
      "[1280]\ttraining's ndcg@5: 0.543011\tvalid_1's ndcg@5: 0.482463\n",
      "[1300]\ttraining's ndcg@5: 0.54378\tvalid_1's ndcg@5: 0.48244\n",
      "[1320]\ttraining's ndcg@5: 0.544632\tvalid_1's ndcg@5: 0.482471\n",
      "[1340]\ttraining's ndcg@5: 0.545324\tvalid_1's ndcg@5: 0.482585\n",
      "[1360]\ttraining's ndcg@5: 0.546216\tvalid_1's ndcg@5: 0.482633\n",
      "[1380]\ttraining's ndcg@5: 0.546957\tvalid_1's ndcg@5: 0.482549\n",
      "Early stopping, best iteration is:\n",
      "[1095]\ttraining's ndcg@5: 0.536102\tvalid_1's ndcg@5: 0.483124\n",
      "Evaluated only: ndcg@5\n"
     ]
    },
    {
     "data": {
      "text/plain": "LGBMRanker(boosting='goss', deterministic=True, label_gain=[0, 1, 31],\n           lambda_l2=0.01, max_depth=5, metric='ndcg', n_estimators=10000,\n           num_threads=24, objective='lambdarank', random_state=42,\n           subsample_for_bin=400000)",
      "text/html": "<style>#sk-container-id-33 {color: black;background-color: white;}#sk-container-id-33 pre{padding: 0;}#sk-container-id-33 div.sk-toggleable {background-color: white;}#sk-container-id-33 label.sk-toggleable__label {cursor: pointer;display: block;width: 100%;margin-bottom: 0;padding: 0.3em;box-sizing: border-box;text-align: center;}#sk-container-id-33 label.sk-toggleable__label-arrow:before {content: \"▸\";float: left;margin-right: 0.25em;color: #696969;}#sk-container-id-33 label.sk-toggleable__label-arrow:hover:before {color: black;}#sk-container-id-33 div.sk-estimator:hover label.sk-toggleable__label-arrow:before {color: black;}#sk-container-id-33 div.sk-toggleable__content {max-height: 0;max-width: 0;overflow: hidden;text-align: left;background-color: #f0f8ff;}#sk-container-id-33 div.sk-toggleable__content pre {margin: 0.2em;color: black;border-radius: 0.25em;background-color: #f0f8ff;}#sk-container-id-33 input.sk-toggleable__control:checked~div.sk-toggleable__content {max-height: 200px;max-width: 100%;overflow: auto;}#sk-container-id-33 input.sk-toggleable__control:checked~label.sk-toggleable__label-arrow:before {content: \"▾\";}#sk-container-id-33 div.sk-estimator input.sk-toggleable__control:checked~label.sk-toggleable__label {background-color: #d4ebff;}#sk-container-id-33 div.sk-label input.sk-toggleable__control:checked~label.sk-toggleable__label {background-color: #d4ebff;}#sk-container-id-33 input.sk-hidden--visually {border: 0;clip: rect(1px 1px 1px 1px);clip: rect(1px, 1px, 1px, 1px);height: 1px;margin: -1px;overflow: hidden;padding: 0;position: absolute;width: 1px;}#sk-container-id-33 div.sk-estimator {font-family: monospace;background-color: #f0f8ff;border: 1px dotted black;border-radius: 0.25em;box-sizing: border-box;margin-bottom: 0.5em;}#sk-container-id-33 div.sk-estimator:hover {background-color: #d4ebff;}#sk-container-id-33 div.sk-parallel-item::after {content: \"\";width: 100%;border-bottom: 1px solid gray;flex-grow: 1;}#sk-container-id-33 div.sk-label:hover label.sk-toggleable__label {background-color: #d4ebff;}#sk-container-id-33 div.sk-serial::before {content: \"\";position: absolute;border-left: 1px solid gray;box-sizing: border-box;top: 0;bottom: 0;left: 50%;z-index: 0;}#sk-container-id-33 div.sk-serial {display: flex;flex-direction: column;align-items: center;background-color: white;padding-right: 0.2em;padding-left: 0.2em;position: relative;}#sk-container-id-33 div.sk-item {position: relative;z-index: 1;}#sk-container-id-33 div.sk-parallel {display: flex;align-items: stretch;justify-content: center;background-color: white;position: relative;}#sk-container-id-33 div.sk-item::before, #sk-container-id-33 div.sk-parallel-item::before {content: \"\";position: absolute;border-left: 1px solid gray;box-sizing: border-box;top: 0;bottom: 0;left: 50%;z-index: -1;}#sk-container-id-33 div.sk-parallel-item {display: flex;flex-direction: column;z-index: 1;position: relative;background-color: white;}#sk-container-id-33 div.sk-parallel-item:first-child::after {align-self: flex-end;width: 50%;}#sk-container-id-33 div.sk-parallel-item:last-child::after {align-self: flex-start;width: 50%;}#sk-container-id-33 div.sk-parallel-item:only-child::after {width: 0;}#sk-container-id-33 div.sk-dashed-wrapped {border: 1px dashed gray;margin: 0 0.4em 0.5em 0.4em;box-sizing: border-box;padding-bottom: 0.4em;background-color: white;}#sk-container-id-33 div.sk-label label {font-family: monospace;font-weight: bold;display: inline-block;line-height: 1.2em;}#sk-container-id-33 div.sk-label-container {text-align: center;}#sk-container-id-33 div.sk-container {/* jupyter's `normalize.less` sets `[hidden] { display: none; }` but bootstrap.min.css set `[hidden] { display: none !important; }` so we also need the `!important` here to be able to override the default hidden behavior on the sphinx rendered scikit-learn.org. See: https://github.com/scikit-learn/scikit-learn/issues/21755 */display: inline-block !important;position: relative;}#sk-container-id-33 div.sk-text-repr-fallback {display: none;}</style><div id=\"sk-container-id-33\" class=\"sk-top-container\"><div class=\"sk-text-repr-fallback\"><pre>LGBMRanker(boosting=&#x27;goss&#x27;, deterministic=True, label_gain=[0, 1, 31],\n           lambda_l2=0.01, max_depth=5, metric=&#x27;ndcg&#x27;, n_estimators=10000,\n           num_threads=24, objective=&#x27;lambdarank&#x27;, random_state=42,\n           subsample_for_bin=400000)</pre><b>In a Jupyter environment, please rerun this cell to show the HTML representation or trust the notebook. <br />On GitHub, the HTML representation is unable to render, please try loading this page with nbviewer.org.</b></div><div class=\"sk-container\" hidden><div class=\"sk-item\"><div class=\"sk-estimator sk-toggleable\"><input class=\"sk-toggleable__control sk-hidden--visually\" id=\"sk-estimator-id-33\" type=\"checkbox\" checked><label for=\"sk-estimator-id-33\" class=\"sk-toggleable__label sk-toggleable__label-arrow\">LGBMRanker</label><div class=\"sk-toggleable__content\"><pre>LGBMRanker(boosting=&#x27;goss&#x27;, deterministic=True, label_gain=[0, 1, 31],\n           lambda_l2=0.01, max_depth=5, metric=&#x27;ndcg&#x27;, n_estimators=10000,\n           num_threads=24, objective=&#x27;lambdarank&#x27;, random_state=42,\n           subsample_for_bin=400000)</pre></div></div></div></div></div>"
     },
     "execution_count": 86,
     "metadata": {},
     "output_type": "execute_result"
    }
   ],
   "source": [
    "from lightgbm import early_stopping, log_evaluation, LGBMRanker\n",
    "\n",
    "# Train the classifier with the best hyperparameters\n",
    "ranker = LGBMRanker(\n",
    "    #objective=\"rank_xendcg\",\n",
    "    objective='lambdarank',\n",
    "    #lambdarank_truncation_level=16,\n",
    "    metric=\"ndcg\",\n",
    "    subsample_for_bin=200000*2,\n",
    "    n_estimators=10000, # this is the max, early stopping will likely result in fewer\n",
    "    # feature_fraction=0.8,\n",
    "    learning_rate=0.1,\n",
    "    label_gain=[0, 1, 31],\n",
    "    random_state=42,\n",
    "    boosting='goss',\n",
    "    # top_rate=0.13, # goss\n",
    "    # other_rate=0.10, # goss\n",
    "    # --\n",
    "    # boosting='dart',\n",
    "    # boosting='gbdt',\n",
    "    # bagging_fraction=0.9,\n",
    "    # bagging_freq=5,\n",
    "    # bagging_seed=123,\n",
    "    # --\n",
    "    #monotone_constraints=mon,\n",
    "    #monotone_constraints_method='advanced'\n",
    "    #extra_trees=True,\n",
    "    lambda_l2=1e-2,\n",
    "    #lambda_l1=1e-2,\n",
    "    #min_data_in_leaf=40,\n",
    "    max_depth=5,\n",
    "    deterministic=True,\n",
    "    num_threads=24\n",
    ")\n",
    "\n",
    "x_val = df_data_val\n",
    "Y_val = df_tg_val\n",
    "\n",
    "x_train = df_data_train\n",
    "Y_train = df_tg_train\n",
    "\n",
    "early_stopping_callback = early_stopping(stopping_rounds=300, first_metric_only=True)\n",
    "log_evaluation_callback = log_evaluation(period=20)\n",
    "\n",
    "ranker.fit(\n",
    "    x_train,\n",
    "    Y_train,\n",
    "    eval_set=[(x_train, Y_train), (x_val, Y_val)],\n",
    "    eval_group=[groups_train, groups_val],\n",
    "    group=groups_train,\n",
    "    eval_at=5,\n",
    "    callbacks=[early_stopping_callback, log_evaluation_callback],\n",
    "    categorical_feature=('site_id', 'srch_saturday_night_bool', 'prop_brand_bool', 'same_country'),\n",
    ")\n"
   ],
   "metadata": {
    "collapsed": false,
    "ExecuteTime": {
     "end_time": "2023-05-10T08:57:16.126322965Z",
     "start_time": "2023-05-10T08:55:40.084183644Z"
    }
   }
  },
  {
   "cell_type": "code",
   "execution_count": 87,
   "outputs": [
    {
     "data": {
      "text/plain": "{'site_id': 2602,\n 'prop_starrating': 218,\n 'prop_review_score': 386,\n 'prop_brand_bool': 154,\n 'prop_location_score1': 1250,\n 'prop_location_score2': 1813,\n 'promotion_flag': 145,\n 'srch_length_of_stay': 509,\n 'srch_booking_window': 1050,\n 'srch_adults_count': 248,\n 'srch_children_count': 248,\n 'srch_room_count': 115,\n 'srch_saturday_night_bool': 107,\n 'srch_query_affinity_score': 572,\n 'random_bool': 502,\n 'comp_known_cnt': 265,\n 'comp_better_worse': 562,\n 'booking_start': 693,\n 'hist_starrating_diff': 541,\n 'price_hist_logdiff': 1725,\n 'visitor_hist_adr_usd_logdiff': 573,\n 'same_country': 119,\n 'booking_prob_per_prop_id': 1271,\n 'click_prob_per_prop_id': 1334,\n 'price_usd_ld_srch_id': 1676,\n 'prop_starrating_w0_d_srch_destination_id': 494,\n 'prop_starrating_w0_d_srch_id': 284,\n 'prop_review_score_d_srch_destination_id': 528,\n 'prop_review_score_d_srch_destination_id__prop_starrating': 600,\n 'prop_review_score_d_srch_id': 280,\n 'prop_location_score1_d_srch_destination_id': 1408,\n 'prop_location_score2_d_srch_destination_id': 1670,\n 'price_usd_ld_srch_id__prop_starrating': 1490,\n 'booking_prob_per_prop_id_d_srch_id': 1100,\n 'click_prob_per_prop_id_d_srch_id': 1186,\n 'price_hist_logdiff_d_srch_id': 2004,\n 'visitor_hist_adr_usd_logdiff_d_srch_id': 466,\n 'srch_query_affinity_score_d_srch_id': 750}"
     },
     "execution_count": 87,
     "metadata": {},
     "output_type": "execute_result"
    }
   ],
   "source": [
    "{f:i for (f, i) in zip(ranker.feature_name_, ranker.feature_importances_)}"
   ],
   "metadata": {
    "collapsed": false,
    "ExecuteTime": {
     "end_time": "2023-05-10T08:57:16.129493422Z",
     "start_time": "2023-05-10T08:57:16.126882103Z"
    }
   }
  },
  {
   "cell_type": "code",
   "execution_count": 88,
   "outputs": [],
   "source": [
    "def get_prediction_df(preds, df):\n",
    "    df_prediction = df[[\"srch_id\", \"prop_id\", 'relevance_score']].assign(predicted = preds)\n",
    "    return df_prediction.sort_values(\"predicted\", ascending=False).sort_values(\"srch_id\", kind='stable')"
   ],
   "metadata": {
    "collapsed": false,
    "ExecuteTime": {
     "end_time": "2023-05-10T08:57:27.233109370Z",
     "start_time": "2023-05-10T08:57:27.187761648Z"
    }
   }
  },
  {
   "cell_type": "code",
   "execution_count": 89,
   "outputs": [],
   "source": [
    "df_pred_val = get_prediction_df(ranker.predict(df_data_val), df_val)"
   ],
   "metadata": {
    "collapsed": false,
    "ExecuteTime": {
     "end_time": "2023-05-10T08:57:30.190780919Z",
     "start_time": "2023-05-10T08:57:27.950485159Z"
    }
   }
  },
  {
   "cell_type": "code",
   "execution_count": 90,
   "outputs": [
    {
     "data": {
      "text/plain": "0.4831237555028905"
     },
     "execution_count": 90,
     "metadata": {},
     "output_type": "execute_result"
    }
   ],
   "source": [
    "df_pred_val.groupby('srch_id')['relevance_score'].apply(lambda x: ndcg_dmt(x, use_2pow=True)).mean()"
   ],
   "metadata": {
    "collapsed": false,
    "ExecuteTime": {
     "end_time": "2023-05-10T08:57:30.814863586Z",
     "start_time": "2023-05-10T08:57:30.192140966Z"
    }
   }
  },
  {
   "cell_type": "code",
   "execution_count": 91,
   "outputs": [
    {
     "data": {
      "text/plain": "0.35651243305766694"
     },
     "execution_count": 91,
     "metadata": {},
     "output_type": "execute_result"
    }
   ],
   "source": [
    "df_pred_val.groupby('srch_id')['relevance_score'].apply(lambda x: ndcg_sklearn(x)).mean()"
   ],
   "metadata": {
    "collapsed": false,
    "ExecuteTime": {
     "end_time": "2023-05-10T08:57:34.605315446Z",
     "start_time": "2023-05-10T08:57:30.813252619Z"
    }
   }
  },
  {
   "cell_type": "code",
   "execution_count": 92,
   "outputs": [],
   "source": [
    "# 0.47409365112587953 - 2000 and [0, 1, 31]"
   ],
   "metadata": {
    "collapsed": false,
    "ExecuteTime": {
     "end_time": "2023-05-10T08:57:36.537006694Z",
     "start_time": "2023-05-10T08:57:36.525390877Z"
    }
   }
  },
  {
   "cell_type": "code",
   "execution_count": 93,
   "outputs": [
    {
     "data": {
      "text/plain": "         srch_id  prop_id  relevance_score  predicted\n264           28    75704              0.0   1.555946\n272           28    18016              0.0   1.059619\n241           28     5739              0.0   0.499059\n270           28    72909              0.0   0.496768\n252           28    35767              0.0   0.283327\n...          ...      ...              ...        ...\n4958133   332761   106737              0.0  -3.136569\n4958120   332761    12711              0.0  -7.708453\n4958138   332761    25234              0.0  -8.040435\n4958122   332761    34080              0.0  -8.336368\n4958123   332761    39059              0.0  -8.491387\n\n[496443 rows x 4 columns]",
      "text/html": "<div>\n<style scoped>\n    .dataframe tbody tr th:only-of-type {\n        vertical-align: middle;\n    }\n\n    .dataframe tbody tr th {\n        vertical-align: top;\n    }\n\n    .dataframe thead th {\n        text-align: right;\n    }\n</style>\n<table border=\"1\" class=\"dataframe\">\n  <thead>\n    <tr style=\"text-align: right;\">\n      <th></th>\n      <th>srch_id</th>\n      <th>prop_id</th>\n      <th>relevance_score</th>\n      <th>predicted</th>\n    </tr>\n  </thead>\n  <tbody>\n    <tr>\n      <th>264</th>\n      <td>28</td>\n      <td>75704</td>\n      <td>0.0</td>\n      <td>1.555946</td>\n    </tr>\n    <tr>\n      <th>272</th>\n      <td>28</td>\n      <td>18016</td>\n      <td>0.0</td>\n      <td>1.059619</td>\n    </tr>\n    <tr>\n      <th>241</th>\n      <td>28</td>\n      <td>5739</td>\n      <td>0.0</td>\n      <td>0.499059</td>\n    </tr>\n    <tr>\n      <th>270</th>\n      <td>28</td>\n      <td>72909</td>\n      <td>0.0</td>\n      <td>0.496768</td>\n    </tr>\n    <tr>\n      <th>252</th>\n      <td>28</td>\n      <td>35767</td>\n      <td>0.0</td>\n      <td>0.283327</td>\n    </tr>\n    <tr>\n      <th>...</th>\n      <td>...</td>\n      <td>...</td>\n      <td>...</td>\n      <td>...</td>\n    </tr>\n    <tr>\n      <th>4958133</th>\n      <td>332761</td>\n      <td>106737</td>\n      <td>0.0</td>\n      <td>-3.136569</td>\n    </tr>\n    <tr>\n      <th>4958120</th>\n      <td>332761</td>\n      <td>12711</td>\n      <td>0.0</td>\n      <td>-7.708453</td>\n    </tr>\n    <tr>\n      <th>4958138</th>\n      <td>332761</td>\n      <td>25234</td>\n      <td>0.0</td>\n      <td>-8.040435</td>\n    </tr>\n    <tr>\n      <th>4958122</th>\n      <td>332761</td>\n      <td>34080</td>\n      <td>0.0</td>\n      <td>-8.336368</td>\n    </tr>\n    <tr>\n      <th>4958123</th>\n      <td>332761</td>\n      <td>39059</td>\n      <td>0.0</td>\n      <td>-8.491387</td>\n    </tr>\n  </tbody>\n</table>\n<p>496443 rows × 4 columns</p>\n</div>"
     },
     "execution_count": 93,
     "metadata": {},
     "output_type": "execute_result"
    }
   ],
   "source": [
    "df_pred_val"
   ],
   "metadata": {
    "collapsed": false,
    "ExecuteTime": {
     "end_time": "2023-05-10T08:57:36.890239647Z",
     "start_time": "2023-05-10T08:57:36.879936378Z"
    }
   }
  },
  {
   "cell_type": "code",
   "execution_count": 94,
   "outputs": [
    {
     "ename": "KeyboardInterrupt",
     "evalue": "",
     "output_type": "error",
     "traceback": [
      "\u001B[0;31m---------------------------------------------------------------------------\u001B[0m",
      "\u001B[0;31mKeyboardInterrupt\u001B[0m                         Traceback (most recent call last)",
      "Cell \u001B[0;32mIn[94], line 1\u001B[0m\n\u001B[0;32m----> 1\u001B[0m df_pred_train \u001B[38;5;241m=\u001B[39m get_prediction_df(\u001B[43mranker\u001B[49m\u001B[38;5;241;43m.\u001B[39;49m\u001B[43mpredict\u001B[49m\u001B[43m(\u001B[49m\u001B[43mdf_data_train\u001B[49m\u001B[43m)\u001B[49m, df_train)\n\u001B[1;32m      2\u001B[0m df_pred_train\u001B[38;5;241m.\u001B[39mgroupby(\u001B[38;5;124m'\u001B[39m\u001B[38;5;124msrch_id\u001B[39m\u001B[38;5;124m'\u001B[39m)[\u001B[38;5;124m'\u001B[39m\u001B[38;5;124mrelevance_score\u001B[39m\u001B[38;5;124m'\u001B[39m]\u001B[38;5;241m.\u001B[39mapply(\u001B[38;5;28;01mlambda\u001B[39;00m x: ndcg_dmt(x, use_2pow\u001B[38;5;241m=\u001B[39m\u001B[38;5;28;01mFalse\u001B[39;00m))\u001B[38;5;241m.\u001B[39mmean()\n",
      "File \u001B[0;32m~/miniconda3/envs/dmt_expedia/lib/python3.11/site-packages/lightgbm/sklearn.py:803\u001B[0m, in \u001B[0;36mLGBMModel.predict\u001B[0;34m(self, X, raw_score, start_iteration, num_iteration, pred_leaf, pred_contrib, **kwargs)\u001B[0m\n\u001B[1;32m    799\u001B[0m \u001B[38;5;28;01mif\u001B[39;00m \u001B[38;5;28mself\u001B[39m\u001B[38;5;241m.\u001B[39m_n_features \u001B[38;5;241m!=\u001B[39m n_features:\n\u001B[1;32m    800\u001B[0m     \u001B[38;5;28;01mraise\u001B[39;00m \u001B[38;5;167;01mValueError\u001B[39;00m(\u001B[38;5;124m\"\u001B[39m\u001B[38;5;124mNumber of features of the model must \u001B[39m\u001B[38;5;124m\"\u001B[39m\n\u001B[1;32m    801\u001B[0m                      \u001B[38;5;124mf\u001B[39m\u001B[38;5;124m\"\u001B[39m\u001B[38;5;124mmatch the input. Model n_features_ is \u001B[39m\u001B[38;5;132;01m{\u001B[39;00m\u001B[38;5;28mself\u001B[39m\u001B[38;5;241m.\u001B[39m_n_features\u001B[38;5;132;01m}\u001B[39;00m\u001B[38;5;124m and \u001B[39m\u001B[38;5;124m\"\u001B[39m\n\u001B[1;32m    802\u001B[0m                      \u001B[38;5;124mf\u001B[39m\u001B[38;5;124m\"\u001B[39m\u001B[38;5;124minput n_features is \u001B[39m\u001B[38;5;132;01m{\u001B[39;00mn_features\u001B[38;5;132;01m}\u001B[39;00m\u001B[38;5;124m\"\u001B[39m)\n\u001B[0;32m--> 803\u001B[0m \u001B[38;5;28;01mreturn\u001B[39;00m \u001B[38;5;28;43mself\u001B[39;49m\u001B[38;5;241;43m.\u001B[39;49m\u001B[43m_Booster\u001B[49m\u001B[38;5;241;43m.\u001B[39;49m\u001B[43mpredict\u001B[49m\u001B[43m(\u001B[49m\u001B[43mX\u001B[49m\u001B[43m,\u001B[49m\u001B[43m \u001B[49m\u001B[43mraw_score\u001B[49m\u001B[38;5;241;43m=\u001B[39;49m\u001B[43mraw_score\u001B[49m\u001B[43m,\u001B[49m\u001B[43m \u001B[49m\u001B[43mstart_iteration\u001B[49m\u001B[38;5;241;43m=\u001B[39;49m\u001B[43mstart_iteration\u001B[49m\u001B[43m,\u001B[49m\u001B[43m \u001B[49m\u001B[43mnum_iteration\u001B[49m\u001B[38;5;241;43m=\u001B[39;49m\u001B[43mnum_iteration\u001B[49m\u001B[43m,\u001B[49m\n\u001B[1;32m    804\u001B[0m \u001B[43m                             \u001B[49m\u001B[43mpred_leaf\u001B[49m\u001B[38;5;241;43m=\u001B[39;49m\u001B[43mpred_leaf\u001B[49m\u001B[43m,\u001B[49m\u001B[43m \u001B[49m\u001B[43mpred_contrib\u001B[49m\u001B[38;5;241;43m=\u001B[39;49m\u001B[43mpred_contrib\u001B[49m\u001B[43m,\u001B[49m\u001B[43m \u001B[49m\u001B[38;5;241;43m*\u001B[39;49m\u001B[38;5;241;43m*\u001B[39;49m\u001B[43mkwargs\u001B[49m\u001B[43m)\u001B[49m\n",
      "File \u001B[0;32m~/miniconda3/envs/dmt_expedia/lib/python3.11/site-packages/lightgbm/basic.py:3538\u001B[0m, in \u001B[0;36mBooster.predict\u001B[0;34m(self, data, start_iteration, num_iteration, raw_score, pred_leaf, pred_contrib, data_has_header, is_reshape, **kwargs)\u001B[0m\n\u001B[1;32m   3536\u001B[0m     \u001B[38;5;28;01melse\u001B[39;00m:\n\u001B[1;32m   3537\u001B[0m         num_iteration \u001B[38;5;241m=\u001B[39m \u001B[38;5;241m-\u001B[39m\u001B[38;5;241m1\u001B[39m\n\u001B[0;32m-> 3538\u001B[0m \u001B[38;5;28;01mreturn\u001B[39;00m \u001B[43mpredictor\u001B[49m\u001B[38;5;241;43m.\u001B[39;49m\u001B[43mpredict\u001B[49m\u001B[43m(\u001B[49m\u001B[43mdata\u001B[49m\u001B[43m,\u001B[49m\u001B[43m \u001B[49m\u001B[43mstart_iteration\u001B[49m\u001B[43m,\u001B[49m\u001B[43m \u001B[49m\u001B[43mnum_iteration\u001B[49m\u001B[43m,\u001B[49m\n\u001B[1;32m   3539\u001B[0m \u001B[43m                         \u001B[49m\u001B[43mraw_score\u001B[49m\u001B[43m,\u001B[49m\u001B[43m \u001B[49m\u001B[43mpred_leaf\u001B[49m\u001B[43m,\u001B[49m\u001B[43m \u001B[49m\u001B[43mpred_contrib\u001B[49m\u001B[43m,\u001B[49m\n\u001B[1;32m   3540\u001B[0m \u001B[43m                         \u001B[49m\u001B[43mdata_has_header\u001B[49m\u001B[43m,\u001B[49m\u001B[43m \u001B[49m\u001B[43mis_reshape\u001B[49m\u001B[43m)\u001B[49m\n",
      "File \u001B[0;32m~/miniconda3/envs/dmt_expedia/lib/python3.11/site-packages/lightgbm/basic.py:848\u001B[0m, in \u001B[0;36m_InnerPredictor.predict\u001B[0;34m(self, data, start_iteration, num_iteration, raw_score, pred_leaf, pred_contrib, data_has_header, is_reshape)\u001B[0m\n\u001B[1;32m    846\u001B[0m     preds, nrow \u001B[38;5;241m=\u001B[39m \u001B[38;5;28mself\u001B[39m\u001B[38;5;241m.\u001B[39m__pred_for_csc(data, start_iteration, num_iteration, predict_type)\n\u001B[1;32m    847\u001B[0m \u001B[38;5;28;01melif\u001B[39;00m \u001B[38;5;28misinstance\u001B[39m(data, np\u001B[38;5;241m.\u001B[39mndarray):\n\u001B[0;32m--> 848\u001B[0m     preds, nrow \u001B[38;5;241m=\u001B[39m \u001B[38;5;28;43mself\u001B[39;49m\u001B[38;5;241;43m.\u001B[39;49m\u001B[43m__pred_for_np2d\u001B[49m\u001B[43m(\u001B[49m\u001B[43mdata\u001B[49m\u001B[43m,\u001B[49m\u001B[43m \u001B[49m\u001B[43mstart_iteration\u001B[49m\u001B[43m,\u001B[49m\u001B[43m \u001B[49m\u001B[43mnum_iteration\u001B[49m\u001B[43m,\u001B[49m\u001B[43m \u001B[49m\u001B[43mpredict_type\u001B[49m\u001B[43m)\u001B[49m\n\u001B[1;32m    849\u001B[0m \u001B[38;5;28;01melif\u001B[39;00m \u001B[38;5;28misinstance\u001B[39m(data, \u001B[38;5;28mlist\u001B[39m):\n\u001B[1;32m    850\u001B[0m     \u001B[38;5;28;01mtry\u001B[39;00m:\n",
      "File \u001B[0;32m~/miniconda3/envs/dmt_expedia/lib/python3.11/site-packages/lightgbm/basic.py:938\u001B[0m, in \u001B[0;36m_InnerPredictor.__pred_for_np2d\u001B[0;34m(self, mat, start_iteration, num_iteration, predict_type)\u001B[0m\n\u001B[1;32m    936\u001B[0m     \u001B[38;5;28;01mreturn\u001B[39;00m preds, nrow\n\u001B[1;32m    937\u001B[0m \u001B[38;5;28;01melse\u001B[39;00m:\n\u001B[0;32m--> 938\u001B[0m     \u001B[38;5;28;01mreturn\u001B[39;00m \u001B[43minner_predict\u001B[49m\u001B[43m(\u001B[49m\u001B[43mmat\u001B[49m\u001B[43m,\u001B[49m\u001B[43m \u001B[49m\u001B[43mstart_iteration\u001B[49m\u001B[43m,\u001B[49m\u001B[43m \u001B[49m\u001B[43mnum_iteration\u001B[49m\u001B[43m,\u001B[49m\u001B[43m \u001B[49m\u001B[43mpredict_type\u001B[49m\u001B[43m)\u001B[49m\n",
      "File \u001B[0;32m~/miniconda3/envs/dmt_expedia/lib/python3.11/site-packages/lightgbm/basic.py:908\u001B[0m, in \u001B[0;36m_InnerPredictor.__pred_for_np2d.<locals>.inner_predict\u001B[0;34m(mat, start_iteration, num_iteration, predict_type, preds)\u001B[0m\n\u001B[1;32m    906\u001B[0m     \u001B[38;5;28;01mraise\u001B[39;00m \u001B[38;5;167;01mValueError\u001B[39;00m(\u001B[38;5;124m\"\u001B[39m\u001B[38;5;124mWrong length of pre-allocated predict array\u001B[39m\u001B[38;5;124m\"\u001B[39m)\n\u001B[1;32m    907\u001B[0m out_num_preds \u001B[38;5;241m=\u001B[39m ctypes\u001B[38;5;241m.\u001B[39mc_int64(\u001B[38;5;241m0\u001B[39m)\n\u001B[0;32m--> 908\u001B[0m _safe_call(\u001B[43m_LIB\u001B[49m\u001B[38;5;241;43m.\u001B[39;49m\u001B[43mLGBM_BoosterPredictForMat\u001B[49m\u001B[43m(\u001B[49m\n\u001B[1;32m    909\u001B[0m \u001B[43m    \u001B[49m\u001B[38;5;28;43mself\u001B[39;49m\u001B[38;5;241;43m.\u001B[39;49m\u001B[43mhandle\u001B[49m\u001B[43m,\u001B[49m\n\u001B[1;32m    910\u001B[0m \u001B[43m    \u001B[49m\u001B[43mptr_data\u001B[49m\u001B[43m,\u001B[49m\n\u001B[1;32m    911\u001B[0m \u001B[43m    \u001B[49m\u001B[43mctypes\u001B[49m\u001B[38;5;241;43m.\u001B[39;49m\u001B[43mc_int\u001B[49m\u001B[43m(\u001B[49m\u001B[43mtype_ptr_data\u001B[49m\u001B[43m)\u001B[49m\u001B[43m,\u001B[49m\n\u001B[1;32m    912\u001B[0m \u001B[43m    \u001B[49m\u001B[43mctypes\u001B[49m\u001B[38;5;241;43m.\u001B[39;49m\u001B[43mc_int32\u001B[49m\u001B[43m(\u001B[49m\u001B[43mmat\u001B[49m\u001B[38;5;241;43m.\u001B[39;49m\u001B[43mshape\u001B[49m\u001B[43m[\u001B[49m\u001B[38;5;241;43m0\u001B[39;49m\u001B[43m]\u001B[49m\u001B[43m)\u001B[49m\u001B[43m,\u001B[49m\n\u001B[1;32m    913\u001B[0m \u001B[43m    \u001B[49m\u001B[43mctypes\u001B[49m\u001B[38;5;241;43m.\u001B[39;49m\u001B[43mc_int32\u001B[49m\u001B[43m(\u001B[49m\u001B[43mmat\u001B[49m\u001B[38;5;241;43m.\u001B[39;49m\u001B[43mshape\u001B[49m\u001B[43m[\u001B[49m\u001B[38;5;241;43m1\u001B[39;49m\u001B[43m]\u001B[49m\u001B[43m)\u001B[49m\u001B[43m,\u001B[49m\n\u001B[1;32m    914\u001B[0m \u001B[43m    \u001B[49m\u001B[43mctypes\u001B[49m\u001B[38;5;241;43m.\u001B[39;49m\u001B[43mc_int\u001B[49m\u001B[43m(\u001B[49m\u001B[43mC_API_IS_ROW_MAJOR\u001B[49m\u001B[43m)\u001B[49m\u001B[43m,\u001B[49m\n\u001B[1;32m    915\u001B[0m \u001B[43m    \u001B[49m\u001B[43mctypes\u001B[49m\u001B[38;5;241;43m.\u001B[39;49m\u001B[43mc_int\u001B[49m\u001B[43m(\u001B[49m\u001B[43mpredict_type\u001B[49m\u001B[43m)\u001B[49m\u001B[43m,\u001B[49m\n\u001B[1;32m    916\u001B[0m \u001B[43m    \u001B[49m\u001B[43mctypes\u001B[49m\u001B[38;5;241;43m.\u001B[39;49m\u001B[43mc_int\u001B[49m\u001B[43m(\u001B[49m\u001B[43mstart_iteration\u001B[49m\u001B[43m)\u001B[49m\u001B[43m,\u001B[49m\n\u001B[1;32m    917\u001B[0m \u001B[43m    \u001B[49m\u001B[43mctypes\u001B[49m\u001B[38;5;241;43m.\u001B[39;49m\u001B[43mc_int\u001B[49m\u001B[43m(\u001B[49m\u001B[43mnum_iteration\u001B[49m\u001B[43m)\u001B[49m\u001B[43m,\u001B[49m\n\u001B[1;32m    918\u001B[0m \u001B[43m    \u001B[49m\u001B[43mc_str\u001B[49m\u001B[43m(\u001B[49m\u001B[38;5;28;43mself\u001B[39;49m\u001B[38;5;241;43m.\u001B[39;49m\u001B[43mpred_parameter\u001B[49m\u001B[43m)\u001B[49m\u001B[43m,\u001B[49m\n\u001B[1;32m    919\u001B[0m \u001B[43m    \u001B[49m\u001B[43mctypes\u001B[49m\u001B[38;5;241;43m.\u001B[39;49m\u001B[43mbyref\u001B[49m\u001B[43m(\u001B[49m\u001B[43mout_num_preds\u001B[49m\u001B[43m)\u001B[49m\u001B[43m,\u001B[49m\n\u001B[1;32m    920\u001B[0m \u001B[43m    \u001B[49m\u001B[43mpreds\u001B[49m\u001B[38;5;241;43m.\u001B[39;49m\u001B[43mctypes\u001B[49m\u001B[38;5;241;43m.\u001B[39;49m\u001B[43mdata_as\u001B[49m\u001B[43m(\u001B[49m\u001B[43mctypes\u001B[49m\u001B[38;5;241;43m.\u001B[39;49m\u001B[43mPOINTER\u001B[49m\u001B[43m(\u001B[49m\u001B[43mctypes\u001B[49m\u001B[38;5;241;43m.\u001B[39;49m\u001B[43mc_double\u001B[49m\u001B[43m)\u001B[49m\u001B[43m)\u001B[49m\u001B[43m)\u001B[49m)\n\u001B[1;32m    921\u001B[0m \u001B[38;5;28;01mif\u001B[39;00m n_preds \u001B[38;5;241m!=\u001B[39m out_num_preds\u001B[38;5;241m.\u001B[39mvalue:\n\u001B[1;32m    922\u001B[0m     \u001B[38;5;28;01mraise\u001B[39;00m \u001B[38;5;167;01mValueError\u001B[39;00m(\u001B[38;5;124m\"\u001B[39m\u001B[38;5;124mWrong length for predict results\u001B[39m\u001B[38;5;124m\"\u001B[39m)\n",
      "\u001B[0;31mKeyboardInterrupt\u001B[0m: "
     ]
    }
   ],
   "source": [
    "df_pred_train = get_prediction_df(ranker.predict(df_data_train), df_train)\n",
    "df_pred_train.groupby('srch_id')['relevance_score'].apply(lambda x: ndcg_dmt(x, use_2pow=False)).mean()"
   ],
   "metadata": {
    "collapsed": false,
    "ExecuteTime": {
     "end_time": "2023-05-10T08:57:56.403285728Z",
     "start_time": "2023-05-10T08:57:37.482931564Z"
    }
   }
  },
  {
   "cell_type": "code",
   "execution_count": 95,
   "outputs": [],
   "source": [
    "preds_test = ranker.predict(df_data_test)\n",
    "\n",
    "df_prediction = df_test[[\"srch_id\", \"prop_id\"]].assign(predicted = preds_test)\n",
    "df_prediction = df_prediction.sort_values(\"predicted\", ascending=False).sort_values(\"srch_id\", kind='stable')\n",
    "df_prediction[[\"srch_id\", \"prop_id\"]].to_csv(\"data/pred_robert_LGBMRanker_483.csv\", index=None)"
   ],
   "metadata": {
    "collapsed": false,
    "ExecuteTime": {
     "end_time": "2023-05-10T08:58:44.572176508Z",
     "start_time": "2023-05-10T08:58:19.822807166Z"
    }
   }
  },
  {
   "cell_type": "code",
   "execution_count": 96,
   "outputs": [
    {
     "data": {
      "text/plain": "         srch_id  prop_id  predicted\n17             1    28181   0.804102\n15             1    99484   0.683826\n12             1    54937   0.638853\n23             1    50162   0.136617\n18             1    24194  -0.071880\n...          ...      ...        ...\n4959179   332787    94437  -1.505127\n4959181   332787    22854  -8.586817\n4959178   332787    29018  -9.359678\n4959182   332787    32019  -9.672806\n4959180   332787    35240 -10.189420\n\n[4959183 rows x 3 columns]",
      "text/html": "<div>\n<style scoped>\n    .dataframe tbody tr th:only-of-type {\n        vertical-align: middle;\n    }\n\n    .dataframe tbody tr th {\n        vertical-align: top;\n    }\n\n    .dataframe thead th {\n        text-align: right;\n    }\n</style>\n<table border=\"1\" class=\"dataframe\">\n  <thead>\n    <tr style=\"text-align: right;\">\n      <th></th>\n      <th>srch_id</th>\n      <th>prop_id</th>\n      <th>predicted</th>\n    </tr>\n  </thead>\n  <tbody>\n    <tr>\n      <th>17</th>\n      <td>1</td>\n      <td>28181</td>\n      <td>0.804102</td>\n    </tr>\n    <tr>\n      <th>15</th>\n      <td>1</td>\n      <td>99484</td>\n      <td>0.683826</td>\n    </tr>\n    <tr>\n      <th>12</th>\n      <td>1</td>\n      <td>54937</td>\n      <td>0.638853</td>\n    </tr>\n    <tr>\n      <th>23</th>\n      <td>1</td>\n      <td>50162</td>\n      <td>0.136617</td>\n    </tr>\n    <tr>\n      <th>18</th>\n      <td>1</td>\n      <td>24194</td>\n      <td>-0.071880</td>\n    </tr>\n    <tr>\n      <th>...</th>\n      <td>...</td>\n      <td>...</td>\n      <td>...</td>\n    </tr>\n    <tr>\n      <th>4959179</th>\n      <td>332787</td>\n      <td>94437</td>\n      <td>-1.505127</td>\n    </tr>\n    <tr>\n      <th>4959181</th>\n      <td>332787</td>\n      <td>22854</td>\n      <td>-8.586817</td>\n    </tr>\n    <tr>\n      <th>4959178</th>\n      <td>332787</td>\n      <td>29018</td>\n      <td>-9.359678</td>\n    </tr>\n    <tr>\n      <th>4959182</th>\n      <td>332787</td>\n      <td>32019</td>\n      <td>-9.672806</td>\n    </tr>\n    <tr>\n      <th>4959180</th>\n      <td>332787</td>\n      <td>35240</td>\n      <td>-10.189420</td>\n    </tr>\n  </tbody>\n</table>\n<p>4959183 rows × 3 columns</p>\n</div>"
     },
     "execution_count": 96,
     "metadata": {},
     "output_type": "execute_result"
    }
   ],
   "source": [
    "df_prediction"
   ],
   "metadata": {
    "collapsed": false,
    "ExecuteTime": {
     "end_time": "2023-05-10T08:58:44.615052352Z",
     "start_time": "2023-05-10T08:58:44.614646798Z"
    }
   }
  },
  {
   "cell_type": "markdown",
   "source": [
    "TODO: ok so, there is a problem with a big gap in the performance on the validation set and test set. I think this is due to several factors:\n",
    "* bagging in combination with aggregating over properties and destination. For the validation set to be meaningful we need to ensure that a similar proportion of destination ids are missing from the validation set as the proportion of missing destination ids from the test set\n",
    "* statistics should only be calculated on the training set (do not include the validation set)\n",
    "* the score is more in line with sklearn.metrics.ndgc score, coincidence?\n",
    "\n",
    "Extra features:\n",
    "* calculate z score or quantile for booking day-of-year relative to property stddev or empirical distribution\n",
    "* add df (number of observations)\n",
    "* determine price-usd type depending on the visitor country id and/or site id\n",
    "** figure out the conditions of when it is total amount of booking (e.g. when there is no correlation between room number and gross booking)\n",
    "** check if outliers are correlated (maybe there is some currency conversion going on for some countries)\n",
    "* add all comps"
   ],
   "metadata": {
    "collapsed": false
   }
  },
  {
   "cell_type": "code",
   "execution_count": null,
   "outputs": [],
   "source": [],
   "metadata": {
    "collapsed": false
   }
  }
 ],
 "metadata": {
  "kernelspec": {
   "display_name": "Python 3",
   "language": "python",
   "name": "python3"
  },
  "language_info": {
   "codemirror_mode": {
    "name": "ipython",
    "version": 2
   },
   "file_extension": ".py",
   "mimetype": "text/x-python",
   "name": "python",
   "nbconvert_exporter": "python",
   "pygments_lexer": "ipython2",
   "version": "2.7.6"
  }
 },
 "nbformat": 4,
 "nbformat_minor": 0
}
