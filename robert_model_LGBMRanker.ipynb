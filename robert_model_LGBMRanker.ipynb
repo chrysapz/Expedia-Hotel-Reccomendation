{
 "cells": [
  {
   "cell_type": "code",
   "execution_count": 1,
   "metadata": {
    "collapsed": true,
    "ExecuteTime": {
     "end_time": "2023-05-09T11:45:30.918657205Z",
     "start_time": "2023-05-09T11:45:30.916560191Z"
    }
   },
   "outputs": [],
   "source": [
    "import pandas as pd\n",
    "import numpy as np\n",
    "import seaborn as sns\n",
    "from sklearn.metrics import ndcg_score"
   ]
  },
  {
   "cell_type": "code",
   "execution_count": 103,
   "outputs": [],
   "source": [
    "def _dsg_numerator(rel, use_2pow):\n",
    "    if use_2pow:\n",
    "        return 2**rel-1\n",
    "    else:\n",
    "        return rel\n",
    "\n",
    "\n",
    "def calc_ndcg(rel_true, rel_est, n=5, use_2pow=True):\n",
    "    assert len(rel_est) == len(rel_true)\n",
    "    rel_true = np.asarray(rel_true)\n",
    "    rel_est = np.asarray(rel_est)\n",
    "\n",
    "    discount = 1 / np.log(np.arange(2, len(rel_true) + 2))\n",
    "    discount[n:] = 0\n",
    "\n",
    "    dsg_N = discount.dot(_dsg_numerator(rel_est, use_2pow))\n",
    "    idsg_N = discount.dot(_dsg_numerator(rel_true, use_2pow))\n",
    "\n",
    "    return dsg_N/idsg_N\n",
    "\n",
    "\n",
    "def ndcg_dmt(predicted_scores, n=5, use_2pow=True):\n",
    "    ranked_scores = np.sort(predicted_scores)[::-1] # sorted descending, highest score first\n",
    "    return calc_ndcg(ranked_scores, predicted_scores, n=n, use_2pow=use_2pow)\n",
    "\n",
    "\n",
    "def ndcg_sklearn(predicted_scores, n=5):\n",
    "    ranked_scores = np.sort(predicted_scores)[::-1] # sorted descending, highest score first\n",
    "    return ndcg_score(np.asarray([ranked_scores]), np.asarray([predicted_scores]), k=n)"
   ],
   "metadata": {
    "collapsed": false,
    "ExecuteTime": {
     "end_time": "2023-05-09T13:08:08.480252219Z",
     "start_time": "2023-05-09T13:08:08.430062572Z"
    }
   }
  },
  {
   "cell_type": "code",
   "execution_count": 3,
   "outputs": [],
   "source": [
    "def print_missing(df, col):\n",
    "    miss_cnt = df[col].isna().sum()\n",
    "    if miss_cnt == 0:\n",
    "        return\n",
    "    total_cnt = len(df[col])\n",
    "    perc_miss = 100 * miss_cnt / total_cnt\n",
    "    print(f'{col} missing count {miss_cnt} out of {total_cnt} => {round(perc_miss)}% missing')"
   ],
   "metadata": {
    "collapsed": false,
    "ExecuteTime": {
     "end_time": "2023-05-09T11:45:30.955364005Z",
     "start_time": "2023-05-09T11:45:30.949121459Z"
    }
   }
  },
  {
   "cell_type": "code",
   "execution_count": 77,
   "outputs": [
    {
     "data": {
      "text/plain": "   srch_id  prop_id  site_id  visitor_location_country_id   \n0      427        1        5                          219  \\\n1     5762        1        5                          219   \n2     8178        1        5                          219   \n3     8465        1        5                          219   \n4    10771        1        5                          219   \n\n   visitor_hist_starrating  visitor_hist_adr_usd  prop_country_id   \n0                      NaN                   NaN              219  \\\n1                      3.5                147.02              219   \n2                      NaN                   NaN              219   \n3                      NaN                   NaN              219   \n4                      NaN                   NaN              219   \n\n   prop_starrating  prop_review_score  prop_brand_bool  ...   \n0                2                NaN                1  ...  \\\n1                2                NaN                1  ...   \n2                2                NaN                1  ...   \n3                2                NaN                1  ...   \n4                2                NaN                1  ...   \n\n   prop_location_score1_d_srch_destination_id   \n0                                        1.20  \\\n1                                        1.12   \n2                                        0.85   \n3                                        1.28   \n4                                        1.28   \n\n   prop_location_score1_d_srch_destination_id__prop_starrating   \n0                                               1.04            \\\n1                                               0.96             \n2                                               0.69             \n3                                               1.12             \n4                                               1.12             \n\n   prop_location_score1_d_srch_id  prop_location_score2_d_srch_destination_id   \n0                            0.56                                         NaN  \\\n1                            0.48                                         NaN   \n2                            0.21                                         NaN   \n3                            0.64                                         NaN   \n4                            0.64                                         NaN   \n\n   prop_location_score2_d_srch_destination_id__prop_starrating   \n0                                                NaN            \\\n1                                                NaN             \n2                                                NaN             \n3                                                NaN             \n4                                                NaN             \n\n   prop_location_score2_d_srch_id  price_hist_logdiff_d_srch_id   \n0                             NaN                      0.218860  \\\n1                             NaN                           NaN   \n2                             NaN                      0.283944   \n3                             NaN                      0.269329   \n4                             NaN                      0.247003   \n\n   price_usd_ld_srch_id__prop_starrating  booking_prob_per_prop_id_d_srch_id   \n0                               0.125626                           -0.015505  \\\n1                               0.129212                           -0.017857   \n2                               0.198177                           -0.015625   \n3                               0.044171                           -0.015625   \n4                               0.450021                           -0.016393   \n\n   click_prob_per_prop_id_d_srch_id  \n0                         -0.011613  \n1                         -0.014857  \n2                         -0.010634  \n3                         -0.010634  \n4                         -0.014857  \n\n[5 rows x 52 columns]",
      "text/html": "<div>\n<style scoped>\n    .dataframe tbody tr th:only-of-type {\n        vertical-align: middle;\n    }\n\n    .dataframe tbody tr th {\n        vertical-align: top;\n    }\n\n    .dataframe thead th {\n        text-align: right;\n    }\n</style>\n<table border=\"1\" class=\"dataframe\">\n  <thead>\n    <tr style=\"text-align: right;\">\n      <th></th>\n      <th>srch_id</th>\n      <th>prop_id</th>\n      <th>site_id</th>\n      <th>visitor_location_country_id</th>\n      <th>visitor_hist_starrating</th>\n      <th>visitor_hist_adr_usd</th>\n      <th>prop_country_id</th>\n      <th>prop_starrating</th>\n      <th>prop_review_score</th>\n      <th>prop_brand_bool</th>\n      <th>...</th>\n      <th>prop_location_score1_d_srch_destination_id</th>\n      <th>prop_location_score1_d_srch_destination_id__prop_starrating</th>\n      <th>prop_location_score1_d_srch_id</th>\n      <th>prop_location_score2_d_srch_destination_id</th>\n      <th>prop_location_score2_d_srch_destination_id__prop_starrating</th>\n      <th>prop_location_score2_d_srch_id</th>\n      <th>price_hist_logdiff_d_srch_id</th>\n      <th>price_usd_ld_srch_id__prop_starrating</th>\n      <th>booking_prob_per_prop_id_d_srch_id</th>\n      <th>click_prob_per_prop_id_d_srch_id</th>\n    </tr>\n  </thead>\n  <tbody>\n    <tr>\n      <th>0</th>\n      <td>427</td>\n      <td>1</td>\n      <td>5</td>\n      <td>219</td>\n      <td>NaN</td>\n      <td>NaN</td>\n      <td>219</td>\n      <td>2</td>\n      <td>NaN</td>\n      <td>1</td>\n      <td>...</td>\n      <td>1.20</td>\n      <td>1.04</td>\n      <td>0.56</td>\n      <td>NaN</td>\n      <td>NaN</td>\n      <td>NaN</td>\n      <td>0.218860</td>\n      <td>0.125626</td>\n      <td>-0.015505</td>\n      <td>-0.011613</td>\n    </tr>\n    <tr>\n      <th>1</th>\n      <td>5762</td>\n      <td>1</td>\n      <td>5</td>\n      <td>219</td>\n      <td>3.5</td>\n      <td>147.02</td>\n      <td>219</td>\n      <td>2</td>\n      <td>NaN</td>\n      <td>1</td>\n      <td>...</td>\n      <td>1.12</td>\n      <td>0.96</td>\n      <td>0.48</td>\n      <td>NaN</td>\n      <td>NaN</td>\n      <td>NaN</td>\n      <td>NaN</td>\n      <td>0.129212</td>\n      <td>-0.017857</td>\n      <td>-0.014857</td>\n    </tr>\n    <tr>\n      <th>2</th>\n      <td>8178</td>\n      <td>1</td>\n      <td>5</td>\n      <td>219</td>\n      <td>NaN</td>\n      <td>NaN</td>\n      <td>219</td>\n      <td>2</td>\n      <td>NaN</td>\n      <td>1</td>\n      <td>...</td>\n      <td>0.85</td>\n      <td>0.69</td>\n      <td>0.21</td>\n      <td>NaN</td>\n      <td>NaN</td>\n      <td>NaN</td>\n      <td>0.283944</td>\n      <td>0.198177</td>\n      <td>-0.015625</td>\n      <td>-0.010634</td>\n    </tr>\n    <tr>\n      <th>3</th>\n      <td>8465</td>\n      <td>1</td>\n      <td>5</td>\n      <td>219</td>\n      <td>NaN</td>\n      <td>NaN</td>\n      <td>219</td>\n      <td>2</td>\n      <td>NaN</td>\n      <td>1</td>\n      <td>...</td>\n      <td>1.28</td>\n      <td>1.12</td>\n      <td>0.64</td>\n      <td>NaN</td>\n      <td>NaN</td>\n      <td>NaN</td>\n      <td>0.269329</td>\n      <td>0.044171</td>\n      <td>-0.015625</td>\n      <td>-0.010634</td>\n    </tr>\n    <tr>\n      <th>4</th>\n      <td>10771</td>\n      <td>1</td>\n      <td>5</td>\n      <td>219</td>\n      <td>NaN</td>\n      <td>NaN</td>\n      <td>219</td>\n      <td>2</td>\n      <td>NaN</td>\n      <td>1</td>\n      <td>...</td>\n      <td>1.28</td>\n      <td>1.12</td>\n      <td>0.64</td>\n      <td>NaN</td>\n      <td>NaN</td>\n      <td>NaN</td>\n      <td>0.247003</td>\n      <td>0.450021</td>\n      <td>-0.016393</td>\n      <td>-0.014857</td>\n    </tr>\n  </tbody>\n</table>\n<p>5 rows × 52 columns</p>\n</div>"
     },
     "execution_count": 77,
     "metadata": {},
     "output_type": "execute_result"
    }
   ],
   "source": [
    "df = pd.read_csv(\"data/joined_all_features.csv.zip\", index_col=0)\n",
    "df.head()"
   ],
   "metadata": {
    "collapsed": false,
    "ExecuteTime": {
     "end_time": "2023-05-09T12:51:52.071139203Z",
     "start_time": "2023-05-09T12:51:20.676067763Z"
    }
   }
  },
  {
   "cell_type": "code",
   "execution_count": 78,
   "outputs": [
    {
     "data": {
      "text/plain": "2509"
     },
     "execution_count": 78,
     "metadata": {},
     "output_type": "execute_result"
    }
   ],
   "source": [
    "df_devel = df.loc[df.is_test==False, [c for c in df.columns if c != 'is_test']]\n",
    "df_test = df.loc[df.is_test==True, [c for c in df.columns if c != 'is_test']]\n",
    "df_test.srch_id -= df_devel.srch_id.max()\n",
    "del df\n",
    "import gc\n",
    "gc.collect()"
   ],
   "metadata": {
    "collapsed": false,
    "ExecuteTime": {
     "end_time": "2023-05-09T12:51:54.251489701Z",
     "start_time": "2023-05-09T12:51:52.069196857Z"
    }
   }
  },
  {
   "cell_type": "code",
   "execution_count": 79,
   "outputs": [
    {
     "name": "stdout",
     "output_type": "stream",
     "text": [
      "visitor_hist_starrating missing count 4706481 out of 4958347 => 95% missing\n",
      "visitor_hist_adr_usd missing count 4705359 out of 4958347 => 95% missing\n",
      "prop_review_score missing count 240658 out of 4958347 => 5% missing\n",
      "prop_location_score2 missing count 1090348 out of 4958347 => 22% missing\n",
      "prop_log_historical_price missing count 713899 out of 4958347 => 14% missing\n",
      "price_usd missing count 31 out of 4958347 => 0% missing\n",
      "srch_query_affinity_score missing count 4640941 out of 4958347 => 94% missing\n",
      "prop_starrating_w0 missing count 169572 out of 4958347 => 3% missing\n",
      "price_hist_logdiff missing count 713927 out of 4958347 => 14% missing\n",
      "price_usd_ld_srch_id missing count 31 out of 4958347 => 0% missing\n",
      "prop_starrating_w0_d_srch_destination_id missing count 169572 out of 4958347 => 3% missing\n",
      "prop_starrating_w0_d_srch_id missing count 169572 out of 4958347 => 3% missing\n",
      "prop_review_score_d_srch_destination_id missing count 240658 out of 4958347 => 5% missing\n",
      "prop_review_score_d_srch_destination_id__prop_starrating missing count 240658 out of 4958347 => 5% missing\n",
      "prop_review_score_d_srch_id missing count 240658 out of 4958347 => 5% missing\n",
      "prop_location_score2_d_srch_destination_id missing count 1090348 out of 4958347 => 22% missing\n",
      "prop_location_score2_d_srch_destination_id__prop_starrating missing count 1090348 out of 4958347 => 22% missing\n",
      "prop_location_score2_d_srch_id missing count 1090348 out of 4958347 => 22% missing\n",
      "price_hist_logdiff_d_srch_id missing count 713927 out of 4958347 => 14% missing\n",
      "price_usd_ld_srch_id__prop_starrating missing count 31 out of 4958347 => 0% missing\n"
     ]
    }
   ],
   "source": [
    "for col in df_devel.columns:\n",
    "    print_missing(df_devel, col)"
   ],
   "metadata": {
    "collapsed": false,
    "ExecuteTime": {
     "end_time": "2023-05-09T12:51:54.380469760Z",
     "start_time": "2023-05-09T12:51:54.251814159Z"
    }
   }
  },
  {
   "cell_type": "code",
   "execution_count": 80,
   "outputs": [],
   "source": [
    "# split srch_id into train and val\n",
    "all_srch_ids = df_devel.srch_id.unique()\n",
    "\n",
    "# randomly shuffle all_srch_ids using random seed 42\n",
    "RANDOM_SEED = 123\n",
    "rng = np.random.default_rng(RANDOM_SEED)\n",
    "all_srch_ids.sort()\n",
    "rng.shuffle(all_srch_ids)\n",
    "\n",
    "VALIDATION_PROP = 0.1\n",
    "val_start_idx = int(len(all_srch_ids)*(1-VALIDATION_PROP))\n",
    "train_ids = all_srch_ids[:val_start_idx]\n",
    "val_ids = all_srch_ids[val_start_idx:]"
   ],
   "metadata": {
    "collapsed": false,
    "ExecuteTime": {
     "end_time": "2023-05-09T12:51:54.425898769Z",
     "start_time": "2023-05-09T12:51:54.381030218Z"
    }
   }
  },
  {
   "cell_type": "code",
   "execution_count": 81,
   "outputs": [
    {
     "name": "stderr",
     "output_type": "stream",
     "text": [
      "/tmp/ipykernel_987478/2196524014.py:47: SettingWithCopyWarning: \n",
      "A value is trying to be set on a copy of a slice from a DataFrame\n",
      "\n",
      "See the caveats in the documentation: https://pandas.pydata.org/pandas-docs/stable/user_guide/indexing.html#returning-a-view-versus-a-copy\n",
      "  df_data_test.drop(columns=['srch_id'], inplace=True)\n"
     ]
    }
   ],
   "source": [
    "df_devel['target_cls'] = df_devel.booking_bool + df_devel.click_bool\n",
    "df_devel['relevance_score'] = df_devel.booking_bool * 4 + df_devel.click_bool\n",
    "\n",
    "columns_to_remove = [\n",
    "    'visitor_location_country_id', # todo: visitor_location_country_id: combine with prop_country_id and keep the N most clicked/booked combinations,\n",
    "    'visitor_hist_starrating', # todo: too few values, visitor_hist_starrating and visitor_hist_adr_usd standardize\n",
    "    'visitor_hist_adr_usd', # todo:\n",
    "    'prop_country_id', # todo:\n",
    "    'prop_starrating', # normalized\n",
    "    'prop_review_score', # normalized\n",
    "    'prop_location_score1', # normalized\n",
    "    'prop_location_score2', # normalized\n",
    "    'prop_log_historical_price', # normalized\n",
    "    'position', # todo: maybe mean/stdev_position_per_prop\n",
    "    'price_usd', # normalized\n",
    "    'srch_destination_id',\n",
    "    'srch_query_affinity_score', # todo: normalize\n",
    "    'prop_starrating_w0', # normalized\n",
    "]\n",
    "predictor_cols = [c for c in df_devel.columns if c not in ('position', 'booking_bool', 'click_bool', 'target_cls', 'relevance_score', 'prop_id', 'is_test') and c not in columns_to_remove]\n",
    "\n",
    "def get_groups(df):\n",
    "    grp = df.groupby('srch_id').srch_id.count()\n",
    "    return grp.values\n",
    "\n",
    "df_devel = df_devel.set_index('srch_id').sort_index().reset_index()\n",
    "\n",
    "df_data_train = df_devel.loc[df_devel.srch_id.isin(train_ids), predictor_cols]\n",
    "groups_train = get_groups(df_data_train)\n",
    "# #df_data_train = df_data_train.dropna() # let's see what happens if we drop all NAs\n",
    "df_train = df_devel.loc[df_data_train.index]\n",
    "df_tg_train = df_devel['target_cls'][df_data_train.index]\n",
    "df_tg_train = df_tg_train.astype(int)\n",
    "df_data_train.drop(columns=['srch_id'], inplace=True)\n",
    "\n",
    "df_data_val = df_devel.loc[df_devel.srch_id.isin(val_ids), predictor_cols]\n",
    "groups_val = get_groups(df_data_val)\n",
    "#df_data_val = df_data_val.dropna() # let's see what happens if we drop all NAs\n",
    "df_val = df_devel.loc[df_data_val.index]\n",
    "df_tg_val = df_devel['target_cls'][df_data_val.index]\n",
    "df_tg_val = df_tg_val.astype(int)\n",
    "df_data_val.drop(columns=['srch_id'], inplace=True)\n",
    "\n",
    "df_test = df_test.set_index('srch_id').sort_index().reset_index()\n",
    "df_data_test = df_test[predictor_cols]\n",
    "groups_test = get_groups(df_data_test)\n",
    "df_data_test.drop(columns=['srch_id'], inplace=True)\n",
    "#df_data_test = df_data_test.dropna()"
   ],
   "metadata": {
    "collapsed": false,
    "ExecuteTime": {
     "end_time": "2023-05-09T12:52:00.944480769Z",
     "start_time": "2023-05-09T12:51:54.418200064Z"
    }
   }
  },
  {
   "cell_type": "code",
   "execution_count": 82,
   "outputs": [
    {
     "name": "stdout",
     "output_type": "stream",
     "text": [
      "price_hist_logdiff missing count 641509 out of 4461904 => 14% missing\n",
      "price_usd_ld_srch_id missing count 30 out of 4461904 => 0% missing\n",
      "prop_starrating_w0_d_srch_destination_id missing count 152763 out of 4461904 => 3% missing\n",
      "prop_starrating_w0_d_srch_id missing count 152763 out of 4461904 => 3% missing\n",
      "prop_review_score_d_srch_destination_id missing count 216622 out of 4461904 => 5% missing\n",
      "prop_review_score_d_srch_destination_id__prop_starrating missing count 216622 out of 4461904 => 5% missing\n",
      "prop_review_score_d_srch_id missing count 216622 out of 4461904 => 5% missing\n",
      "prop_location_score2_d_srch_destination_id missing count 981192 out of 4461904 => 22% missing\n",
      "prop_location_score2_d_srch_destination_id__prop_starrating missing count 981192 out of 4461904 => 22% missing\n",
      "prop_location_score2_d_srch_id missing count 981192 out of 4461904 => 22% missing\n",
      "price_hist_logdiff_d_srch_id missing count 641509 out of 4461904 => 14% missing\n",
      "price_usd_ld_srch_id__prop_starrating missing count 30 out of 4461904 => 0% missing\n"
     ]
    }
   ],
   "source": [
    "for col in df_data_train.columns:\n",
    "    print_missing(df_data_train, col)"
   ],
   "metadata": {
    "collapsed": false,
    "ExecuteTime": {
     "end_time": "2023-05-09T12:52:00.945238350Z",
     "start_time": "2023-05-09T12:52:00.922705944Z"
    }
   }
  },
  {
   "cell_type": "code",
   "execution_count": 83,
   "outputs": [
    {
     "data": {
      "text/plain": "         site_id  prop_brand_bool  promotion_flag  srch_length_of_stay   \n0             12                1               0                    1  \\\n1             12                0               0                    1   \n2             12                1               0                    1   \n3             12                1               0                    1   \n4             12                1               0                    1   \n...          ...              ...             ...                  ...   \n4958342        5                1               0                    1   \n4958343        5                1               0                    1   \n4958344        5                1               0                    1   \n4958345        5                1               0                    1   \n4958346        5                1               0                    1   \n\n         srch_booking_window  srch_adults_count  srch_children_count   \n0                          0                  4                    0  \\\n1                          0                  4                    0   \n2                          0                  4                    0   \n3                          0                  4                    0   \n4                          0                  4                    0   \n...                      ...                ...                  ...   \n4958342                   21                  3                    0   \n4958343                   21                  3                    0   \n4958344                   21                  3                    0   \n4958345                   21                  3                    0   \n4958346                   21                  3                    0   \n\n         srch_room_count  srch_saturday_night_bool  random_bool  ...   \n0                      1                         1            1  ...  \\\n1                      1                         1            1  ...   \n2                      1                         1            1  ...   \n3                      1                         1            1  ...   \n4                      1                         1            1  ...   \n...                  ...                       ...          ...  ...   \n4958342                1                         0            0  ...   \n4958343                1                         0            0  ...   \n4958344                1                         0            0  ...   \n4958345                1                         0            0  ...   \n4958346                1                         0            0  ...   \n\n         prop_location_score1_d_srch_destination_id   \n0                                             -0.20  \\\n1                                             -1.38   \n2                                              0.94   \n3                                             -1.38   \n4                                              0.94   \n...                                             ...   \n4958342                                       -0.35   \n4958343                                       -1.37   \n4958344                                       -1.37   \n4958345                                        0.83   \n4958346                                        0.33   \n\n         prop_location_score1_d_srch_destination_id__prop_starrating   \n0                                                    -0.10            \\\n1                                                    -1.28             \n2                                                     0.60             \n3                                                    -1.28             \n4                                                     0.60             \n...                                                    ...             \n4958342                                              -0.51             \n4958343                                              -1.53             \n4958344                                              -1.53             \n4958345                                               0.67             \n4958346                                               0.17             \n\n         prop_location_score1_d_srch_id   \n0                                 -0.10  \\\n1                                 -0.69   \n2                                  0.47   \n3                                 -0.69   \n4                                  0.47   \n...                                 ...   \n4958342                           -0.17   \n4958343                           -0.68   \n4958344                           -0.68   \n4958345                            0.42   \n4958346                            0.17   \n\n         prop_location_score2_d_srch_destination_id   \n0                                               NaN  \\\n1                                               NaN   \n2                                           0.21395   \n3                                          -0.03605   \n4                                           0.20675   \n...                                             ...   \n4958342                                     0.00995   \n4958343                                         NaN   \n4958344                                    -0.05145   \n4958345                                         NaN   \n4958346                                     0.04815   \n\n         prop_location_score2_d_srch_destination_id__prop_starrating   \n0                                                      NaN            \\\n1                                                      NaN             \n2                                                  0.16435             \n3                                                 -0.03215             \n4                                                  0.15715             \n...                                                    ...             \n4958342                                            0.00245             \n4958343                                                NaN             \n4958344                                           -0.05895             \n4958345                                                NaN             \n4958346                                            0.04065             \n\n         prop_location_score2_d_srch_id  price_hist_logdiff_d_srch_id   \n0                                   NaN                      0.079837  \\\n1                                   NaN                      0.219071   \n2                               0.10015                     -0.013285   \n3                              -0.02485                     -0.106156   \n4                               0.09655                     -0.321949   \n...                                 ...                           ...   \n4958342                        -0.00955                           NaN   \n4958343                             NaN                           NaN   \n4958344                        -0.04025                           NaN   \n4958345                             NaN                           NaN   \n4958346                         0.00955                           NaN   \n\n         price_usd_ld_srch_id__prop_starrating   \n0                                     0.317613  \\\n1                                    -0.204773   \n2                                     0.246623   \n3                                     0.000000   \n4                                    -0.282042   \n...                                        ...   \n4958342                               0.126294   \n4958343                              -0.533517   \n4958344                              -0.049271   \n4958345                               0.046957   \n4958346                               0.290083   \n\n         booking_prob_per_prop_id_d_srch_id  click_prob_per_prop_id_d_srch_id  \n0                                 -0.002904                          0.000321  \n1                                  0.001445                         -0.007234  \n2                                  0.003988                          0.018636  \n3                                 -0.012760                         -0.013064  \n4                                  0.045751                          0.063314  \n...                                     ...                               ...  \n4958342                           -0.019264                         -0.022139  \n4958343                            0.021516                          0.080698  \n4958344                           -0.061817                         -0.062713  \n4958345                           -0.026103                         -0.050255  \n4958346                            0.019264                          0.022139  \n\n[4461904 rows x 33 columns]",
      "text/html": "<div>\n<style scoped>\n    .dataframe tbody tr th:only-of-type {\n        vertical-align: middle;\n    }\n\n    .dataframe tbody tr th {\n        vertical-align: top;\n    }\n\n    .dataframe thead th {\n        text-align: right;\n    }\n</style>\n<table border=\"1\" class=\"dataframe\">\n  <thead>\n    <tr style=\"text-align: right;\">\n      <th></th>\n      <th>site_id</th>\n      <th>prop_brand_bool</th>\n      <th>promotion_flag</th>\n      <th>srch_length_of_stay</th>\n      <th>srch_booking_window</th>\n      <th>srch_adults_count</th>\n      <th>srch_children_count</th>\n      <th>srch_room_count</th>\n      <th>srch_saturday_night_bool</th>\n      <th>random_bool</th>\n      <th>...</th>\n      <th>prop_location_score1_d_srch_destination_id</th>\n      <th>prop_location_score1_d_srch_destination_id__prop_starrating</th>\n      <th>prop_location_score1_d_srch_id</th>\n      <th>prop_location_score2_d_srch_destination_id</th>\n      <th>prop_location_score2_d_srch_destination_id__prop_starrating</th>\n      <th>prop_location_score2_d_srch_id</th>\n      <th>price_hist_logdiff_d_srch_id</th>\n      <th>price_usd_ld_srch_id__prop_starrating</th>\n      <th>booking_prob_per_prop_id_d_srch_id</th>\n      <th>click_prob_per_prop_id_d_srch_id</th>\n    </tr>\n  </thead>\n  <tbody>\n    <tr>\n      <th>0</th>\n      <td>12</td>\n      <td>1</td>\n      <td>0</td>\n      <td>1</td>\n      <td>0</td>\n      <td>4</td>\n      <td>0</td>\n      <td>1</td>\n      <td>1</td>\n      <td>1</td>\n      <td>...</td>\n      <td>-0.20</td>\n      <td>-0.10</td>\n      <td>-0.10</td>\n      <td>NaN</td>\n      <td>NaN</td>\n      <td>NaN</td>\n      <td>0.079837</td>\n      <td>0.317613</td>\n      <td>-0.002904</td>\n      <td>0.000321</td>\n    </tr>\n    <tr>\n      <th>1</th>\n      <td>12</td>\n      <td>0</td>\n      <td>0</td>\n      <td>1</td>\n      <td>0</td>\n      <td>4</td>\n      <td>0</td>\n      <td>1</td>\n      <td>1</td>\n      <td>1</td>\n      <td>...</td>\n      <td>-1.38</td>\n      <td>-1.28</td>\n      <td>-0.69</td>\n      <td>NaN</td>\n      <td>NaN</td>\n      <td>NaN</td>\n      <td>0.219071</td>\n      <td>-0.204773</td>\n      <td>0.001445</td>\n      <td>-0.007234</td>\n    </tr>\n    <tr>\n      <th>2</th>\n      <td>12</td>\n      <td>1</td>\n      <td>0</td>\n      <td>1</td>\n      <td>0</td>\n      <td>4</td>\n      <td>0</td>\n      <td>1</td>\n      <td>1</td>\n      <td>1</td>\n      <td>...</td>\n      <td>0.94</td>\n      <td>0.60</td>\n      <td>0.47</td>\n      <td>0.21395</td>\n      <td>0.16435</td>\n      <td>0.10015</td>\n      <td>-0.013285</td>\n      <td>0.246623</td>\n      <td>0.003988</td>\n      <td>0.018636</td>\n    </tr>\n    <tr>\n      <th>3</th>\n      <td>12</td>\n      <td>1</td>\n      <td>0</td>\n      <td>1</td>\n      <td>0</td>\n      <td>4</td>\n      <td>0</td>\n      <td>1</td>\n      <td>1</td>\n      <td>1</td>\n      <td>...</td>\n      <td>-1.38</td>\n      <td>-1.28</td>\n      <td>-0.69</td>\n      <td>-0.03605</td>\n      <td>-0.03215</td>\n      <td>-0.02485</td>\n      <td>-0.106156</td>\n      <td>0.000000</td>\n      <td>-0.012760</td>\n      <td>-0.013064</td>\n    </tr>\n    <tr>\n      <th>4</th>\n      <td>12</td>\n      <td>1</td>\n      <td>0</td>\n      <td>1</td>\n      <td>0</td>\n      <td>4</td>\n      <td>0</td>\n      <td>1</td>\n      <td>1</td>\n      <td>1</td>\n      <td>...</td>\n      <td>0.94</td>\n      <td>0.60</td>\n      <td>0.47</td>\n      <td>0.20675</td>\n      <td>0.15715</td>\n      <td>0.09655</td>\n      <td>-0.321949</td>\n      <td>-0.282042</td>\n      <td>0.045751</td>\n      <td>0.063314</td>\n    </tr>\n    <tr>\n      <th>...</th>\n      <td>...</td>\n      <td>...</td>\n      <td>...</td>\n      <td>...</td>\n      <td>...</td>\n      <td>...</td>\n      <td>...</td>\n      <td>...</td>\n      <td>...</td>\n      <td>...</td>\n      <td>...</td>\n      <td>...</td>\n      <td>...</td>\n      <td>...</td>\n      <td>...</td>\n      <td>...</td>\n      <td>...</td>\n      <td>...</td>\n      <td>...</td>\n      <td>...</td>\n      <td>...</td>\n    </tr>\n    <tr>\n      <th>4958342</th>\n      <td>5</td>\n      <td>1</td>\n      <td>0</td>\n      <td>1</td>\n      <td>21</td>\n      <td>3</td>\n      <td>0</td>\n      <td>1</td>\n      <td>0</td>\n      <td>0</td>\n      <td>...</td>\n      <td>-0.35</td>\n      <td>-0.51</td>\n      <td>-0.17</td>\n      <td>0.00995</td>\n      <td>0.00245</td>\n      <td>-0.00955</td>\n      <td>NaN</td>\n      <td>0.126294</td>\n      <td>-0.019264</td>\n      <td>-0.022139</td>\n    </tr>\n    <tr>\n      <th>4958343</th>\n      <td>5</td>\n      <td>1</td>\n      <td>0</td>\n      <td>1</td>\n      <td>21</td>\n      <td>3</td>\n      <td>0</td>\n      <td>1</td>\n      <td>0</td>\n      <td>0</td>\n      <td>...</td>\n      <td>-1.37</td>\n      <td>-1.53</td>\n      <td>-0.68</td>\n      <td>NaN</td>\n      <td>NaN</td>\n      <td>NaN</td>\n      <td>NaN</td>\n      <td>-0.533517</td>\n      <td>0.021516</td>\n      <td>0.080698</td>\n    </tr>\n    <tr>\n      <th>4958344</th>\n      <td>5</td>\n      <td>1</td>\n      <td>0</td>\n      <td>1</td>\n      <td>21</td>\n      <td>3</td>\n      <td>0</td>\n      <td>1</td>\n      <td>0</td>\n      <td>0</td>\n      <td>...</td>\n      <td>-1.37</td>\n      <td>-1.53</td>\n      <td>-0.68</td>\n      <td>-0.05145</td>\n      <td>-0.05895</td>\n      <td>-0.04025</td>\n      <td>NaN</td>\n      <td>-0.049271</td>\n      <td>-0.061817</td>\n      <td>-0.062713</td>\n    </tr>\n    <tr>\n      <th>4958345</th>\n      <td>5</td>\n      <td>1</td>\n      <td>0</td>\n      <td>1</td>\n      <td>21</td>\n      <td>3</td>\n      <td>0</td>\n      <td>1</td>\n      <td>0</td>\n      <td>0</td>\n      <td>...</td>\n      <td>0.83</td>\n      <td>0.67</td>\n      <td>0.42</td>\n      <td>NaN</td>\n      <td>NaN</td>\n      <td>NaN</td>\n      <td>NaN</td>\n      <td>0.046957</td>\n      <td>-0.026103</td>\n      <td>-0.050255</td>\n    </tr>\n    <tr>\n      <th>4958346</th>\n      <td>5</td>\n      <td>1</td>\n      <td>0</td>\n      <td>1</td>\n      <td>21</td>\n      <td>3</td>\n      <td>0</td>\n      <td>1</td>\n      <td>0</td>\n      <td>0</td>\n      <td>...</td>\n      <td>0.33</td>\n      <td>0.17</td>\n      <td>0.17</td>\n      <td>0.04815</td>\n      <td>0.04065</td>\n      <td>0.00955</td>\n      <td>NaN</td>\n      <td>0.290083</td>\n      <td>0.019264</td>\n      <td>0.022139</td>\n    </tr>\n  </tbody>\n</table>\n<p>4461904 rows × 33 columns</p>\n</div>"
     },
     "execution_count": 83,
     "metadata": {},
     "output_type": "execute_result"
    }
   ],
   "source": [
    "df_data_train"
   ],
   "metadata": {
    "collapsed": false,
    "ExecuteTime": {
     "end_time": "2023-05-09T12:52:01.213522075Z",
     "start_time": "2023-05-09T12:52:00.989028333Z"
    }
   }
  },
  {
   "cell_type": "code",
   "execution_count": 84,
   "outputs": [
    {
     "name": "stdout",
     "output_type": "stream",
     "text": [
      "[LightGBM] [Warning] boosting is set=gbdt, boosting_type=gbdt will be ignored. Current value: boosting=gbdt\n",
      "Training until validation scores don't improve for 150 rounds\n",
      "[20]\ttraining's ndcg@5: 0.45664\tvalid_1's ndcg@5: 0.451594\n",
      "[40]\ttraining's ndcg@5: 0.465216\tvalid_1's ndcg@5: 0.459242\n",
      "[60]\ttraining's ndcg@5: 0.470067\tvalid_1's ndcg@5: 0.46364\n",
      "[80]\ttraining's ndcg@5: 0.474142\tvalid_1's ndcg@5: 0.466325\n",
      "[100]\ttraining's ndcg@5: 0.477759\tvalid_1's ndcg@5: 0.468456\n",
      "[120]\ttraining's ndcg@5: 0.480206\tvalid_1's ndcg@5: 0.470185\n",
      "[140]\ttraining's ndcg@5: 0.482449\tvalid_1's ndcg@5: 0.470564\n",
      "[160]\ttraining's ndcg@5: 0.484623\tvalid_1's ndcg@5: 0.471188\n",
      "[180]\ttraining's ndcg@5: 0.486513\tvalid_1's ndcg@5: 0.471636\n",
      "[200]\ttraining's ndcg@5: 0.488213\tvalid_1's ndcg@5: 0.471644\n",
      "[220]\ttraining's ndcg@5: 0.489721\tvalid_1's ndcg@5: 0.471763\n",
      "[240]\ttraining's ndcg@5: 0.491385\tvalid_1's ndcg@5: 0.472442\n",
      "[260]\ttraining's ndcg@5: 0.492747\tvalid_1's ndcg@5: 0.472264\n",
      "[280]\ttraining's ndcg@5: 0.494199\tvalid_1's ndcg@5: 0.472022\n",
      "[300]\ttraining's ndcg@5: 0.495593\tvalid_1's ndcg@5: 0.472293\n",
      "[320]\ttraining's ndcg@5: 0.496889\tvalid_1's ndcg@5: 0.472397\n",
      "[340]\ttraining's ndcg@5: 0.49823\tvalid_1's ndcg@5: 0.472646\n",
      "[360]\ttraining's ndcg@5: 0.499539\tvalid_1's ndcg@5: 0.472629\n",
      "[380]\ttraining's ndcg@5: 0.500376\tvalid_1's ndcg@5: 0.472655\n",
      "[400]\ttraining's ndcg@5: 0.501426\tvalid_1's ndcg@5: 0.472687\n",
      "[420]\ttraining's ndcg@5: 0.502859\tvalid_1's ndcg@5: 0.472567\n",
      "[440]\ttraining's ndcg@5: 0.503939\tvalid_1's ndcg@5: 0.472038\n",
      "[460]\ttraining's ndcg@5: 0.50535\tvalid_1's ndcg@5: 0.47193\n",
      "[480]\ttraining's ndcg@5: 0.506279\tvalid_1's ndcg@5: 0.471787\n",
      "[500]\ttraining's ndcg@5: 0.507333\tvalid_1's ndcg@5: 0.472047\n",
      "Early stopping, best iteration is:\n",
      "[353]\ttraining's ndcg@5: 0.499138\tvalid_1's ndcg@5: 0.472798\n",
      "Evaluated only: ndcg@5\n"
     ]
    },
    {
     "data": {
      "text/plain": "LGBMRanker(boosting='gbdt', label_gain=[0, 1, 5], metric='ndcg',\n           n_estimators=1000, objective='lambdarank', random_state=42)",
      "text/html": "<style>#sk-container-id-2 {color: black;background-color: white;}#sk-container-id-2 pre{padding: 0;}#sk-container-id-2 div.sk-toggleable {background-color: white;}#sk-container-id-2 label.sk-toggleable__label {cursor: pointer;display: block;width: 100%;margin-bottom: 0;padding: 0.3em;box-sizing: border-box;text-align: center;}#sk-container-id-2 label.sk-toggleable__label-arrow:before {content: \"▸\";float: left;margin-right: 0.25em;color: #696969;}#sk-container-id-2 label.sk-toggleable__label-arrow:hover:before {color: black;}#sk-container-id-2 div.sk-estimator:hover label.sk-toggleable__label-arrow:before {color: black;}#sk-container-id-2 div.sk-toggleable__content {max-height: 0;max-width: 0;overflow: hidden;text-align: left;background-color: #f0f8ff;}#sk-container-id-2 div.sk-toggleable__content pre {margin: 0.2em;color: black;border-radius: 0.25em;background-color: #f0f8ff;}#sk-container-id-2 input.sk-toggleable__control:checked~div.sk-toggleable__content {max-height: 200px;max-width: 100%;overflow: auto;}#sk-container-id-2 input.sk-toggleable__control:checked~label.sk-toggleable__label-arrow:before {content: \"▾\";}#sk-container-id-2 div.sk-estimator input.sk-toggleable__control:checked~label.sk-toggleable__label {background-color: #d4ebff;}#sk-container-id-2 div.sk-label input.sk-toggleable__control:checked~label.sk-toggleable__label {background-color: #d4ebff;}#sk-container-id-2 input.sk-hidden--visually {border: 0;clip: rect(1px 1px 1px 1px);clip: rect(1px, 1px, 1px, 1px);height: 1px;margin: -1px;overflow: hidden;padding: 0;position: absolute;width: 1px;}#sk-container-id-2 div.sk-estimator {font-family: monospace;background-color: #f0f8ff;border: 1px dotted black;border-radius: 0.25em;box-sizing: border-box;margin-bottom: 0.5em;}#sk-container-id-2 div.sk-estimator:hover {background-color: #d4ebff;}#sk-container-id-2 div.sk-parallel-item::after {content: \"\";width: 100%;border-bottom: 1px solid gray;flex-grow: 1;}#sk-container-id-2 div.sk-label:hover label.sk-toggleable__label {background-color: #d4ebff;}#sk-container-id-2 div.sk-serial::before {content: \"\";position: absolute;border-left: 1px solid gray;box-sizing: border-box;top: 0;bottom: 0;left: 50%;z-index: 0;}#sk-container-id-2 div.sk-serial {display: flex;flex-direction: column;align-items: center;background-color: white;padding-right: 0.2em;padding-left: 0.2em;position: relative;}#sk-container-id-2 div.sk-item {position: relative;z-index: 1;}#sk-container-id-2 div.sk-parallel {display: flex;align-items: stretch;justify-content: center;background-color: white;position: relative;}#sk-container-id-2 div.sk-item::before, #sk-container-id-2 div.sk-parallel-item::before {content: \"\";position: absolute;border-left: 1px solid gray;box-sizing: border-box;top: 0;bottom: 0;left: 50%;z-index: -1;}#sk-container-id-2 div.sk-parallel-item {display: flex;flex-direction: column;z-index: 1;position: relative;background-color: white;}#sk-container-id-2 div.sk-parallel-item:first-child::after {align-self: flex-end;width: 50%;}#sk-container-id-2 div.sk-parallel-item:last-child::after {align-self: flex-start;width: 50%;}#sk-container-id-2 div.sk-parallel-item:only-child::after {width: 0;}#sk-container-id-2 div.sk-dashed-wrapped {border: 1px dashed gray;margin: 0 0.4em 0.5em 0.4em;box-sizing: border-box;padding-bottom: 0.4em;background-color: white;}#sk-container-id-2 div.sk-label label {font-family: monospace;font-weight: bold;display: inline-block;line-height: 1.2em;}#sk-container-id-2 div.sk-label-container {text-align: center;}#sk-container-id-2 div.sk-container {/* jupyter's `normalize.less` sets `[hidden] { display: none; }` but bootstrap.min.css set `[hidden] { display: none !important; }` so we also need the `!important` here to be able to override the default hidden behavior on the sphinx rendered scikit-learn.org. See: https://github.com/scikit-learn/scikit-learn/issues/21755 */display: inline-block !important;position: relative;}#sk-container-id-2 div.sk-text-repr-fallback {display: none;}</style><div id=\"sk-container-id-2\" class=\"sk-top-container\"><div class=\"sk-text-repr-fallback\"><pre>LGBMRanker(boosting=&#x27;gbdt&#x27;, label_gain=[0, 1, 5], metric=&#x27;ndcg&#x27;,\n           n_estimators=1000, objective=&#x27;lambdarank&#x27;, random_state=42)</pre><b>In a Jupyter environment, please rerun this cell to show the HTML representation or trust the notebook. <br />On GitHub, the HTML representation is unable to render, please try loading this page with nbviewer.org.</b></div><div class=\"sk-container\" hidden><div class=\"sk-item\"><div class=\"sk-estimator sk-toggleable\"><input class=\"sk-toggleable__control sk-hidden--visually\" id=\"sk-estimator-id-2\" type=\"checkbox\" checked><label for=\"sk-estimator-id-2\" class=\"sk-toggleable__label sk-toggleable__label-arrow\">LGBMRanker</label><div class=\"sk-toggleable__content\"><pre>LGBMRanker(boosting=&#x27;gbdt&#x27;, label_gain=[0, 1, 5], metric=&#x27;ndcg&#x27;,\n           n_estimators=1000, objective=&#x27;lambdarank&#x27;, random_state=42)</pre></div></div></div></div></div>"
     },
     "execution_count": 84,
     "metadata": {},
     "output_type": "execute_result"
    }
   ],
   "source": [
    "from lightgbm import early_stopping, log_evaluation, LGBMRanker\n",
    "\n",
    "# Train the classifier with the best hyperparameters\n",
    "ranker = LGBMRanker(\n",
    "    objective=\"lambdarank\",\n",
    "    metric=\"ndcg\",\n",
    "    n_estimators=1000,#2000,\n",
    "    learning_rate=0.1,\n",
    "    label_gain=[0, 1, 5],\n",
    "    random_state=42,\n",
    "    boosting='gbdt',\n",
    ")\n",
    "\n",
    "x_val = df_data_val\n",
    "Y_val = df_tg_val\n",
    "\n",
    "x_train = df_data_train\n",
    "Y_train = df_tg_train\n",
    "\n",
    "early_stopping_callback = early_stopping(stopping_rounds=150, first_metric_only=True)\n",
    "log_evaluation_callback = log_evaluation(period=20)\n",
    "\n",
    "ranker.fit(\n",
    "    x_train,\n",
    "    Y_train,\n",
    "    eval_set=[(x_train, Y_train), (x_val, Y_val)],\n",
    "    eval_group=[groups_train, groups_val],\n",
    "    group=groups_train,\n",
    "    eval_at=5,\n",
    "    callbacks=[early_stopping_callback, log_evaluation_callback]\n",
    ")\n"
   ],
   "metadata": {
    "collapsed": false,
    "ExecuteTime": {
     "end_time": "2023-05-09T12:52:48.488872482Z",
     "start_time": "2023-05-09T12:52:20.725633893Z"
    }
   }
  },
  {
   "cell_type": "code",
   "execution_count": 67,
   "outputs": [
    {
     "data": {
      "text/plain": "True"
     },
     "execution_count": 67,
     "metadata": {},
     "output_type": "execute_result"
    }
   ],
   "source": [
    "x_val.shape[0] == Y_val.shape[0]"
   ],
   "metadata": {
    "collapsed": false,
    "ExecuteTime": {
     "end_time": "2023-05-09T12:36:07.669154846Z",
     "start_time": "2023-05-09T12:36:07.602771081Z"
    }
   }
  },
  {
   "cell_type": "code",
   "execution_count": 115,
   "outputs": [],
   "source": [
    "def get_prediction_df(preds, df):\n",
    "    df_prediction = df[[\"srch_id\", \"prop_id\", 'relevance_score']].assign(predicted = preds)\n",
    "    return df_prediction.sort_values(\"predicted\", ascending=False).sort_values(\"srch_id\", kind='stable')"
   ],
   "metadata": {
    "collapsed": false,
    "ExecuteTime": {
     "end_time": "2023-05-09T13:17:00.669804483Z",
     "start_time": "2023-05-09T13:17:00.602377887Z"
    }
   }
  },
  {
   "cell_type": "code",
   "execution_count": 116,
   "outputs": [
    {
     "data": {
      "text/plain": "0.4727977490902627"
     },
     "execution_count": 116,
     "metadata": {},
     "output_type": "execute_result"
    }
   ],
   "source": [
    "df_pred_val = get_prediction_df(ranker.predict(df_data_val), df_val)\n",
    "df_pred_val.groupby('srch_id')['relevance_score'].apply(lambda x: ndcg_dmt(x, use_2pow=False)).mean()"
   ],
   "metadata": {
    "collapsed": false,
    "ExecuteTime": {
     "end_time": "2023-05-09T13:17:02.308141059Z",
     "start_time": "2023-05-09T13:17:01.491071736Z"
    }
   }
  },
  {
   "cell_type": "code",
   "execution_count": 120,
   "outputs": [
    {
     "data": {
      "text/plain": "         srch_id  prop_id  relevance_score  predicted\n264           28    75704              0.0   1.751911\n272           28    18016              0.0   1.424686\n241           28     5739              0.0   0.568670\n270           28    72909              0.0   0.442064\n252           28    35767              0.0   0.324610\n...          ...      ...              ...        ...\n4958133   332761   106737              0.0  -2.436698\n4958138   332761    25234              0.0  -7.423028\n4958120   332761    12711              0.0  -7.452619\n4958122   332761    34080              0.0  -7.550448\n4958123   332761    39059              0.0  -7.686850\n\n[496443 rows x 4 columns]",
      "text/html": "<div>\n<style scoped>\n    .dataframe tbody tr th:only-of-type {\n        vertical-align: middle;\n    }\n\n    .dataframe tbody tr th {\n        vertical-align: top;\n    }\n\n    .dataframe thead th {\n        text-align: right;\n    }\n</style>\n<table border=\"1\" class=\"dataframe\">\n  <thead>\n    <tr style=\"text-align: right;\">\n      <th></th>\n      <th>srch_id</th>\n      <th>prop_id</th>\n      <th>relevance_score</th>\n      <th>predicted</th>\n    </tr>\n  </thead>\n  <tbody>\n    <tr>\n      <th>264</th>\n      <td>28</td>\n      <td>75704</td>\n      <td>0.0</td>\n      <td>1.751911</td>\n    </tr>\n    <tr>\n      <th>272</th>\n      <td>28</td>\n      <td>18016</td>\n      <td>0.0</td>\n      <td>1.424686</td>\n    </tr>\n    <tr>\n      <th>241</th>\n      <td>28</td>\n      <td>5739</td>\n      <td>0.0</td>\n      <td>0.568670</td>\n    </tr>\n    <tr>\n      <th>270</th>\n      <td>28</td>\n      <td>72909</td>\n      <td>0.0</td>\n      <td>0.442064</td>\n    </tr>\n    <tr>\n      <th>252</th>\n      <td>28</td>\n      <td>35767</td>\n      <td>0.0</td>\n      <td>0.324610</td>\n    </tr>\n    <tr>\n      <th>...</th>\n      <td>...</td>\n      <td>...</td>\n      <td>...</td>\n      <td>...</td>\n    </tr>\n    <tr>\n      <th>4958133</th>\n      <td>332761</td>\n      <td>106737</td>\n      <td>0.0</td>\n      <td>-2.436698</td>\n    </tr>\n    <tr>\n      <th>4958138</th>\n      <td>332761</td>\n      <td>25234</td>\n      <td>0.0</td>\n      <td>-7.423028</td>\n    </tr>\n    <tr>\n      <th>4958120</th>\n      <td>332761</td>\n      <td>12711</td>\n      <td>0.0</td>\n      <td>-7.452619</td>\n    </tr>\n    <tr>\n      <th>4958122</th>\n      <td>332761</td>\n      <td>34080</td>\n      <td>0.0</td>\n      <td>-7.550448</td>\n    </tr>\n    <tr>\n      <th>4958123</th>\n      <td>332761</td>\n      <td>39059</td>\n      <td>0.0</td>\n      <td>-7.686850</td>\n    </tr>\n  </tbody>\n</table>\n<p>496443 rows × 4 columns</p>\n</div>"
     },
     "execution_count": 120,
     "metadata": {},
     "output_type": "execute_result"
    }
   ],
   "source": [
    "df_pred_val"
   ],
   "metadata": {
    "collapsed": false,
    "ExecuteTime": {
     "end_time": "2023-05-09T13:20:31.568679211Z",
     "start_time": "2023-05-09T13:20:31.519377836Z"
    }
   }
  },
  {
   "cell_type": "code",
   "execution_count": 117,
   "outputs": [
    {
     "data": {
      "text/plain": "0.49913780026328347"
     },
     "execution_count": 117,
     "metadata": {},
     "output_type": "execute_result"
    }
   ],
   "source": [
    "df_pred_train = get_prediction_df(ranker.predict(df_data_train), df_train)\n",
    "df_pred_train.groupby('srch_id')['relevance_score'].apply(lambda x: ndcg_dmt(x, use_2pow=False)).mean()"
   ],
   "metadata": {
    "collapsed": false,
    "ExecuteTime": {
     "end_time": "2023-05-09T13:17:11.413589344Z",
     "start_time": "2023-05-09T13:17:03.964801574Z"
    }
   }
  },
  {
   "cell_type": "code",
   "execution_count": 118,
   "outputs": [],
   "source": [
    "preds_test = ranker.predict(df_data_test)\n",
    "\n",
    "df_prediction = df_test[[\"srch_id\", \"prop_id\"]].assign(predicted = preds_test)\n",
    "df_prediction = df_prediction.sort_values(\"predicted\", ascending=False).sort_values(\"srch_id\", kind='stable')\n",
    "df_prediction[[\"srch_id\", \"prop_id\"]].to_csv(\"data/pred_robert_LGBMRanker.csv\", index=None)"
   ],
   "metadata": {
    "collapsed": false,
    "ExecuteTime": {
     "end_time": "2023-05-09T13:19:43.124782760Z",
     "start_time": "2023-05-09T13:19:36.141592158Z"
    }
   }
  },
  {
   "cell_type": "code",
   "execution_count": 119,
   "outputs": [
    {
     "data": {
      "text/plain": "         srch_id  prop_id  predicted\n17             1    28181   0.769946\n15             1    99484   0.750483\n12             1    54937   0.462135\n3              1    34263  -0.096857\n23             1    50162  -0.110247\n...          ...      ...        ...\n4959179   332787    94437  -0.692529\n4959181   332787    22854  -8.533068\n4959180   332787    35240  -8.829210\n4959178   332787    29018  -8.934683\n4959182   332787    32019  -9.025692\n\n[4959183 rows x 3 columns]",
      "text/html": "<div>\n<style scoped>\n    .dataframe tbody tr th:only-of-type {\n        vertical-align: middle;\n    }\n\n    .dataframe tbody tr th {\n        vertical-align: top;\n    }\n\n    .dataframe thead th {\n        text-align: right;\n    }\n</style>\n<table border=\"1\" class=\"dataframe\">\n  <thead>\n    <tr style=\"text-align: right;\">\n      <th></th>\n      <th>srch_id</th>\n      <th>prop_id</th>\n      <th>predicted</th>\n    </tr>\n  </thead>\n  <tbody>\n    <tr>\n      <th>17</th>\n      <td>1</td>\n      <td>28181</td>\n      <td>0.769946</td>\n    </tr>\n    <tr>\n      <th>15</th>\n      <td>1</td>\n      <td>99484</td>\n      <td>0.750483</td>\n    </tr>\n    <tr>\n      <th>12</th>\n      <td>1</td>\n      <td>54937</td>\n      <td>0.462135</td>\n    </tr>\n    <tr>\n      <th>3</th>\n      <td>1</td>\n      <td>34263</td>\n      <td>-0.096857</td>\n    </tr>\n    <tr>\n      <th>23</th>\n      <td>1</td>\n      <td>50162</td>\n      <td>-0.110247</td>\n    </tr>\n    <tr>\n      <th>...</th>\n      <td>...</td>\n      <td>...</td>\n      <td>...</td>\n    </tr>\n    <tr>\n      <th>4959179</th>\n      <td>332787</td>\n      <td>94437</td>\n      <td>-0.692529</td>\n    </tr>\n    <tr>\n      <th>4959181</th>\n      <td>332787</td>\n      <td>22854</td>\n      <td>-8.533068</td>\n    </tr>\n    <tr>\n      <th>4959180</th>\n      <td>332787</td>\n      <td>35240</td>\n      <td>-8.829210</td>\n    </tr>\n    <tr>\n      <th>4959178</th>\n      <td>332787</td>\n      <td>29018</td>\n      <td>-8.934683</td>\n    </tr>\n    <tr>\n      <th>4959182</th>\n      <td>332787</td>\n      <td>32019</td>\n      <td>-9.025692</td>\n    </tr>\n  </tbody>\n</table>\n<p>4959183 rows × 3 columns</p>\n</div>"
     },
     "execution_count": 119,
     "metadata": {},
     "output_type": "execute_result"
    }
   ],
   "source": [
    "df_prediction"
   ],
   "metadata": {
    "collapsed": false,
    "ExecuteTime": {
     "end_time": "2023-05-09T13:19:43.131414149Z",
     "start_time": "2023-05-09T13:19:43.128273648Z"
    }
   }
  },
  {
   "cell_type": "code",
   "execution_count": null,
   "outputs": [],
   "source": [],
   "metadata": {
    "collapsed": false
   }
  }
 ],
 "metadata": {
  "kernelspec": {
   "display_name": "Python 3",
   "language": "python",
   "name": "python3"
  },
  "language_info": {
   "codemirror_mode": {
    "name": "ipython",
    "version": 2
   },
   "file_extension": ".py",
   "mimetype": "text/x-python",
   "name": "python",
   "nbconvert_exporter": "python",
   "pygments_lexer": "ipython2",
   "version": "2.7.6"
  }
 },
 "nbformat": 4,
 "nbformat_minor": 0
}
